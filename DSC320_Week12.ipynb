{
 "cells": [
  {
   "cell_type": "code",
   "execution_count": 32,
   "metadata": {
    "collapsed": true
   },
   "outputs": [
    {
     "name": "stdout",
     "output_type": "stream",
     "text": [
      "The probability a graphics card is defective using manufacture Process A: 50.847457627118644 %\n"
     ]
    }
   ],
   "source": [
    "# A computer graphics card is manufactured using three different processes, A, B, and C.The following tree diagram gives the # probability that a graphics card is manufactured with each process and the probability of defective and non-defective   #cards from each process.\n",
    "\n",
    "#Use Bayes’ Theorem to calculate the following probabilities. These can be done by hand or # in Python.\n",
    "#(a) If a randomly chosen graphics card is defective, what is the probability it was #manufactured using\n",
    "#Process A?\n",
    "#(b) If a randomly chosen graphics card is not defective, what is the probability it was #manufactured\n",
    "#using Process C?\n",
    "\n",
    "\n",
    "import numpy as np\n",
    "\n",
    "\n",
    "#calculate P(A|B) given P(A), P(B|A), P(B|not A)\n",
    "def bayes_theorem(p_a, p_b_given_a, p_b_given_not_a):\n",
    "\t# calculate P(not A)\n",
    "\tnot_a = 1 - p_a\n",
    "\t# calculate P(B)\n",
    "\tp_b = p_b_given_a * p_a + p_b_given_not_a * not_a\n",
    "\t# calculate P(A|B)\n",
    "\tp_a_given_b = (p_b_given_a * p_a) / p_b\n",
    "\treturn p_a_given_b\n",
    "\n",
    "\n",
    "# P(A)\n",
    "p_a = 0.5\n",
    "# P(B|A)\n",
    "p_b_given_a = 0.03\n",
    "# P(B|not A)\n",
    "p_b_given_not_a = 0.029\n",
    "# calculate P(A|B)\n",
    "result = bayes_theorem(p_a, p_b_given_a, p_b_given_not_a)\n",
    "# summarize\n",
    "print('The probability a graphics card is defective using manufacture Process A:' , (result * 100),\"%\")\n",
    "\n"
   ]
  },
  {
   "cell_type": "code",
   "execution_count": 31,
   "outputs": [
    {
     "name": "stdout",
     "output_type": "stream",
     "text": [
      "The probability a graphics card is NOT defective using manufacture Process C 19.818331957060277 %\n"
     ]
    }
   ],
   "source": [
    "import numpy as np\n",
    "\n",
    "\n",
    "#calculate P(A|B) given P(A), P(B|A), P(B|not A)\n",
    "def bayes_theorem(p_a, p_b_given_a, p_b_given_not_a):\n",
    "\t# calculate P(not A)\n",
    "\tnot_a = 1 - p_a\n",
    "\t# calculate P(B)\n",
    "\tp_b = p_b_given_a * p_a + p_b_given_not_a * not_a\n",
    "\t# calculate P(A|B)\n",
    "\tp_a_given_b = (p_b_given_a * p_a) / p_b\n",
    "\treturn p_a_given_b\n",
    "\n",
    "\n",
    "# P(A)\n",
    "p_a = .2\n",
    "# P(B|A)\n",
    "p_b_given_a = 0.96\n",
    "# P(B|not A)\n",
    "p_b_given_not_a = 0.971\n",
    "# calculate P(A|B)\n",
    "result = bayes_theorem(p_a, p_b_given_a, p_b_given_not_a)\n",
    "# summarize\n",
    "print(\"The probability a graphics card is NOT defective using manufacture Process C\", (result * 100),\"%\")"
   ],
   "metadata": {
    "collapsed": false
   }
  },
  {
   "cell_type": "code",
   "execution_count": 20,
   "outputs": [
    {
     "name": "stdout",
     "output_type": "stream",
     "text": [
      "Entropy of X:  2.321928094887362\n",
      "Entropy of Y:  2.046439344671015\n",
      "\n",
      "X is the greatest entropy\n",
      "Entropy measures randomness and a high value of entropy means that the randomness in your system is high, meaning it is difficult to predict.\n"
     ]
    }
   ],
   "source": [
    "#2. )Create a Python function that takes in an array of probabilities p1,p2,...,pn, from a discrete probability distribution with n possible outcomes and returns the entropy of the corresponding random variable.\n",
    "\n",
    "def entropy(P):\n",
    "    return - np.sum(P * np.log2(P))\n",
    "\n",
    "\n",
    "#create array\n",
    "from numpy import random\n",
    "\n",
    "x=np.array([.2,.2,.2,.2,.2])\n",
    "y=np.array([.1,.4,.1,.3,.1])\n",
    "\n",
    "\n",
    "#(a) Use the function you created in the previous problem to calculate the entropies of X and Y .\n",
    "print(\"Entropy of X: \" , entropy(x))\n",
    "print(\"Entropy of Y: \" , entropy(y))\n",
    "\n",
    "#(b) Compare the two values found in part (a). Which one is bigger? Explain intuitively why this is the case.\n",
    "\n",
    "print(\"\\nX is the greatest entropy\")\n",
    "print(\"Entropy measures randomness and a high value of entropy means that the randomness in your system is high, meaning it is difficult to predict.\")"
   ],
   "metadata": {
    "collapsed": false
   }
  },
  {
   "cell_type": "code",
   "execution_count": null,
   "outputs": [],
   "source": [],
   "metadata": {
    "collapsed": false,
    "pycharm": {
     "is_executing": true
    }
   }
  },
  {
   "cell_type": "code",
   "execution_count": 9,
   "outputs": [],
   "source": [],
   "metadata": {
    "collapsed": false
   }
  }
 ],
 "metadata": {
  "kernelspec": {
   "display_name": "Python 3",
   "language": "python",
   "name": "python3"
  },
  "language_info": {
   "codemirror_mode": {
    "name": "ipython",
    "version": 2
   },
   "file_extension": ".py",
   "mimetype": "text/x-python",
   "name": "python",
   "nbconvert_exporter": "python",
   "pygments_lexer": "ipython2",
   "version": "2.7.6"
  }
 },
 "nbformat": 4,
 "nbformat_minor": 0
}
