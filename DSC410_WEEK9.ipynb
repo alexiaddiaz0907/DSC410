{
  "nbformat": 4,
  "nbformat_minor": 0,
  "metadata": {
    "colab": {
      "provenance": [],
      "authorship_tag": "ABX9TyOro5QKiuo8uwSORVEu0Qrq",
      "include_colab_link": true
    },
    "kernelspec": {
      "name": "python3",
      "display_name": "Python 3"
    },
    "language_info": {
      "name": "python"
    }
  },
  "cells": [
    {
      "cell_type": "markdown",
      "metadata": {
        "id": "view-in-github",
        "colab_type": "text"
      },
      "source": [
        "<a href=\"https://colab.research.google.com/github/alexiaddiaz0907/DSC410/blob/master/DSC410_WEEK9.ipynb\" target=\"_parent\"><img src=\"https://colab.research.google.com/assets/colab-badge.svg\" alt=\"Open In Colab\"/></a>"
      ]
    },
    {
      "cell_type": "code",
      "execution_count": null,
      "metadata": {
        "colab": {
          "base_uri": "https://localhost:8080/",
          "height": 357
        },
        "id": "L0o_W1rO3ATw",
        "outputId": "08d78d3b-a947-49a7-e7a5-ba83cb3cc647"
      },
      "outputs": [
        {
          "output_type": "execute_result",
          "data": {
            "text/plain": [
              "       ID    AGE  GENDER      RACE DRIVING_EXPERIENCE    EDUCATION  \\\n",
              "0  569520    65+  female  majority               0-9y  high school   \n",
              "1  750365  16-25    male  majority               0-9y         none   \n",
              "2  199901  16-25  female  majority               0-9y  high school   \n",
              "3  478866  16-25    male  majority               0-9y   university   \n",
              "4  731664  26-39    male  majority             10-19y         none   \n",
              "\n",
              "          INCOME  CREDIT_SCORE  VEHICLE_OWNERSHIP VEHICLE_YEAR  MARRIED  \\\n",
              "0    upper class      0.629027                1.0   after 2015      0.0   \n",
              "1        poverty      0.357757                0.0  before 2015      0.0   \n",
              "2  working class      0.493146                1.0  before 2015      0.0   \n",
              "3  working class      0.206013                1.0  before 2015      0.0   \n",
              "4  working class      0.388366                1.0  before 2015      0.0   \n",
              "\n",
              "   CHILDREN  POSTAL_CODE  ANNUAL_MILEAGE VEHICLE_TYPE  SPEEDING_VIOLATIONS  \\\n",
              "0       1.0        10238         12000.0        sedan                    0   \n",
              "1       0.0        10238         16000.0        sedan                    0   \n",
              "2       0.0        10238         11000.0        sedan                    0   \n",
              "3       1.0        32765         11000.0        sedan                    0   \n",
              "4       0.0        32765         12000.0        sedan                    2   \n",
              "\n",
              "   DUIS  PAST_ACCIDENTS  OUTCOME  \n",
              "0     0               0      0.0  \n",
              "1     0               0      1.0  \n",
              "2     0               0      0.0  \n",
              "3     0               0      0.0  \n",
              "4     0               1      1.0  "
            ],
            "text/html": [
              "\n",
              "  <div id=\"df-67b39c07-1161-4ba4-a972-18c84613bb67\">\n",
              "    <div class=\"colab-df-container\">\n",
              "      <div>\n",
              "<style scoped>\n",
              "    .dataframe tbody tr th:only-of-type {\n",
              "        vertical-align: middle;\n",
              "    }\n",
              "\n",
              "    .dataframe tbody tr th {\n",
              "        vertical-align: top;\n",
              "    }\n",
              "\n",
              "    .dataframe thead th {\n",
              "        text-align: right;\n",
              "    }\n",
              "</style>\n",
              "<table border=\"1\" class=\"dataframe\">\n",
              "  <thead>\n",
              "    <tr style=\"text-align: right;\">\n",
              "      <th></th>\n",
              "      <th>ID</th>\n",
              "      <th>AGE</th>\n",
              "      <th>GENDER</th>\n",
              "      <th>RACE</th>\n",
              "      <th>DRIVING_EXPERIENCE</th>\n",
              "      <th>EDUCATION</th>\n",
              "      <th>INCOME</th>\n",
              "      <th>CREDIT_SCORE</th>\n",
              "      <th>VEHICLE_OWNERSHIP</th>\n",
              "      <th>VEHICLE_YEAR</th>\n",
              "      <th>MARRIED</th>\n",
              "      <th>CHILDREN</th>\n",
              "      <th>POSTAL_CODE</th>\n",
              "      <th>ANNUAL_MILEAGE</th>\n",
              "      <th>VEHICLE_TYPE</th>\n",
              "      <th>SPEEDING_VIOLATIONS</th>\n",
              "      <th>DUIS</th>\n",
              "      <th>PAST_ACCIDENTS</th>\n",
              "      <th>OUTCOME</th>\n",
              "    </tr>\n",
              "  </thead>\n",
              "  <tbody>\n",
              "    <tr>\n",
              "      <th>0</th>\n",
              "      <td>569520</td>\n",
              "      <td>65+</td>\n",
              "      <td>female</td>\n",
              "      <td>majority</td>\n",
              "      <td>0-9y</td>\n",
              "      <td>high school</td>\n",
              "      <td>upper class</td>\n",
              "      <td>0.629027</td>\n",
              "      <td>1.0</td>\n",
              "      <td>after 2015</td>\n",
              "      <td>0.0</td>\n",
              "      <td>1.0</td>\n",
              "      <td>10238</td>\n",
              "      <td>12000.0</td>\n",
              "      <td>sedan</td>\n",
              "      <td>0</td>\n",
              "      <td>0</td>\n",
              "      <td>0</td>\n",
              "      <td>0.0</td>\n",
              "    </tr>\n",
              "    <tr>\n",
              "      <th>1</th>\n",
              "      <td>750365</td>\n",
              "      <td>16-25</td>\n",
              "      <td>male</td>\n",
              "      <td>majority</td>\n",
              "      <td>0-9y</td>\n",
              "      <td>none</td>\n",
              "      <td>poverty</td>\n",
              "      <td>0.357757</td>\n",
              "      <td>0.0</td>\n",
              "      <td>before 2015</td>\n",
              "      <td>0.0</td>\n",
              "      <td>0.0</td>\n",
              "      <td>10238</td>\n",
              "      <td>16000.0</td>\n",
              "      <td>sedan</td>\n",
              "      <td>0</td>\n",
              "      <td>0</td>\n",
              "      <td>0</td>\n",
              "      <td>1.0</td>\n",
              "    </tr>\n",
              "    <tr>\n",
              "      <th>2</th>\n",
              "      <td>199901</td>\n",
              "      <td>16-25</td>\n",
              "      <td>female</td>\n",
              "      <td>majority</td>\n",
              "      <td>0-9y</td>\n",
              "      <td>high school</td>\n",
              "      <td>working class</td>\n",
              "      <td>0.493146</td>\n",
              "      <td>1.0</td>\n",
              "      <td>before 2015</td>\n",
              "      <td>0.0</td>\n",
              "      <td>0.0</td>\n",
              "      <td>10238</td>\n",
              "      <td>11000.0</td>\n",
              "      <td>sedan</td>\n",
              "      <td>0</td>\n",
              "      <td>0</td>\n",
              "      <td>0</td>\n",
              "      <td>0.0</td>\n",
              "    </tr>\n",
              "    <tr>\n",
              "      <th>3</th>\n",
              "      <td>478866</td>\n",
              "      <td>16-25</td>\n",
              "      <td>male</td>\n",
              "      <td>majority</td>\n",
              "      <td>0-9y</td>\n",
              "      <td>university</td>\n",
              "      <td>working class</td>\n",
              "      <td>0.206013</td>\n",
              "      <td>1.0</td>\n",
              "      <td>before 2015</td>\n",
              "      <td>0.0</td>\n",
              "      <td>1.0</td>\n",
              "      <td>32765</td>\n",
              "      <td>11000.0</td>\n",
              "      <td>sedan</td>\n",
              "      <td>0</td>\n",
              "      <td>0</td>\n",
              "      <td>0</td>\n",
              "      <td>0.0</td>\n",
              "    </tr>\n",
              "    <tr>\n",
              "      <th>4</th>\n",
              "      <td>731664</td>\n",
              "      <td>26-39</td>\n",
              "      <td>male</td>\n",
              "      <td>majority</td>\n",
              "      <td>10-19y</td>\n",
              "      <td>none</td>\n",
              "      <td>working class</td>\n",
              "      <td>0.388366</td>\n",
              "      <td>1.0</td>\n",
              "      <td>before 2015</td>\n",
              "      <td>0.0</td>\n",
              "      <td>0.0</td>\n",
              "      <td>32765</td>\n",
              "      <td>12000.0</td>\n",
              "      <td>sedan</td>\n",
              "      <td>2</td>\n",
              "      <td>0</td>\n",
              "      <td>1</td>\n",
              "      <td>1.0</td>\n",
              "    </tr>\n",
              "  </tbody>\n",
              "</table>\n",
              "</div>\n",
              "      <button class=\"colab-df-convert\" onclick=\"convertToInteractive('df-67b39c07-1161-4ba4-a972-18c84613bb67')\"\n",
              "              title=\"Convert this dataframe to an interactive table.\"\n",
              "              style=\"display:none;\">\n",
              "        \n",
              "  <svg xmlns=\"http://www.w3.org/2000/svg\" height=\"24px\"viewBox=\"0 0 24 24\"\n",
              "       width=\"24px\">\n",
              "    <path d=\"M0 0h24v24H0V0z\" fill=\"none\"/>\n",
              "    <path d=\"M18.56 5.44l.94 2.06.94-2.06 2.06-.94-2.06-.94-.94-2.06-.94 2.06-2.06.94zm-11 1L8.5 8.5l.94-2.06 2.06-.94-2.06-.94L8.5 2.5l-.94 2.06-2.06.94zm10 10l.94 2.06.94-2.06 2.06-.94-2.06-.94-.94-2.06-.94 2.06-2.06.94z\"/><path d=\"M17.41 7.96l-1.37-1.37c-.4-.4-.92-.59-1.43-.59-.52 0-1.04.2-1.43.59L10.3 9.45l-7.72 7.72c-.78.78-.78 2.05 0 2.83L4 21.41c.39.39.9.59 1.41.59.51 0 1.02-.2 1.41-.59l7.78-7.78 2.81-2.81c.8-.78.8-2.07 0-2.86zM5.41 20L4 18.59l7.72-7.72 1.47 1.35L5.41 20z\"/>\n",
              "  </svg>\n",
              "      </button>\n",
              "      \n",
              "  <style>\n",
              "    .colab-df-container {\n",
              "      display:flex;\n",
              "      flex-wrap:wrap;\n",
              "      gap: 12px;\n",
              "    }\n",
              "\n",
              "    .colab-df-convert {\n",
              "      background-color: #E8F0FE;\n",
              "      border: none;\n",
              "      border-radius: 50%;\n",
              "      cursor: pointer;\n",
              "      display: none;\n",
              "      fill: #1967D2;\n",
              "      height: 32px;\n",
              "      padding: 0 0 0 0;\n",
              "      width: 32px;\n",
              "    }\n",
              "\n",
              "    .colab-df-convert:hover {\n",
              "      background-color: #E2EBFA;\n",
              "      box-shadow: 0px 1px 2px rgba(60, 64, 67, 0.3), 0px 1px 3px 1px rgba(60, 64, 67, 0.15);\n",
              "      fill: #174EA6;\n",
              "    }\n",
              "\n",
              "    [theme=dark] .colab-df-convert {\n",
              "      background-color: #3B4455;\n",
              "      fill: #D2E3FC;\n",
              "    }\n",
              "\n",
              "    [theme=dark] .colab-df-convert:hover {\n",
              "      background-color: #434B5C;\n",
              "      box-shadow: 0px 1px 3px 1px rgba(0, 0, 0, 0.15);\n",
              "      filter: drop-shadow(0px 1px 2px rgba(0, 0, 0, 0.3));\n",
              "      fill: #FFFFFF;\n",
              "    }\n",
              "  </style>\n",
              "\n",
              "      <script>\n",
              "        const buttonEl =\n",
              "          document.querySelector('#df-67b39c07-1161-4ba4-a972-18c84613bb67 button.colab-df-convert');\n",
              "        buttonEl.style.display =\n",
              "          google.colab.kernel.accessAllowed ? 'block' : 'none';\n",
              "\n",
              "        async function convertToInteractive(key) {\n",
              "          const element = document.querySelector('#df-67b39c07-1161-4ba4-a972-18c84613bb67');\n",
              "          const dataTable =\n",
              "            await google.colab.kernel.invokeFunction('convertToInteractive',\n",
              "                                                     [key], {});\n",
              "          if (!dataTable) return;\n",
              "\n",
              "          const docLinkHtml = 'Like what you see? Visit the ' +\n",
              "            '<a target=\"_blank\" href=https://colab.research.google.com/notebooks/data_table.ipynb>data table notebook</a>'\n",
              "            + ' to learn more about interactive tables.';\n",
              "          element.innerHTML = '';\n",
              "          dataTable['output_type'] = 'display_data';\n",
              "          await google.colab.output.renderOutput(dataTable, element);\n",
              "          const docLink = document.createElement('div');\n",
              "          docLink.innerHTML = docLinkHtml;\n",
              "          element.appendChild(docLink);\n",
              "        }\n",
              "      </script>\n",
              "    </div>\n",
              "  </div>\n",
              "  "
            ]
          },
          "metadata": {},
          "execution_count": 382
        }
      ],
      "source": [
        "import pandas as pd\n",
        "import numpy as np\n",
        "\n",
        "url = 'https://raw.githubusercontent.com/alexiaddiaz0907/Data-/main/Car_Insurance_Claim.csv'\n",
        "df = pd.read_csv(url)\n",
        "# Dataset is now stored in a Pandas Dataframe\n",
        "\n",
        "df.head()"
      ]
    },
    {
      "cell_type": "markdown",
      "source": [
        "**EDA ANALYSIS **"
      ],
      "metadata": {
        "id": "1E4ffiW1ok4k"
      }
    },
    {
      "cell_type": "code",
      "source": [
        "df.info()"
      ],
      "metadata": {
        "colab": {
          "base_uri": "https://localhost:8080/"
        },
        "id": "qjmN9DXwFyld",
        "outputId": "bb2f47cf-2564-4f5e-dde0-6860a802b0b1"
      },
      "execution_count": null,
      "outputs": [
        {
          "output_type": "stream",
          "name": "stdout",
          "text": [
            "<class 'pandas.core.frame.DataFrame'>\n",
            "RangeIndex: 10000 entries, 0 to 9999\n",
            "Data columns (total 19 columns):\n",
            " #   Column               Non-Null Count  Dtype  \n",
            "---  ------               --------------  -----  \n",
            " 0   ID                   10000 non-null  int64  \n",
            " 1   AGE                  10000 non-null  object \n",
            " 2   GENDER               10000 non-null  object \n",
            " 3   RACE                 10000 non-null  object \n",
            " 4   DRIVING_EXPERIENCE   10000 non-null  object \n",
            " 5   EDUCATION            10000 non-null  object \n",
            " 6   INCOME               10000 non-null  object \n",
            " 7   CREDIT_SCORE         9018 non-null   float64\n",
            " 8   VEHICLE_OWNERSHIP    10000 non-null  float64\n",
            " 9   VEHICLE_YEAR         10000 non-null  object \n",
            " 10  MARRIED              10000 non-null  float64\n",
            " 11  CHILDREN             10000 non-null  float64\n",
            " 12  POSTAL_CODE          10000 non-null  int64  \n",
            " 13  ANNUAL_MILEAGE       9043 non-null   float64\n",
            " 14  VEHICLE_TYPE         10000 non-null  object \n",
            " 15  SPEEDING_VIOLATIONS  10000 non-null  int64  \n",
            " 16  DUIS                 10000 non-null  int64  \n",
            " 17  PAST_ACCIDENTS       10000 non-null  int64  \n",
            " 18  OUTCOME              10000 non-null  float64\n",
            "dtypes: float64(6), int64(5), object(8)\n",
            "memory usage: 1.4+ MB\n"
          ]
        }
      ]
    },
    {
      "cell_type": "code",
      "source": [
        "#Find the duplicates\n",
        "\n",
        "df.duplicated().sum()"
      ],
      "metadata": {
        "colab": {
          "base_uri": "https://localhost:8080/"
        },
        "id": "87LpJA--GcTc",
        "outputId": "e6f7b624-760c-4763-d4d7-423ac06b9b34"
      },
      "execution_count": null,
      "outputs": [
        {
          "output_type": "execute_result",
          "data": {
            "text/plain": [
              "0"
            ]
          },
          "metadata": {},
          "execution_count": 384
        }
      ]
    },
    {
      "cell_type": "code",
      "source": [
        "#Find null values\n",
        "df.isnull().sum()\n"
      ],
      "metadata": {
        "colab": {
          "base_uri": "https://localhost:8080/"
        },
        "id": "L2AMcP11HGFX",
        "outputId": "7c7055d1-fc6e-4e1c-a739-16eb8cc7304f"
      },
      "execution_count": null,
      "outputs": [
        {
          "output_type": "execute_result",
          "data": {
            "text/plain": [
              "ID                       0\n",
              "AGE                      0\n",
              "GENDER                   0\n",
              "RACE                     0\n",
              "DRIVING_EXPERIENCE       0\n",
              "EDUCATION                0\n",
              "INCOME                   0\n",
              "CREDIT_SCORE           982\n",
              "VEHICLE_OWNERSHIP        0\n",
              "VEHICLE_YEAR             0\n",
              "MARRIED                  0\n",
              "CHILDREN                 0\n",
              "POSTAL_CODE              0\n",
              "ANNUAL_MILEAGE         957\n",
              "VEHICLE_TYPE             0\n",
              "SPEEDING_VIOLATIONS      0\n",
              "DUIS                     0\n",
              "PAST_ACCIDENTS           0\n",
              "OUTCOME                  0\n",
              "dtype: int64"
            ]
          },
          "metadata": {},
          "execution_count": 385
        }
      ]
    },
    {
      "cell_type": "code",
      "source": [
        "df.groupby(['AGE']).sum().plot(kind='pie', y='PAST_ACCIDENTS')"
      ],
      "metadata": {
        "colab": {
          "base_uri": "https://localhost:8080/",
          "height": 266
        },
        "id": "ZzpetaL9eTrn",
        "outputId": "e06a2553-1c72-46d3-d638-8d4e4125e46e"
      },
      "execution_count": null,
      "outputs": [
        {
          "output_type": "execute_result",
          "data": {
            "text/plain": [
              "<AxesSubplot:ylabel='PAST_ACCIDENTS'>"
            ]
          },
          "metadata": {},
          "execution_count": 386
        },
        {
          "output_type": "display_data",
          "data": {
            "text/plain": [
              "<Figure size 432x288 with 1 Axes>"
            ],
            "image/png": "[encoded data removed]"
          },
          "metadata": {}
        }
      ]
    },
    {
      "cell_type": "code",
      "source": [
        "df.groupby(['GENDER']).sum().plot(kind='pie', y='PAST_ACCIDENTS')"
      ],
      "metadata": {
        "colab": {
          "base_uri": "https://localhost:8080/",
          "height": 266
        },
        "id": "C2-Uq5q6fCp0",
        "outputId": "0d656eef-b1c9-457f-d4cd-3d4ef709cb36"
      },
      "execution_count": null,
      "outputs": [
        {
          "output_type": "execute_result",
          "data": {
            "text/plain": [
              "<AxesSubplot:ylabel='PAST_ACCIDENTS'>"
            ]
          },
          "metadata": {},
          "execution_count": 387
        },
        {
          "output_type": "display_data",
          "data": {
            "text/plain": [
              "<Figure size 432x288 with 1 Axes>"
            ],
            "image/png": "[encoded data removed]"
          },
          "metadata": {}
        }
      ]
    },
    {
      "cell_type": "code",
      "source": [
        "df.groupby(['RACE']).sum().plot(kind='pie', y='PAST_ACCIDENTS')"
      ],
      "metadata": {
        "colab": {
          "base_uri": "https://localhost:8080/",
          "height": 266
        },
        "id": "_t8pl1GSfJve",
        "outputId": "c4710cc7-3c03-4aff-d1d6-cd6e411fb12b"
      },
      "execution_count": null,
      "outputs": [
        {
          "output_type": "execute_result",
          "data": {
            "text/plain": [
              "<AxesSubplot:ylabel='PAST_ACCIDENTS'>"
            ]
          },
          "metadata": {},
          "execution_count": 388
        },
        {
          "output_type": "display_data",
          "data": {
            "text/plain": [
              "<Figure size 432x288 with 1 Axes>"
            ],
            "image/png": "[encoded data removed]"
          },
          "metadata": {}
        }
      ]
    },
    {
      "cell_type": "code",
      "source": [
        "df.groupby(['DRIVING_EXPERIENCE']).sum().plot(kind='pie', y='PAST_ACCIDENTS')"
      ],
      "metadata": {
        "colab": {
          "base_uri": "https://localhost:8080/",
          "height": 266
        },
        "id": "2KwKTdsyfRBW",
        "outputId": "85d41382-8430-4858-c468-a497f936bf9a"
      },
      "execution_count": null,
      "outputs": [
        {
          "output_type": "execute_result",
          "data": {
            "text/plain": [
              "<AxesSubplot:ylabel='PAST_ACCIDENTS'>"
            ]
          },
          "metadata": {},
          "execution_count": 389
        },
        {
          "output_type": "display_data",
          "data": {
            "text/plain": [
              "<Figure size 432x288 with 1 Axes>"
            ],
            "image/png": "[encoded data removed]"
          },
          "metadata": {}
        }
      ]
    },
    {
      "cell_type": "code",
      "source": [
        "df.groupby(['INCOME']).sum().plot(kind='pie', y='PAST_ACCIDENTS')"
      ],
      "metadata": {
        "colab": {
          "base_uri": "https://localhost:8080/",
          "height": 266
        },
        "id": "HigKXoyMeWzR",
        "outputId": "11cc77f8-3446-49b1-af50-f94bace98455"
      },
      "execution_count": null,
      "outputs": [
        {
          "output_type": "execute_result",
          "data": {
            "text/plain": [
              "<AxesSubplot:ylabel='PAST_ACCIDENTS'>"
            ]
          },
          "metadata": {},
          "execution_count": 390
        },
        {
          "output_type": "display_data",
          "data": {
            "text/plain": [
              "<Figure size 432x288 with 1 Axes>"
            ],
            "image/png": "[encoded data removed]"
          },
          "metadata": {}
        }
      ]
    },
    {
      "cell_type": "code",
      "source": [
        "df.groupby(['EDUCATION']).sum().plot(kind='pie', y='PAST_ACCIDENTS')"
      ],
      "metadata": {
        "colab": {
          "base_uri": "https://localhost:8080/",
          "height": 266
        },
        "id": "NWnz_ymQfpK9",
        "outputId": "6465ec1f-73cf-47eb-99f2-5e39f244e8cb"
      },
      "execution_count": null,
      "outputs": [
        {
          "output_type": "execute_result",
          "data": {
            "text/plain": [
              "<AxesSubplot:ylabel='PAST_ACCIDENTS'>"
            ]
          },
          "metadata": {},
          "execution_count": 391
        },
        {
          "output_type": "display_data",
          "data": {
            "text/plain": [
              "<Figure size 432x288 with 1 Axes>"
            ],
            "image/png": "[encoded data removed]"
          },
          "metadata": {}
        }
      ]
    },
    {
      "cell_type": "code",
      "source": [
        "#unique values\n",
        "\n",
        "df['DRIVING_EXPERIENCE'].unique()\n"
      ],
      "metadata": {
        "colab": {
          "base_uri": "https://localhost:8080/"
        },
        "id": "WoQNdoAqGhwc",
        "outputId": "6a269d5c-f60b-4765-dad9-da46e8d3d83b"
      },
      "execution_count": null,
      "outputs": [
        {
          "output_type": "execute_result",
          "data": {
            "text/plain": [
              "array(['0-9y', '10-19y', '20-29y', '30y+'], dtype=object)"
            ]
          },
          "metadata": {},
          "execution_count": 392
        }
      ]
    },
    {
      "cell_type": "code",
      "source": [
        "df['CREDIT_SCORE'].unique()"
      ],
      "metadata": {
        "colab": {
          "base_uri": "https://localhost:8080/"
        },
        "id": "e4Qir1x3G-y-",
        "outputId": "7b70f9c2-9466-4811-c591-c6d38d5c7170"
      },
      "execution_count": null,
      "outputs": [
        {
          "output_type": "execute_result",
          "data": {
            "text/plain": [
              "array([0.62902731, 0.35775712, 0.49314579, ..., 0.47094023, 0.36418478,\n",
              "       0.43522478])"
            ]
          },
          "metadata": {},
          "execution_count": 393
        }
      ]
    },
    {
      "cell_type": "code",
      "source": [
        "df['AGE'].unique()"
      ],
      "metadata": {
        "colab": {
          "base_uri": "https://localhost:8080/"
        },
        "id": "YBAfL1yXJHOI",
        "outputId": "b337429b-048d-424f-8bd0-d7d373b4fdb6"
      },
      "execution_count": null,
      "outputs": [
        {
          "output_type": "execute_result",
          "data": {
            "text/plain": [
              "array(['65+', '16-25', '26-39', '40-64'], dtype=object)"
            ]
          },
          "metadata": {},
          "execution_count": 394
        }
      ]
    },
    {
      "cell_type": "code",
      "source": [
        "df['EDUCATION'].unique()"
      ],
      "metadata": {
        "colab": {
          "base_uri": "https://localhost:8080/"
        },
        "id": "DUlQm_ktJdYm",
        "outputId": "64941d07-6dd4-4b83-9ed5-dd56cac9b105"
      },
      "execution_count": null,
      "outputs": [
        {
          "output_type": "execute_result",
          "data": {
            "text/plain": [
              "array(['high school', 'none', 'university'], dtype=object)"
            ]
          },
          "metadata": {},
          "execution_count": 395
        }
      ]
    },
    {
      "cell_type": "code",
      "source": [
        "df['INCOME'].unique()"
      ],
      "metadata": {
        "colab": {
          "base_uri": "https://localhost:8080/"
        },
        "id": "onFmfqAjJlg7",
        "outputId": "a0c4ffb6-ed26-49a3-9e6b-3c54362469d6"
      },
      "execution_count": null,
      "outputs": [
        {
          "output_type": "execute_result",
          "data": {
            "text/plain": [
              "array(['upper class', 'poverty', 'working class', 'middle class'],\n",
              "      dtype=object)"
            ]
          },
          "metadata": {},
          "execution_count": 396
        }
      ]
    },
    {
      "cell_type": "code",
      "source": [
        "df['VEHICLE_YEAR'].unique()"
      ],
      "metadata": {
        "colab": {
          "base_uri": "https://localhost:8080/"
        },
        "id": "mc2iScgkJsWc",
        "outputId": "4f179994-2326-4c9e-ad48-7715238fd0cd"
      },
      "execution_count": null,
      "outputs": [
        {
          "output_type": "execute_result",
          "data": {
            "text/plain": [
              "array(['after 2015', 'before 2015'], dtype=object)"
            ]
          },
          "metadata": {},
          "execution_count": 397
        }
      ]
    },
    {
      "cell_type": "code",
      "source": [
        "df['VEHICLE_TYPE'].unique()"
      ],
      "metadata": {
        "colab": {
          "base_uri": "https://localhost:8080/"
        },
        "id": "EcOhL888KI-b",
        "outputId": "0e18e439-5b4c-4df7-e620-84708e765b86"
      },
      "execution_count": null,
      "outputs": [
        {
          "output_type": "execute_result",
          "data": {
            "text/plain": [
              "array(['sedan', 'sports car'], dtype=object)"
            ]
          },
          "metadata": {},
          "execution_count": 398
        }
      ]
    },
    {
      "cell_type": "code",
      "source": [
        "df['RACE'].unique()"
      ],
      "metadata": {
        "colab": {
          "base_uri": "https://localhost:8080/"
        },
        "id": "8hW-aixqLGnt",
        "outputId": "190d2e86-d0d9-43a8-d9a0-81dae26d4179"
      },
      "execution_count": null,
      "outputs": [
        {
          "output_type": "execute_result",
          "data": {
            "text/plain": [
              "array(['majority', 'minority'], dtype=object)"
            ]
          },
          "metadata": {},
          "execution_count": 399
        }
      ]
    },
    {
      "cell_type": "code",
      "source": [
        "df['POSTAL_CODE'].unique()"
      ],
      "metadata": {
        "colab": {
          "base_uri": "https://localhost:8080/"
        },
        "id": "mMamcFTZLk6N",
        "outputId": "313c36fe-bf46-4c4e-c390-de0c7870a887"
      },
      "execution_count": null,
      "outputs": [
        {
          "output_type": "execute_result",
          "data": {
            "text/plain": [
              "array([10238, 32765, 92101, 21217])"
            ]
          },
          "metadata": {},
          "execution_count": 400
        }
      ]
    },
    {
      "cell_type": "code",
      "source": [
        "df['PAST_ACCIDENTS'].unique()"
      ],
      "metadata": {
        "colab": {
          "base_uri": "https://localhost:8080/"
        },
        "id": "4my2QtWE0_XV",
        "outputId": "645003ca-6655-4fbe-c9a8-963bf4a64946"
      },
      "execution_count": null,
      "outputs": [
        {
          "output_type": "execute_result",
          "data": {
            "text/plain": [
              "array([ 0,  1,  3,  7,  2,  5,  4,  6,  8, 10, 11,  9, 12, 14, 15])"
            ]
          },
          "metadata": {},
          "execution_count": 401
        }
      ]
    },
    {
      "cell_type": "code",
      "source": [
        "fig, ax = plt.subplots()\n",
        "df['PAST_ACCIDENTS'].value_counts().plot(ax=ax, kind='bar')"
      ],
      "metadata": {
        "colab": {
          "base_uri": "https://localhost:8080/",
          "height": 286
        },
        "id": "9nIDJyVN1acH",
        "outputId": "ad4a694f-7578-4b2d-9739-fc1c38c6df9d"
      },
      "execution_count": null,
      "outputs": [
        {
          "output_type": "execute_result",
          "data": {
            "text/plain": [
              "<AxesSubplot:>"
            ]
          },
          "metadata": {},
          "execution_count": 402
        },
        {
          "output_type": "display_data",
          "data": {
            "text/plain": [
              "<Figure size 432x288 with 1 Axes>"
            ],
            "image/png": "[encoded data removed]"
          },
          "metadata": {
            "needs_background": "light"
          }
        }
      ]
    },
    {
      "cell_type": "code",
      "source": [
        "df.drop(df[df['PAST_ACCIDENTS'] > 2].index, inplace = True)\n",
        "print(df['PAST_ACCIDENTS'])"
      ],
      "metadata": {
        "colab": {
          "base_uri": "https://localhost:8080/"
        },
        "id": "qQx9I9oM1vND",
        "outputId": "941fb514-e35d-454d-f971-af465bac7de7"
      },
      "execution_count": null,
      "outputs": [
        {
          "output_type": "stream",
          "name": "stdout",
          "text": [
            "0       0\n",
            "1       0\n",
            "2       0\n",
            "3       0\n",
            "4       1\n",
            "       ..\n",
            "9995    1\n",
            "9996    0\n",
            "9997    0\n",
            "9998    1\n",
            "9999    0\n",
            "Name: PAST_ACCIDENTS, Length: 7367, dtype: int64\n"
          ]
        }
      ]
    },
    {
      "cell_type": "code",
      "source": [
        "# Import label encoder\n",
        "from sklearn import preprocessing\n",
        "  \n",
        "# label_encoder object knows how to understand word labels.\n",
        "label_encoder = preprocessing.LabelEncoder()\n",
        "  \n",
        "# Encode labels in column 'species'.\n",
        "df['DRIVING_EXPERIENCE']= label_encoder.fit_transform(df['DRIVING_EXPERIENCE'])\n",
        "df['AGE']= label_encoder.fit_transform(df['AGE'])\n",
        "df['EDUCATION']= label_encoder.fit_transform(df['EDUCATION'])\n",
        "df['INCOME']= label_encoder.fit_transform(df['INCOME'])\n",
        "df['VEHICLE_YEAR']= label_encoder.fit_transform(df['VEHICLE_YEAR'])\n",
        "df['VEHICLE_TYPE']= label_encoder.fit_transform(df['VEHICLE_TYPE'])\n",
        "df['RACE']= label_encoder.fit_transform(df['RACE'])\n",
        "df['POSTAL_CODE']= label_encoder.fit_transform(df['POSTAL_CODE'])\n",
        "df['GENDER']= label_encoder.fit_transform(df['GENDER'])\n",
        "\n",
        "\n",
        "  \n"
      ],
      "metadata": {
        "id": "s1GjsutpHgXt"
      },
      "execution_count": null,
      "outputs": []
    },
    {
      "cell_type": "code",
      "source": [
        "df.head()"
      ],
      "metadata": {
        "colab": {
          "base_uri": "https://localhost:8080/",
          "height": 270
        },
        "id": "FBheZaIeJDfm",
        "outputId": "3176c94f-de9b-4ab7-80a4-a0b67e341ebc"
      },
      "execution_count": null,
      "outputs": [
        {
          "output_type": "execute_result",
          "data": {
            "text/plain": [
              "       ID  AGE  GENDER  RACE  DRIVING_EXPERIENCE  EDUCATION  INCOME  \\\n",
              "0  569520    3       0     0                   0          0       2   \n",
              "1  750365    0       1     0                   0          1       1   \n",
              "2  199901    0       0     0                   0          0       3   \n",
              "3  478866    0       1     0                   0          2       3   \n",
              "4  731664    1       1     0                   1          1       3   \n",
              "\n",
              "   CREDIT_SCORE  VEHICLE_OWNERSHIP  VEHICLE_YEAR  MARRIED  CHILDREN  \\\n",
              "0      0.629027                1.0             0      0.0       1.0   \n",
              "1      0.357757                0.0             1      0.0       0.0   \n",
              "2      0.493146                1.0             1      0.0       0.0   \n",
              "3      0.206013                1.0             1      0.0       1.0   \n",
              "4      0.388366                1.0             1      0.0       0.0   \n",
              "\n",
              "   POSTAL_CODE  ANNUAL_MILEAGE  VEHICLE_TYPE  SPEEDING_VIOLATIONS  DUIS  \\\n",
              "0            0         12000.0             0                    0     0   \n",
              "1            0         16000.0             0                    0     0   \n",
              "2            0         11000.0             0                    0     0   \n",
              "3            2         11000.0             0                    0     0   \n",
              "4            2         12000.0             0                    2     0   \n",
              "\n",
              "   PAST_ACCIDENTS  OUTCOME  \n",
              "0               0      0.0  \n",
              "1               0      1.0  \n",
              "2               0      0.0  \n",
              "3               0      0.0  \n",
              "4               1      1.0  "
            ],
            "text/html": [
              "\n",
              "  <div id=\"df-b3cdaf1c-91da-47aa-86c9-1dab1318e2f4\">\n",
              "    <div class=\"colab-df-container\">\n",
              "      <div>\n",
              "<style scoped>\n",
              "    .dataframe tbody tr th:only-of-type {\n",
              "        vertical-align: middle;\n",
              "    }\n",
              "\n",
              "    .dataframe tbody tr th {\n",
              "        vertical-align: top;\n",
              "    }\n",
              "\n",
              "    .dataframe thead th {\n",
              "        text-align: right;\n",
              "    }\n",
              "</style>\n",
              "<table border=\"1\" class=\"dataframe\">\n",
              "  <thead>\n",
              "    <tr style=\"text-align: right;\">\n",
              "      <th></th>\n",
              "      <th>ID</th>\n",
              "      <th>AGE</th>\n",
              "      <th>GENDER</th>\n",
              "      <th>RACE</th>\n",
              "      <th>DRIVING_EXPERIENCE</th>\n",
              "      <th>EDUCATION</th>\n",
              "      <th>INCOME</th>\n",
              "      <th>CREDIT_SCORE</th>\n",
              "      <th>VEHICLE_OWNERSHIP</th>\n",
              "      <th>VEHICLE_YEAR</th>\n",
              "      <th>MARRIED</th>\n",
              "      <th>CHILDREN</th>\n",
              "      <th>POSTAL_CODE</th>\n",
              "      <th>ANNUAL_MILEAGE</th>\n",
              "      <th>VEHICLE_TYPE</th>\n",
              "      <th>SPEEDING_VIOLATIONS</th>\n",
              "      <th>DUIS</th>\n",
              "      <th>PAST_ACCIDENTS</th>\n",
              "      <th>OUTCOME</th>\n",
              "    </tr>\n",
              "  </thead>\n",
              "  <tbody>\n",
              "    <tr>\n",
              "      <th>0</th>\n",
              "      <td>569520</td>\n",
              "      <td>3</td>\n",
              "      <td>0</td>\n",
              "      <td>0</td>\n",
              "      <td>0</td>\n",
              "      <td>0</td>\n",
              "      <td>2</td>\n",
              "      <td>0.629027</td>\n",
              "      <td>1.0</td>\n",
              "      <td>0</td>\n",
              "      <td>0.0</td>\n",
              "      <td>1.0</td>\n",
              "      <td>0</td>\n",
              "      <td>12000.0</td>\n",
              "      <td>0</td>\n",
              "      <td>0</td>\n",
              "      <td>0</td>\n",
              "      <td>0</td>\n",
              "      <td>0.0</td>\n",
              "    </tr>\n",
              "    <tr>\n",
              "      <th>1</th>\n",
              "      <td>750365</td>\n",
              "      <td>0</td>\n",
              "      <td>1</td>\n",
              "      <td>0</td>\n",
              "      <td>0</td>\n",
              "      <td>1</td>\n",
              "      <td>1</td>\n",
              "      <td>0.357757</td>\n",
              "      <td>0.0</td>\n",
              "      <td>1</td>\n",
              "      <td>0.0</td>\n",
              "      <td>0.0</td>\n",
              "      <td>0</td>\n",
              "      <td>16000.0</td>\n",
              "      <td>0</td>\n",
              "      <td>0</td>\n",
              "      <td>0</td>\n",
              "      <td>0</td>\n",
              "      <td>1.0</td>\n",
              "    </tr>\n",
              "    <tr>\n",
              "      <th>2</th>\n",
              "      <td>199901</td>\n",
              "      <td>0</td>\n",
              "      <td>0</td>\n",
              "      <td>0</td>\n",
              "      <td>0</td>\n",
              "      <td>0</td>\n",
              "      <td>3</td>\n",
              "      <td>0.493146</td>\n",
              "      <td>1.0</td>\n",
              "      <td>1</td>\n",
              "      <td>0.0</td>\n",
              "      <td>0.0</td>\n",
              "      <td>0</td>\n",
              "      <td>11000.0</td>\n",
              "      <td>0</td>\n",
              "      <td>0</td>\n",
              "      <td>0</td>\n",
              "      <td>0</td>\n",
              "      <td>0.0</td>\n",
              "    </tr>\n",
              "    <tr>\n",
              "      <th>3</th>\n",
              "      <td>478866</td>\n",
              "      <td>0</td>\n",
              "      <td>1</td>\n",
              "      <td>0</td>\n",
              "      <td>0</td>\n",
              "      <td>2</td>\n",
              "      <td>3</td>\n",
              "      <td>0.206013</td>\n",
              "      <td>1.0</td>\n",
              "      <td>1</td>\n",
              "      <td>0.0</td>\n",
              "      <td>1.0</td>\n",
              "      <td>2</td>\n",
              "      <td>11000.0</td>\n",
              "      <td>0</td>\n",
              "      <td>0</td>\n",
              "      <td>0</td>\n",
              "      <td>0</td>\n",
              "      <td>0.0</td>\n",
              "    </tr>\n",
              "    <tr>\n",
              "      <th>4</th>\n",
              "      <td>731664</td>\n",
              "      <td>1</td>\n",
              "      <td>1</td>\n",
              "      <td>0</td>\n",
              "      <td>1</td>\n",
              "      <td>1</td>\n",
              "      <td>3</td>\n",
              "      <td>0.388366</td>\n",
              "      <td>1.0</td>\n",
              "      <td>1</td>\n",
              "      <td>0.0</td>\n",
              "      <td>0.0</td>\n",
              "      <td>2</td>\n",
              "      <td>12000.0</td>\n",
              "      <td>0</td>\n",
              "      <td>2</td>\n",
              "      <td>0</td>\n",
              "      <td>1</td>\n",
              "      <td>1.0</td>\n",
              "    </tr>\n",
              "  </tbody>\n",
              "</table>\n",
              "</div>\n",
              "      <button class=\"colab-df-convert\" onclick=\"convertToInteractive('df-b3cdaf1c-91da-47aa-86c9-1dab1318e2f4')\"\n",
              "              title=\"Convert this dataframe to an interactive table.\"\n",
              "              style=\"display:none;\">\n",
              "        \n",
              "  <svg xmlns=\"http://www.w3.org/2000/svg\" height=\"24px\"viewBox=\"0 0 24 24\"\n",
              "       width=\"24px\">\n",
              "    <path d=\"M0 0h24v24H0V0z\" fill=\"none\"/>\n",
              "    <path d=\"M18.56 5.44l.94 2.06.94-2.06 2.06-.94-2.06-.94-.94-2.06-.94 2.06-2.06.94zm-11 1L8.5 8.5l.94-2.06 2.06-.94-2.06-.94L8.5 2.5l-.94 2.06-2.06.94zm10 10l.94 2.06.94-2.06 2.06-.94-2.06-.94-.94-2.06-.94 2.06-2.06.94z\"/><path d=\"M17.41 7.96l-1.37-1.37c-.4-.4-.92-.59-1.43-.59-.52 0-1.04.2-1.43.59L10.3 9.45l-7.72 7.72c-.78.78-.78 2.05 0 2.83L4 21.41c.39.39.9.59 1.41.59.51 0 1.02-.2 1.41-.59l7.78-7.78 2.81-2.81c.8-.78.8-2.07 0-2.86zM5.41 20L4 18.59l7.72-7.72 1.47 1.35L5.41 20z\"/>\n",
              "  </svg>\n",
              "      </button>\n",
              "      \n",
              "  <style>\n",
              "    .colab-df-container {\n",
              "      display:flex;\n",
              "      flex-wrap:wrap;\n",
              "      gap: 12px;\n",
              "    }\n",
              "\n",
              "    .colab-df-convert {\n",
              "      background-color: #E8F0FE;\n",
              "      border: none;\n",
              "      border-radius: 50%;\n",
              "      cursor: pointer;\n",
              "      display: none;\n",
              "      fill: #1967D2;\n",
              "      height: 32px;\n",
              "      padding: 0 0 0 0;\n",
              "      width: 32px;\n",
              "    }\n",
              "\n",
              "    .colab-df-convert:hover {\n",
              "      background-color: #E2EBFA;\n",
              "      box-shadow: 0px 1px 2px rgba(60, 64, 67, 0.3), 0px 1px 3px 1px rgba(60, 64, 67, 0.15);\n",
              "      fill: #174EA6;\n",
              "    }\n",
              "\n",
              "    [theme=dark] .colab-df-convert {\n",
              "      background-color: #3B4455;\n",
              "      fill: #D2E3FC;\n",
              "    }\n",
              "\n",
              "    [theme=dark] .colab-df-convert:hover {\n",
              "      background-color: #434B5C;\n",
              "      box-shadow: 0px 1px 3px 1px rgba(0, 0, 0, 0.15);\n",
              "      filter: drop-shadow(0px 1px 2px rgba(0, 0, 0, 0.3));\n",
              "      fill: #FFFFFF;\n",
              "    }\n",
              "  </style>\n",
              "\n",
              "      <script>\n",
              "        const buttonEl =\n",
              "          document.querySelector('#df-b3cdaf1c-91da-47aa-86c9-1dab1318e2f4 button.colab-df-convert');\n",
              "        buttonEl.style.display =\n",
              "          google.colab.kernel.accessAllowed ? 'block' : 'none';\n",
              "\n",
              "        async function convertToInteractive(key) {\n",
              "          const element = document.querySelector('#df-b3cdaf1c-91da-47aa-86c9-1dab1318e2f4');\n",
              "          const dataTable =\n",
              "            await google.colab.kernel.invokeFunction('convertToInteractive',\n",
              "                                                     [key], {});\n",
              "          if (!dataTable) return;\n",
              "\n",
              "          const docLinkHtml = 'Like what you see? Visit the ' +\n",
              "            '<a target=\"_blank\" href=https://colab.research.google.com/notebooks/data_table.ipynb>data table notebook</a>'\n",
              "            + ' to learn more about interactive tables.';\n",
              "          element.innerHTML = '';\n",
              "          dataTable['output_type'] = 'display_data';\n",
              "          await google.colab.output.renderOutput(dataTable, element);\n",
              "          const docLink = document.createElement('div');\n",
              "          docLink.innerHTML = docLinkHtml;\n",
              "          element.appendChild(docLink);\n",
              "        }\n",
              "      </script>\n",
              "    </div>\n",
              "  </div>\n",
              "  "
            ]
          },
          "metadata": {},
          "execution_count": 427
        }
      ]
    },
    {
      "cell_type": "code",
      "source": [
        "df.describe()"
      ],
      "metadata": {
        "colab": {
          "base_uri": "https://localhost:8080/",
          "height": 364
        },
        "id": "Xlx8XhWzHYhT",
        "outputId": "5af8e8d7-5260-438a-a126-7de1cfa394bb"
      },
      "execution_count": null,
      "outputs": [
        {
          "output_type": "execute_result",
          "data": {
            "text/plain": [
              "                  ID          AGE       GENDER         RACE  \\\n",
              "count    7367.000000  7367.000000  7367.000000  7367.000000   \n",
              "mean   502809.724854     1.252206     0.436541     0.099091   \n",
              "std    291428.704597     1.005780     0.495990     0.298804   \n",
              "min       101.000000     0.000000     0.000000     0.000000   \n",
              "25%    250726.000000     0.000000     0.000000     0.000000   \n",
              "50%    507424.000000     1.000000     0.000000     0.000000   \n",
              "75%    756368.500000     2.000000     1.000000     0.000000   \n",
              "max    999976.000000     3.000000     1.000000     1.000000   \n",
              "\n",
              "       DRIVING_EXPERIENCE    EDUCATION       INCOME  CREDIT_SCORE  \\\n",
              "count         7367.000000  7367.000000  7367.000000   7367.000000   \n",
              "mean             0.748337     0.946111     1.529659      0.502250   \n",
              "std              0.854419     0.885028     1.031757      0.133166   \n",
              "min              0.000000     0.000000     0.000000      0.053358   \n",
              "25%              0.000000     0.000000     1.000000      0.411815   \n",
              "50%              1.000000     1.000000     2.000000      0.502250   \n",
              "75%              1.000000     2.000000     2.000000      0.596822   \n",
              "max              3.000000     2.000000     3.000000      0.960819   \n",
              "\n",
              "       VEHICLE_OWNERSHIP  VEHICLE_YEAR      MARRIED     CHILDREN  POSTAL_CODE  \\\n",
              "count        7367.000000   7367.000000  7367.000000  7367.000000  7367.000000   \n",
              "mean            0.667436      0.716574     0.439256     0.634451     0.720918   \n",
              "std             0.471164      0.450692     0.496330     0.481616     1.037853   \n",
              "min             0.000000      0.000000     0.000000     0.000000     0.000000   \n",
              "25%             0.000000      0.000000     0.000000     0.000000     0.000000   \n",
              "50%             1.000000      1.000000     0.000000     1.000000     0.000000   \n",
              "75%             1.000000      1.000000     1.000000     1.000000     2.000000   \n",
              "max             1.000000      1.000000     1.000000     1.000000     3.000000   \n",
              "\n",
              "       ANNUAL_MILEAGE  VEHICLE_TYPE  SPEEDING_VIOLATIONS         DUIS  \\\n",
              "count     7367.000000   7367.000000          7367.000000  7367.000000   \n",
              "mean     11985.256507      0.049817             0.941089     0.158545   \n",
              "std       2694.725773      0.217581             1.725786     0.452888   \n",
              "min       2000.000000      0.000000             0.000000     0.000000   \n",
              "25%      10000.000000      0.000000             0.000000     0.000000   \n",
              "50%      12000.000000      0.000000             0.000000     0.000000   \n",
              "75%      14000.000000      0.000000             1.000000     0.000000   \n",
              "max      22000.000000      1.000000            19.000000     4.000000   \n",
              "\n",
              "       PAST_ACCIDENTS      OUTCOME  \n",
              "count     7367.000000  7367.000000  \n",
              "mean         0.242025     0.392426  \n",
              "std          0.428339     0.488324  \n",
              "min          0.000000     0.000000  \n",
              "25%          0.000000     0.000000  \n",
              "50%          0.000000     0.000000  \n",
              "75%          0.000000     1.000000  \n",
              "max          1.000000     1.000000  "
            ],
            "text/html": [
              "\n",
              "  <div id=\"df-6d37ee0b-daf0-45a5-ab2a-2b976f563314\">\n",
              "    <div class=\"colab-df-container\">\n",
              "      <div>\n",
              "<style scoped>\n",
              "    .dataframe tbody tr th:only-of-type {\n",
              "        vertical-align: middle;\n",
              "    }\n",
              "\n",
              "    .dataframe tbody tr th {\n",
              "        vertical-align: top;\n",
              "    }\n",
              "\n",
              "    .dataframe thead th {\n",
              "        text-align: right;\n",
              "    }\n",
              "</style>\n",
              "<table border=\"1\" class=\"dataframe\">\n",
              "  <thead>\n",
              "    <tr style=\"text-align: right;\">\n",
              "      <th></th>\n",
              "      <th>ID</th>\n",
              "      <th>AGE</th>\n",
              "      <th>GENDER</th>\n",
              "      <th>RACE</th>\n",
              "      <th>DRIVING_EXPERIENCE</th>\n",
              "      <th>EDUCATION</th>\n",
              "      <th>INCOME</th>\n",
              "      <th>CREDIT_SCORE</th>\n",
              "      <th>VEHICLE_OWNERSHIP</th>\n",
              "      <th>VEHICLE_YEAR</th>\n",
              "      <th>MARRIED</th>\n",
              "      <th>CHILDREN</th>\n",
              "      <th>POSTAL_CODE</th>\n",
              "      <th>ANNUAL_MILEAGE</th>\n",
              "      <th>VEHICLE_TYPE</th>\n",
              "      <th>SPEEDING_VIOLATIONS</th>\n",
              "      <th>DUIS</th>\n",
              "      <th>PAST_ACCIDENTS</th>\n",
              "      <th>OUTCOME</th>\n",
              "    </tr>\n",
              "  </thead>\n",
              "  <tbody>\n",
              "    <tr>\n",
              "      <th>count</th>\n",
              "      <td>7367.000000</td>\n",
              "      <td>7367.000000</td>\n",
              "      <td>7367.000000</td>\n",
              "      <td>7367.000000</td>\n",
              "      <td>7367.000000</td>\n",
              "      <td>7367.000000</td>\n",
              "      <td>7367.000000</td>\n",
              "      <td>7367.000000</td>\n",
              "      <td>7367.000000</td>\n",
              "      <td>7367.000000</td>\n",
              "      <td>7367.000000</td>\n",
              "      <td>7367.000000</td>\n",
              "      <td>7367.000000</td>\n",
              "      <td>7367.000000</td>\n",
              "      <td>7367.000000</td>\n",
              "      <td>7367.000000</td>\n",
              "      <td>7367.000000</td>\n",
              "      <td>7367.000000</td>\n",
              "      <td>7367.000000</td>\n",
              "    </tr>\n",
              "    <tr>\n",
              "      <th>mean</th>\n",
              "      <td>502809.724854</td>\n",
              "      <td>1.252206</td>\n",
              "      <td>0.436541</td>\n",
              "      <td>0.099091</td>\n",
              "      <td>0.748337</td>\n",
              "      <td>0.946111</td>\n",
              "      <td>1.529659</td>\n",
              "      <td>0.502250</td>\n",
              "      <td>0.667436</td>\n",
              "      <td>0.716574</td>\n",
              "      <td>0.439256</td>\n",
              "      <td>0.634451</td>\n",
              "      <td>0.720918</td>\n",
              "      <td>11985.256507</td>\n",
              "      <td>0.049817</td>\n",
              "      <td>0.941089</td>\n",
              "      <td>0.158545</td>\n",
              "      <td>0.242025</td>\n",
              "      <td>0.392426</td>\n",
              "    </tr>\n",
              "    <tr>\n",
              "      <th>std</th>\n",
              "      <td>291428.704597</td>\n",
              "      <td>1.005780</td>\n",
              "      <td>0.495990</td>\n",
              "      <td>0.298804</td>\n",
              "      <td>0.854419</td>\n",
              "      <td>0.885028</td>\n",
              "      <td>1.031757</td>\n",
              "      <td>0.133166</td>\n",
              "      <td>0.471164</td>\n",
              "      <td>0.450692</td>\n",
              "      <td>0.496330</td>\n",
              "      <td>0.481616</td>\n",
              "      <td>1.037853</td>\n",
              "      <td>2694.725773</td>\n",
              "      <td>0.217581</td>\n",
              "      <td>1.725786</td>\n",
              "      <td>0.452888</td>\n",
              "      <td>0.428339</td>\n",
              "      <td>0.488324</td>\n",
              "    </tr>\n",
              "    <tr>\n",
              "      <th>min</th>\n",
              "      <td>101.000000</td>\n",
              "      <td>0.000000</td>\n",
              "      <td>0.000000</td>\n",
              "      <td>0.000000</td>\n",
              "      <td>0.000000</td>\n",
              "      <td>0.000000</td>\n",
              "      <td>0.000000</td>\n",
              "      <td>0.053358</td>\n",
              "      <td>0.000000</td>\n",
              "      <td>0.000000</td>\n",
              "      <td>0.000000</td>\n",
              "      <td>0.000000</td>\n",
              "      <td>0.000000</td>\n",
              "      <td>2000.000000</td>\n",
              "      <td>0.000000</td>\n",
              "      <td>0.000000</td>\n",
              "      <td>0.000000</td>\n",
              "      <td>0.000000</td>\n",
              "      <td>0.000000</td>\n",
              "    </tr>\n",
              "    <tr>\n",
              "      <th>25%</th>\n",
              "      <td>250726.000000</td>\n",
              "      <td>0.000000</td>\n",
              "      <td>0.000000</td>\n",
              "      <td>0.000000</td>\n",
              "      <td>0.000000</td>\n",
              "      <td>0.000000</td>\n",
              "      <td>1.000000</td>\n",
              "      <td>0.411815</td>\n",
              "      <td>0.000000</td>\n",
              "      <td>0.000000</td>\n",
              "      <td>0.000000</td>\n",
              "      <td>0.000000</td>\n",
              "      <td>0.000000</td>\n",
              "      <td>10000.000000</td>\n",
              "      <td>0.000000</td>\n",
              "      <td>0.000000</td>\n",
              "      <td>0.000000</td>\n",
              "      <td>0.000000</td>\n",
              "      <td>0.000000</td>\n",
              "    </tr>\n",
              "    <tr>\n",
              "      <th>50%</th>\n",
              "      <td>507424.000000</td>\n",
              "      <td>1.000000</td>\n",
              "      <td>0.000000</td>\n",
              "      <td>0.000000</td>\n",
              "      <td>1.000000</td>\n",
              "      <td>1.000000</td>\n",
              "      <td>2.000000</td>\n",
              "      <td>0.502250</td>\n",
              "      <td>1.000000</td>\n",
              "      <td>1.000000</td>\n",
              "      <td>0.000000</td>\n",
              "      <td>1.000000</td>\n",
              "      <td>0.000000</td>\n",
              "      <td>12000.000000</td>\n",
              "      <td>0.000000</td>\n",
              "      <td>0.000000</td>\n",
              "      <td>0.000000</td>\n",
              "      <td>0.000000</td>\n",
              "      <td>0.000000</td>\n",
              "    </tr>\n",
              "    <tr>\n",
              "      <th>75%</th>\n",
              "      <td>756368.500000</td>\n",
              "      <td>2.000000</td>\n",
              "      <td>1.000000</td>\n",
              "      <td>0.000000</td>\n",
              "      <td>1.000000</td>\n",
              "      <td>2.000000</td>\n",
              "      <td>2.000000</td>\n",
              "      <td>0.596822</td>\n",
              "      <td>1.000000</td>\n",
              "      <td>1.000000</td>\n",
              "      <td>1.000000</td>\n",
              "      <td>1.000000</td>\n",
              "      <td>2.000000</td>\n",
              "      <td>14000.000000</td>\n",
              "      <td>0.000000</td>\n",
              "      <td>1.000000</td>\n",
              "      <td>0.000000</td>\n",
              "      <td>0.000000</td>\n",
              "      <td>1.000000</td>\n",
              "    </tr>\n",
              "    <tr>\n",
              "      <th>max</th>\n",
              "      <td>999976.000000</td>\n",
              "      <td>3.000000</td>\n",
              "      <td>1.000000</td>\n",
              "      <td>1.000000</td>\n",
              "      <td>3.000000</td>\n",
              "      <td>2.000000</td>\n",
              "      <td>3.000000</td>\n",
              "      <td>0.960819</td>\n",
              "      <td>1.000000</td>\n",
              "      <td>1.000000</td>\n",
              "      <td>1.000000</td>\n",
              "      <td>1.000000</td>\n",
              "      <td>3.000000</td>\n",
              "      <td>22000.000000</td>\n",
              "      <td>1.000000</td>\n",
              "      <td>19.000000</td>\n",
              "      <td>4.000000</td>\n",
              "      <td>1.000000</td>\n",
              "      <td>1.000000</td>\n",
              "    </tr>\n",
              "  </tbody>\n",
              "</table>\n",
              "</div>\n",
              "      <button class=\"colab-df-convert\" onclick=\"convertToInteractive('df-6d37ee0b-daf0-45a5-ab2a-2b976f563314')\"\n",
              "              title=\"Convert this dataframe to an interactive table.\"\n",
              "              style=\"display:none;\">\n",
              "        \n",
              "  <svg xmlns=\"http://www.w3.org/2000/svg\" height=\"24px\"viewBox=\"0 0 24 24\"\n",
              "       width=\"24px\">\n",
              "    <path d=\"M0 0h24v24H0V0z\" fill=\"none\"/>\n",
              "    <path d=\"M18.56 5.44l.94 2.06.94-2.06 2.06-.94-2.06-.94-.94-2.06-.94 2.06-2.06.94zm-11 1L8.5 8.5l.94-2.06 2.06-.94-2.06-.94L8.5 2.5l-.94 2.06-2.06.94zm10 10l.94 2.06.94-2.06 2.06-.94-2.06-.94-.94-2.06-.94 2.06-2.06.94z\"/><path d=\"M17.41 7.96l-1.37-1.37c-.4-.4-.92-.59-1.43-.59-.52 0-1.04.2-1.43.59L10.3 9.45l-7.72 7.72c-.78.78-.78 2.05 0 2.83L4 21.41c.39.39.9.59 1.41.59.51 0 1.02-.2 1.41-.59l7.78-7.78 2.81-2.81c.8-.78.8-2.07 0-2.86zM5.41 20L4 18.59l7.72-7.72 1.47 1.35L5.41 20z\"/>\n",
              "  </svg>\n",
              "      </button>\n",
              "      \n",
              "  <style>\n",
              "    .colab-df-container {\n",
              "      display:flex;\n",
              "      flex-wrap:wrap;\n",
              "      gap: 12px;\n",
              "    }\n",
              "\n",
              "    .colab-df-convert {\n",
              "      background-color: #E8F0FE;\n",
              "      border: none;\n",
              "      border-radius: 50%;\n",
              "      cursor: pointer;\n",
              "      display: none;\n",
              "      fill: #1967D2;\n",
              "      height: 32px;\n",
              "      padding: 0 0 0 0;\n",
              "      width: 32px;\n",
              "    }\n",
              "\n",
              "    .colab-df-convert:hover {\n",
              "      background-color: #E2EBFA;\n",
              "      box-shadow: 0px 1px 2px rgba(60, 64, 67, 0.3), 0px 1px 3px 1px rgba(60, 64, 67, 0.15);\n",
              "      fill: #174EA6;\n",
              "    }\n",
              "\n",
              "    [theme=dark] .colab-df-convert {\n",
              "      background-color: #3B4455;\n",
              "      fill: #D2E3FC;\n",
              "    }\n",
              "\n",
              "    [theme=dark] .colab-df-convert:hover {\n",
              "      background-color: #434B5C;\n",
              "      box-shadow: 0px 1px 3px 1px rgba(0, 0, 0, 0.15);\n",
              "      filter: drop-shadow(0px 1px 2px rgba(0, 0, 0, 0.3));\n",
              "      fill: #FFFFFF;\n",
              "    }\n",
              "  </style>\n",
              "\n",
              "      <script>\n",
              "        const buttonEl =\n",
              "          document.querySelector('#df-6d37ee0b-daf0-45a5-ab2a-2b976f563314 button.colab-df-convert');\n",
              "        buttonEl.style.display =\n",
              "          google.colab.kernel.accessAllowed ? 'block' : 'none';\n",
              "\n",
              "        async function convertToInteractive(key) {\n",
              "          const element = document.querySelector('#df-6d37ee0b-daf0-45a5-ab2a-2b976f563314');\n",
              "          const dataTable =\n",
              "            await google.colab.kernel.invokeFunction('convertToInteractive',\n",
              "                                                     [key], {});\n",
              "          if (!dataTable) return;\n",
              "\n",
              "          const docLinkHtml = 'Like what you see? Visit the ' +\n",
              "            '<a target=\"_blank\" href=https://colab.research.google.com/notebooks/data_table.ipynb>data table notebook</a>'\n",
              "            + ' to learn more about interactive tables.';\n",
              "          element.innerHTML = '';\n",
              "          dataTable['output_type'] = 'display_data';\n",
              "          await google.colab.output.renderOutput(dataTable, element);\n",
              "          const docLink = document.createElement('div');\n",
              "          docLink.innerHTML = docLinkHtml;\n",
              "          element.appendChild(docLink);\n",
              "        }\n",
              "      </script>\n",
              "    </div>\n",
              "  </div>\n",
              "  "
            ]
          },
          "metadata": {},
          "execution_count": 428
        }
      ]
    },
    {
      "cell_type": "code",
      "source": [
        "#Finding the mean of the column having NaN\n",
        "mean_value=df['CREDIT_SCORE'].mean()\n",
        "  \n",
        "# Replace NaNs in column S2 with the\n",
        "# mean of values in the same column\n",
        "df['CREDIT_SCORE'].fillna(value=mean_value, inplace=True)\n",
        "print('Updated Dataframe:')\n",
        "print(df)"
      ],
      "metadata": {
        "colab": {
          "base_uri": "https://localhost:8080/"
        },
        "id": "F93a9diXREwT",
        "outputId": "94c6063d-3ff2-4f93-c8af-9d5ec13f4ede"
      },
      "execution_count": null,
      "outputs": [
        {
          "output_type": "stream",
          "name": "stdout",
          "text": [
            "Updated Dataframe:\n",
            "          ID  AGE  GENDER  RACE  DRIVING_EXPERIENCE  EDUCATION  INCOME  \\\n",
            "0     569520    3       0     0                   0          0       2   \n",
            "1     750365    0       1     0                   0          1       1   \n",
            "2     199901    0       0     0                   0          0       3   \n",
            "3     478866    0       1     0                   0          2       3   \n",
            "4     731664    1       1     0                   1          1       3   \n",
            "...      ...  ...     ...   ...                 ...        ...     ...   \n",
            "9995  323164    1       0     0                   1          2       2   \n",
            "9996  910346    1       0     0                   1          1       0   \n",
            "9997  468409    1       1     0                   0          0       0   \n",
            "9998  903459    1       0     0                   1          0       1   \n",
            "9999  442696    1       0     0                   0          1       3   \n",
            "\n",
            "      CREDIT_SCORE  VEHICLE_OWNERSHIP  VEHICLE_YEAR  MARRIED  CHILDREN  \\\n",
            "0         0.629027                1.0             0      0.0       1.0   \n",
            "1         0.357757                0.0             1      0.0       0.0   \n",
            "2         0.493146                1.0             1      0.0       0.0   \n",
            "3         0.206013                1.0             1      0.0       1.0   \n",
            "4         0.388366                1.0             1      0.0       0.0   \n",
            "...            ...                ...           ...      ...       ...   \n",
            "9995      0.582787                1.0             1      0.0       0.0   \n",
            "9996      0.522231                1.0             0      0.0       1.0   \n",
            "9997      0.470940                1.0             1      0.0       1.0   \n",
            "9998      0.364185                0.0             1      0.0       1.0   \n",
            "9999      0.435225                1.0             1      1.0       1.0   \n",
            "\n",
            "      POSTAL_CODE  ANNUAL_MILEAGE  VEHICLE_TYPE  SPEEDING_VIOLATIONS  DUIS  \\\n",
            "0               0    12000.000000             0                    0     0   \n",
            "1               0    16000.000000             0                    0     0   \n",
            "2               0    11000.000000             0                    0     0   \n",
            "3               2    11000.000000             0                    0     0   \n",
            "4               2    12000.000000             0                    2     0   \n",
            "...           ...             ...           ...                  ...   ...   \n",
            "9995            0    16000.000000             0                    0     0   \n",
            "9996            2    11985.256507             0                    1     0   \n",
            "9997            0    14000.000000             0                    0     0   \n",
            "9998            0    13000.000000             0                    2     0   \n",
            "9999            0    13000.000000             0                    0     0   \n",
            "\n",
            "      PAST_ACCIDENTS  OUTCOME  \n",
            "0                  0      0.0  \n",
            "1                  0      1.0  \n",
            "2                  0      0.0  \n",
            "3                  0      0.0  \n",
            "4                  1      1.0  \n",
            "...              ...      ...  \n",
            "9995               1      0.0  \n",
            "9996               0      0.0  \n",
            "9997               0      0.0  \n",
            "9998               1      1.0  \n",
            "9999               0      0.0  \n",
            "\n",
            "[7367 rows x 19 columns]\n"
          ]
        }
      ]
    },
    {
      "cell_type": "code",
      "source": [
        "#Finding the mean of the column having NaN\n",
        "mean_value=df['ANNUAL_MILEAGE'].mean()\n",
        "  \n",
        "# Replace NaNs in column S2 with the\n",
        "# mean of values in the same column\n",
        "df['ANNUAL_MILEAGE'].fillna(value=mean_value, inplace=True)\n",
        "print('Updated Dataframe:')\n",
        "print(df)"
      ],
      "metadata": {
        "colab": {
          "base_uri": "https://localhost:8080/"
        },
        "id": "0vNrIhCuRl5d",
        "outputId": "19e40450-0b4c-4017-e491-cf1a3d24547d"
      },
      "execution_count": null,
      "outputs": [
        {
          "output_type": "stream",
          "name": "stdout",
          "text": [
            "Updated Dataframe:\n",
            "          ID  AGE  GENDER  RACE  DRIVING_EXPERIENCE  EDUCATION  INCOME  \\\n",
            "0     569520    3       0     0                   0          0       2   \n",
            "1     750365    0       1     0                   0          1       1   \n",
            "2     199901    0       0     0                   0          0       3   \n",
            "3     478866    0       1     0                   0          2       3   \n",
            "4     731664    1       1     0                   1          1       3   \n",
            "...      ...  ...     ...   ...                 ...        ...     ...   \n",
            "9995  323164    1       0     0                   1          2       2   \n",
            "9996  910346    1       0     0                   1          1       0   \n",
            "9997  468409    1       1     0                   0          0       0   \n",
            "9998  903459    1       0     0                   1          0       1   \n",
            "9999  442696    1       0     0                   0          1       3   \n",
            "\n",
            "      CREDIT_SCORE  VEHICLE_OWNERSHIP  VEHICLE_YEAR  MARRIED  CHILDREN  \\\n",
            "0         0.629027                1.0             0      0.0       1.0   \n",
            "1         0.357757                0.0             1      0.0       0.0   \n",
            "2         0.493146                1.0             1      0.0       0.0   \n",
            "3         0.206013                1.0             1      0.0       1.0   \n",
            "4         0.388366                1.0             1      0.0       0.0   \n",
            "...            ...                ...           ...      ...       ...   \n",
            "9995      0.582787                1.0             1      0.0       0.0   \n",
            "9996      0.522231                1.0             0      0.0       1.0   \n",
            "9997      0.470940                1.0             1      0.0       1.0   \n",
            "9998      0.364185                0.0             1      0.0       1.0   \n",
            "9999      0.435225                1.0             1      1.0       1.0   \n",
            "\n",
            "      POSTAL_CODE  ANNUAL_MILEAGE  VEHICLE_TYPE  SPEEDING_VIOLATIONS  DUIS  \\\n",
            "0               0    12000.000000             0                    0     0   \n",
            "1               0    16000.000000             0                    0     0   \n",
            "2               0    11000.000000             0                    0     0   \n",
            "3               2    11000.000000             0                    0     0   \n",
            "4               2    12000.000000             0                    2     0   \n",
            "...           ...             ...           ...                  ...   ...   \n",
            "9995            0    16000.000000             0                    0     0   \n",
            "9996            2    11985.256507             0                    1     0   \n",
            "9997            0    14000.000000             0                    0     0   \n",
            "9998            0    13000.000000             0                    2     0   \n",
            "9999            0    13000.000000             0                    0     0   \n",
            "\n",
            "      PAST_ACCIDENTS  OUTCOME  \n",
            "0                  0      0.0  \n",
            "1                  0      1.0  \n",
            "2                  0      0.0  \n",
            "3                  0      0.0  \n",
            "4                  1      1.0  \n",
            "...              ...      ...  \n",
            "9995               1      0.0  \n",
            "9996               0      0.0  \n",
            "9997               0      0.0  \n",
            "9998               1      1.0  \n",
            "9999               0      0.0  \n",
            "\n",
            "[7367 rows x 19 columns]\n"
          ]
        }
      ]
    },
    {
      "cell_type": "code",
      "source": [
        "#check for missing values again\n",
        "\n",
        "#Find null values\n",
        "df.isnull().sum()"
      ],
      "metadata": {
        "colab": {
          "base_uri": "https://localhost:8080/"
        },
        "id": "aZMigja8Rv-N",
        "outputId": "e40aec7c-96ec-4f5f-cc02-0c4a5a793ed3"
      },
      "execution_count": null,
      "outputs": [
        {
          "output_type": "execute_result",
          "data": {
            "text/plain": [
              "ID                     0\n",
              "AGE                    0\n",
              "GENDER                 0\n",
              "RACE                   0\n",
              "DRIVING_EXPERIENCE     0\n",
              "EDUCATION              0\n",
              "INCOME                 0\n",
              "CREDIT_SCORE           0\n",
              "VEHICLE_OWNERSHIP      0\n",
              "VEHICLE_YEAR           0\n",
              "MARRIED                0\n",
              "CHILDREN               0\n",
              "POSTAL_CODE            0\n",
              "ANNUAL_MILEAGE         0\n",
              "VEHICLE_TYPE           0\n",
              "SPEEDING_VIOLATIONS    0\n",
              "DUIS                   0\n",
              "PAST_ACCIDENTS         0\n",
              "OUTCOME                0\n",
              "dtype: int64"
            ]
          },
          "metadata": {},
          "execution_count": 431
        }
      ]
    },
    {
      "cell_type": "code",
      "source": [
        "df.corr()"
      ],
      "metadata": {
        "colab": {
          "base_uri": "https://localhost:8080/",
          "height": 709
        },
        "id": "tdEbht__R-uA",
        "outputId": "fc0d7a54-3bf0-408f-ac58-9f343d19cfbc"
      },
      "execution_count": null,
      "outputs": [
        {
          "output_type": "execute_result",
          "data": {
            "text/plain": [
              "                           ID       AGE    GENDER      RACE  \\\n",
              "ID                   1.000000  0.017874 -0.006861 -0.003554   \n",
              "AGE                  0.017874  1.000000 -0.086294 -0.010891   \n",
              "GENDER              -0.006861 -0.086294  1.000000 -0.008863   \n",
              "RACE                -0.003554 -0.010891 -0.008863  1.000000   \n",
              "DRIVING_EXPERIENCE   0.010602  0.603724 -0.143726 -0.021422   \n",
              "EDUCATION           -0.000543  0.164581  0.067516 -0.049622   \n",
              "INCOME              -0.008926  0.139314 -0.001694  0.006319   \n",
              "CREDIT_SCORE         0.006526  0.487136 -0.119957 -0.042924   \n",
              "VEHICLE_OWNERSHIP    0.012912  0.260955 -0.019446 -0.041685   \n",
              "VEHICLE_YEAR         0.002712 -0.255585  0.023381  0.029135   \n",
              "MARRIED              0.021653  0.370635 -0.027379 -0.017994   \n",
              "CHILDREN             0.002353  0.359349 -0.044553  0.005519   \n",
              "POSTAL_CODE          0.004097  0.065748  0.028886  0.006011   \n",
              "ANNUAL_MILEAGE      -0.006360 -0.245040  0.011120  0.000153   \n",
              "VEHICLE_TYPE         0.008448  0.000894  0.008541  0.007588   \n",
              "SPEEDING_VIOLATIONS  0.016118  0.380150  0.091269 -0.021850   \n",
              "DUIS                 0.008353  0.237366  0.018808 -0.024817   \n",
              "PAST_ACCIDENTS       0.011686  0.292848  0.033642 -0.007084   \n",
              "OUTCOME             -0.014201 -0.400556  0.196718  0.010727   \n",
              "\n",
              "                     DRIVING_EXPERIENCE  EDUCATION    INCOME  CREDIT_SCORE  \\\n",
              "ID                             0.010602  -0.000543 -0.008926      0.006526   \n",
              "AGE                            0.603724   0.164581  0.139314      0.487136   \n",
              "GENDER                        -0.143726   0.067516 -0.001694     -0.119957   \n",
              "RACE                          -0.021422  -0.049622  0.006319     -0.042924   \n",
              "DRIVING_EXPERIENCE             1.000000   0.080805  0.059596      0.303664   \n",
              "EDUCATION                      0.080805   1.000000  0.067093      0.211624   \n",
              "INCOME                         0.059596   0.067093  1.000000      0.078084   \n",
              "CREDIT_SCORE                   0.303664   0.211624  0.078084      1.000000   \n",
              "VEHICLE_OWNERSHIP              0.175166   0.126962  0.038445      0.294719   \n",
              "VEHICLE_YEAR                  -0.157402  -0.128150 -0.068046     -0.284837   \n",
              "MARRIED                        0.207566   0.114161  0.048255      0.264920   \n",
              "CHILDREN                       0.214531   0.075764  0.046547      0.200180   \n",
              "POSTAL_CODE                    0.095467   0.026043  0.029157      0.035062   \n",
              "ANNUAL_MILEAGE                -0.116934  -0.083304 -0.045832     -0.155098   \n",
              "VEHICLE_TYPE                   0.006105   0.004778 -0.017770     -0.007156   \n",
              "SPEEDING_VIOLATIONS            0.620981   0.077917  0.040399      0.183318   \n",
              "DUIS                           0.397479   0.046044  0.036421      0.114883   \n",
              "PAST_ACCIDENTS                 0.505864   0.057329 -0.005340      0.139571   \n",
              "OUTCOME                       -0.458603  -0.094303 -0.043987     -0.296781   \n",
              "\n",
              "                     VEHICLE_OWNERSHIP  VEHICLE_YEAR   MARRIED  CHILDREN  \\\n",
              "ID                            0.012912      0.002712  0.021653  0.002353   \n",
              "AGE                           0.260955     -0.255585  0.370635  0.359349   \n",
              "GENDER                       -0.019446      0.023381 -0.027379 -0.044553   \n",
              "RACE                         -0.041685      0.029135 -0.017994  0.005519   \n",
              "DRIVING_EXPERIENCE            0.175166     -0.157402  0.207566  0.214531   \n",
              "EDUCATION                     0.126962     -0.128150  0.114161  0.075764   \n",
              "INCOME                        0.038445     -0.068046  0.048255  0.046547   \n",
              "CREDIT_SCORE                  0.294719     -0.284837  0.264920  0.200180   \n",
              "VEHICLE_OWNERSHIP             1.000000     -0.166474  0.168457  0.115708   \n",
              "VEHICLE_YEAR                 -0.166474      1.000000 -0.130382 -0.105866   \n",
              "MARRIED                       0.168457     -0.130382  1.000000  0.274832   \n",
              "CHILDREN                      0.115708     -0.105866  0.274832  1.000000   \n",
              "POSTAL_CODE                   0.012562     -0.000791  0.039298  0.052264   \n",
              "ANNUAL_MILEAGE               -0.084224      0.071436 -0.434735 -0.430230   \n",
              "VEHICLE_TYPE                  0.009337      0.026328  0.011054 -0.012752   \n",
              "SPEEDING_VIOLATIONS           0.111807     -0.084131  0.173176  0.182340   \n",
              "DUIS                          0.072169     -0.037884  0.103850  0.087113   \n",
              "PAST_ACCIDENTS                0.096840     -0.108053  0.120567  0.116990   \n",
              "OUTCOME                      -0.380911      0.319766 -0.232393 -0.200418   \n",
              "\n",
              "                     POSTAL_CODE  ANNUAL_MILEAGE  VEHICLE_TYPE  \\\n",
              "ID                      0.004097       -0.006360      0.008448   \n",
              "AGE                     0.065748       -0.245040      0.000894   \n",
              "GENDER                  0.028886        0.011120      0.008541   \n",
              "RACE                    0.006011        0.000153      0.007588   \n",
              "DRIVING_EXPERIENCE      0.095467       -0.116934      0.006105   \n",
              "EDUCATION               0.026043       -0.083304      0.004778   \n",
              "INCOME                  0.029157       -0.045832     -0.017770   \n",
              "CREDIT_SCORE            0.035062       -0.155098     -0.007156   \n",
              "VEHICLE_OWNERSHIP       0.012562       -0.084224      0.009337   \n",
              "VEHICLE_YEAR           -0.000791        0.071436      0.026328   \n",
              "MARRIED                 0.039298       -0.434735      0.011054   \n",
              "CHILDREN                0.052264       -0.430230     -0.012752   \n",
              "POSTAL_CODE             1.000000       -0.269402     -0.003954   \n",
              "ANNUAL_MILEAGE         -0.269402        1.000000     -0.012766   \n",
              "VEHICLE_TYPE           -0.003954       -0.012766      1.000000   \n",
              "SPEEDING_VIOLATIONS     0.265352       -0.248333      0.015409   \n",
              "DUIS                    0.110901       -0.079578      0.009388   \n",
              "PAST_ACCIDENTS         -0.016001       -0.074015      0.007541   \n",
              "OUTCOME                 0.080315        0.150237     -0.002581   \n",
              "\n",
              "                     SPEEDING_VIOLATIONS      DUIS  PAST_ACCIDENTS   OUTCOME  \n",
              "ID                              0.016118  0.008353        0.011686 -0.014201  \n",
              "AGE                             0.380150  0.237366        0.292848 -0.400556  \n",
              "GENDER                          0.091269  0.018808        0.033642  0.196718  \n",
              "RACE                           -0.021850 -0.024817       -0.007084  0.010727  \n",
              "DRIVING_EXPERIENCE              0.620981  0.397479        0.505864 -0.458603  \n",
              "EDUCATION                       0.077917  0.046044        0.057329 -0.094303  \n",
              "INCOME                          0.040399  0.036421       -0.005340 -0.043987  \n",
              "CREDIT_SCORE                    0.183318  0.114883        0.139571 -0.296781  \n",
              "VEHICLE_OWNERSHIP               0.111807  0.072169        0.096840 -0.380911  \n",
              "VEHICLE_YEAR                   -0.084131 -0.037884       -0.108053  0.319766  \n",
              "MARRIED                         0.173176  0.103850        0.120567 -0.232393  \n",
              "CHILDREN                        0.182340  0.087113        0.116990 -0.200418  \n",
              "POSTAL_CODE                     0.265352  0.110901       -0.016001  0.080315  \n",
              "ANNUAL_MILEAGE                 -0.248333 -0.079578       -0.074015  0.150237  \n",
              "VEHICLE_TYPE                    0.015409  0.009388        0.007541 -0.002581  \n",
              "SPEEDING_VIOLATIONS             1.000000  0.348402        0.350965 -0.266879  \n",
              "DUIS                            0.348402  1.000000        0.191273 -0.181306  \n",
              "PAST_ACCIDENTS                  0.350965  0.191273        1.000000 -0.280188  \n",
              "OUTCOME                        -0.266879 -0.181306       -0.280188  1.000000  "
            ],
            "text/html": [
              "\n",
              "  <div id=\"df-4fc279dc-4cce-4dfc-b893-6af63bf40d6c\">\n",
              "    <div class=\"colab-df-container\">\n",
              "      <div>\n",
              "<style scoped>\n",
              "    .dataframe tbody tr th:only-of-type {\n",
              "        vertical-align: middle;\n",
              "    }\n",
              "\n",
              "    .dataframe tbody tr th {\n",
              "        vertical-align: top;\n",
              "    }\n",
              "\n",
              "    .dataframe thead th {\n",
              "        text-align: right;\n",
              "    }\n",
              "</style>\n",
              "<table border=\"1\" class=\"dataframe\">\n",
              "  <thead>\n",
              "    <tr style=\"text-align: right;\">\n",
              "      <th></th>\n",
              "      <th>ID</th>\n",
              "      <th>AGE</th>\n",
              "      <th>GENDER</th>\n",
              "      <th>RACE</th>\n",
              "      <th>DRIVING_EXPERIENCE</th>\n",
              "      <th>EDUCATION</th>\n",
              "      <th>INCOME</th>\n",
              "      <th>CREDIT_SCORE</th>\n",
              "      <th>VEHICLE_OWNERSHIP</th>\n",
              "      <th>VEHICLE_YEAR</th>\n",
              "      <th>MARRIED</th>\n",
              "      <th>CHILDREN</th>\n",
              "      <th>POSTAL_CODE</th>\n",
              "      <th>ANNUAL_MILEAGE</th>\n",
              "      <th>VEHICLE_TYPE</th>\n",
              "      <th>SPEEDING_VIOLATIONS</th>\n",
              "      <th>DUIS</th>\n",
              "      <th>PAST_ACCIDENTS</th>\n",
              "      <th>OUTCOME</th>\n",
              "    </tr>\n",
              "  </thead>\n",
              "  <tbody>\n",
              "    <tr>\n",
              "      <th>ID</th>\n",
              "      <td>1.000000</td>\n",
              "      <td>0.017874</td>\n",
              "      <td>-0.006861</td>\n",
              "      <td>-0.003554</td>\n",
              "      <td>0.010602</td>\n",
              "      <td>-0.000543</td>\n",
              "      <td>-0.008926</td>\n",
              "      <td>0.006526</td>\n",
              "      <td>0.012912</td>\n",
              "      <td>0.002712</td>\n",
              "      <td>0.021653</td>\n",
              "      <td>0.002353</td>\n",
              "      <td>0.004097</td>\n",
              "      <td>-0.006360</td>\n",
              "      <td>0.008448</td>\n",
              "      <td>0.016118</td>\n",
              "      <td>0.008353</td>\n",
              "      <td>0.011686</td>\n",
              "      <td>-0.014201</td>\n",
              "    </tr>\n",
              "    <tr>\n",
              "      <th>AGE</th>\n",
              "      <td>0.017874</td>\n",
              "      <td>1.000000</td>\n",
              "      <td>-0.086294</td>\n",
              "      <td>-0.010891</td>\n",
              "      <td>0.603724</td>\n",
              "      <td>0.164581</td>\n",
              "      <td>0.139314</td>\n",
              "      <td>0.487136</td>\n",
              "      <td>0.260955</td>\n",
              "      <td>-0.255585</td>\n",
              "      <td>0.370635</td>\n",
              "      <td>0.359349</td>\n",
              "      <td>0.065748</td>\n",
              "      <td>-0.245040</td>\n",
              "      <td>0.000894</td>\n",
              "      <td>0.380150</td>\n",
              "      <td>0.237366</td>\n",
              "      <td>0.292848</td>\n",
              "      <td>-0.400556</td>\n",
              "    </tr>\n",
              "    <tr>\n",
              "      <th>GENDER</th>\n",
              "      <td>-0.006861</td>\n",
              "      <td>-0.086294</td>\n",
              "      <td>1.000000</td>\n",
              "      <td>-0.008863</td>\n",
              "      <td>-0.143726</td>\n",
              "      <td>0.067516</td>\n",
              "      <td>-0.001694</td>\n",
              "      <td>-0.119957</td>\n",
              "      <td>-0.019446</td>\n",
              "      <td>0.023381</td>\n",
              "      <td>-0.027379</td>\n",
              "      <td>-0.044553</td>\n",
              "      <td>0.028886</td>\n",
              "      <td>0.011120</td>\n",
              "      <td>0.008541</td>\n",
              "      <td>0.091269</td>\n",
              "      <td>0.018808</td>\n",
              "      <td>0.033642</td>\n",
              "      <td>0.196718</td>\n",
              "    </tr>\n",
              "    <tr>\n",
              "      <th>RACE</th>\n",
              "      <td>-0.003554</td>\n",
              "      <td>-0.010891</td>\n",
              "      <td>-0.008863</td>\n",
              "      <td>1.000000</td>\n",
              "      <td>-0.021422</td>\n",
              "      <td>-0.049622</td>\n",
              "      <td>0.006319</td>\n",
              "      <td>-0.042924</td>\n",
              "      <td>-0.041685</td>\n",
              "      <td>0.029135</td>\n",
              "      <td>-0.017994</td>\n",
              "      <td>0.005519</td>\n",
              "      <td>0.006011</td>\n",
              "      <td>0.000153</td>\n",
              "      <td>0.007588</td>\n",
              "      <td>-0.021850</td>\n",
              "      <td>-0.024817</td>\n",
              "      <td>-0.007084</td>\n",
              "      <td>0.010727</td>\n",
              "    </tr>\n",
              "    <tr>\n",
              "      <th>DRIVING_EXPERIENCE</th>\n",
              "      <td>0.010602</td>\n",
              "      <td>0.603724</td>\n",
              "      <td>-0.143726</td>\n",
              "      <td>-0.021422</td>\n",
              "      <td>1.000000</td>\n",
              "      <td>0.080805</td>\n",
              "      <td>0.059596</td>\n",
              "      <td>0.303664</td>\n",
              "      <td>0.175166</td>\n",
              "      <td>-0.157402</td>\n",
              "      <td>0.207566</td>\n",
              "      <td>0.214531</td>\n",
              "      <td>0.095467</td>\n",
              "      <td>-0.116934</td>\n",
              "      <td>0.006105</td>\n",
              "      <td>0.620981</td>\n",
              "      <td>0.397479</td>\n",
              "      <td>0.505864</td>\n",
              "      <td>-0.458603</td>\n",
              "    </tr>\n",
              "    <tr>\n",
              "      <th>EDUCATION</th>\n",
              "      <td>-0.000543</td>\n",
              "      <td>0.164581</td>\n",
              "      <td>0.067516</td>\n",
              "      <td>-0.049622</td>\n",
              "      <td>0.080805</td>\n",
              "      <td>1.000000</td>\n",
              "      <td>0.067093</td>\n",
              "      <td>0.211624</td>\n",
              "      <td>0.126962</td>\n",
              "      <td>-0.128150</td>\n",
              "      <td>0.114161</td>\n",
              "      <td>0.075764</td>\n",
              "      <td>0.026043</td>\n",
              "      <td>-0.083304</td>\n",
              "      <td>0.004778</td>\n",
              "      <td>0.077917</td>\n",
              "      <td>0.046044</td>\n",
              "      <td>0.057329</td>\n",
              "      <td>-0.094303</td>\n",
              "    </tr>\n",
              "    <tr>\n",
              "      <th>INCOME</th>\n",
              "      <td>-0.008926</td>\n",
              "      <td>0.139314</td>\n",
              "      <td>-0.001694</td>\n",
              "      <td>0.006319</td>\n",
              "      <td>0.059596</td>\n",
              "      <td>0.067093</td>\n",
              "      <td>1.000000</td>\n",
              "      <td>0.078084</td>\n",
              "      <td>0.038445</td>\n",
              "      <td>-0.068046</td>\n",
              "      <td>0.048255</td>\n",
              "      <td>0.046547</td>\n",
              "      <td>0.029157</td>\n",
              "      <td>-0.045832</td>\n",
              "      <td>-0.017770</td>\n",
              "      <td>0.040399</td>\n",
              "      <td>0.036421</td>\n",
              "      <td>-0.005340</td>\n",
              "      <td>-0.043987</td>\n",
              "    </tr>\n",
              "    <tr>\n",
              "      <th>CREDIT_SCORE</th>\n",
              "      <td>0.006526</td>\n",
              "      <td>0.487136</td>\n",
              "      <td>-0.119957</td>\n",
              "      <td>-0.042924</td>\n",
              "      <td>0.303664</td>\n",
              "      <td>0.211624</td>\n",
              "      <td>0.078084</td>\n",
              "      <td>1.000000</td>\n",
              "      <td>0.294719</td>\n",
              "      <td>-0.284837</td>\n",
              "      <td>0.264920</td>\n",
              "      <td>0.200180</td>\n",
              "      <td>0.035062</td>\n",
              "      <td>-0.155098</td>\n",
              "      <td>-0.007156</td>\n",
              "      <td>0.183318</td>\n",
              "      <td>0.114883</td>\n",
              "      <td>0.139571</td>\n",
              "      <td>-0.296781</td>\n",
              "    </tr>\n",
              "    <tr>\n",
              "      <th>VEHICLE_OWNERSHIP</th>\n",
              "      <td>0.012912</td>\n",
              "      <td>0.260955</td>\n",
              "      <td>-0.019446</td>\n",
              "      <td>-0.041685</td>\n",
              "      <td>0.175166</td>\n",
              "      <td>0.126962</td>\n",
              "      <td>0.038445</td>\n",
              "      <td>0.294719</td>\n",
              "      <td>1.000000</td>\n",
              "      <td>-0.166474</td>\n",
              "      <td>0.168457</td>\n",
              "      <td>0.115708</td>\n",
              "      <td>0.012562</td>\n",
              "      <td>-0.084224</td>\n",
              "      <td>0.009337</td>\n",
              "      <td>0.111807</td>\n",
              "      <td>0.072169</td>\n",
              "      <td>0.096840</td>\n",
              "      <td>-0.380911</td>\n",
              "    </tr>\n",
              "    <tr>\n",
              "      <th>VEHICLE_YEAR</th>\n",
              "      <td>0.002712</td>\n",
              "      <td>-0.255585</td>\n",
              "      <td>0.023381</td>\n",
              "      <td>0.029135</td>\n",
              "      <td>-0.157402</td>\n",
              "      <td>-0.128150</td>\n",
              "      <td>-0.068046</td>\n",
              "      <td>-0.284837</td>\n",
              "      <td>-0.166474</td>\n",
              "      <td>1.000000</td>\n",
              "      <td>-0.130382</td>\n",
              "      <td>-0.105866</td>\n",
              "      <td>-0.000791</td>\n",
              "      <td>0.071436</td>\n",
              "      <td>0.026328</td>\n",
              "      <td>-0.084131</td>\n",
              "      <td>-0.037884</td>\n",
              "      <td>-0.108053</td>\n",
              "      <td>0.319766</td>\n",
              "    </tr>\n",
              "    <tr>\n",
              "      <th>MARRIED</th>\n",
              "      <td>0.021653</td>\n",
              "      <td>0.370635</td>\n",
              "      <td>-0.027379</td>\n",
              "      <td>-0.017994</td>\n",
              "      <td>0.207566</td>\n",
              "      <td>0.114161</td>\n",
              "      <td>0.048255</td>\n",
              "      <td>0.264920</td>\n",
              "      <td>0.168457</td>\n",
              "      <td>-0.130382</td>\n",
              "      <td>1.000000</td>\n",
              "      <td>0.274832</td>\n",
              "      <td>0.039298</td>\n",
              "      <td>-0.434735</td>\n",
              "      <td>0.011054</td>\n",
              "      <td>0.173176</td>\n",
              "      <td>0.103850</td>\n",
              "      <td>0.120567</td>\n",
              "      <td>-0.232393</td>\n",
              "    </tr>\n",
              "    <tr>\n",
              "      <th>CHILDREN</th>\n",
              "      <td>0.002353</td>\n",
              "      <td>0.359349</td>\n",
              "      <td>-0.044553</td>\n",
              "      <td>0.005519</td>\n",
              "      <td>0.214531</td>\n",
              "      <td>0.075764</td>\n",
              "      <td>0.046547</td>\n",
              "      <td>0.200180</td>\n",
              "      <td>0.115708</td>\n",
              "      <td>-0.105866</td>\n",
              "      <td>0.274832</td>\n",
              "      <td>1.000000</td>\n",
              "      <td>0.052264</td>\n",
              "      <td>-0.430230</td>\n",
              "      <td>-0.012752</td>\n",
              "      <td>0.182340</td>\n",
              "      <td>0.087113</td>\n",
              "      <td>0.116990</td>\n",
              "      <td>-0.200418</td>\n",
              "    </tr>\n",
              "    <tr>\n",
              "      <th>POSTAL_CODE</th>\n",
              "      <td>0.004097</td>\n",
              "      <td>0.065748</td>\n",
              "      <td>0.028886</td>\n",
              "      <td>0.006011</td>\n",
              "      <td>0.095467</td>\n",
              "      <td>0.026043</td>\n",
              "      <td>0.029157</td>\n",
              "      <td>0.035062</td>\n",
              "      <td>0.012562</td>\n",
              "      <td>-0.000791</td>\n",
              "      <td>0.039298</td>\n",
              "      <td>0.052264</td>\n",
              "      <td>1.000000</td>\n",
              "      <td>-0.269402</td>\n",
              "      <td>-0.003954</td>\n",
              "      <td>0.265352</td>\n",
              "      <td>0.110901</td>\n",
              "      <td>-0.016001</td>\n",
              "      <td>0.080315</td>\n",
              "    </tr>\n",
              "    <tr>\n",
              "      <th>ANNUAL_MILEAGE</th>\n",
              "      <td>-0.006360</td>\n",
              "      <td>-0.245040</td>\n",
              "      <td>0.011120</td>\n",
              "      <td>0.000153</td>\n",
              "      <td>-0.116934</td>\n",
              "      <td>-0.083304</td>\n",
              "      <td>-0.045832</td>\n",
              "      <td>-0.155098</td>\n",
              "      <td>-0.084224</td>\n",
              "      <td>0.071436</td>\n",
              "      <td>-0.434735</td>\n",
              "      <td>-0.430230</td>\n",
              "      <td>-0.269402</td>\n",
              "      <td>1.000000</td>\n",
              "      <td>-0.012766</td>\n",
              "      <td>-0.248333</td>\n",
              "      <td>-0.079578</td>\n",
              "      <td>-0.074015</td>\n",
              "      <td>0.150237</td>\n",
              "    </tr>\n",
              "    <tr>\n",
              "      <th>VEHICLE_TYPE</th>\n",
              "      <td>0.008448</td>\n",
              "      <td>0.000894</td>\n",
              "      <td>0.008541</td>\n",
              "      <td>0.007588</td>\n",
              "      <td>0.006105</td>\n",
              "      <td>0.004778</td>\n",
              "      <td>-0.017770</td>\n",
              "      <td>-0.007156</td>\n",
              "      <td>0.009337</td>\n",
              "      <td>0.026328</td>\n",
              "      <td>0.011054</td>\n",
              "      <td>-0.012752</td>\n",
              "      <td>-0.003954</td>\n",
              "      <td>-0.012766</td>\n",
              "      <td>1.000000</td>\n",
              "      <td>0.015409</td>\n",
              "      <td>0.009388</td>\n",
              "      <td>0.007541</td>\n",
              "      <td>-0.002581</td>\n",
              "    </tr>\n",
              "    <tr>\n",
              "      <th>SPEEDING_VIOLATIONS</th>\n",
              "      <td>0.016118</td>\n",
              "      <td>0.380150</td>\n",
              "      <td>0.091269</td>\n",
              "      <td>-0.021850</td>\n",
              "      <td>0.620981</td>\n",
              "      <td>0.077917</td>\n",
              "      <td>0.040399</td>\n",
              "      <td>0.183318</td>\n",
              "      <td>0.111807</td>\n",
              "      <td>-0.084131</td>\n",
              "      <td>0.173176</td>\n",
              "      <td>0.182340</td>\n",
              "      <td>0.265352</td>\n",
              "      <td>-0.248333</td>\n",
              "      <td>0.015409</td>\n",
              "      <td>1.000000</td>\n",
              "      <td>0.348402</td>\n",
              "      <td>0.350965</td>\n",
              "      <td>-0.266879</td>\n",
              "    </tr>\n",
              "    <tr>\n",
              "      <th>DUIS</th>\n",
              "      <td>0.008353</td>\n",
              "      <td>0.237366</td>\n",
              "      <td>0.018808</td>\n",
              "      <td>-0.024817</td>\n",
              "      <td>0.397479</td>\n",
              "      <td>0.046044</td>\n",
              "      <td>0.036421</td>\n",
              "      <td>0.114883</td>\n",
              "      <td>0.072169</td>\n",
              "      <td>-0.037884</td>\n",
              "      <td>0.103850</td>\n",
              "      <td>0.087113</td>\n",
              "      <td>0.110901</td>\n",
              "      <td>-0.079578</td>\n",
              "      <td>0.009388</td>\n",
              "      <td>0.348402</td>\n",
              "      <td>1.000000</td>\n",
              "      <td>0.191273</td>\n",
              "      <td>-0.181306</td>\n",
              "    </tr>\n",
              "    <tr>\n",
              "      <th>PAST_ACCIDENTS</th>\n",
              "      <td>0.011686</td>\n",
              "      <td>0.292848</td>\n",
              "      <td>0.033642</td>\n",
              "      <td>-0.007084</td>\n",
              "      <td>0.505864</td>\n",
              "      <td>0.057329</td>\n",
              "      <td>-0.005340</td>\n",
              "      <td>0.139571</td>\n",
              "      <td>0.096840</td>\n",
              "      <td>-0.108053</td>\n",
              "      <td>0.120567</td>\n",
              "      <td>0.116990</td>\n",
              "      <td>-0.016001</td>\n",
              "      <td>-0.074015</td>\n",
              "      <td>0.007541</td>\n",
              "      <td>0.350965</td>\n",
              "      <td>0.191273</td>\n",
              "      <td>1.000000</td>\n",
              "      <td>-0.280188</td>\n",
              "    </tr>\n",
              "    <tr>\n",
              "      <th>OUTCOME</th>\n",
              "      <td>-0.014201</td>\n",
              "      <td>-0.400556</td>\n",
              "      <td>0.196718</td>\n",
              "      <td>0.010727</td>\n",
              "      <td>-0.458603</td>\n",
              "      <td>-0.094303</td>\n",
              "      <td>-0.043987</td>\n",
              "      <td>-0.296781</td>\n",
              "      <td>-0.380911</td>\n",
              "      <td>0.319766</td>\n",
              "      <td>-0.232393</td>\n",
              "      <td>-0.200418</td>\n",
              "      <td>0.080315</td>\n",
              "      <td>0.150237</td>\n",
              "      <td>-0.002581</td>\n",
              "      <td>-0.266879</td>\n",
              "      <td>-0.181306</td>\n",
              "      <td>-0.280188</td>\n",
              "      <td>1.000000</td>\n",
              "    </tr>\n",
              "  </tbody>\n",
              "</table>\n",
              "</div>\n",
              "      <button class=\"colab-df-convert\" onclick=\"convertToInteractive('df-4fc279dc-4cce-4dfc-b893-6af63bf40d6c')\"\n",
              "              title=\"Convert this dataframe to an interactive table.\"\n",
              "              style=\"display:none;\">\n",
              "        \n",
              "  <svg xmlns=\"http://www.w3.org/2000/svg\" height=\"24px\"viewBox=\"0 0 24 24\"\n",
              "       width=\"24px\">\n",
              "    <path d=\"M0 0h24v24H0V0z\" fill=\"none\"/>\n",
              "    <path d=\"M18.56 5.44l.94 2.06.94-2.06 2.06-.94-2.06-.94-.94-2.06-.94 2.06-2.06.94zm-11 1L8.5 8.5l.94-2.06 2.06-.94-2.06-.94L8.5 2.5l-.94 2.06-2.06.94zm10 10l.94 2.06.94-2.06 2.06-.94-2.06-.94-.94-2.06-.94 2.06-2.06.94z\"/><path d=\"M17.41 7.96l-1.37-1.37c-.4-.4-.92-.59-1.43-.59-.52 0-1.04.2-1.43.59L10.3 9.45l-7.72 7.72c-.78.78-.78 2.05 0 2.83L4 21.41c.39.39.9.59 1.41.59.51 0 1.02-.2 1.41-.59l7.78-7.78 2.81-2.81c.8-.78.8-2.07 0-2.86zM5.41 20L4 18.59l7.72-7.72 1.47 1.35L5.41 20z\"/>\n",
              "  </svg>\n",
              "      </button>\n",
              "      \n",
              "  <style>\n",
              "    .colab-df-container {\n",
              "      display:flex;\n",
              "      flex-wrap:wrap;\n",
              "      gap: 12px;\n",
              "    }\n",
              "\n",
              "    .colab-df-convert {\n",
              "      background-color: #E8F0FE;\n",
              "      border: none;\n",
              "      border-radius: 50%;\n",
              "      cursor: pointer;\n",
              "      display: none;\n",
              "      fill: #1967D2;\n",
              "      height: 32px;\n",
              "      padding: 0 0 0 0;\n",
              "      width: 32px;\n",
              "    }\n",
              "\n",
              "    .colab-df-convert:hover {\n",
              "      background-color: #E2EBFA;\n",
              "      box-shadow: 0px 1px 2px rgba(60, 64, 67, 0.3), 0px 1px 3px 1px rgba(60, 64, 67, 0.15);\n",
              "      fill: #174EA6;\n",
              "    }\n",
              "\n",
              "    [theme=dark] .colab-df-convert {\n",
              "      background-color: #3B4455;\n",
              "      fill: #D2E3FC;\n",
              "    }\n",
              "\n",
              "    [theme=dark] .colab-df-convert:hover {\n",
              "      background-color: #434B5C;\n",
              "      box-shadow: 0px 1px 3px 1px rgba(0, 0, 0, 0.15);\n",
              "      filter: drop-shadow(0px 1px 2px rgba(0, 0, 0, 0.3));\n",
              "      fill: #FFFFFF;\n",
              "    }\n",
              "  </style>\n",
              "\n",
              "      <script>\n",
              "        const buttonEl =\n",
              "          document.querySelector('#df-4fc279dc-4cce-4dfc-b893-6af63bf40d6c button.colab-df-convert');\n",
              "        buttonEl.style.display =\n",
              "          google.colab.kernel.accessAllowed ? 'block' : 'none';\n",
              "\n",
              "        async function convertToInteractive(key) {\n",
              "          const element = document.querySelector('#df-4fc279dc-4cce-4dfc-b893-6af63bf40d6c');\n",
              "          const dataTable =\n",
              "            await google.colab.kernel.invokeFunction('convertToInteractive',\n",
              "                                                     [key], {});\n",
              "          if (!dataTable) return;\n",
              "\n",
              "          const docLinkHtml = 'Like what you see? Visit the ' +\n",
              "            '<a target=\"_blank\" href=https://colab.research.google.com/notebooks/data_table.ipynb>data table notebook</a>'\n",
              "            + ' to learn more about interactive tables.';\n",
              "          element.innerHTML = '';\n",
              "          dataTable['output_type'] = 'display_data';\n",
              "          await google.colab.output.renderOutput(dataTable, element);\n",
              "          const docLink = document.createElement('div');\n",
              "          docLink.innerHTML = docLinkHtml;\n",
              "          element.appendChild(docLink);\n",
              "        }\n",
              "      </script>\n",
              "    </div>\n",
              "  </div>\n",
              "  "
            ]
          },
          "metadata": {},
          "execution_count": 432
        }
      ]
    },
    {
      "cell_type": "code",
      "source": [
        "import seaborn as sns\n",
        "import matplotlib.pyplot as plt\n",
        "\n",
        "plt.figure(figsize=(16, 6))\n",
        "heatmap = sns.heatmap(df.corr(), vmin=-1, vmax=1, annot=True, cmap='BrBG')\n",
        "heatmap.set_title('Correlation Heatmap', fontdict={'fontsize':18}, pad=12);"
      ],
      "metadata": {
        "colab": {
          "base_uri": "https://localhost:8080/",
          "height": 466
        },
        "id": "KC9NNtYTSY8p",
        "outputId": "2a471bc2-49fb-4816-9539-f3bdcdd93366"
      },
      "execution_count": null,
      "outputs": [
        {
          "output_type": "display_data",
          "data": {
            "text/plain": [
              "<Figure size 1152x432 with 2 Axes>"
            ],
            "image/png": "[encoded data removed]"
          },
          "metadata": {
            "needs_background": "light"
          }
        }
      ]
    },
    {
      "cell_type": "code",
      "source": [
        "df.drop(['OUTCOME', 'ID' ], axis = 1)"
      ],
      "metadata": {
        "colab": {
          "base_uri": "https://localhost:8080/",
          "height": 488
        },
        "id": "E-9i6U3eqkOc",
        "outputId": "fb225882-99f3-421a-d52e-6d7094b8b818"
      },
      "execution_count": null,
      "outputs": [
        {
          "output_type": "execute_result",
          "data": {
            "text/plain": [
              "      AGE  GENDER  RACE  DRIVING_EXPERIENCE  EDUCATION  INCOME  CREDIT_SCORE  \\\n",
              "0       3       0     0                   0          0       2      0.629027   \n",
              "1       0       1     0                   0          1       1      0.357757   \n",
              "2       0       0     0                   0          0       3      0.493146   \n",
              "3       0       1     0                   0          2       3      0.206013   \n",
              "4       1       1     0                   1          1       3      0.388366   \n",
              "...   ...     ...   ...                 ...        ...     ...           ...   \n",
              "9995    1       0     0                   1          2       2      0.582787   \n",
              "9996    1       0     0                   1          1       0      0.522231   \n",
              "9997    1       1     0                   0          0       0      0.470940   \n",
              "9998    1       0     0                   1          0       1      0.364185   \n",
              "9999    1       0     0                   0          1       3      0.435225   \n",
              "\n",
              "      VEHICLE_OWNERSHIP  VEHICLE_YEAR  MARRIED  CHILDREN  POSTAL_CODE  \\\n",
              "0                   1.0             0      0.0       1.0            0   \n",
              "1                   0.0             1      0.0       0.0            0   \n",
              "2                   1.0             1      0.0       0.0            0   \n",
              "3                   1.0             1      0.0       1.0            2   \n",
              "4                   1.0             1      0.0       0.0            2   \n",
              "...                 ...           ...      ...       ...          ...   \n",
              "9995                1.0             1      0.0       0.0            0   \n",
              "9996                1.0             0      0.0       1.0            2   \n",
              "9997                1.0             1      0.0       1.0            0   \n",
              "9998                0.0             1      0.0       1.0            0   \n",
              "9999                1.0             1      1.0       1.0            0   \n",
              "\n",
              "      ANNUAL_MILEAGE  VEHICLE_TYPE  SPEEDING_VIOLATIONS  DUIS  PAST_ACCIDENTS  \n",
              "0       12000.000000             0                    0     0               0  \n",
              "1       16000.000000             0                    0     0               0  \n",
              "2       11000.000000             0                    0     0               0  \n",
              "3       11000.000000             0                    0     0               0  \n",
              "4       12000.000000             0                    2     0               1  \n",
              "...              ...           ...                  ...   ...             ...  \n",
              "9995    16000.000000             0                    0     0               1  \n",
              "9996    11985.256507             0                    1     0               0  \n",
              "9997    14000.000000             0                    0     0               0  \n",
              "9998    13000.000000             0                    2     0               1  \n",
              "9999    13000.000000             0                    0     0               0  \n",
              "\n",
              "[7367 rows x 17 columns]"
            ],
            "text/html": [
              "\n",
              "  <div id=\"df-8c51c560-a7cd-4b80-8cb1-4040ad35df02\">\n",
              "    <div class=\"colab-df-container\">\n",
              "      <div>\n",
              "<style scoped>\n",
              "    .dataframe tbody tr th:only-of-type {\n",
              "        vertical-align: middle;\n",
              "    }\n",
              "\n",
              "    .dataframe tbody tr th {\n",
              "        vertical-align: top;\n",
              "    }\n",
              "\n",
              "    .dataframe thead th {\n",
              "        text-align: right;\n",
              "    }\n",
              "</style>\n",
              "<table border=\"1\" class=\"dataframe\">\n",
              "  <thead>\n",
              "    <tr style=\"text-align: right;\">\n",
              "      <th></th>\n",
              "      <th>AGE</th>\n",
              "      <th>GENDER</th>\n",
              "      <th>RACE</th>\n",
              "      <th>DRIVING_EXPERIENCE</th>\n",
              "      <th>EDUCATION</th>\n",
              "      <th>INCOME</th>\n",
              "      <th>CREDIT_SCORE</th>\n",
              "      <th>VEHICLE_OWNERSHIP</th>\n",
              "      <th>VEHICLE_YEAR</th>\n",
              "      <th>MARRIED</th>\n",
              "      <th>CHILDREN</th>\n",
              "      <th>POSTAL_CODE</th>\n",
              "      <th>ANNUAL_MILEAGE</th>\n",
              "      <th>VEHICLE_TYPE</th>\n",
              "      <th>SPEEDING_VIOLATIONS</th>\n",
              "      <th>DUIS</th>\n",
              "      <th>PAST_ACCIDENTS</th>\n",
              "    </tr>\n",
              "  </thead>\n",
              "  <tbody>\n",
              "    <tr>\n",
              "      <th>0</th>\n",
              "      <td>3</td>\n",
              "      <td>0</td>\n",
              "      <td>0</td>\n",
              "      <td>0</td>\n",
              "      <td>0</td>\n",
              "      <td>2</td>\n",
              "      <td>0.629027</td>\n",
              "      <td>1.0</td>\n",
              "      <td>0</td>\n",
              "      <td>0.0</td>\n",
              "      <td>1.0</td>\n",
              "      <td>0</td>\n",
              "      <td>12000.000000</td>\n",
              "      <td>0</td>\n",
              "      <td>0</td>\n",
              "      <td>0</td>\n",
              "      <td>0</td>\n",
              "    </tr>\n",
              "    <tr>\n",
              "      <th>1</th>\n",
              "      <td>0</td>\n",
              "      <td>1</td>\n",
              "      <td>0</td>\n",
              "      <td>0</td>\n",
              "      <td>1</td>\n",
              "      <td>1</td>\n",
              "      <td>0.357757</td>\n",
              "      <td>0.0</td>\n",
              "      <td>1</td>\n",
              "      <td>0.0</td>\n",
              "      <td>0.0</td>\n",
              "      <td>0</td>\n",
              "      <td>16000.000000</td>\n",
              "      <td>0</td>\n",
              "      <td>0</td>\n",
              "      <td>0</td>\n",
              "      <td>0</td>\n",
              "    </tr>\n",
              "    <tr>\n",
              "      <th>2</th>\n",
              "      <td>0</td>\n",
              "      <td>0</td>\n",
              "      <td>0</td>\n",
              "      <td>0</td>\n",
              "      <td>0</td>\n",
              "      <td>3</td>\n",
              "      <td>0.493146</td>\n",
              "      <td>1.0</td>\n",
              "      <td>1</td>\n",
              "      <td>0.0</td>\n",
              "      <td>0.0</td>\n",
              "      <td>0</td>\n",
              "      <td>11000.000000</td>\n",
              "      <td>0</td>\n",
              "      <td>0</td>\n",
              "      <td>0</td>\n",
              "      <td>0</td>\n",
              "    </tr>\n",
              "    <tr>\n",
              "      <th>3</th>\n",
              "      <td>0</td>\n",
              "      <td>1</td>\n",
              "      <td>0</td>\n",
              "      <td>0</td>\n",
              "      <td>2</td>\n",
              "      <td>3</td>\n",
              "      <td>0.206013</td>\n",
              "      <td>1.0</td>\n",
              "      <td>1</td>\n",
              "      <td>0.0</td>\n",
              "      <td>1.0</td>\n",
              "      <td>2</td>\n",
              "      <td>11000.000000</td>\n",
              "      <td>0</td>\n",
              "      <td>0</td>\n",
              "      <td>0</td>\n",
              "      <td>0</td>\n",
              "    </tr>\n",
              "    <tr>\n",
              "      <th>4</th>\n",
              "      <td>1</td>\n",
              "      <td>1</td>\n",
              "      <td>0</td>\n",
              "      <td>1</td>\n",
              "      <td>1</td>\n",
              "      <td>3</td>\n",
              "      <td>0.388366</td>\n",
              "      <td>1.0</td>\n",
              "      <td>1</td>\n",
              "      <td>0.0</td>\n",
              "      <td>0.0</td>\n",
              "      <td>2</td>\n",
              "      <td>12000.000000</td>\n",
              "      <td>0</td>\n",
              "      <td>2</td>\n",
              "      <td>0</td>\n",
              "      <td>1</td>\n",
              "    </tr>\n",
              "    <tr>\n",
              "      <th>...</th>\n",
              "      <td>...</td>\n",
              "      <td>...</td>\n",
              "      <td>...</td>\n",
              "      <td>...</td>\n",
              "      <td>...</td>\n",
              "      <td>...</td>\n",
              "      <td>...</td>\n",
              "      <td>...</td>\n",
              "      <td>...</td>\n",
              "      <td>...</td>\n",
              "      <td>...</td>\n",
              "      <td>...</td>\n",
              "      <td>...</td>\n",
              "      <td>...</td>\n",
              "      <td>...</td>\n",
              "      <td>...</td>\n",
              "      <td>...</td>\n",
              "    </tr>\n",
              "    <tr>\n",
              "      <th>9995</th>\n",
              "      <td>1</td>\n",
              "      <td>0</td>\n",
              "      <td>0</td>\n",
              "      <td>1</td>\n",
              "      <td>2</td>\n",
              "      <td>2</td>\n",
              "      <td>0.582787</td>\n",
              "      <td>1.0</td>\n",
              "      <td>1</td>\n",
              "      <td>0.0</td>\n",
              "      <td>0.0</td>\n",
              "      <td>0</td>\n",
              "      <td>16000.000000</td>\n",
              "      <td>0</td>\n",
              "      <td>0</td>\n",
              "      <td>0</td>\n",
              "      <td>1</td>\n",
              "    </tr>\n",
              "    <tr>\n",
              "      <th>9996</th>\n",
              "      <td>1</td>\n",
              "      <td>0</td>\n",
              "      <td>0</td>\n",
              "      <td>1</td>\n",
              "      <td>1</td>\n",
              "      <td>0</td>\n",
              "      <td>0.522231</td>\n",
              "      <td>1.0</td>\n",
              "      <td>0</td>\n",
              "      <td>0.0</td>\n",
              "      <td>1.0</td>\n",
              "      <td>2</td>\n",
              "      <td>11985.256507</td>\n",
              "      <td>0</td>\n",
              "      <td>1</td>\n",
              "      <td>0</td>\n",
              "      <td>0</td>\n",
              "    </tr>\n",
              "    <tr>\n",
              "      <th>9997</th>\n",
              "      <td>1</td>\n",
              "      <td>1</td>\n",
              "      <td>0</td>\n",
              "      <td>0</td>\n",
              "      <td>0</td>\n",
              "      <td>0</td>\n",
              "      <td>0.470940</td>\n",
              "      <td>1.0</td>\n",
              "      <td>1</td>\n",
              "      <td>0.0</td>\n",
              "      <td>1.0</td>\n",
              "      <td>0</td>\n",
              "      <td>14000.000000</td>\n",
              "      <td>0</td>\n",
              "      <td>0</td>\n",
              "      <td>0</td>\n",
              "      <td>0</td>\n",
              "    </tr>\n",
              "    <tr>\n",
              "      <th>9998</th>\n",
              "      <td>1</td>\n",
              "      <td>0</td>\n",
              "      <td>0</td>\n",
              "      <td>1</td>\n",
              "      <td>0</td>\n",
              "      <td>1</td>\n",
              "      <td>0.364185</td>\n",
              "      <td>0.0</td>\n",
              "      <td>1</td>\n",
              "      <td>0.0</td>\n",
              "      <td>1.0</td>\n",
              "      <td>0</td>\n",
              "      <td>13000.000000</td>\n",
              "      <td>0</td>\n",
              "      <td>2</td>\n",
              "      <td>0</td>\n",
              "      <td>1</td>\n",
              "    </tr>\n",
              "    <tr>\n",
              "      <th>9999</th>\n",
              "      <td>1</td>\n",
              "      <td>0</td>\n",
              "      <td>0</td>\n",
              "      <td>0</td>\n",
              "      <td>1</td>\n",
              "      <td>3</td>\n",
              "      <td>0.435225</td>\n",
              "      <td>1.0</td>\n",
              "      <td>1</td>\n",
              "      <td>1.0</td>\n",
              "      <td>1.0</td>\n",
              "      <td>0</td>\n",
              "      <td>13000.000000</td>\n",
              "      <td>0</td>\n",
              "      <td>0</td>\n",
              "      <td>0</td>\n",
              "      <td>0</td>\n",
              "    </tr>\n",
              "  </tbody>\n",
              "</table>\n",
              "<p>7367 rows × 17 columns</p>\n",
              "</div>\n",
              "      <button class=\"colab-df-convert\" onclick=\"convertToInteractive('df-8c51c560-a7cd-4b80-8cb1-4040ad35df02')\"\n",
              "              title=\"Convert this dataframe to an interactive table.\"\n",
              "              style=\"display:none;\">\n",
              "        \n",
              "  <svg xmlns=\"http://www.w3.org/2000/svg\" height=\"24px\"viewBox=\"0 0 24 24\"\n",
              "       width=\"24px\">\n",
              "    <path d=\"M0 0h24v24H0V0z\" fill=\"none\"/>\n",
              "    <path d=\"M18.56 5.44l.94 2.06.94-2.06 2.06-.94-2.06-.94-.94-2.06-.94 2.06-2.06.94zm-11 1L8.5 8.5l.94-2.06 2.06-.94-2.06-.94L8.5 2.5l-.94 2.06-2.06.94zm10 10l.94 2.06.94-2.06 2.06-.94-2.06-.94-.94-2.06-.94 2.06-2.06.94z\"/><path d=\"M17.41 7.96l-1.37-1.37c-.4-.4-.92-.59-1.43-.59-.52 0-1.04.2-1.43.59L10.3 9.45l-7.72 7.72c-.78.78-.78 2.05 0 2.83L4 21.41c.39.39.9.59 1.41.59.51 0 1.02-.2 1.41-.59l7.78-7.78 2.81-2.81c.8-.78.8-2.07 0-2.86zM5.41 20L4 18.59l7.72-7.72 1.47 1.35L5.41 20z\"/>\n",
              "  </svg>\n",
              "      </button>\n",
              "      \n",
              "  <style>\n",
              "    .colab-df-container {\n",
              "      display:flex;\n",
              "      flex-wrap:wrap;\n",
              "      gap: 12px;\n",
              "    }\n",
              "\n",
              "    .colab-df-convert {\n",
              "      background-color: #E8F0FE;\n",
              "      border: none;\n",
              "      border-radius: 50%;\n",
              "      cursor: pointer;\n",
              "      display: none;\n",
              "      fill: #1967D2;\n",
              "      height: 32px;\n",
              "      padding: 0 0 0 0;\n",
              "      width: 32px;\n",
              "    }\n",
              "\n",
              "    .colab-df-convert:hover {\n",
              "      background-color: #E2EBFA;\n",
              "      box-shadow: 0px 1px 2px rgba(60, 64, 67, 0.3), 0px 1px 3px 1px rgba(60, 64, 67, 0.15);\n",
              "      fill: #174EA6;\n",
              "    }\n",
              "\n",
              "    [theme=dark] .colab-df-convert {\n",
              "      background-color: #3B4455;\n",
              "      fill: #D2E3FC;\n",
              "    }\n",
              "\n",
              "    [theme=dark] .colab-df-convert:hover {\n",
              "      background-color: #434B5C;\n",
              "      box-shadow: 0px 1px 3px 1px rgba(0, 0, 0, 0.15);\n",
              "      filter: drop-shadow(0px 1px 2px rgba(0, 0, 0, 0.3));\n",
              "      fill: #FFFFFF;\n",
              "    }\n",
              "  </style>\n",
              "\n",
              "      <script>\n",
              "        const buttonEl =\n",
              "          document.querySelector('#df-8c51c560-a7cd-4b80-8cb1-4040ad35df02 button.colab-df-convert');\n",
              "        buttonEl.style.display =\n",
              "          google.colab.kernel.accessAllowed ? 'block' : 'none';\n",
              "\n",
              "        async function convertToInteractive(key) {\n",
              "          const element = document.querySelector('#df-8c51c560-a7cd-4b80-8cb1-4040ad35df02');\n",
              "          const dataTable =\n",
              "            await google.colab.kernel.invokeFunction('convertToInteractive',\n",
              "                                                     [key], {});\n",
              "          if (!dataTable) return;\n",
              "\n",
              "          const docLinkHtml = 'Like what you see? Visit the ' +\n",
              "            '<a target=\"_blank\" href=https://colab.research.google.com/notebooks/data_table.ipynb>data table notebook</a>'\n",
              "            + ' to learn more about interactive tables.';\n",
              "          element.innerHTML = '';\n",
              "          dataTable['output_type'] = 'display_data';\n",
              "          await google.colab.output.renderOutput(dataTable, element);\n",
              "          const docLink = document.createElement('div');\n",
              "          docLink.innerHTML = docLinkHtml;\n",
              "          element.appendChild(docLink);\n",
              "        }\n",
              "      </script>\n",
              "    </div>\n",
              "  </div>\n",
              "  "
            ]
          },
          "metadata": {},
          "execution_count": 434
        }
      ]
    },
    {
      "cell_type": "markdown",
      "source": [
        "**Modeling **"
      ],
      "metadata": {
        "id": "ljZOrWbRqdsQ"
      }
    },
    {
      "cell_type": "code",
      "source": [
        "#split dataset in features and target variable\n",
        "feature_cols = ['AGE', 'GENDER', 'DRIVING_EXPERIENCE','MARRIED','CHILDREN','SPEEDING_VIOLATIONS', 'POSTAL_CODE','DUIS','CREDIT_SCORE', 'VEHICLE_OWNERSHIP']\n",
        "X = df[feature_cols] # Features\n",
        "y = df.PAST_ACCIDENTS # Target variable\n",
        "\n",
        "#print(df[feature_cols])\n",
        "print(df.PAST_ACCIDENTS)"
      ],
      "metadata": {
        "colab": {
          "base_uri": "https://localhost:8080/"
        },
        "id": "Q1qCKS0UaXFD",
        "outputId": "89419695-64c2-4d81-aa3b-eb98fee8aac4"
      },
      "execution_count": null,
      "outputs": [
        {
          "output_type": "stream",
          "name": "stdout",
          "text": [
            "0       0\n",
            "1       0\n",
            "2       0\n",
            "3       0\n",
            "4       1\n",
            "       ..\n",
            "9995    1\n",
            "9996    0\n",
            "9997    0\n",
            "9998    1\n",
            "9999    0\n",
            "Name: PAST_ACCIDENTS, Length: 7367, dtype: int64\n"
          ]
        }
      ]
    },
    {
      "cell_type": "code",
      "source": [
        "# split X and y into training and testing sets\n",
        "from sklearn.model_selection import train_test_split\n",
        "\n",
        "X_train, X_test, y_train, y_test = train_test_split(X, y, test_size=0.25, random_state=8)\n",
        "\n"
      ],
      "metadata": {
        "id": "Rv1xXzG_sbaB"
      },
      "execution_count": null,
      "outputs": []
    },
    {
      "cell_type": "code",
      "source": [
        "# Feature Scaling\n",
        "from sklearn.preprocessing import StandardScaler\n",
        "scaler = StandardScaler(with_mean=False)\n",
        "X_train = scaler.fit_transform(X_train)\n",
        "X_test = scaler.transform(X_test)"
      ],
      "metadata": {
        "id": "WS8wVHJOzsmK"
      },
      "execution_count": null,
      "outputs": []
    },
    {
      "cell_type": "code",
      "source": [
        "# import the class\n",
        "from sklearn.linear_model import LogisticRegression\n",
        "\n",
        "# instantiate the model (using the default parameters)\n",
        "logreg = LogisticRegression(random_state=16)\n",
        "\n",
        "# fit the model with data\n",
        "logreg.fit(X_train, y_train)\n",
        "\n",
        "y_pred = logreg.predict(X_test)"
      ],
      "metadata": {
        "id": "8_PFazrRsuoP"
      },
      "execution_count": null,
      "outputs": []
    },
    {
      "cell_type": "code",
      "source": [
        "print(y_pred)"
      ],
      "metadata": {
        "colab": {
          "base_uri": "https://localhost:8080/"
        },
        "id": "a9gb2Z71zhkL",
        "outputId": "22406257-9918-422b-c6ba-73339b62a48d"
      },
      "execution_count": null,
      "outputs": [
        {
          "output_type": "stream",
          "name": "stdout",
          "text": [
            "[1 1 1 ... 0 0 0]\n"
          ]
        }
      ]
    },
    {
      "cell_type": "code",
      "source": [
        "# find accuracy, precision, recall:\n",
        "\n",
        "from sklearn.metrics import confusion_matrix,classification_report\n",
        "new = np.asarray(y_test)\n",
        "confusion_matrix(y_pred,y_test)"
      ],
      "metadata": {
        "colab": {
          "base_uri": "https://localhost:8080/"
        },
        "id": "vwWLbEA3sw12",
        "outputId": "268991ba-4065-459d-ca6f-977b722890be"
      },
      "execution_count": null,
      "outputs": [
        {
          "output_type": "execute_result",
          "data": {
            "text/plain": [
              "array([[1228,  301],\n",
              "       [ 151,  162]])"
            ]
          },
          "metadata": {},
          "execution_count": 453
        }
      ]
    },
    {
      "cell_type": "code",
      "source": [
        "print(classification_report(y_pred,y_test))"
      ],
      "metadata": {
        "colab": {
          "base_uri": "https://localhost:8080/"
        },
        "id": "yIScEPvhzUY7",
        "outputId": "55957987-4f58-4b50-8052-b676d5610912"
      },
      "execution_count": null,
      "outputs": [
        {
          "output_type": "stream",
          "name": "stdout",
          "text": [
            "              precision    recall  f1-score   support\n",
            "\n",
            "           0       0.89      0.80      0.84      1529\n",
            "           1       0.35      0.52      0.42       313\n",
            "\n",
            "    accuracy                           0.75      1842\n",
            "   macro avg       0.62      0.66      0.63      1842\n",
            "weighted avg       0.80      0.75      0.77      1842\n",
            "\n"
          ]
        }
      ]
    },
    {
      "cell_type": "code",
      "source": [
        "# Use score method to get accuracy of model\n",
        "from sklearn.metrics import accuracy_score\n",
        "print('The accuracy of the Logistic Regression is', accuracy_score(y_pred,y_test))"
      ],
      "metadata": {
        "colab": {
          "base_uri": "https://localhost:8080/"
        },
        "id": "6TgkrwkF0OgU",
        "outputId": "7dc4a106-a41c-4f55-894f-bd47a043d62f"
      },
      "execution_count": null,
      "outputs": [
        {
          "output_type": "stream",
          "name": "stdout",
          "text": [
            "The accuracy of the Logistic Regression is 0.754614549402823\n"
          ]
        }
      ]
    },
    {
      "cell_type": "code",
      "source": [
        "from sklearn.ensemble import ExtraTreesClassifier,RandomForestClassifier\n",
        "from sklearn.tree import DecisionTreeClassifier\n",
        "from sklearn.neighbors import KNeighborsClassifier\n",
        "from sklearn.metrics import accuracy_score\n",
        "\n",
        "\n",
        "import warnings\n",
        "warnings.filterwarnings(\"ignore\")\n",
        "\n",
        "models = {\n",
        "    \"xTree\": ExtraTreesClassifier(),\n",
        "    \"rfClassifier\": RandomForestClassifier(),\n",
        "    \"tree\": DecisionTreeClassifier(max_depth = 5, criterion = \"gini\"),\n",
        "    \"knClassifier\": KNeighborsClassifier(n_neighbors = 5),\n",
        "}\n",
        "\n",
        "accuracy_scores = []\n",
        "predicted = []\n",
        "\n",
        "for i in models:\n",
        "    models[i].fit(X_train, y_train)\n",
        "    y_pred = models[i].predict(X_test)\n",
        "    accuracy_scores.append(int(accuracy_score(y_pred, y_test) * 100))\n",
        "    predicted.append(y_pred)\n",
        "\n",
        "for j, k in zip(accuracy_scores, models):\n",
        "    print (' \\n ', k, ' accuracy : ', j, ' %  ')"
      ],
      "metadata": {
        "colab": {
          "base_uri": "https://localhost:8080/"
        },
        "id": "PMjjxx1e5pb9",
        "outputId": "775e80eb-863f-46e8-95ea-f86cc3b73bf0"
      },
      "execution_count": null,
      "outputs": [
        {
          "output_type": "stream",
          "name": "stdout",
          "text": [
            " \n",
            "  xTree  accuracy :  74  %  \n",
            " \n",
            "  rfClassifier  accuracy :  75  %  \n",
            " \n",
            "  tree  accuracy :  78  %  \n",
            " \n",
            "  knClassifier  accuracy :  75  %  \n"
          ]
        }
      ]
    },
    {
      "cell_type": "code",
      "source": [
        "from sklearn.naive_bayes import MultinomialNB\n",
        "\n",
        "nb = MultinomialNB()\n",
        "nb.fit(X_train,y_train)"
      ],
      "metadata": {
        "colab": {
          "base_uri": "https://localhost:8080/"
        },
        "id": "kFtNXm_R99jF",
        "outputId": "9a4c5663-4d15-4d6b-9f6a-a389cc768cf0"
      },
      "execution_count": null,
      "outputs": [
        {
          "output_type": "execute_result",
          "data": {
            "text/plain": [
              "MultinomialNB()"
            ]
          },
          "metadata": {},
          "execution_count": 457
        }
      ]
    },
    {
      "cell_type": "code",
      "source": [
        "nb_predict=nb.predict(X_test)"
      ],
      "metadata": {
        "id": "rMPlzjye-Bdz"
      },
      "execution_count": null,
      "outputs": []
    },
    {
      "cell_type": "code",
      "source": [
        "nb_report = accuracy_score(y_test,nb_predict)\n",
        "print('Accuracy:',nb_report)"
      ],
      "metadata": {
        "colab": {
          "base_uri": "https://localhost:8080/"
        },
        "id": "rTyRd0Tw-D86",
        "outputId": "017b787d-827f-41fd-8104-45d3e50f0519"
      },
      "execution_count": null,
      "outputs": [
        {
          "output_type": "stream",
          "name": "stdout",
          "text": [
            "Accuracy: 0.747014115092291\n"
          ]
        }
      ]
    },
    {
      "cell_type": "code",
      "source": [
        "print(classification_report(y_test,nb_predict))"
      ],
      "metadata": {
        "colab": {
          "base_uri": "https://localhost:8080/"
        },
        "id": "ddxRAtN3-G0z",
        "outputId": "ff23b1b5-1b66-49e1-f55b-7f30a25135e3"
      },
      "execution_count": null,
      "outputs": [
        {
          "output_type": "stream",
          "name": "stdout",
          "text": [
            "              precision    recall  f1-score   support\n",
            "\n",
            "           0       0.81      0.86      0.84      1379\n",
            "           1       0.50      0.42      0.45       463\n",
            "\n",
            "    accuracy                           0.75      1842\n",
            "   macro avg       0.66      0.64      0.64      1842\n",
            "weighted avg       0.73      0.75      0.74      1842\n",
            "\n"
          ]
        }
      ]
    }
  ]
}