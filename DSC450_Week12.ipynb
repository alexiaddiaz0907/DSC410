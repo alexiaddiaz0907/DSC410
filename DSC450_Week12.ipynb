{
  "nbformat": 4,
  "nbformat_minor": 0,
  "metadata": {
    "colab": {
      "provenance": [],
      "authorship_tag": "ABX9TyM/wxKk9h16EJE87gmu0QnI",
      "include_colab_link": true
    },
    "kernelspec": {
      "name": "python3",
      "display_name": "Python 3"
    },
    "language_info": {
      "name": "python"
    }
  },
  "cells": [
    {
      "cell_type": "markdown",
      "metadata": {
        "id": "view-in-github",
        "colab_type": "text"
      },
      "source": [
        "<a href=\"https://colab.research.google.com/github/alexiaddiaz0907/DSC410/blob/master/DSC450_Week12.ipynb\" target=\"_parent\"><img src=\"https://colab.research.google.com/assets/colab-badge.svg\" alt=\"Open In Colab\"/></a>"
      ]
    },
    {
      "cell_type": "markdown",
      "source": [
        "# **IMPORT DATA FROM KAGGLE.COM**"
      ],
      "metadata": {
        "id": "sj93QS24LxYV"
      }
    },
    {
      "cell_type": "code",
      "execution_count": null,
      "metadata": {
        "colab": {
          "base_uri": "https://localhost:8080/"
        },
        "id": "ZmzceuiWBtAZ",
        "outputId": "d8cdc7ce-aea5-4d50-d56c-361a1c1d96e3"
      },
      "outputs": [
        {
          "output_type": "stream",
          "name": "stdout",
          "text": [
            "Looking in indexes: https://pypi.org/simple, https://us-python.pkg.dev/colab-wheels/public/simple/\n",
            "Requirement already satisfied: kaggle in /usr/local/lib/python3.8/dist-packages (1.5.12)\n",
            "Requirement already satisfied: requests in /usr/local/lib/python3.8/dist-packages (from kaggle) (2.25.1)\n",
            "Requirement already satisfied: tqdm in /usr/local/lib/python3.8/dist-packages (from kaggle) (4.64.1)\n",
            "Requirement already satisfied: certifi in /usr/local/lib/python3.8/dist-packages (from kaggle) (2022.12.7)\n",
            "Requirement already satisfied: python-dateutil in /usr/local/lib/python3.8/dist-packages (from kaggle) (2.8.2)\n",
            "Requirement already satisfied: urllib3 in /usr/local/lib/python3.8/dist-packages (from kaggle) (1.26.14)\n",
            "Requirement already satisfied: six>=1.10 in /usr/local/lib/python3.8/dist-packages (from kaggle) (1.15.0)\n",
            "Requirement already satisfied: python-slugify in /usr/local/lib/python3.8/dist-packages (from kaggle) (8.0.1)\n",
            "Requirement already satisfied: text-unidecode>=1.3 in /usr/local/lib/python3.8/dist-packages (from python-slugify->kaggle) (1.3)\n",
            "Requirement already satisfied: chardet<5,>=3.0.2 in /usr/local/lib/python3.8/dist-packages (from requests->kaggle) (4.0.0)\n",
            "Requirement already satisfied: idna<3,>=2.5 in /usr/local/lib/python3.8/dist-packages (from requests->kaggle) (2.10)\n"
          ]
        }
      ],
      "source": [
        "! pip install kaggle\n"
      ]
    },
    {
      "cell_type": "code",
      "source": [
        "! kaggle datasets download shivamb/vehicle-claim-fraud-detection"
      ],
      "metadata": {
        "colab": {
          "base_uri": "https://localhost:8080/"
        },
        "id": "j0KnctVdIfJ8",
        "outputId": "b0fcff38-63c5-41ce-ceba-b0a3c433d2e2"
      },
      "execution_count": null,
      "outputs": [
        {
          "output_type": "stream",
          "name": "stdout",
          "text": [
            "Traceback (most recent call last):\n",
            "  File \"/usr/local/bin/kaggle\", line 5, in <module>\n",
            "    from kaggle.cli import main\n",
            "  File \"/usr/local/lib/python3.8/dist-packages/kaggle/__init__.py\", line 23, in <module>\n",
            "    api.authenticate()\n",
            "  File \"/usr/local/lib/python3.8/dist-packages/kaggle/api/kaggle_api_extended.py\", line 164, in authenticate\n",
            "    raise IOError('Could not find {}. Make sure it\\'s located in'\n",
            "OSError: Could not find kaggle.json. Make sure it's located in /root/.kaggle. Or use the environment method.\n"
          ]
        }
      ]
    },
    {
      "cell_type": "markdown",
      "source": [],
      "metadata": {
        "id": "F2bOENyrd6RR"
      }
    },
    {
      "cell_type": "code",
      "source": [
        "! cp kaggle.json ~/.kaggle/"
      ],
      "metadata": {
        "colab": {
          "base_uri": "https://localhost:8080/"
        },
        "id": "_fM6ZODCIQpT",
        "outputId": "3f39dddd-1239-4f3f-831f-7757ec9ddf76"
      },
      "execution_count": null,
      "outputs": [
        {
          "output_type": "stream",
          "name": "stdout",
          "text": [
            "cp: cannot stat 'kaggle.json': No such file or directory\n"
          ]
        }
      ]
    },
    {
      "cell_type": "code",
      "source": [
        "! chmod 600 ~/.kaggle/kaggle.json"
      ],
      "metadata": {
        "colab": {
          "base_uri": "https://localhost:8080/"
        },
        "id": "RIaHC0JuITzZ",
        "outputId": "58c711c6-a1b7-4386-a472-3c4e7aefa716"
      },
      "execution_count": null,
      "outputs": [
        {
          "output_type": "stream",
          "name": "stdout",
          "text": [
            "chmod: cannot access '/root/.kaggle/kaggle.json': No such file or directory\n"
          ]
        }
      ]
    },
    {
      "cell_type": "code",
      "source": [
        "from google.colab import files\n",
        "uploaded = files.upload()"
      ],
      "metadata": {
        "colab": {
          "base_uri": "https://localhost:8080/",
          "height": 73
        },
        "id": "PCD3-GRjLRft",
        "outputId": "1410c740-e7b1-42a6-f70f-067f04a164c8"
      },
      "execution_count": 86,
      "outputs": [
        {
          "output_type": "display_data",
          "data": {
            "text/plain": [
              "<IPython.core.display.HTML object>"
            ],
            "text/html": [
              "\n",
              "     <input type=\"file\" id=\"files-e33c4545-7e9b-4dad-847e-57ed78ccf4ea\" name=\"files[]\" multiple disabled\n",
              "        style=\"border:none\" />\n",
              "     <output id=\"result-e33c4545-7e9b-4dad-847e-57ed78ccf4ea\">\n",
              "      Upload widget is only available when the cell has been executed in the\n",
              "      current browser session. Please rerun this cell to enable.\n",
              "      </output>\n",
              "      <script>// Copyright 2017 Google LLC\n",
              "//\n",
              "// Licensed under the Apache License, Version 2.0 (the \"License\");\n",
              "// you may not use this file except in compliance with the License.\n",
              "// You may obtain a copy of the License at\n",
              "//\n",
              "//      http://www.apache.org/licenses/LICENSE-2.0\n",
              "//\n",
              "// Unless required by applicable law or agreed to in writing, software\n",
              "// distributed under the License is distributed on an \"AS IS\" BASIS,\n",
              "// WITHOUT WARRANTIES OR CONDITIONS OF ANY KIND, either express or implied.\n",
              "// See the License for the specific language governing permissions and\n",
              "// limitations under the License.\n",
              "\n",
              "/**\n",
              " * @fileoverview Helpers for google.colab Python module.\n",
              " */\n",
              "(function(scope) {\n",
              "function span(text, styleAttributes = {}) {\n",
              "  const element = document.createElement('span');\n",
              "  element.textContent = text;\n",
              "  for (const key of Object.keys(styleAttributes)) {\n",
              "    element.style[key] = styleAttributes[key];\n",
              "  }\n",
              "  return element;\n",
              "}\n",
              "\n",
              "// Max number of bytes which will be uploaded at a time.\n",
              "const MAX_PAYLOAD_SIZE = 100 * 1024;\n",
              "\n",
              "function _uploadFiles(inputId, outputId) {\n",
              "  const steps = uploadFilesStep(inputId, outputId);\n",
              "  const outputElement = document.getElementById(outputId);\n",
              "  // Cache steps on the outputElement to make it available for the next call\n",
              "  // to uploadFilesContinue from Python.\n",
              "  outputElement.steps = steps;\n",
              "\n",
              "  return _uploadFilesContinue(outputId);\n",
              "}\n",
              "\n",
              "// This is roughly an async generator (not supported in the browser yet),\n",
              "// where there are multiple asynchronous steps and the Python side is going\n",
              "// to poll for completion of each step.\n",
              "// This uses a Promise to block the python side on completion of each step,\n",
              "// then passes the result of the previous step as the input to the next step.\n",
              "function _uploadFilesContinue(outputId) {\n",
              "  const outputElement = document.getElementById(outputId);\n",
              "  const steps = outputElement.steps;\n",
              "\n",
              "  const next = steps.next(outputElement.lastPromiseValue);\n",
              "  return Promise.resolve(next.value.promise).then((value) => {\n",
              "    // Cache the last promise value to make it available to the next\n",
              "    // step of the generator.\n",
              "    outputElement.lastPromiseValue = value;\n",
              "    return next.value.response;\n",
              "  });\n",
              "}\n",
              "\n",
              "/**\n",
              " * Generator function which is called between each async step of the upload\n",
              " * process.\n",
              " * @param {string} inputId Element ID of the input file picker element.\n",
              " * @param {string} outputId Element ID of the output display.\n",
              " * @return {!Iterable<!Object>} Iterable of next steps.\n",
              " */\n",
              "function* uploadFilesStep(inputId, outputId) {\n",
              "  const inputElement = document.getElementById(inputId);\n",
              "  inputElement.disabled = false;\n",
              "\n",
              "  const outputElement = document.getElementById(outputId);\n",
              "  outputElement.innerHTML = '';\n",
              "\n",
              "  const pickedPromise = new Promise((resolve) => {\n",
              "    inputElement.addEventListener('change', (e) => {\n",
              "      resolve(e.target.files);\n",
              "    });\n",
              "  });\n",
              "\n",
              "  const cancel = document.createElement('button');\n",
              "  inputElement.parentElement.appendChild(cancel);\n",
              "  cancel.textContent = 'Cancel upload';\n",
              "  const cancelPromise = new Promise((resolve) => {\n",
              "    cancel.onclick = () => {\n",
              "      resolve(null);\n",
              "    };\n",
              "  });\n",
              "\n",
              "  // Wait for the user to pick the files.\n",
              "  const files = yield {\n",
              "    promise: Promise.race([pickedPromise, cancelPromise]),\n",
              "    response: {\n",
              "      action: 'starting',\n",
              "    }\n",
              "  };\n",
              "\n",
              "  cancel.remove();\n",
              "\n",
              "  // Disable the input element since further picks are not allowed.\n",
              "  inputElement.disabled = true;\n",
              "\n",
              "  if (!files) {\n",
              "    return {\n",
              "      response: {\n",
              "        action: 'complete',\n",
              "      }\n",
              "    };\n",
              "  }\n",
              "\n",
              "  for (const file of files) {\n",
              "    const li = document.createElement('li');\n",
              "    li.append(span(file.name, {fontWeight: 'bold'}));\n",
              "    li.append(span(\n",
              "        `(${file.type || 'n/a'}) - ${file.size} bytes, ` +\n",
              "        `last modified: ${\n",
              "            file.lastModifiedDate ? file.lastModifiedDate.toLocaleDateString() :\n",
              "                                    'n/a'} - `));\n",
              "    const percent = span('0% done');\n",
              "    li.appendChild(percent);\n",
              "\n",
              "    outputElement.appendChild(li);\n",
              "\n",
              "    const fileDataPromise = new Promise((resolve) => {\n",
              "      const reader = new FileReader();\n",
              "      reader.onload = (e) => {\n",
              "        resolve(e.target.result);\n",
              "      };\n",
              "      reader.readAsArrayBuffer(file);\n",
              "    });\n",
              "    // Wait for the data to be ready.\n",
              "    let fileData = yield {\n",
              "      promise: fileDataPromise,\n",
              "      response: {\n",
              "        action: 'continue',\n",
              "      }\n",
              "    };\n",
              "\n",
              "    // Use a chunked sending to avoid message size limits. See b/62115660.\n",
              "    let position = 0;\n",
              "    do {\n",
              "      const length = Math.min(fileData.byteLength - position, MAX_PAYLOAD_SIZE);\n",
              "      const chunk = new Uint8Array(fileData, position, length);\n",
              "      position += length;\n",
              "\n",
              "      const base64 = btoa(String.fromCharCode.apply(null, chunk));\n",
              "      yield {\n",
              "        response: {\n",
              "          action: 'append',\n",
              "          file: file.name,\n",
              "          data: base64,\n",
              "        },\n",
              "      };\n",
              "\n",
              "      let percentDone = fileData.byteLength === 0 ?\n",
              "          100 :\n",
              "          Math.round((position / fileData.byteLength) * 100);\n",
              "      percent.textContent = `${percentDone}% done`;\n",
              "\n",
              "    } while (position < fileData.byteLength);\n",
              "  }\n",
              "\n",
              "  // All done.\n",
              "  yield {\n",
              "    response: {\n",
              "      action: 'complete',\n",
              "    }\n",
              "  };\n",
              "}\n",
              "\n",
              "scope.google = scope.google || {};\n",
              "scope.google.colab = scope.google.colab || {};\n",
              "scope.google.colab._files = {\n",
              "  _uploadFiles,\n",
              "  _uploadFilesContinue,\n",
              "};\n",
              "})(self);\n",
              "</script> "
            ]
          },
          "metadata": {}
        },
        {
          "output_type": "stream",
          "name": "stdout",
          "text": [
            "Saving insurance fraud claims.csv to insurance fraud claims (2).csv\n"
          ]
        }
      ]
    },
    {
      "cell_type": "code",
      "source": [
        "import io\n",
        "import pandas as pd\n",
        "df = pd.read_csv(io.BytesIO(uploaded['insurance fraud claims.csv']))\n",
        "# Dataset is now stored in a Pandas Dataframe"
      ],
      "metadata": {
        "id": "kx0xrcp_JI9u"
      },
      "execution_count": 87,
      "outputs": []
    },
    {
      "cell_type": "code",
      "source": [
        "df.head"
      ],
      "metadata": {
        "colab": {
          "base_uri": "https://localhost:8080/"
        },
        "id": "mpTxlAk4JfI_",
        "outputId": "60ad8931-7aac-41ca-9b26-5c679c925a07"
      },
      "execution_count": 88,
      "outputs": [
        {
          "output_type": "execute_result",
          "data": {
            "text/plain": [
              "<bound method NDFrame.head of      months_as_customer  age  policy_number policy_bind_date current_date  \\\n",
              "0                   328   48         521585         10/17/14       3/3/23   \n",
              "1                   228   42         342868          6/27/06       3/3/23   \n",
              "2                   134   29         687698           9/6/00       3/3/23   \n",
              "3                   256   41         227811          5/25/90       3/3/23   \n",
              "4                   228   44         367455           6/6/14       3/3/23   \n",
              "..                  ...  ...            ...              ...          ...   \n",
              "995                   3   38         941851          7/16/91       3/3/23   \n",
              "996                 285   41         186934           1/5/14       3/3/23   \n",
              "997                 130   34         918516          2/17/03       3/3/23   \n",
              "998                 458   62         533940         11/18/11       3/3/23   \n",
              "999                 456   60         556080         11/11/96       3/3/23   \n",
              "\n",
              "     policy_age policy_state policy_csl  policy_deductable  \\\n",
              "0           9.0           OH    250/500               1000   \n",
              "1          17.0           IN    250/500               2000   \n",
              "2          23.0           OH    100/300               2000   \n",
              "3          33.0           IL    250/500               2000   \n",
              "4           9.0           IL   500/1000               1000   \n",
              "..          ...          ...        ...                ...   \n",
              "995        32.0           OH   500/1000               1000   \n",
              "996         9.0           IL    100/300               1000   \n",
              "997        20.0           OH    250/500                500   \n",
              "998        12.0           IL   500/1000               2000   \n",
              "999         NaN           OH    250/500               1000   \n",
              "\n",
              "     policy_annual_premium  ...  total_claim_amount  injury_claim  \\\n",
              "0                  1406.91  ...               71610          6510   \n",
              "1                  1197.22  ...                5070           780   \n",
              "2                  1413.14  ...               34650          7700   \n",
              "3                  1415.74  ...               63400          6340   \n",
              "4                  1583.91  ...                6500          1300   \n",
              "..                     ...  ...                 ...           ...   \n",
              "995                1310.80  ...               87200         17440   \n",
              "996                1436.79  ...              108480         18080   \n",
              "997                1383.49  ...               67500          7500   \n",
              "998                1356.92  ...               46980          5220   \n",
              "999                 766.19  ...                5060           460   \n",
              "\n",
              "    property_claim vehicle_claim   auto_make auto_model auto_year  car_age  \\\n",
              "0            13020         52080        Saab        92x      2004       19   \n",
              "1              780          3510    Mercedes       E400      2007       16   \n",
              "2             3850         23100       Dodge        RAM      2007       16   \n",
              "3             6340         50720   Chevrolet      Tahoe      2014        9   \n",
              "4              650          4550      Accura        RSX      2009       14   \n",
              "..             ...           ...         ...        ...       ...      ...   \n",
              "995           8720         61040       Honda     Accord      2006       17   \n",
              "996          18080         72320  Volkswagen     Passat      2015        8   \n",
              "997           7500         52500      Suburu    Impreza      1996       27   \n",
              "998           5220         36540        Audi         A5      1998       25   \n",
              "999            920          3680    Mercedes       E400      2007       16   \n",
              "\n",
              "     fraud_reported _c39  \n",
              "0                 Y  NaN  \n",
              "1                 Y  NaN  \n",
              "2                 N  NaN  \n",
              "3                 Y  NaN  \n",
              "4                 N  NaN  \n",
              "..              ...  ...  \n",
              "995               N  NaN  \n",
              "996               N  NaN  \n",
              "997               N  NaN  \n",
              "998               N  NaN  \n",
              "999               N  NaN  \n",
              "\n",
              "[1000 rows x 43 columns]>"
            ]
          },
          "metadata": {},
          "execution_count": 88
        }
      ]
    },
    {
      "cell_type": "markdown",
      "source": [
        "# **EDA**"
      ],
      "metadata": {
        "id": "kgxGZYH4LrUE"
      }
    },
    {
      "cell_type": "code",
      "source": [
        "df.info()"
      ],
      "metadata": {
        "colab": {
          "base_uri": "https://localhost:8080/"
        },
        "id": "KRos9CrKL1F1",
        "outputId": "ee7aa732-35ca-4484-ddbb-67fc85fa758d"
      },
      "execution_count": 89,
      "outputs": [
        {
          "output_type": "stream",
          "name": "stdout",
          "text": [
            "<class 'pandas.core.frame.DataFrame'>\n",
            "RangeIndex: 1000 entries, 0 to 999\n",
            "Data columns (total 43 columns):\n",
            " #   Column                       Non-Null Count  Dtype  \n",
            "---  ------                       --------------  -----  \n",
            " 0   months_as_customer           1000 non-null   int64  \n",
            " 1   age                          1000 non-null   int64  \n",
            " 2   policy_number                1000 non-null   int64  \n",
            " 3   policy_bind_date             1000 non-null   object \n",
            " 4   current_date                 1000 non-null   object \n",
            " 5   policy_age                   999 non-null    float64\n",
            " 6   policy_state                 1000 non-null   object \n",
            " 7   policy_csl                   1000 non-null   object \n",
            " 8   policy_deductable            1000 non-null   int64  \n",
            " 9   policy_annual_premium        1000 non-null   float64\n",
            " 10  umbrella_limit               1000 non-null   int64  \n",
            " 11  insured_zip                  1000 non-null   int64  \n",
            " 12  insured_sex                  1000 non-null   object \n",
            " 13  insured_education_level      1000 non-null   object \n",
            " 14  insured_occupation           1000 non-null   object \n",
            " 15  insured_hobbies              1000 non-null   object \n",
            " 16  insured_relationship         1000 non-null   object \n",
            " 17  capital-gains                1000 non-null   int64  \n",
            " 18  capital-loss                 1000 non-null   int64  \n",
            " 19  incident_date                1000 non-null   object \n",
            " 20  incident_type                1000 non-null   object \n",
            " 21  collision_type               1000 non-null   object \n",
            " 22  incident_severity            1000 non-null   object \n",
            " 23  authorities_contacted        1000 non-null   object \n",
            " 24  incident_state               1000 non-null   object \n",
            " 25  incident_city                1000 non-null   object \n",
            " 26  incident_location            1000 non-null   object \n",
            " 27  incident_hour_of_the_day     1000 non-null   int64  \n",
            " 28  number_of_vehicles_involved  1000 non-null   int64  \n",
            " 29  property_damage              1000 non-null   object \n",
            " 30  bodily_injuries              1000 non-null   int64  \n",
            " 31  witnesses                    1000 non-null   int64  \n",
            " 32  police_report_available      1000 non-null   object \n",
            " 33  total_claim_amount           1000 non-null   int64  \n",
            " 34  injury_claim                 1000 non-null   int64  \n",
            " 35  property_claim               1000 non-null   int64  \n",
            " 36  vehicle_claim                1000 non-null   int64  \n",
            " 37  auto_make                    1000 non-null   object \n",
            " 38  auto_model                   1000 non-null   object \n",
            " 39  auto_year                    1000 non-null   int64  \n",
            " 40  car_age                      1000 non-null   int64  \n",
            " 41  fraud_reported               1000 non-null   object \n",
            " 42  _c39                         0 non-null      float64\n",
            "dtypes: float64(3), int64(18), object(22)\n",
            "memory usage: 336.1+ KB\n"
          ]
        }
      ]
    },
    {
      "cell_type": "code",
      "source": [
        "df.isnull().sum()"
      ],
      "metadata": {
        "colab": {
          "base_uri": "https://localhost:8080/"
        },
        "id": "9fWtBwycW1mO",
        "outputId": "958af6b7-0535-40c9-cc8b-e112ac9de3ab"
      },
      "execution_count": 90,
      "outputs": [
        {
          "output_type": "execute_result",
          "data": {
            "text/plain": [
              "months_as_customer                0\n",
              "age                               0\n",
              "policy_number                     0\n",
              "policy_bind_date                  0\n",
              "current_date                      0\n",
              "policy_age                        1\n",
              "policy_state                      0\n",
              "policy_csl                        0\n",
              "policy_deductable                 0\n",
              "policy_annual_premium             0\n",
              "umbrella_limit                    0\n",
              "insured_zip                       0\n",
              "insured_sex                       0\n",
              "insured_education_level           0\n",
              "insured_occupation                0\n",
              "insured_hobbies                   0\n",
              "insured_relationship              0\n",
              "capital-gains                     0\n",
              "capital-loss                      0\n",
              "incident_date                     0\n",
              "incident_type                     0\n",
              "collision_type                    0\n",
              "incident_severity                 0\n",
              "authorities_contacted             0\n",
              "incident_state                    0\n",
              "incident_city                     0\n",
              "incident_location                 0\n",
              "incident_hour_of_the_day          0\n",
              "number_of_vehicles_involved       0\n",
              "property_damage                   0\n",
              "bodily_injuries                   0\n",
              "witnesses                         0\n",
              "police_report_available           0\n",
              "total_claim_amount                0\n",
              "injury_claim                      0\n",
              "property_claim                    0\n",
              "vehicle_claim                     0\n",
              "auto_make                         0\n",
              "auto_model                        0\n",
              "auto_year                         0\n",
              "car_age                           0\n",
              "fraud_reported                    0\n",
              "_c39                           1000\n",
              "dtype: int64"
            ]
          },
          "metadata": {},
          "execution_count": 90
        }
      ]
    },
    {
      "cell_type": "code",
      "source": [
        "#Finding the mean of the column having NaN\n",
        "mean_value=df['policy_age'].mean()\n",
        "  \n",
        "# Replace NaNs in column S2 with the\n",
        "# mean of values in the same column\n",
        "df['policy_age'].fillna(value=mean_value, inplace=True)\n",
        "print('Updated Dataframe:')\n",
        "print(df)"
      ],
      "metadata": {
        "colab": {
          "base_uri": "https://localhost:8080/"
        },
        "id": "kkSKBw-aZHFu",
        "outputId": "01c2847a-c89e-4437-aa88-f02968907ea3"
      },
      "execution_count": 91,
      "outputs": [
        {
          "output_type": "stream",
          "name": "stdout",
          "text": [
            "Updated Dataframe:\n",
            "     months_as_customer  age  policy_number policy_bind_date current_date  \\\n",
            "0                   328   48         521585         10/17/14       3/3/23   \n",
            "1                   228   42         342868          6/27/06       3/3/23   \n",
            "2                   134   29         687698           9/6/00       3/3/23   \n",
            "3                   256   41         227811          5/25/90       3/3/23   \n",
            "4                   228   44         367455           6/6/14       3/3/23   \n",
            "..                  ...  ...            ...              ...          ...   \n",
            "995                   3   38         941851          7/16/91       3/3/23   \n",
            "996                 285   41         186934           1/5/14       3/3/23   \n",
            "997                 130   34         918516          2/17/03       3/3/23   \n",
            "998                 458   62         533940         11/18/11       3/3/23   \n",
            "999                 456   60         556080         11/11/96       3/3/23   \n",
            "\n",
            "     policy_age policy_state policy_csl  policy_deductable  \\\n",
            "0       9.00000           OH    250/500               1000   \n",
            "1      17.00000           IN    250/500               2000   \n",
            "2      23.00000           OH    100/300               2000   \n",
            "3      33.00000           IL    250/500               2000   \n",
            "4       9.00000           IL   500/1000               1000   \n",
            "..          ...          ...        ...                ...   \n",
            "995    32.00000           OH   500/1000               1000   \n",
            "996     9.00000           IL    100/300               1000   \n",
            "997    20.00000           OH    250/500                500   \n",
            "998    12.00000           IL   500/1000               2000   \n",
            "999    21.39039           OH    250/500               1000   \n",
            "\n",
            "     policy_annual_premium  ...  total_claim_amount  injury_claim  \\\n",
            "0                  1406.91  ...               71610          6510   \n",
            "1                  1197.22  ...                5070           780   \n",
            "2                  1413.14  ...               34650          7700   \n",
            "3                  1415.74  ...               63400          6340   \n",
            "4                  1583.91  ...                6500          1300   \n",
            "..                     ...  ...                 ...           ...   \n",
            "995                1310.80  ...               87200         17440   \n",
            "996                1436.79  ...              108480         18080   \n",
            "997                1383.49  ...               67500          7500   \n",
            "998                1356.92  ...               46980          5220   \n",
            "999                 766.19  ...                5060           460   \n",
            "\n",
            "    property_claim vehicle_claim   auto_make auto_model auto_year  car_age  \\\n",
            "0            13020         52080        Saab        92x      2004       19   \n",
            "1              780          3510    Mercedes       E400      2007       16   \n",
            "2             3850         23100       Dodge        RAM      2007       16   \n",
            "3             6340         50720   Chevrolet      Tahoe      2014        9   \n",
            "4              650          4550      Accura        RSX      2009       14   \n",
            "..             ...           ...         ...        ...       ...      ...   \n",
            "995           8720         61040       Honda     Accord      2006       17   \n",
            "996          18080         72320  Volkswagen     Passat      2015        8   \n",
            "997           7500         52500      Suburu    Impreza      1996       27   \n",
            "998           5220         36540        Audi         A5      1998       25   \n",
            "999            920          3680    Mercedes       E400      2007       16   \n",
            "\n",
            "     fraud_reported _c39  \n",
            "0                 Y  NaN  \n",
            "1                 Y  NaN  \n",
            "2                 N  NaN  \n",
            "3                 Y  NaN  \n",
            "4                 N  NaN  \n",
            "..              ...  ...  \n",
            "995               N  NaN  \n",
            "996               N  NaN  \n",
            "997               N  NaN  \n",
            "998               N  NaN  \n",
            "999               N  NaN  \n",
            "\n",
            "[1000 rows x 43 columns]\n"
          ]
        }
      ]
    },
    {
      "cell_type": "code",
      "source": [
        "#Identify all object variables \n",
        "df.dtypes=='object'"
      ],
      "metadata": {
        "colab": {
          "base_uri": "https://localhost:8080/"
        },
        "id": "LBcGRGbfMskl",
        "outputId": "597d4005-2ff7-4766-993c-9a481d1ec7bd"
      },
      "execution_count": 92,
      "outputs": [
        {
          "output_type": "execute_result",
          "data": {
            "text/plain": [
              "months_as_customer             False\n",
              "age                            False\n",
              "policy_number                  False\n",
              "policy_bind_date                True\n",
              "current_date                    True\n",
              "policy_age                     False\n",
              "policy_state                    True\n",
              "policy_csl                      True\n",
              "policy_deductable              False\n",
              "policy_annual_premium          False\n",
              "umbrella_limit                 False\n",
              "insured_zip                    False\n",
              "insured_sex                     True\n",
              "insured_education_level         True\n",
              "insured_occupation              True\n",
              "insured_hobbies                 True\n",
              "insured_relationship            True\n",
              "capital-gains                  False\n",
              "capital-loss                   False\n",
              "incident_date                   True\n",
              "incident_type                   True\n",
              "collision_type                  True\n",
              "incident_severity               True\n",
              "authorities_contacted           True\n",
              "incident_state                  True\n",
              "incident_city                   True\n",
              "incident_location               True\n",
              "incident_hour_of_the_day       False\n",
              "number_of_vehicles_involved    False\n",
              "property_damage                 True\n",
              "bodily_injuries                False\n",
              "witnesses                      False\n",
              "police_report_available         True\n",
              "total_claim_amount             False\n",
              "injury_claim                   False\n",
              "property_claim                 False\n",
              "vehicle_claim                  False\n",
              "auto_make                       True\n",
              "auto_model                      True\n",
              "auto_year                      False\n",
              "car_age                        False\n",
              "fraud_reported                  True\n",
              "_c39                           False\n",
              "dtype: bool"
            ]
          },
          "metadata": {},
          "execution_count": 92
        }
      ]
    },
    {
      "cell_type": "code",
      "source": [
        "#change fraud reported into binary \n",
        "# Import label encoder\n",
        "from sklearn import preprocessing\n",
        "  \n",
        "# label_encoder object kno`ws how to understand word labels.\n",
        "label_encoder = preprocessing.LabelEncoder()\n",
        "  \n",
        "# Encode labels in column 'species'.\n",
        "df['fraud_reported']= label_encoder.fit_transform(df['fraud_reported'])\n",
        "df.head()"
      ],
      "metadata": {
        "colab": {
          "base_uri": "https://localhost:8080/",
          "height": 299
        },
        "id": "ENnH7kHbtm_1",
        "outputId": "3d47317f-1770-4e04-9e29-c37b1e52076a"
      },
      "execution_count": 93,
      "outputs": [
        {
          "output_type": "execute_result",
          "data": {
            "text/plain": [
              "   months_as_customer  age  policy_number policy_bind_date current_date  \\\n",
              "0                 328   48         521585         10/17/14       3/3/23   \n",
              "1                 228   42         342868          6/27/06       3/3/23   \n",
              "2                 134   29         687698           9/6/00       3/3/23   \n",
              "3                 256   41         227811          5/25/90       3/3/23   \n",
              "4                 228   44         367455           6/6/14       3/3/23   \n",
              "\n",
              "   policy_age policy_state policy_csl  policy_deductable  \\\n",
              "0         9.0           OH    250/500               1000   \n",
              "1        17.0           IN    250/500               2000   \n",
              "2        23.0           OH    100/300               2000   \n",
              "3        33.0           IL    250/500               2000   \n",
              "4         9.0           IL   500/1000               1000   \n",
              "\n",
              "   policy_annual_premium  ...  total_claim_amount  injury_claim  \\\n",
              "0                1406.91  ...               71610          6510   \n",
              "1                1197.22  ...                5070           780   \n",
              "2                1413.14  ...               34650          7700   \n",
              "3                1415.74  ...               63400          6340   \n",
              "4                1583.91  ...                6500          1300   \n",
              "\n",
              "  property_claim vehicle_claim  auto_make auto_model auto_year  car_age  \\\n",
              "0          13020         52080       Saab        92x      2004       19   \n",
              "1            780          3510   Mercedes       E400      2007       16   \n",
              "2           3850         23100      Dodge        RAM      2007       16   \n",
              "3           6340         50720  Chevrolet      Tahoe      2014        9   \n",
              "4            650          4550     Accura        RSX      2009       14   \n",
              "\n",
              "   fraud_reported _c39  \n",
              "0               1  NaN  \n",
              "1               1  NaN  \n",
              "2               0  NaN  \n",
              "3               1  NaN  \n",
              "4               0  NaN  \n",
              "\n",
              "[5 rows x 43 columns]"
            ],
            "text/html": [
              "\n",
              "  <div id=\"df-bbe817a1-097b-4e05-a462-be143701b73d\">\n",
              "    <div class=\"colab-df-container\">\n",
              "      <div>\n",
              "<style scoped>\n",
              "    .dataframe tbody tr th:only-of-type {\n",
              "        vertical-align: middle;\n",
              "    }\n",
              "\n",
              "    .dataframe tbody tr th {\n",
              "        vertical-align: top;\n",
              "    }\n",
              "\n",
              "    .dataframe thead th {\n",
              "        text-align: right;\n",
              "    }\n",
              "</style>\n",
              "<table border=\"1\" class=\"dataframe\">\n",
              "  <thead>\n",
              "    <tr style=\"text-align: right;\">\n",
              "      <th></th>\n",
              "      <th>months_as_customer</th>\n",
              "      <th>age</th>\n",
              "      <th>policy_number</th>\n",
              "      <th>policy_bind_date</th>\n",
              "      <th>current_date</th>\n",
              "      <th>policy_age</th>\n",
              "      <th>policy_state</th>\n",
              "      <th>policy_csl</th>\n",
              "      <th>policy_deductable</th>\n",
              "      <th>policy_annual_premium</th>\n",
              "      <th>...</th>\n",
              "      <th>total_claim_amount</th>\n",
              "      <th>injury_claim</th>\n",
              "      <th>property_claim</th>\n",
              "      <th>vehicle_claim</th>\n",
              "      <th>auto_make</th>\n",
              "      <th>auto_model</th>\n",
              "      <th>auto_year</th>\n",
              "      <th>car_age</th>\n",
              "      <th>fraud_reported</th>\n",
              "      <th>_c39</th>\n",
              "    </tr>\n",
              "  </thead>\n",
              "  <tbody>\n",
              "    <tr>\n",
              "      <th>0</th>\n",
              "      <td>328</td>\n",
              "      <td>48</td>\n",
              "      <td>521585</td>\n",
              "      <td>10/17/14</td>\n",
              "      <td>3/3/23</td>\n",
              "      <td>9.0</td>\n",
              "      <td>OH</td>\n",
              "      <td>250/500</td>\n",
              "      <td>1000</td>\n",
              "      <td>1406.91</td>\n",
              "      <td>...</td>\n",
              "      <td>71610</td>\n",
              "      <td>6510</td>\n",
              "      <td>13020</td>\n",
              "      <td>52080</td>\n",
              "      <td>Saab</td>\n",
              "      <td>92x</td>\n",
              "      <td>2004</td>\n",
              "      <td>19</td>\n",
              "      <td>1</td>\n",
              "      <td>NaN</td>\n",
              "    </tr>\n",
              "    <tr>\n",
              "      <th>1</th>\n",
              "      <td>228</td>\n",
              "      <td>42</td>\n",
              "      <td>342868</td>\n",
              "      <td>6/27/06</td>\n",
              "      <td>3/3/23</td>\n",
              "      <td>17.0</td>\n",
              "      <td>IN</td>\n",
              "      <td>250/500</td>\n",
              "      <td>2000</td>\n",
              "      <td>1197.22</td>\n",
              "      <td>...</td>\n",
              "      <td>5070</td>\n",
              "      <td>780</td>\n",
              "      <td>780</td>\n",
              "      <td>3510</td>\n",
              "      <td>Mercedes</td>\n",
              "      <td>E400</td>\n",
              "      <td>2007</td>\n",
              "      <td>16</td>\n",
              "      <td>1</td>\n",
              "      <td>NaN</td>\n",
              "    </tr>\n",
              "    <tr>\n",
              "      <th>2</th>\n",
              "      <td>134</td>\n",
              "      <td>29</td>\n",
              "      <td>687698</td>\n",
              "      <td>9/6/00</td>\n",
              "      <td>3/3/23</td>\n",
              "      <td>23.0</td>\n",
              "      <td>OH</td>\n",
              "      <td>100/300</td>\n",
              "      <td>2000</td>\n",
              "      <td>1413.14</td>\n",
              "      <td>...</td>\n",
              "      <td>34650</td>\n",
              "      <td>7700</td>\n",
              "      <td>3850</td>\n",
              "      <td>23100</td>\n",
              "      <td>Dodge</td>\n",
              "      <td>RAM</td>\n",
              "      <td>2007</td>\n",
              "      <td>16</td>\n",
              "      <td>0</td>\n",
              "      <td>NaN</td>\n",
              "    </tr>\n",
              "    <tr>\n",
              "      <th>3</th>\n",
              "      <td>256</td>\n",
              "      <td>41</td>\n",
              "      <td>227811</td>\n",
              "      <td>5/25/90</td>\n",
              "      <td>3/3/23</td>\n",
              "      <td>33.0</td>\n",
              "      <td>IL</td>\n",
              "      <td>250/500</td>\n",
              "      <td>2000</td>\n",
              "      <td>1415.74</td>\n",
              "      <td>...</td>\n",
              "      <td>63400</td>\n",
              "      <td>6340</td>\n",
              "      <td>6340</td>\n",
              "      <td>50720</td>\n",
              "      <td>Chevrolet</td>\n",
              "      <td>Tahoe</td>\n",
              "      <td>2014</td>\n",
              "      <td>9</td>\n",
              "      <td>1</td>\n",
              "      <td>NaN</td>\n",
              "    </tr>\n",
              "    <tr>\n",
              "      <th>4</th>\n",
              "      <td>228</td>\n",
              "      <td>44</td>\n",
              "      <td>367455</td>\n",
              "      <td>6/6/14</td>\n",
              "      <td>3/3/23</td>\n",
              "      <td>9.0</td>\n",
              "      <td>IL</td>\n",
              "      <td>500/1000</td>\n",
              "      <td>1000</td>\n",
              "      <td>1583.91</td>\n",
              "      <td>...</td>\n",
              "      <td>6500</td>\n",
              "      <td>1300</td>\n",
              "      <td>650</td>\n",
              "      <td>4550</td>\n",
              "      <td>Accura</td>\n",
              "      <td>RSX</td>\n",
              "      <td>2009</td>\n",
              "      <td>14</td>\n",
              "      <td>0</td>\n",
              "      <td>NaN</td>\n",
              "    </tr>\n",
              "  </tbody>\n",
              "</table>\n",
              "<p>5 rows × 43 columns</p>\n",
              "</div>\n",
              "      <button class=\"colab-df-convert\" onclick=\"convertToInteractive('df-bbe817a1-097b-4e05-a462-be143701b73d')\"\n",
              "              title=\"Convert this dataframe to an interactive table.\"\n",
              "              style=\"display:none;\">\n",
              "        \n",
              "  <svg xmlns=\"http://www.w3.org/2000/svg\" height=\"24px\"viewBox=\"0 0 24 24\"\n",
              "       width=\"24px\">\n",
              "    <path d=\"M0 0h24v24H0V0z\" fill=\"none\"/>\n",
              "    <path d=\"M18.56 5.44l.94 2.06.94-2.06 2.06-.94-2.06-.94-.94-2.06-.94 2.06-2.06.94zm-11 1L8.5 8.5l.94-2.06 2.06-.94-2.06-.94L8.5 2.5l-.94 2.06-2.06.94zm10 10l.94 2.06.94-2.06 2.06-.94-2.06-.94-.94-2.06-.94 2.06-2.06.94z\"/><path d=\"M17.41 7.96l-1.37-1.37c-.4-.4-.92-.59-1.43-.59-.52 0-1.04.2-1.43.59L10.3 9.45l-7.72 7.72c-.78.78-.78 2.05 0 2.83L4 21.41c.39.39.9.59 1.41.59.51 0 1.02-.2 1.41-.59l7.78-7.78 2.81-2.81c.8-.78.8-2.07 0-2.86zM5.41 20L4 18.59l7.72-7.72 1.47 1.35L5.41 20z\"/>\n",
              "  </svg>\n",
              "      </button>\n",
              "      \n",
              "  <style>\n",
              "    .colab-df-container {\n",
              "      display:flex;\n",
              "      flex-wrap:wrap;\n",
              "      gap: 12px;\n",
              "    }\n",
              "\n",
              "    .colab-df-convert {\n",
              "      background-color: #E8F0FE;\n",
              "      border: none;\n",
              "      border-radius: 50%;\n",
              "      cursor: pointer;\n",
              "      display: none;\n",
              "      fill: #1967D2;\n",
              "      height: 32px;\n",
              "      padding: 0 0 0 0;\n",
              "      width: 32px;\n",
              "    }\n",
              "\n",
              "    .colab-df-convert:hover {\n",
              "      background-color: #E2EBFA;\n",
              "      box-shadow: 0px 1px 2px rgba(60, 64, 67, 0.3), 0px 1px 3px 1px rgba(60, 64, 67, 0.15);\n",
              "      fill: #174EA6;\n",
              "    }\n",
              "\n",
              "    [theme=dark] .colab-df-convert {\n",
              "      background-color: #3B4455;\n",
              "      fill: #D2E3FC;\n",
              "    }\n",
              "\n",
              "    [theme=dark] .colab-df-convert:hover {\n",
              "      background-color: #434B5C;\n",
              "      box-shadow: 0px 1px 3px 1px rgba(0, 0, 0, 0.15);\n",
              "      filter: drop-shadow(0px 1px 2px rgba(0, 0, 0, 0.3));\n",
              "      fill: #FFFFFF;\n",
              "    }\n",
              "  </style>\n",
              "\n",
              "      <script>\n",
              "        const buttonEl =\n",
              "          document.querySelector('#df-bbe817a1-097b-4e05-a462-be143701b73d button.colab-df-convert');\n",
              "        buttonEl.style.display =\n",
              "          google.colab.kernel.accessAllowed ? 'block' : 'none';\n",
              "\n",
              "        async function convertToInteractive(key) {\n",
              "          const element = document.querySelector('#df-bbe817a1-097b-4e05-a462-be143701b73d');\n",
              "          const dataTable =\n",
              "            await google.colab.kernel.invokeFunction('convertToInteractive',\n",
              "                                                     [key], {});\n",
              "          if (!dataTable) return;\n",
              "\n",
              "          const docLinkHtml = 'Like what you see? Visit the ' +\n",
              "            '<a target=\"_blank\" href=https://colab.research.google.com/notebooks/data_table.ipynb>data table notebook</a>'\n",
              "            + ' to learn more about interactive tables.';\n",
              "          element.innerHTML = '';\n",
              "          dataTable['output_type'] = 'display_data';\n",
              "          await google.colab.output.renderOutput(dataTable, element);\n",
              "          const docLink = document.createElement('div');\n",
              "          docLink.innerHTML = docLinkHtml;\n",
              "          element.appendChild(docLink);\n",
              "        }\n",
              "      </script>\n",
              "    </div>\n",
              "  </div>\n",
              "  "
            ]
          },
          "metadata": {},
          "execution_count": 93
        }
      ]
    },
    {
      "cell_type": "code",
      "source": [
        "#Review all unique values for a column\n",
        "print(df.insured_hobbies.unique())\n"
      ],
      "metadata": {
        "colab": {
          "base_uri": "https://localhost:8080/"
        },
        "id": "fUa6RQ8P6907",
        "outputId": "d3ae69ba-3cfb-4e98-efed-c06d9826e624"
      },
      "execution_count": 94,
      "outputs": [
        {
          "output_type": "stream",
          "name": "stdout",
          "text": [
            "['sleeping' 'reading' 'board-games' 'bungie-jumping' 'base-jumping' 'golf'\n",
            " 'camping' 'dancing' 'skydiving' 'movies' 'hiking' 'yachting' 'paintball'\n",
            " 'chess' 'kayaking' 'polo' 'basketball' 'video-games' 'cross-fit'\n",
            " 'exercise']\n"
          ]
        }
      ]
    },
    {
      "cell_type": "code",
      "source": [
        "print(df.incident_severity.unique())"
      ],
      "metadata": {
        "colab": {
          "base_uri": "https://localhost:8080/"
        },
        "id": "a16WXtGMDtd-",
        "outputId": "3c37308f-1461-4eaa-fe55-07099b14d1e1"
      },
      "execution_count": 95,
      "outputs": [
        {
          "output_type": "stream",
          "name": "stdout",
          "text": [
            "['Major Damage' 'Minor Damage' 'Total Loss' 'Trivial Damage']\n"
          ]
        }
      ]
    },
    {
      "cell_type": "code",
      "source": [
        "print(df.fraud_reported.unique())\n",
        "\n"
      ],
      "metadata": {
        "colab": {
          "base_uri": "https://localhost:8080/"
        },
        "id": "-OdWNqVqD6On",
        "outputId": "8104ef1e-ee7f-4611-9ef0-957e9fc4ede6"
      },
      "execution_count": 96,
      "outputs": [
        {
          "output_type": "stream",
          "name": "stdout",
          "text": [
            "[1 0]\n"
          ]
        }
      ]
    },
    {
      "cell_type": "code",
      "source": [
        "print(df.incident_date.unique())"
      ],
      "metadata": {
        "colab": {
          "base_uri": "https://localhost:8080/"
        },
        "id": "DWtn6GVCDfr-",
        "outputId": "ad396cdf-b1c3-44d7-eea2-387560e753ff"
      },
      "execution_count": 97,
      "outputs": [
        {
          "output_type": "stream",
          "name": "stdout",
          "text": [
            "['1/25/15' '1/21/15' '2/22/15' '1/10/15' '2/17/15' '1/2/15' '1/13/15'\n",
            " '2/27/15' '1/30/15' '1/5/15' '1/6/15' '2/15/15' '1/22/15' '1/8/15'\n",
            " '1/15/15' '1/29/15' '1/19/15' '1/1/15' '2/10/15' '1/11/15' '2/24/15'\n",
            " '1/9/15' '1/28/15' '1/7/15' '1/18/15' '2/28/15' '2/12/15' '1/24/15'\n",
            " '1/3/15' '1/16/15' '2/14/15' '2/21/15' '2/18/15' '2/26/15' '1/17/15'\n",
            " '1/27/15' '2/11/15' '1/12/15' '2/6/15' '1/20/15' '2/2/15' '2/20/15'\n",
            " '2/8/15' '2/23/15' '3/1/15' '1/14/15' '2/19/15' '2/9/15' '1/26/15'\n",
            " '1/23/15' '1/31/15' '2/3/15' '2/1/15' '2/5/15' '2/25/15' '2/16/15'\n",
            " '2/13/15' '2/4/15' '2/7/15' '1/4/15']\n"
          ]
        }
      ]
    },
    {
      "cell_type": "code",
      "source": [
        "print(df.auto_model.unique())"
      ],
      "metadata": {
        "colab": {
          "base_uri": "https://localhost:8080/"
        },
        "id": "1YaBQGRYEU6s",
        "outputId": "2c4963df-8225-4556-a2dc-50db08de4747"
      },
      "execution_count": 98,
      "outputs": [
        {
          "output_type": "stream",
          "name": "stdout",
          "text": [
            "['92x' 'E400' 'RAM' 'Tahoe' 'RSX' '95' 'Pathfinder' 'A5' 'Camry' 'F150'\n",
            " 'A3' 'Highlander' 'Neon' 'MDX' 'Maxima' 'Legacy' 'TL' 'Impreza'\n",
            " 'Forrestor' 'Escape' 'Corolla' '3 Series' 'C300' 'Wrangler' 'M5' 'X5'\n",
            " 'Civic' 'Passat' 'Silverado' 'CRV' '93' 'Accord' 'X6' 'Malibu' 'Fusion'\n",
            " 'Jetta' 'ML350' 'Ultima' 'Grand Cherokee']\n"
          ]
        }
      ]
    },
    {
      "cell_type": "code",
      "source": [
        "print(df.policy_deductable.unique())\n"
      ],
      "metadata": {
        "colab": {
          "base_uri": "https://localhost:8080/"
        },
        "id": "aTCzojXQd-1l",
        "outputId": "19363dc8-dd4a-43ef-e7e1-49ad3e5a1c9d"
      },
      "execution_count": 99,
      "outputs": [
        {
          "output_type": "stream",
          "name": "stdout",
          "text": [
            "[1000 2000  500]\n"
          ]
        }
      ]
    },
    {
      "cell_type": "code",
      "source": [
        " \n",
        "print(df.umbrella_limit.unique())"
      ],
      "metadata": {
        "colab": {
          "base_uri": "https://localhost:8080/"
        },
        "id": "9bnuKiypdvfF",
        "outputId": "54fe1618-fc29-484a-963d-7ec4c2d4a6d0"
      },
      "execution_count": 100,
      "outputs": [
        {
          "output_type": "stream",
          "name": "stdout",
          "text": [
            "[       0  5000000  6000000  4000000  3000000  8000000  7000000  9000000\n",
            " 10000000 -1000000  2000000]\n"
          ]
        }
      ]
    },
    {
      "cell_type": "code",
      "source": [
        "print(df.age.unique())"
      ],
      "metadata": {
        "colab": {
          "base_uri": "https://localhost:8080/"
        },
        "id": "GJYjoOnIF6m8",
        "outputId": "ae4bd19c-2dd1-4190-c4d2-48290a3661db"
      },
      "execution_count": 101,
      "outputs": [
        {
          "output_type": "stream",
          "name": "stdout",
          "text": [
            "[48 42 29 41 44 39 34 37 33 61 23 38 58 26 31 62 55 40 35 43 45 25 30 28\n",
            " 49 54 47 59 27 56 32 36 64 60 51 46 50 57 53 24 52 19 21 63 20 22]\n"
          ]
        }
      ]
    },
    {
      "cell_type": "code",
      "source": [
        "#Created age ranges \n",
        "ages = pd.DataFrame(df['age'])\n",
        "\n",
        "bins = [18, 30, 40, 50, 60, 70, 120]\n",
        "labels = ['18-29', '30-39', '40-49', '50-59', '60-69', '70+']\n",
        "ages['age_range'] = pd.cut(ages.age, bins, labels = labels,include_lowest = True)\n",
        "\n",
        "\n",
        "print(ages)\n",
        "#print(ages['age_range'])\n",
        "\n"
      ],
      "metadata": {
        "colab": {
          "base_uri": "https://localhost:8080/"
        },
        "id": "tyK6v6aFGJPK",
        "outputId": "565f746b-367d-44b1-e075-8d68410df122"
      },
      "execution_count": 102,
      "outputs": [
        {
          "output_type": "stream",
          "name": "stdout",
          "text": [
            "     age age_range\n",
            "0     48     40-49\n",
            "1     42     40-49\n",
            "2     29     18-29\n",
            "3     41     40-49\n",
            "4     44     40-49\n",
            "..   ...       ...\n",
            "995   38     30-39\n",
            "996   41     40-49\n",
            "997   34     30-39\n",
            "998   62     60-69\n",
            "999   60     50-59\n",
            "\n",
            "[1000 rows x 2 columns]\n"
          ]
        }
      ]
    },
    {
      "cell_type": "code",
      "source": [
        "df['age_range'] = ages['age_range']\n",
        "\n",
        "print(df)"
      ],
      "metadata": {
        "colab": {
          "base_uri": "https://localhost:8080/"
        },
        "id": "zThENaaaTxoR",
        "outputId": "6e4ad169-9041-4bae-e39f-c0d7d5439bed"
      },
      "execution_count": 103,
      "outputs": [
        {
          "output_type": "stream",
          "name": "stdout",
          "text": [
            "     months_as_customer  age  policy_number policy_bind_date current_date  \\\n",
            "0                   328   48         521585         10/17/14       3/3/23   \n",
            "1                   228   42         342868          6/27/06       3/3/23   \n",
            "2                   134   29         687698           9/6/00       3/3/23   \n",
            "3                   256   41         227811          5/25/90       3/3/23   \n",
            "4                   228   44         367455           6/6/14       3/3/23   \n",
            "..                  ...  ...            ...              ...          ...   \n",
            "995                   3   38         941851          7/16/91       3/3/23   \n",
            "996                 285   41         186934           1/5/14       3/3/23   \n",
            "997                 130   34         918516          2/17/03       3/3/23   \n",
            "998                 458   62         533940         11/18/11       3/3/23   \n",
            "999                 456   60         556080         11/11/96       3/3/23   \n",
            "\n",
            "     policy_age policy_state policy_csl  policy_deductable  \\\n",
            "0       9.00000           OH    250/500               1000   \n",
            "1      17.00000           IN    250/500               2000   \n",
            "2      23.00000           OH    100/300               2000   \n",
            "3      33.00000           IL    250/500               2000   \n",
            "4       9.00000           IL   500/1000               1000   \n",
            "..          ...          ...        ...                ...   \n",
            "995    32.00000           OH   500/1000               1000   \n",
            "996     9.00000           IL    100/300               1000   \n",
            "997    20.00000           OH    250/500                500   \n",
            "998    12.00000           IL   500/1000               2000   \n",
            "999    21.39039           OH    250/500               1000   \n",
            "\n",
            "     policy_annual_premium  ...  injury_claim  property_claim vehicle_claim  \\\n",
            "0                  1406.91  ...          6510           13020         52080   \n",
            "1                  1197.22  ...           780             780          3510   \n",
            "2                  1413.14  ...          7700            3850         23100   \n",
            "3                  1415.74  ...          6340            6340         50720   \n",
            "4                  1583.91  ...          1300             650          4550   \n",
            "..                     ...  ...           ...             ...           ...   \n",
            "995                1310.80  ...         17440            8720         61040   \n",
            "996                1436.79  ...         18080           18080         72320   \n",
            "997                1383.49  ...          7500            7500         52500   \n",
            "998                1356.92  ...          5220            5220         36540   \n",
            "999                 766.19  ...           460             920          3680   \n",
            "\n",
            "      auto_make auto_model auto_year car_age  fraud_reported  _c39 age_range  \n",
            "0          Saab        92x      2004      19               1   NaN     40-49  \n",
            "1      Mercedes       E400      2007      16               1   NaN     40-49  \n",
            "2         Dodge        RAM      2007      16               0   NaN     18-29  \n",
            "3     Chevrolet      Tahoe      2014       9               1   NaN     40-49  \n",
            "4        Accura        RSX      2009      14               0   NaN     40-49  \n",
            "..          ...        ...       ...     ...             ...   ...       ...  \n",
            "995       Honda     Accord      2006      17               0   NaN     30-39  \n",
            "996  Volkswagen     Passat      2015       8               0   NaN     40-49  \n",
            "997      Suburu    Impreza      1996      27               0   NaN     30-39  \n",
            "998        Audi         A5      1998      25               0   NaN     60-69  \n",
            "999    Mercedes       E400      2007      16               0   NaN     50-59  \n",
            "\n",
            "[1000 rows x 44 columns]\n"
          ]
        }
      ]
    },
    {
      "cell_type": "code",
      "source": [
        "print(df.policy_annual_premium.unique())"
      ],
      "metadata": {
        "colab": {
          "base_uri": "https://localhost:8080/"
        },
        "id": "fJxyyZGZP4QI",
        "outputId": "c719f1b7-26b9-47a3-c475-363dce10d56e"
      },
      "execution_count": 104,
      "outputs": [
        {
          "output_type": "stream",
          "name": "stdout",
          "text": [
            "[1406.91 1197.22 1413.14 1415.74 1583.91 1351.1  1333.35 1137.03 1442.99\n",
            " 1315.68 1253.12 1137.16 1215.36  936.61 1301.13 1131.4  1199.44  708.64\n",
            " 1374.22 1475.73 1187.96  875.15  972.18 1268.79  883.31 1266.92 1322.1\n",
            "  848.07 1291.7  1104.5   954.16 1337.28 1088.34 1558.29 1415.68 1334.15\n",
            "  988.45 1222.48 1155.55 1262.08 1451.62 1737.66 1475.93  538.17 1081.08\n",
            " 1454.43 1240.47 1273.7  1123.87 1245.89 1326.62 1073.83 1530.52 1201.41\n",
            " 1393.57 1276.57 1082.49 1414.74 1470.06  870.63  795.23 1168.2   993.51\n",
            " 1848.81 1641.73 1362.87 1239.22  835.02 1061.33 1279.08 1105.49 1055.53\n",
            "  895.83 1632.93 1405.99 1425.54 1038.09 1307.11 1489.24  976.67 1340.43\n",
            " 1267.81 1234.2  1318.06  769.95 1514.72  873.64 1612.43 1318.24 1226.83\n",
            " 1326.44 1136.83 1322.78 1483.25 1515.3  1075.18 1690.27 1352.83 1148.73\n",
            "  969.5  1463.82 1474.17 1497.35 1427.14 1495.1  1141.62 1125.37 1207.36\n",
            " 1338.5  1074.07 1337.56 1298.91 1222.75 1059.52 1124.38 1110.37 1103.58\n",
            " 1269.76  964.79 1167.3  1625.45 1394.43 1053.24 1040.75 1302.4  1588.55\n",
            " 1399.26 1352.31 1139.   1397.67  823.17  965.13 1922.84 1624.82 1277.25\n",
            " 1439.34 1281.27 1348.83 1198.15 1221.22  968.74 1220.71 1238.62 1320.75\n",
            "  990.98 1398.51 1355.08 1384.51  847.03 1000.06 1046.71 1158.03 1372.27\n",
            " 1053.04 1275.39 1402.75 1344.36 1197.71 1203.24 1152.4  1142.62 1332.07\n",
            " 1166.54 1495.06 1337.92 1587.96 1362.29 1448.84 1241.97 1124.6  1079.92\n",
            " 1447.78 1229.16 1226.49  897.89 1706.79 1254.18  885.08 1046.58 1712.68\n",
            " 1097.71 1363.77 1382.88 1141.35 1054.83 1057.77 1488.02  920.3   986.53\n",
            " 1440.68 1086.21 1367.68 1215.85 1191.19 1594.45 1463.07 1734.09 1411.43\n",
            " 1512.58 1153.35 1722.95 1281.07 1011.92 1042.26 1235.1   768.91 1301.72\n",
            " 1451.54  767.14 1620.89 1048.46 1538.26 1217.69 1362.64 1279.13  924.72\n",
            " 1019.44 1314.6  1515.18 1649.18 1451.01  978.46 1198.34 1003.23 1212.\n",
            " 1242.96 1053.02 1693.63 2047.59 1083.72 1138.42 1072.62 1219.04 1371.78\n",
            " 1506.21 1058.21  932.14 1608.34 1728.56 1518.46 1540.19  965.21 1278.75\n",
            "  773.99 1532.47 1340.56 1297.75  433.33 1025.54 1264.77 1459.97 1238.65\n",
            " 1050.76 1711.72  865.33 1153.49 1281.25 1342.8  1443.32 1629.94 1134.08\n",
            " 1483.91 1304.67 1035.79 1401.2  1665.45  653.66 1080.13 1346.18 1589.54\n",
            " 1251.65 1083.01  974.59 1399.85 1307.74 1219.27 1411.3   694.45 1006.77\n",
            " 1422.36 1348.32 1315.56 1407.01 1388.58 1310.76 1004.63 1134.91 1194.\n",
            " 1248.25 1338.54  782.23 1366.9  1275.81 1090.65 1326.    972.47  806.31\n",
            " 1416.24 1097.64  947.75 1018.73 1400.74 1155.53 1386.93  915.29 1239.55\n",
            " 1366.42 1086.48 1247.87 1312.75  765.64 1327.41 1338.55 1316.63 1286.44\n",
            " 1372.18 1447.77  903.32 1454.42 1603.42 1616.58 1611.83  889.13 1252.08\n",
            "  995.56 1347.92 1724.09 1379.93 1554.64 1377.94 1313.33 1259.02 1371.88\n",
            " 1399.27 1061.98 1365.46  894.4   956.69 1123.89 1085.03 1437.33  988.29\n",
            " 1238.89 1384.64 1595.07 1127.89  929.7  1829.63  904.7  1243.84 1030.95\n",
            " 1285.03 1216.56  966.26 1203.17 1212.12 1573.93 1609.67 1097.57 1618.65\n",
            "  922.67 1342.02 1195.01  994.74 1050.24 1313.51 1102.29 1185.78 1527.95\n",
            " 1366.39 1403.9   927.23 1554.86  736.07  974.16  973.8  1260.32 1464.03\n",
            "  617.11 1724.46 1161.31 1091.73 1209.07 1241.04 1757.21  802.24 1342.72\n",
            " 1209.41 1141.71 1090.03 1464.73 1118.58 1117.04 1257.83 1082.72 1191.8\n",
            " 1242.02 1075.71  969.88 1459.93 1245.61 1462.76 1398.46 1269.64 1455.65\n",
            " 1140.31 1330.46 1190.6   972.5  1161.91 1117.17 1101.51 1523.17  984.45\n",
            " 1257.   1434.51 1628.   1412.31 1134.68 1306.78 1021.9  1538.6  1354.5\n",
            " 1282.93 1346.27 1338.4   949.44  977.4  1181.46 1187.53  845.16 1442.27\n",
            " 1276.43 1075.41 1111.72  814.96 1575.86 1115.27 1175.7   793.15  942.51\n",
            " 1056.71 1255.68 1335.13 1178.95 1793.16 1008.38 1396.83 1402.78 1437.88\n",
            " 1313.64 1482.14 1171.75 1353.33 1175.51 1836.02 1480.79 1453.92 1340.71\n",
            "  714.03 1376.16  914.22 1601.47 1096.79 1078.22 1595.28 1217.84 1117.42\n",
            " 1567.37 1294.93 1152.12 1441.21 1575.74 1233.96 1861.43 1570.86  791.47\n",
            " 1012.78 1047.06 1390.29  951.46 1226.78 1280.9  1472.77 1878.44 1418.5\n",
            " 1532.8  1304.35 1551.61 1326.98  862.92 1331.69 1486.04  870.55 1344.56\n",
            " 1377.04 1237.88 1525.86  854.58  770.76 1132.74 1173.37 1188.28  876.88\n",
            " 1143.95 1409.06 1070.63  916.13 1191.5  1474.66 1193.45 1437.53 1304.83\n",
            " 1168.8  1164.97 1232.72 1800.76 1187.01 1559.34 1137.02 1281.72  796.35\n",
            " 1270.02 1383.13 1290.74 1216.68 1251.16 1586.41 1526.11 1028.44 1555.94\n",
            " 1570.77 1170.53 1099.95 1472.43 1275.62 1292.3  1009.37 1093.07 1325.44\n",
            " 1017.18 1221.17 1927.87  978.27 1221.14 1255.62  999.52 1380.89 1010.77\n",
            " 1205.86 1526.61 1496.44 1256.2  1268.35 1421.59 1500.04 1433.24 1231.25\n",
            " 1135.43  945.73 1118.76 1231.98 1005.47 1108.97 1392.39 1317.97 1588.22\n",
            "  900.02 1744.64 1260.56 1021.14 1285.09 1537.07 1022.42 1558.86 1757.87\n",
            "  973.5  1430.8  1192.27 1163.83 1003.15 1153.54 1631.1  1252.48 1677.26\n",
            "  979.73  989.24 1389.86 1233.85 1320.39 1435.09 1448.54 1733.56 1533.07\n",
            " 1106.77  995.7  1298.85 1276.73 1202.28  671.92 1358.03 1008.79 1141.1\n",
            " 1397.   1664.66 1151.39 1546.01 1063.67  709.14 1039.55 1339.39 1202.75\n",
            " 1081.17  991.39  984.02 1354.83  830.31  987.42 1119.29 1048.39 1074.47\n",
            " 1230.76 1255.02 1555.52  836.11 1450.98  625.08 1133.27 1366.6  1439.9\n",
            " 1230.69 1307.68 1124.69 1520.78 1609.11 1358.91 1295.87 1161.03 1441.06\n",
            " 1097.99 1464.42 1543.68 1390.89 1148.58 1616.26 1398.94 1238.92  968.46\n",
            " 1045.12 1537.33  912.3  1007.28 1189.98 1576.41 1172.82 1312.22  671.01\n",
            "  895.14 1373.21 1625.65 1295.63 1459.96 1219.94 1064.49  959.83 1767.02\n",
            " 1285.01 1422.95 1223.39 1539.06  988.06 1740.57 1540.91 1381.88 1446.98\n",
            " 1220.86  948.1  1471.24 1157.97  566.11 1060.88 1524.45 1556.17 1216.24\n",
            " 1484.72 1203.81 1393.34 1484.48 1581.27 1667.83 1497.41  803.36 1221.41\n",
            " 1865.83 1434.27 1114.68 1218.56 1234.69  964.92 1351.72  817.28 1389.59\n",
            " 1353.53 1294.04  840.81  998.19 1090.32 1780.67 1681.01 1395.77 1471.44\n",
            " 1265.72 1274.7  1330.39 1122.95 1655.79  935.77 1192.04  990.11 1422.21\n",
            "  914.85 1123.84  838.02 1300.68 1173.21  985.97 1129.23 1194.83 1114.29\n",
            " 1509.04  664.86 1267.4  1119.23 1698.51 1422.78 1212.75 1423.34  976.37\n",
            " 1124.59 1569.33 1359.36 1607.36 1042.25 1453.95 1969.63 1156.19 1124.47\n",
            " 1493.5  1155.38  878.19 1145.85 1261.28 1427.46 1592.41 1274.63 1362.31\n",
            "  919.37 1377.23  995.55 1508.12  484.67 1561.41 1457.21 1128.71 1358.2\n",
            " 1232.79  936.19 1302.34 1264.99 1467.76 1124.43 1319.81 1482.53 1328.18\n",
            " 1463.95 1133.85 1037.32 1562.8  1425.79 1615.14 1236.5  1017.97 1306.\n",
            " 1174.14 1231.01 1299.18 1469.75 1390.72 1694.09 1140.15 1310.71 1730.49\n",
            " 1616.65 1935.85  855.14 1568.47 1550.53 1370.92 1363.59  828.42 1209.63\n",
            " 1111.17  989.97 1114.23 1347.31 1687.53 1183.48 1537.13 1173.25 1361.16\n",
            " 1422.56 1143.06 1405.71 1354.2  1055.6   999.43 1155.97 1726.91 1232.57\n",
            " 1078.65 1324.78 1518.54 1239.06 1246.68 1622.67 1082.36 1270.55 1236.32\n",
            "  785.82 1265.84 1508.9  1106.84 1389.13  974.84 1304.46 1257.36 1257.04\n",
            "  719.52 1524.18 1395.58 1243.68 1189.04 1375.29 1387.51 1178.61 1166.62\n",
            " 1556.31 1452.27 1212.07 1578.54 1488.26 1096.39 1482.57  954.18 1193.4\n",
            " 1023.11 1653.32 1022.46 1396.43 1521.55 1034.27 1255.35 1396.89  795.31\n",
            "  982.22 1311.3  1277.12 1388.62 1406.52 1132.47 1896.91 1143.46 1285.42\n",
            " 1305.26 1051.67 1387.35 1083.64 1851.78 1270.29 1459.99 1253.44 1142.48\n",
            " 1188.45 1125.4  1294.41 1459.5  1367.99 1594.37 1035.99  911.53 1319.97\n",
            " 1391.63  915.41 1468.82 1412.76 1588.26 1140.91 1517.54  912.29 1144.3\n",
            " 1281.43 1101.85 1082.1  1185.44 1175.07  979.26  920.81  922.85 1107.59\n",
            " 1272.46 1340.24 1648.   1381.14 1198.44  951.27 1341.24 1177.57 1055.09\n",
            " 1479.48 1827.38 1169.62 1516.34 1270.21  809.11 1115.81 1457.65 1041.36\n",
            " 1693.83 1685.69 1054.92 1333.97 1013.61  958.3  1112.04 1206.26  763.67\n",
            " 1042.56 1263.48 1006.99 1328.26 1250.08  982.7  1412.06 1066.7  1585.54\n",
            " 1416.08 1246.03 1356.64 1387.7  1004.14 1107.07 1429.96 1074.99 1007.\n",
            " 1052.85 1200.33 1343.   1441.6  1433.42 1368.57  862.19  871.46 1863.04\n",
            " 1181.64 1060.74  951.56 1533.71 1200.09 1093.83  988.93 1331.94 1361.45\n",
            " 1188.51 1101.83  840.95 1503.21 1722.5   944.03 1453.61 1672.88 1248.05\n",
            " 1564.43 1280.88  722.66 1235.14 1347.04 1310.8  1436.79 1383.49 1356.92\n",
            "  766.19]\n"
          ]
        }
      ]
    },
    {
      "cell_type": "code",
      "source": [
        "#Max and min for policy annual premium\n",
        "df['policy_annual_premium'].agg(['min', 'max'])"
      ],
      "metadata": {
        "colab": {
          "base_uri": "https://localhost:8080/"
        },
        "id": "kaTpH4GcahjX",
        "outputId": "6f2083a3-745d-46a4-d693-c5567d222971"
      },
      "execution_count": 105,
      "outputs": [
        {
          "output_type": "execute_result",
          "data": {
            "text/plain": [
              "min     433.33\n",
              "max    2047.59\n",
              "Name: policy_annual_premium, dtype: float64"
            ]
          },
          "metadata": {},
          "execution_count": 105
        }
      ]
    },
    {
      "cell_type": "code",
      "source": [
        "#Created premium ranges \n",
        "policy_annual_premiums = pd.DataFrame(df['policy_annual_premium'])\n",
        "\n",
        "bins = [200,500,700,900,1100,1300,1500,1700,1900,2200]\n",
        "labels = ['200-499','500-699','700-899', '900-1099', '1100-1299', '1300-1499', '1500-1699', '1700-1899', '1900-2199']\n",
        "policy_annual_premiums['policy_ann_cost_ranges'] = pd.cut(policy_annual_premiums.policy_annual_premium, bins, labels = labels,include_lowest = True)\n",
        "\n",
        "\n",
        "print(policy_annual_premiums)"
      ],
      "metadata": {
        "colab": {
          "base_uri": "https://localhost:8080/"
        },
        "id": "YlP5ue8lPlwy",
        "outputId": "3da1747a-d4f7-4f5c-9ebf-273fe1689675"
      },
      "execution_count": 106,
      "outputs": [
        {
          "output_type": "stream",
          "name": "stdout",
          "text": [
            "     policy_annual_premium policy_ann_cost_ranges\n",
            "0                  1406.91              1300-1499\n",
            "1                  1197.22              1100-1299\n",
            "2                  1413.14              1300-1499\n",
            "3                  1415.74              1300-1499\n",
            "4                  1583.91              1500-1699\n",
            "..                     ...                    ...\n",
            "995                1310.80              1300-1499\n",
            "996                1436.79              1300-1499\n",
            "997                1383.49              1300-1499\n",
            "998                1356.92              1300-1499\n",
            "999                 766.19                700-899\n",
            "\n",
            "[1000 rows x 2 columns]\n"
          ]
        }
      ]
    },
    {
      "cell_type": "code",
      "source": [
        "df['policy_ann_cost_ranges'] = policy_annual_premiums['policy_ann_cost_ranges']\n",
        "df"
      ],
      "metadata": {
        "colab": {
          "base_uri": "https://localhost:8080/",
          "height": 487
        },
        "id": "-y8lnTIYVfXV",
        "outputId": "afe44faf-fa25-4e37-9fcc-28c9c427b81b"
      },
      "execution_count": 107,
      "outputs": [
        {
          "output_type": "execute_result",
          "data": {
            "text/plain": [
              "     months_as_customer  age  policy_number policy_bind_date current_date  \\\n",
              "0                   328   48         521585         10/17/14       3/3/23   \n",
              "1                   228   42         342868          6/27/06       3/3/23   \n",
              "2                   134   29         687698           9/6/00       3/3/23   \n",
              "3                   256   41         227811          5/25/90       3/3/23   \n",
              "4                   228   44         367455           6/6/14       3/3/23   \n",
              "..                  ...  ...            ...              ...          ...   \n",
              "995                   3   38         941851          7/16/91       3/3/23   \n",
              "996                 285   41         186934           1/5/14       3/3/23   \n",
              "997                 130   34         918516          2/17/03       3/3/23   \n",
              "998                 458   62         533940         11/18/11       3/3/23   \n",
              "999                 456   60         556080         11/11/96       3/3/23   \n",
              "\n",
              "     policy_age policy_state policy_csl  policy_deductable  \\\n",
              "0       9.00000           OH    250/500               1000   \n",
              "1      17.00000           IN    250/500               2000   \n",
              "2      23.00000           OH    100/300               2000   \n",
              "3      33.00000           IL    250/500               2000   \n",
              "4       9.00000           IL   500/1000               1000   \n",
              "..          ...          ...        ...                ...   \n",
              "995    32.00000           OH   500/1000               1000   \n",
              "996     9.00000           IL    100/300               1000   \n",
              "997    20.00000           OH    250/500                500   \n",
              "998    12.00000           IL   500/1000               2000   \n",
              "999    21.39039           OH    250/500               1000   \n",
              "\n",
              "     policy_annual_premium  ...  property_claim  vehicle_claim   auto_make  \\\n",
              "0                  1406.91  ...           13020          52080        Saab   \n",
              "1                  1197.22  ...             780           3510    Mercedes   \n",
              "2                  1413.14  ...            3850          23100       Dodge   \n",
              "3                  1415.74  ...            6340          50720   Chevrolet   \n",
              "4                  1583.91  ...             650           4550      Accura   \n",
              "..                     ...  ...             ...            ...         ...   \n",
              "995                1310.80  ...            8720          61040       Honda   \n",
              "996                1436.79  ...           18080          72320  Volkswagen   \n",
              "997                1383.49  ...            7500          52500      Suburu   \n",
              "998                1356.92  ...            5220          36540        Audi   \n",
              "999                 766.19  ...             920           3680    Mercedes   \n",
              "\n",
              "    auto_model auto_year car_age fraud_reported  _c39  age_range  \\\n",
              "0          92x      2004      19              1   NaN      40-49   \n",
              "1         E400      2007      16              1   NaN      40-49   \n",
              "2          RAM      2007      16              0   NaN      18-29   \n",
              "3        Tahoe      2014       9              1   NaN      40-49   \n",
              "4          RSX      2009      14              0   NaN      40-49   \n",
              "..         ...       ...     ...            ...   ...        ...   \n",
              "995     Accord      2006      17              0   NaN      30-39   \n",
              "996     Passat      2015       8              0   NaN      40-49   \n",
              "997    Impreza      1996      27              0   NaN      30-39   \n",
              "998         A5      1998      25              0   NaN      60-69   \n",
              "999       E400      2007      16              0   NaN      50-59   \n",
              "\n",
              "    policy_ann_cost_ranges  \n",
              "0                1300-1499  \n",
              "1                1100-1299  \n",
              "2                1300-1499  \n",
              "3                1300-1499  \n",
              "4                1500-1699  \n",
              "..                     ...  \n",
              "995              1300-1499  \n",
              "996              1300-1499  \n",
              "997              1300-1499  \n",
              "998              1300-1499  \n",
              "999                700-899  \n",
              "\n",
              "[1000 rows x 45 columns]"
            ],
            "text/html": [
              "\n",
              "  <div id=\"df-120cb6a0-feb2-49ed-aa72-3b08d7e4a1e4\">\n",
              "    <div class=\"colab-df-container\">\n",
              "      <div>\n",
              "<style scoped>\n",
              "    .dataframe tbody tr th:only-of-type {\n",
              "        vertical-align: middle;\n",
              "    }\n",
              "\n",
              "    .dataframe tbody tr th {\n",
              "        vertical-align: top;\n",
              "    }\n",
              "\n",
              "    .dataframe thead th {\n",
              "        text-align: right;\n",
              "    }\n",
              "</style>\n",
              "<table border=\"1\" class=\"dataframe\">\n",
              "  <thead>\n",
              "    <tr style=\"text-align: right;\">\n",
              "      <th></th>\n",
              "      <th>months_as_customer</th>\n",
              "      <th>age</th>\n",
              "      <th>policy_number</th>\n",
              "      <th>policy_bind_date</th>\n",
              "      <th>current_date</th>\n",
              "      <th>policy_age</th>\n",
              "      <th>policy_state</th>\n",
              "      <th>policy_csl</th>\n",
              "      <th>policy_deductable</th>\n",
              "      <th>policy_annual_premium</th>\n",
              "      <th>...</th>\n",
              "      <th>property_claim</th>\n",
              "      <th>vehicle_claim</th>\n",
              "      <th>auto_make</th>\n",
              "      <th>auto_model</th>\n",
              "      <th>auto_year</th>\n",
              "      <th>car_age</th>\n",
              "      <th>fraud_reported</th>\n",
              "      <th>_c39</th>\n",
              "      <th>age_range</th>\n",
              "      <th>policy_ann_cost_ranges</th>\n",
              "    </tr>\n",
              "  </thead>\n",
              "  <tbody>\n",
              "    <tr>\n",
              "      <th>0</th>\n",
              "      <td>328</td>\n",
              "      <td>48</td>\n",
              "      <td>521585</td>\n",
              "      <td>10/17/14</td>\n",
              "      <td>3/3/23</td>\n",
              "      <td>9.00000</td>\n",
              "      <td>OH</td>\n",
              "      <td>250/500</td>\n",
              "      <td>1000</td>\n",
              "      <td>1406.91</td>\n",
              "      <td>...</td>\n",
              "      <td>13020</td>\n",
              "      <td>52080</td>\n",
              "      <td>Saab</td>\n",
              "      <td>92x</td>\n",
              "      <td>2004</td>\n",
              "      <td>19</td>\n",
              "      <td>1</td>\n",
              "      <td>NaN</td>\n",
              "      <td>40-49</td>\n",
              "      <td>1300-1499</td>\n",
              "    </tr>\n",
              "    <tr>\n",
              "      <th>1</th>\n",
              "      <td>228</td>\n",
              "      <td>42</td>\n",
              "      <td>342868</td>\n",
              "      <td>6/27/06</td>\n",
              "      <td>3/3/23</td>\n",
              "      <td>17.00000</td>\n",
              "      <td>IN</td>\n",
              "      <td>250/500</td>\n",
              "      <td>2000</td>\n",
              "      <td>1197.22</td>\n",
              "      <td>...</td>\n",
              "      <td>780</td>\n",
              "      <td>3510</td>\n",
              "      <td>Mercedes</td>\n",
              "      <td>E400</td>\n",
              "      <td>2007</td>\n",
              "      <td>16</td>\n",
              "      <td>1</td>\n",
              "      <td>NaN</td>\n",
              "      <td>40-49</td>\n",
              "      <td>1100-1299</td>\n",
              "    </tr>\n",
              "    <tr>\n",
              "      <th>2</th>\n",
              "      <td>134</td>\n",
              "      <td>29</td>\n",
              "      <td>687698</td>\n",
              "      <td>9/6/00</td>\n",
              "      <td>3/3/23</td>\n",
              "      <td>23.00000</td>\n",
              "      <td>OH</td>\n",
              "      <td>100/300</td>\n",
              "      <td>2000</td>\n",
              "      <td>1413.14</td>\n",
              "      <td>...</td>\n",
              "      <td>3850</td>\n",
              "      <td>23100</td>\n",
              "      <td>Dodge</td>\n",
              "      <td>RAM</td>\n",
              "      <td>2007</td>\n",
              "      <td>16</td>\n",
              "      <td>0</td>\n",
              "      <td>NaN</td>\n",
              "      <td>18-29</td>\n",
              "      <td>1300-1499</td>\n",
              "    </tr>\n",
              "    <tr>\n",
              "      <th>3</th>\n",
              "      <td>256</td>\n",
              "      <td>41</td>\n",
              "      <td>227811</td>\n",
              "      <td>5/25/90</td>\n",
              "      <td>3/3/23</td>\n",
              "      <td>33.00000</td>\n",
              "      <td>IL</td>\n",
              "      <td>250/500</td>\n",
              "      <td>2000</td>\n",
              "      <td>1415.74</td>\n",
              "      <td>...</td>\n",
              "      <td>6340</td>\n",
              "      <td>50720</td>\n",
              "      <td>Chevrolet</td>\n",
              "      <td>Tahoe</td>\n",
              "      <td>2014</td>\n",
              "      <td>9</td>\n",
              "      <td>1</td>\n",
              "      <td>NaN</td>\n",
              "      <td>40-49</td>\n",
              "      <td>1300-1499</td>\n",
              "    </tr>\n",
              "    <tr>\n",
              "      <th>4</th>\n",
              "      <td>228</td>\n",
              "      <td>44</td>\n",
              "      <td>367455</td>\n",
              "      <td>6/6/14</td>\n",
              "      <td>3/3/23</td>\n",
              "      <td>9.00000</td>\n",
              "      <td>IL</td>\n",
              "      <td>500/1000</td>\n",
              "      <td>1000</td>\n",
              "      <td>1583.91</td>\n",
              "      <td>...</td>\n",
              "      <td>650</td>\n",
              "      <td>4550</td>\n",
              "      <td>Accura</td>\n",
              "      <td>RSX</td>\n",
              "      <td>2009</td>\n",
              "      <td>14</td>\n",
              "      <td>0</td>\n",
              "      <td>NaN</td>\n",
              "      <td>40-49</td>\n",
              "      <td>1500-1699</td>\n",
              "    </tr>\n",
              "    <tr>\n",
              "      <th>...</th>\n",
              "      <td>...</td>\n",
              "      <td>...</td>\n",
              "      <td>...</td>\n",
              "      <td>...</td>\n",
              "      <td>...</td>\n",
              "      <td>...</td>\n",
              "      <td>...</td>\n",
              "      <td>...</td>\n",
              "      <td>...</td>\n",
              "      <td>...</td>\n",
              "      <td>...</td>\n",
              "      <td>...</td>\n",
              "      <td>...</td>\n",
              "      <td>...</td>\n",
              "      <td>...</td>\n",
              "      <td>...</td>\n",
              "      <td>...</td>\n",
              "      <td>...</td>\n",
              "      <td>...</td>\n",
              "      <td>...</td>\n",
              "      <td>...</td>\n",
              "    </tr>\n",
              "    <tr>\n",
              "      <th>995</th>\n",
              "      <td>3</td>\n",
              "      <td>38</td>\n",
              "      <td>941851</td>\n",
              "      <td>7/16/91</td>\n",
              "      <td>3/3/23</td>\n",
              "      <td>32.00000</td>\n",
              "      <td>OH</td>\n",
              "      <td>500/1000</td>\n",
              "      <td>1000</td>\n",
              "      <td>1310.80</td>\n",
              "      <td>...</td>\n",
              "      <td>8720</td>\n",
              "      <td>61040</td>\n",
              "      <td>Honda</td>\n",
              "      <td>Accord</td>\n",
              "      <td>2006</td>\n",
              "      <td>17</td>\n",
              "      <td>0</td>\n",
              "      <td>NaN</td>\n",
              "      <td>30-39</td>\n",
              "      <td>1300-1499</td>\n",
              "    </tr>\n",
              "    <tr>\n",
              "      <th>996</th>\n",
              "      <td>285</td>\n",
              "      <td>41</td>\n",
              "      <td>186934</td>\n",
              "      <td>1/5/14</td>\n",
              "      <td>3/3/23</td>\n",
              "      <td>9.00000</td>\n",
              "      <td>IL</td>\n",
              "      <td>100/300</td>\n",
              "      <td>1000</td>\n",
              "      <td>1436.79</td>\n",
              "      <td>...</td>\n",
              "      <td>18080</td>\n",
              "      <td>72320</td>\n",
              "      <td>Volkswagen</td>\n",
              "      <td>Passat</td>\n",
              "      <td>2015</td>\n",
              "      <td>8</td>\n",
              "      <td>0</td>\n",
              "      <td>NaN</td>\n",
              "      <td>40-49</td>\n",
              "      <td>1300-1499</td>\n",
              "    </tr>\n",
              "    <tr>\n",
              "      <th>997</th>\n",
              "      <td>130</td>\n",
              "      <td>34</td>\n",
              "      <td>918516</td>\n",
              "      <td>2/17/03</td>\n",
              "      <td>3/3/23</td>\n",
              "      <td>20.00000</td>\n",
              "      <td>OH</td>\n",
              "      <td>250/500</td>\n",
              "      <td>500</td>\n",
              "      <td>1383.49</td>\n",
              "      <td>...</td>\n",
              "      <td>7500</td>\n",
              "      <td>52500</td>\n",
              "      <td>Suburu</td>\n",
              "      <td>Impreza</td>\n",
              "      <td>1996</td>\n",
              "      <td>27</td>\n",
              "      <td>0</td>\n",
              "      <td>NaN</td>\n",
              "      <td>30-39</td>\n",
              "      <td>1300-1499</td>\n",
              "    </tr>\n",
              "    <tr>\n",
              "      <th>998</th>\n",
              "      <td>458</td>\n",
              "      <td>62</td>\n",
              "      <td>533940</td>\n",
              "      <td>11/18/11</td>\n",
              "      <td>3/3/23</td>\n",
              "      <td>12.00000</td>\n",
              "      <td>IL</td>\n",
              "      <td>500/1000</td>\n",
              "      <td>2000</td>\n",
              "      <td>1356.92</td>\n",
              "      <td>...</td>\n",
              "      <td>5220</td>\n",
              "      <td>36540</td>\n",
              "      <td>Audi</td>\n",
              "      <td>A5</td>\n",
              "      <td>1998</td>\n",
              "      <td>25</td>\n",
              "      <td>0</td>\n",
              "      <td>NaN</td>\n",
              "      <td>60-69</td>\n",
              "      <td>1300-1499</td>\n",
              "    </tr>\n",
              "    <tr>\n",
              "      <th>999</th>\n",
              "      <td>456</td>\n",
              "      <td>60</td>\n",
              "      <td>556080</td>\n",
              "      <td>11/11/96</td>\n",
              "      <td>3/3/23</td>\n",
              "      <td>21.39039</td>\n",
              "      <td>OH</td>\n",
              "      <td>250/500</td>\n",
              "      <td>1000</td>\n",
              "      <td>766.19</td>\n",
              "      <td>...</td>\n",
              "      <td>920</td>\n",
              "      <td>3680</td>\n",
              "      <td>Mercedes</td>\n",
              "      <td>E400</td>\n",
              "      <td>2007</td>\n",
              "      <td>16</td>\n",
              "      <td>0</td>\n",
              "      <td>NaN</td>\n",
              "      <td>50-59</td>\n",
              "      <td>700-899</td>\n",
              "    </tr>\n",
              "  </tbody>\n",
              "</table>\n",
              "<p>1000 rows × 45 columns</p>\n",
              "</div>\n",
              "      <button class=\"colab-df-convert\" onclick=\"convertToInteractive('df-120cb6a0-feb2-49ed-aa72-3b08d7e4a1e4')\"\n",
              "              title=\"Convert this dataframe to an interactive table.\"\n",
              "              style=\"display:none;\">\n",
              "        \n",
              "  <svg xmlns=\"http://www.w3.org/2000/svg\" height=\"24px\"viewBox=\"0 0 24 24\"\n",
              "       width=\"24px\">\n",
              "    <path d=\"M0 0h24v24H0V0z\" fill=\"none\"/>\n",
              "    <path d=\"M18.56 5.44l.94 2.06.94-2.06 2.06-.94-2.06-.94-.94-2.06-.94 2.06-2.06.94zm-11 1L8.5 8.5l.94-2.06 2.06-.94-2.06-.94L8.5 2.5l-.94 2.06-2.06.94zm10 10l.94 2.06.94-2.06 2.06-.94-2.06-.94-.94-2.06-.94 2.06-2.06.94z\"/><path d=\"M17.41 7.96l-1.37-1.37c-.4-.4-.92-.59-1.43-.59-.52 0-1.04.2-1.43.59L10.3 9.45l-7.72 7.72c-.78.78-.78 2.05 0 2.83L4 21.41c.39.39.9.59 1.41.59.51 0 1.02-.2 1.41-.59l7.78-7.78 2.81-2.81c.8-.78.8-2.07 0-2.86zM5.41 20L4 18.59l7.72-7.72 1.47 1.35L5.41 20z\"/>\n",
              "  </svg>\n",
              "      </button>\n",
              "      \n",
              "  <style>\n",
              "    .colab-df-container {\n",
              "      display:flex;\n",
              "      flex-wrap:wrap;\n",
              "      gap: 12px;\n",
              "    }\n",
              "\n",
              "    .colab-df-convert {\n",
              "      background-color: #E8F0FE;\n",
              "      border: none;\n",
              "      border-radius: 50%;\n",
              "      cursor: pointer;\n",
              "      display: none;\n",
              "      fill: #1967D2;\n",
              "      height: 32px;\n",
              "      padding: 0 0 0 0;\n",
              "      width: 32px;\n",
              "    }\n",
              "\n",
              "    .colab-df-convert:hover {\n",
              "      background-color: #E2EBFA;\n",
              "      box-shadow: 0px 1px 2px rgba(60, 64, 67, 0.3), 0px 1px 3px 1px rgba(60, 64, 67, 0.15);\n",
              "      fill: #174EA6;\n",
              "    }\n",
              "\n",
              "    [theme=dark] .colab-df-convert {\n",
              "      background-color: #3B4455;\n",
              "      fill: #D2E3FC;\n",
              "    }\n",
              "\n",
              "    [theme=dark] .colab-df-convert:hover {\n",
              "      background-color: #434B5C;\n",
              "      box-shadow: 0px 1px 3px 1px rgba(0, 0, 0, 0.15);\n",
              "      filter: drop-shadow(0px 1px 2px rgba(0, 0, 0, 0.3));\n",
              "      fill: #FFFFFF;\n",
              "    }\n",
              "  </style>\n",
              "\n",
              "      <script>\n",
              "        const buttonEl =\n",
              "          document.querySelector('#df-120cb6a0-feb2-49ed-aa72-3b08d7e4a1e4 button.colab-df-convert');\n",
              "        buttonEl.style.display =\n",
              "          google.colab.kernel.accessAllowed ? 'block' : 'none';\n",
              "\n",
              "        async function convertToInteractive(key) {\n",
              "          const element = document.querySelector('#df-120cb6a0-feb2-49ed-aa72-3b08d7e4a1e4');\n",
              "          const dataTable =\n",
              "            await google.colab.kernel.invokeFunction('convertToInteractive',\n",
              "                                                     [key], {});\n",
              "          if (!dataTable) return;\n",
              "\n",
              "          const docLinkHtml = 'Like what you see? Visit the ' +\n",
              "            '<a target=\"_blank\" href=https://colab.research.google.com/notebooks/data_table.ipynb>data table notebook</a>'\n",
              "            + ' to learn more about interactive tables.';\n",
              "          element.innerHTML = '';\n",
              "          dataTable['output_type'] = 'display_data';\n",
              "          await google.colab.output.renderOutput(dataTable, element);\n",
              "          const docLink = document.createElement('div');\n",
              "          docLink.innerHTML = docLinkHtml;\n",
              "          element.appendChild(docLink);\n",
              "        }\n",
              "      </script>\n",
              "    </div>\n",
              "  </div>\n",
              "  "
            ]
          },
          "metadata": {},
          "execution_count": 107
        }
      ]
    },
    {
      "cell_type": "code",
      "source": [
        "#Confirm noduplicates\n",
        "\n",
        "df.duplicated().sum()"
      ],
      "metadata": {
        "colab": {
          "base_uri": "https://localhost:8080/"
        },
        "id": "acCrwjncMYXo",
        "outputId": "c4ac1fcf-6621-4c12-dc9b-d97ae335b1db"
      },
      "execution_count": 108,
      "outputs": [
        {
          "output_type": "execute_result",
          "data": {
            "text/plain": [
              "0"
            ]
          },
          "metadata": {},
          "execution_count": 108
        }
      ]
    },
    {
      "cell_type": "code",
      "source": [
        "#Confirm no null values\n",
        "df.isnull().sum()"
      ],
      "metadata": {
        "colab": {
          "base_uri": "https://localhost:8080/"
        },
        "id": "uo4uwPbLMZ1Y",
        "outputId": "bf21c72a-997c-4108-bdb6-1111a59abcbb"
      },
      "execution_count": 109,
      "outputs": [
        {
          "output_type": "execute_result",
          "data": {
            "text/plain": [
              "months_as_customer                0\n",
              "age                               0\n",
              "policy_number                     0\n",
              "policy_bind_date                  0\n",
              "current_date                      0\n",
              "policy_age                        0\n",
              "policy_state                      0\n",
              "policy_csl                        0\n",
              "policy_deductable                 0\n",
              "policy_annual_premium             0\n",
              "umbrella_limit                    0\n",
              "insured_zip                       0\n",
              "insured_sex                       0\n",
              "insured_education_level           0\n",
              "insured_occupation                0\n",
              "insured_hobbies                   0\n",
              "insured_relationship              0\n",
              "capital-gains                     0\n",
              "capital-loss                      0\n",
              "incident_date                     0\n",
              "incident_type                     0\n",
              "collision_type                    0\n",
              "incident_severity                 0\n",
              "authorities_contacted             0\n",
              "incident_state                    0\n",
              "incident_city                     0\n",
              "incident_location                 0\n",
              "incident_hour_of_the_day          0\n",
              "number_of_vehicles_involved       0\n",
              "property_damage                   0\n",
              "bodily_injuries                   0\n",
              "witnesses                         0\n",
              "police_report_available           0\n",
              "total_claim_amount                0\n",
              "injury_claim                      0\n",
              "property_claim                    0\n",
              "vehicle_claim                     0\n",
              "auto_make                         0\n",
              "auto_model                        0\n",
              "auto_year                         0\n",
              "car_age                           0\n",
              "fraud_reported                    0\n",
              "_c39                           1000\n",
              "age_range                         0\n",
              "policy_ann_cost_ranges            0\n",
              "dtype: int64"
            ]
          },
          "metadata": {},
          "execution_count": 109
        }
      ]
    },
    {
      "cell_type": "code",
      "source": [
        "#drop columns\n",
        "df=df.drop(['auto_year', 'policy_bind_date', 'current_date','_c39','policy_number','insured_zip', 'incident_location', 'incident_date', 'auto_model', 'insured_occupation'], axis = 1)\n",
        "print(df)"
      ],
      "metadata": {
        "colab": {
          "base_uri": "https://localhost:8080/"
        },
        "id": "VCR6dNJXO9PE",
        "outputId": "9a86d294-873a-4230-9efc-bd406724153a"
      },
      "execution_count": 110,
      "outputs": [
        {
          "output_type": "stream",
          "name": "stdout",
          "text": [
            "     months_as_customer  age  policy_age policy_state policy_csl  \\\n",
            "0                   328   48     9.00000           OH    250/500   \n",
            "1                   228   42    17.00000           IN    250/500   \n",
            "2                   134   29    23.00000           OH    100/300   \n",
            "3                   256   41    33.00000           IL    250/500   \n",
            "4                   228   44     9.00000           IL   500/1000   \n",
            "..                  ...  ...         ...          ...        ...   \n",
            "995                   3   38    32.00000           OH   500/1000   \n",
            "996                 285   41     9.00000           IL    100/300   \n",
            "997                 130   34    20.00000           OH    250/500   \n",
            "998                 458   62    12.00000           IL   500/1000   \n",
            "999                 456   60    21.39039           OH    250/500   \n",
            "\n",
            "     policy_deductable  policy_annual_premium  umbrella_limit insured_sex  \\\n",
            "0                 1000                1406.91               0        MALE   \n",
            "1                 2000                1197.22         5000000        MALE   \n",
            "2                 2000                1413.14         5000000      FEMALE   \n",
            "3                 2000                1415.74         6000000      FEMALE   \n",
            "4                 1000                1583.91         6000000        MALE   \n",
            "..                 ...                    ...             ...         ...   \n",
            "995               1000                1310.80               0      FEMALE   \n",
            "996               1000                1436.79               0      FEMALE   \n",
            "997                500                1383.49         3000000      FEMALE   \n",
            "998               2000                1356.92         5000000        MALE   \n",
            "999               1000                 766.19               0      FEMALE   \n",
            "\n",
            "    insured_education_level  ... police_report_available total_claim_amount  \\\n",
            "0                        MD  ...                     YES              71610   \n",
            "1                        MD  ...                     UNK               5070   \n",
            "2                       PhD  ...                      NO              34650   \n",
            "3                       PhD  ...                      NO              63400   \n",
            "4                 Associate  ...                      NO               6500   \n",
            "..                      ...  ...                     ...                ...   \n",
            "995                 Masters  ...                     UNK              87200   \n",
            "996                     PhD  ...                     UNK             108480   \n",
            "997                 Masters  ...                     YES              67500   \n",
            "998               Associate  ...                     YES              46980   \n",
            "999               Associate  ...                     UNK               5060   \n",
            "\n",
            "     injury_claim  property_claim vehicle_claim   auto_make car_age  \\\n",
            "0            6510           13020         52080        Saab      19   \n",
            "1             780             780          3510    Mercedes      16   \n",
            "2            7700            3850         23100       Dodge      16   \n",
            "3            6340            6340         50720   Chevrolet       9   \n",
            "4            1300             650          4550      Accura      14   \n",
            "..            ...             ...           ...         ...     ...   \n",
            "995         17440            8720         61040       Honda      17   \n",
            "996         18080           18080         72320  Volkswagen       8   \n",
            "997          7500            7500         52500      Suburu      27   \n",
            "998          5220            5220         36540        Audi      25   \n",
            "999           460             920          3680    Mercedes      16   \n",
            "\n",
            "    fraud_reported age_range policy_ann_cost_ranges  \n",
            "0                1     40-49              1300-1499  \n",
            "1                1     40-49              1100-1299  \n",
            "2                0     18-29              1300-1499  \n",
            "3                1     40-49              1300-1499  \n",
            "4                0     40-49              1500-1699  \n",
            "..             ...       ...                    ...  \n",
            "995              0     30-39              1300-1499  \n",
            "996              0     40-49              1300-1499  \n",
            "997              0     30-39              1300-1499  \n",
            "998              0     60-69              1300-1499  \n",
            "999              0     50-59                700-899  \n",
            "\n",
            "[1000 rows x 35 columns]\n"
          ]
        }
      ]
    },
    {
      "cell_type": "code",
      "source": [
        "# Import label encoder\n",
        "from sklearn import preprocessing\n",
        "  \n",
        "# label_encoder object kno`ws how to understand word labels.\n",
        "label_encoder = preprocessing.LabelEncoder()\n",
        "  \n",
        "# Encode labels in column 'species'.\n",
        "\n",
        "df['age_range']= label_encoder.fit_transform(df['age_range'])\n",
        "df['policy_ann_cost_ranges']= label_encoder.fit_transform(df['policy_ann_cost_ranges'])\n",
        "df['auto_make']= label_encoder.fit_transform(df['auto_make'])\n",
        "df['umbrella_limit']= label_encoder.fit_transform(df['umbrella_limit'])\n",
        "df['policy_deductable']= label_encoder.fit_transform(df['policy_deductable'])\n",
        "df['policy_csl']= label_encoder.fit_transform(df['policy_csl'])\n",
        "df['policy_state']= label_encoder.fit_transform(df['policy_state'])\n",
        "df['insured_sex']= label_encoder.fit_transform(df['insured_sex'])\n",
        "df['insured_education_level']= label_encoder.fit_transform(df['insured_education_level'])\n",
        "df['insured_hobbies']= label_encoder.fit_transform(df['insured_hobbies'])\n",
        "df['insured_relationship ']= label_encoder.fit_transform(df['insured_relationship'])\n",
        "df['incident_type']= label_encoder.fit_transform(df['incident_type'])\n",
        "df['collision_type']= label_encoder.fit_transform(df['collision_type'])\n",
        "df['incident_severity']= label_encoder.fit_transform(df['incident_severity'])\n",
        "df['authorities_contacted']= label_encoder.fit_transform(df['authorities_contacted'])\n",
        "df['policy_state']= label_encoder.fit_transform(df['policy_state'])\n",
        "df['incident_state']= label_encoder.fit_transform(df['incident_state'])\n"
      ],
      "metadata": {
        "id": "Qw9RObQBMcmN"
      },
      "execution_count": 111,
      "outputs": []
    },
    {
      "cell_type": "code",
      "source": [
        "print(df)"
      ],
      "metadata": {
        "colab": {
          "base_uri": "https://localhost:8080/"
        },
        "id": "CTcc2OH2NpgD",
        "outputId": "2eea6634-c3a8-446a-d5ea-9e33d8f8208c"
      },
      "execution_count": 112,
      "outputs": [
        {
          "output_type": "stream",
          "name": "stdout",
          "text": [
            "     months_as_customer  age  policy_age  policy_state  policy_csl  \\\n",
            "0                   328   48     9.00000             2           1   \n",
            "1                   228   42    17.00000             1           1   \n",
            "2                   134   29    23.00000             2           0   \n",
            "3                   256   41    33.00000             0           1   \n",
            "4                   228   44     9.00000             0           2   \n",
            "..                  ...  ...         ...           ...         ...   \n",
            "995                   3   38    32.00000             2           2   \n",
            "996                 285   41     9.00000             0           0   \n",
            "997                 130   34    20.00000             2           1   \n",
            "998                 458   62    12.00000             0           2   \n",
            "999                 456   60    21.39039             2           1   \n",
            "\n",
            "     policy_deductable  policy_annual_premium  umbrella_limit  insured_sex  \\\n",
            "0                    1                1406.91               1            1   \n",
            "1                    2                1197.22               5            1   \n",
            "2                    2                1413.14               5            0   \n",
            "3                    2                1415.74               6            0   \n",
            "4                    1                1583.91               6            1   \n",
            "..                 ...                    ...             ...          ...   \n",
            "995                  1                1310.80               1            0   \n",
            "996                  1                1436.79               1            0   \n",
            "997                  0                1383.49               3            0   \n",
            "998                  2                1356.92               5            1   \n",
            "999                  1                 766.19               1            0   \n",
            "\n",
            "     insured_education_level  ...  total_claim_amount injury_claim  \\\n",
            "0                          4  ...               71610         6510   \n",
            "1                          4  ...                5070          780   \n",
            "2                          6  ...               34650         7700   \n",
            "3                          6  ...               63400         6340   \n",
            "4                          0  ...                6500         1300   \n",
            "..                       ...  ...                 ...          ...   \n",
            "995                        5  ...               87200        17440   \n",
            "996                        6  ...              108480        18080   \n",
            "997                        5  ...               67500         7500   \n",
            "998                        0  ...               46980         5220   \n",
            "999                        0  ...                5060          460   \n",
            "\n",
            "     property_claim  vehicle_claim  auto_make  car_age  fraud_reported  \\\n",
            "0             13020          52080         10       19               1   \n",
            "1               780           3510          8       16               1   \n",
            "2              3850          23100          4       16               0   \n",
            "3              6340          50720          3        9               1   \n",
            "4               650           4550          0       14               0   \n",
            "..              ...            ...        ...      ...             ...   \n",
            "995            8720          61040          6       17               0   \n",
            "996           18080          72320         13        8               0   \n",
            "997            7500          52500         11       27               0   \n",
            "998            5220          36540          1       25               0   \n",
            "999             920           3680          8       16               0   \n",
            "\n",
            "     age_range  policy_ann_cost_ranges insured_relationship   \n",
            "0            2                       1                     0  \n",
            "1            2                       0                     2  \n",
            "2            0                       1                     3  \n",
            "3            2                       1                     4  \n",
            "4            2                       2                     4  \n",
            "..         ...                     ...                   ...  \n",
            "995          1                       1                     4  \n",
            "996          2                       1                     5  \n",
            "997          1                       1                     2  \n",
            "998          4                       1                     5  \n",
            "999          3                       7                     0  \n",
            "\n",
            "[1000 rows x 36 columns]\n"
          ]
        }
      ]
    },
    {
      "cell_type": "code",
      "source": [
        "#Correlation \n",
        "df.corr()"
      ],
      "metadata": {
        "colab": {
          "base_uri": "https://localhost:8080/",
          "height": 1000
        },
        "id": "FECIqHIFrRNO",
        "outputId": "af858060-4f73-4407-e080-f561ecbf0ed7"
      },
      "execution_count": 113,
      "outputs": [
        {
          "output_type": "execute_result",
          "data": {
            "text/plain": [
              "                             months_as_customer       age  policy_age  \\\n",
              "months_as_customer                     1.000000  0.922098    0.046619   \n",
              "age                                    0.922098  1.000000    0.035698   \n",
              "policy_age                             0.046619  0.035698    1.000000   \n",
              "policy_state                          -0.000328 -0.014533    0.006372   \n",
              "policy_csl                            -0.026819 -0.015185    0.016424   \n",
              "policy_deductable                      0.018481  0.020561    0.051808   \n",
              "policy_annual_premium                  0.005018  0.014404    0.000283   \n",
              "umbrella_limit                         0.017800  0.021924   -0.044798   \n",
              "insured_sex                            0.060925  0.073337    0.033609   \n",
              "insured_education_level               -0.000833  0.000969   -0.017796   \n",
              "insured_hobbies                       -0.093661 -0.081315    0.013820   \n",
              "capital-gains                          0.006399 -0.007075   -0.040573   \n",
              "capital-loss                           0.020209  0.007368    0.025700   \n",
              "incident_type                         -0.017377 -0.025626    0.049542   \n",
              "collision_type                        -0.082966 -0.086068    0.005734   \n",
              "incident_severity                     -0.059581 -0.058439   -0.004174   \n",
              "authorities_contacted                  0.010021  0.015417    0.026778   \n",
              "incident_state                         0.005369  0.005770    0.024400   \n",
              "incident_hour_of_the_day               0.070639  0.087161   -0.034802   \n",
              "number_of_vehicles_involved            0.014736  0.022102   -0.025974   \n",
              "bodily_injuries                       -0.010162 -0.015679   -0.029072   \n",
              "witnesses                              0.058383  0.052359   -0.056962   \n",
              "total_claim_amount                     0.062108  0.069863    0.001525   \n",
              "injury_claim                           0.065329  0.075522   -0.001440   \n",
              "property_claim                         0.034940  0.060898    0.001995   \n",
              "vehicle_claim                          0.061013  0.062588    0.001994   \n",
              "auto_make                              0.047655  0.030410    0.004505   \n",
              "car_age                                0.000292 -0.001354    0.015409   \n",
              "fraud_reported                         0.003099 -0.008350    0.001286   \n",
              "age_range                              0.878786  0.952810    0.042162   \n",
              "policy_ann_cost_ranges                -0.045173 -0.058609   -0.003898   \n",
              "insured_relationship                   0.069727  0.074832    0.007592   \n",
              "\n",
              "                             policy_state  policy_csl  policy_deductable  \\\n",
              "months_as_customer              -0.000328   -0.026819           0.018481   \n",
              "age                             -0.014533   -0.015185           0.020561   \n",
              "policy_age                       0.006372    0.016424           0.051808   \n",
              "policy_state                     1.000000    0.001027           0.008213   \n",
              "policy_csl                       0.001027    1.000000           0.001986   \n",
              "policy_deductable                0.008213    0.001986           1.000000   \n",
              "policy_annual_premium            0.012455    0.023978           0.001624   \n",
              "umbrella_limit                  -0.031793    0.022779           0.009402   \n",
              "insured_sex                     -0.020481   -0.010757          -0.011948   \n",
              "insured_education_level         -0.034327    0.009153           0.012000   \n",
              "insured_hobbies                 -0.038689   -0.005960          -0.006006   \n",
              "capital-gains                    0.074551    0.005249           0.029668   \n",
              "capital-loss                    -0.030338   -0.034612          -0.023106   \n",
              "incident_type                    0.031848    0.011997          -0.036759   \n",
              "collision_type                   0.037564    0.065861          -0.035281   \n",
              "incident_severity               -0.026377    0.022530          -0.010001   \n",
              "authorities_contacted           -0.016777    0.056182          -0.009862   \n",
              "incident_state                   0.008723    0.032814           0.010650   \n",
              "incident_hour_of_the_day         0.029457   -0.001869           0.066442   \n",
              "number_of_vehicles_involved     -0.042263   -0.019403           0.043148   \n",
              "bodily_injuries                  0.013384   -0.000595          -0.020129   \n",
              "witnesses                        0.022960    0.071500           0.074994   \n",
              "total_claim_amount              -0.006002   -0.055758           0.016792   \n",
              "injury_claim                    -0.046290   -0.078818           0.034352   \n",
              "property_claim                   0.008406   -0.042216           0.055172   \n",
              "vehicle_claim                    0.001425   -0.046791           0.000502   \n",
              "auto_make                        0.017124   -0.004701          -0.030775   \n",
              "car_age                         -0.002114    0.033082          -0.024921   \n",
              "fraud_reported                   0.022229   -0.021603           0.009742   \n",
              "age_range                       -0.018573   -0.014583           0.019402   \n",
              "policy_ann_cost_ranges          -0.008558   -0.045064          -0.074582   \n",
              "insured_relationship            -0.018506   -0.030063          -0.025468   \n",
              "\n",
              "                             policy_annual_premium  umbrella_limit  \\\n",
              "months_as_customer                        0.005018        0.017800   \n",
              "age                                       0.014404        0.021924   \n",
              "policy_age                                0.000283       -0.044798   \n",
              "policy_state                              0.012455       -0.031793   \n",
              "policy_csl                                0.023978        0.022779   \n",
              "policy_deductable                         0.001624        0.009402   \n",
              "policy_annual_premium                     1.000000       -0.007334   \n",
              "umbrella_limit                           -0.007334        1.000000   \n",
              "insured_sex                               0.038853        0.009733   \n",
              "insured_education_level                  -0.019715       -0.019668   \n",
              "insured_hobbies                          -0.018019       -0.037534   \n",
              "capital-gains                            -0.013738       -0.047318   \n",
              "capital-loss                              0.023547       -0.025566   \n",
              "incident_type                             0.053603        0.013614   \n",
              "collision_type                            0.013508        0.040220   \n",
              "incident_severity                        -0.011155        0.011335   \n",
              "authorities_contacted                    -0.055191        0.029204   \n",
              "incident_state                            0.046434       -0.078174   \n",
              "incident_hour_of_the_day                 -0.001578       -0.024305   \n",
              "number_of_vehicles_involved              -0.045991       -0.019524   \n",
              "bodily_injuries                           0.026780        0.016680   \n",
              "witnesses                                 0.002332       -0.005779   \n",
              "total_claim_amount                        0.009094       -0.040896   \n",
              "injury_claim                             -0.017633       -0.045625   \n",
              "property_claim                           -0.011654       -0.024954   \n",
              "vehicle_claim                             0.020246       -0.039004   \n",
              "auto_make                                 0.000045       -0.007169   \n",
              "car_age                                   0.049226       -0.010528   \n",
              "fraud_reported                           -0.028017        0.056474   \n",
              "age_range                                -0.000656        0.024061   \n",
              "policy_ann_cost_ranges                   -0.551214       -0.044298   \n",
              "insured_relationship                      0.001925        0.073487   \n",
              "\n",
              "                             insured_sex  insured_education_level  ...  \\\n",
              "months_as_customer              0.060925                -0.000833  ...   \n",
              "age                             0.073337                 0.000969  ...   \n",
              "policy_age                      0.033609                -0.017796  ...   \n",
              "policy_state                   -0.020481                -0.034327  ...   \n",
              "policy_csl                     -0.010757                 0.009153  ...   \n",
              "policy_deductable              -0.011948                 0.012000  ...   \n",
              "policy_annual_premium           0.038853                -0.019715  ...   \n",
              "umbrella_limit                  0.009733                -0.019668  ...   \n",
              "insured_sex                     1.000000                 0.009002  ...   \n",
              "insured_education_level         0.009002                 1.000000  ...   \n",
              "insured_hobbies                -0.020317                 0.021807  ...   \n",
              "capital-gains                  -0.020494                 0.039912  ...   \n",
              "capital-loss                   -0.021705                 0.041193  ...   \n",
              "incident_type                   0.009952                 0.013704  ...   \n",
              "collision_type                  0.003799                -0.053458  ...   \n",
              "incident_severity              -0.028168                -0.006420  ...   \n",
              "authorities_contacted           0.017914                -0.010838  ...   \n",
              "incident_state                 -0.022379                -0.005903  ...   \n",
              "incident_hour_of_the_day        0.019290                -0.057061  ...   \n",
              "number_of_vehicles_involved     0.018793                -0.003768  ...   \n",
              "bodily_injuries                -0.020297                -0.012072  ...   \n",
              "witnesses                       0.042463                 0.019211  ...   \n",
              "total_claim_amount             -0.023727                 0.074226  ...   \n",
              "injury_claim                    0.000924                 0.081880  ...   \n",
              "property_claim                 -0.014868                 0.055794  ...   \n",
              "vehicle_claim                  -0.029609                 0.068348  ...   \n",
              "auto_make                       0.026457                 0.055202  ...   \n",
              "car_age                         0.028247                -0.043509  ...   \n",
              "fraud_reported                  0.029450                -0.012460  ...   \n",
              "age_range                       0.064127                -0.018946  ...   \n",
              "policy_ann_cost_ranges         -0.021104                -0.015940  ...   \n",
              "insured_relationship            0.002855                -0.023488  ...   \n",
              "\n",
              "                             total_claim_amount  injury_claim  property_claim  \\\n",
              "months_as_customer                     0.062108      0.065329        0.034940   \n",
              "age                                    0.069863      0.075522        0.060898   \n",
              "policy_age                             0.001525     -0.001440        0.001995   \n",
              "policy_state                          -0.006002     -0.046290        0.008406   \n",
              "policy_csl                            -0.055758     -0.078818       -0.042216   \n",
              "policy_deductable                      0.016792      0.034352        0.055172   \n",
              "policy_annual_premium                  0.009094     -0.017633       -0.011654   \n",
              "umbrella_limit                        -0.040896     -0.045625       -0.024954   \n",
              "insured_sex                           -0.023727      0.000924       -0.014868   \n",
              "insured_education_level                0.074226      0.081880        0.055794   \n",
              "insured_hobbies                       -0.004488      0.028393        0.012535   \n",
              "capital-gains                          0.015980      0.025934       -0.000779   \n",
              "capital-loss                          -0.036060     -0.046060       -0.022863   \n",
              "incident_type                         -0.276686     -0.226704       -0.221409   \n",
              "collision_type                        -0.617448     -0.482057       -0.470653   \n",
              "incident_severity                     -0.365295     -0.276980       -0.301861   \n",
              "authorities_contacted                 -0.169333     -0.141826       -0.118808   \n",
              "incident_state                        -0.043881     -0.015826       -0.026930   \n",
              "incident_hour_of_the_day               0.217702      0.165768        0.179536   \n",
              "number_of_vehicles_involved            0.274278      0.224650        0.219084   \n",
              "bodily_injuries                        0.047093      0.047319        0.039749   \n",
              "witnesses                             -0.011114     -0.024843        0.052640   \n",
              "total_claim_amount                     1.000000      0.805025        0.810686   \n",
              "injury_claim                           0.805025      1.000000        0.563866   \n",
              "property_claim                         0.810686      0.563866        1.000000   \n",
              "vehicle_claim                          0.982773      0.722878        0.732090   \n",
              "auto_make                             -0.057508     -0.039575       -0.042030   \n",
              "car_age                                0.035781      0.013718        0.014508   \n",
              "fraud_reported                         0.174020      0.109590        0.149592   \n",
              "age_range                              0.083702      0.085224        0.077934   \n",
              "policy_ann_cost_ranges                 0.045000      0.060356        0.024563   \n",
              "insured_relationship                   0.002229      0.029014        0.007332   \n",
              "\n",
              "                             vehicle_claim  auto_make   car_age  \\\n",
              "months_as_customer                0.061013   0.047655  0.000292   \n",
              "age                               0.062588   0.030410 -0.001354   \n",
              "policy_age                        0.001994   0.004505  0.015409   \n",
              "policy_state                      0.001425   0.017124 -0.002114   \n",
              "policy_csl                       -0.046791  -0.004701  0.033082   \n",
              "policy_deductable                 0.000502  -0.030775 -0.024921   \n",
              "policy_annual_premium             0.020246   0.000045  0.049226   \n",
              "umbrella_limit                   -0.039004  -0.007169 -0.010528   \n",
              "insured_sex                      -0.029609   0.026457  0.028247   \n",
              "insured_education_level           0.068348   0.055202 -0.043509   \n",
              "insured_hobbies                  -0.016814   0.001525  0.014495   \n",
              "capital-gains                     0.015836   0.052014 -0.031398   \n",
              "capital-loss                     -0.032665  -0.041658  0.056615   \n",
              "incident_type                    -0.271635  -0.032784  0.053191   \n",
              "collision_type                   -0.618329   0.014572 -0.020316   \n",
              "incident_severity                -0.361958  -0.008571  0.019646   \n",
              "authorities_contacted            -0.169710  -0.030309 -0.072524   \n",
              "incident_state                   -0.050372   0.070178  0.014658   \n",
              "incident_hour_of_the_day          0.215626  -0.002556 -0.021368   \n",
              "number_of_vehicles_involved       0.269393   0.014343 -0.034554   \n",
              "bodily_injuries                   0.043449   0.026731  0.020527   \n",
              "witnesses                        -0.022564   0.005603 -0.045791   \n",
              "total_claim_amount                0.982773  -0.057508  0.035781   \n",
              "injury_claim                      0.722878  -0.039575  0.013718   \n",
              "property_claim                    0.732090  -0.042030  0.014508   \n",
              "vehicle_claim                     1.000000  -0.059427  0.042768   \n",
              "auto_make                        -0.059427   1.000000 -0.004939   \n",
              "car_age                           0.042768  -0.004939  1.000000   \n",
              "fraud_reported                    0.176729  -0.028433  0.020173   \n",
              "age_range                         0.075074   0.029039 -0.011931   \n",
              "policy_ann_cost_ranges            0.041034  -0.044236 -0.014386   \n",
              "insured_relationship             -0.006256  -0.027028  0.023345   \n",
              "\n",
              "                             fraud_reported  age_range  \\\n",
              "months_as_customer                 0.003099   0.878786   \n",
              "age                               -0.008350   0.952810   \n",
              "policy_age                         0.001286   0.042162   \n",
              "policy_state                       0.022229  -0.018573   \n",
              "policy_csl                        -0.021603  -0.014583   \n",
              "policy_deductable                  0.009742   0.019402   \n",
              "policy_annual_premium             -0.028017  -0.000656   \n",
              "umbrella_limit                     0.056474   0.024061   \n",
              "insured_sex                        0.029450   0.064127   \n",
              "insured_education_level           -0.012460  -0.018946   \n",
              "insured_hobbies                   -0.033364  -0.087184   \n",
              "capital-gains                     -0.021932  -0.006883   \n",
              "capital-loss                      -0.002283   0.014321   \n",
              "incident_type                     -0.063715  -0.014305   \n",
              "collision_type                    -0.142576  -0.076888   \n",
              "incident_severity                 -0.370964  -0.072110   \n",
              "authorities_contacted             -0.050329   0.016951   \n",
              "incident_state                    -0.072649  -0.003758   \n",
              "incident_hour_of_the_day           0.008573   0.085389   \n",
              "number_of_vehicles_involved        0.067672   0.011331   \n",
              "bodily_injuries                    0.027908  -0.009244   \n",
              "witnesses                         -0.010081   0.038921   \n",
              "total_claim_amount                 0.174020   0.083702   \n",
              "injury_claim                       0.109590   0.085224   \n",
              "property_claim                     0.149592   0.077934   \n",
              "vehicle_claim                      0.176729   0.075074   \n",
              "auto_make                         -0.028433   0.029039   \n",
              "car_age                            0.020173  -0.011931   \n",
              "fraud_reported                     1.000000   0.021868   \n",
              "age_range                          0.021868   1.000000   \n",
              "policy_ann_cost_ranges             0.052521  -0.045066   \n",
              "insured_relationship               0.007049   0.074953   \n",
              "\n",
              "                             policy_ann_cost_ranges  insured_relationship   \n",
              "months_as_customer                        -0.045173               0.069727  \n",
              "age                                       -0.058609               0.074832  \n",
              "policy_age                                -0.003898               0.007592  \n",
              "policy_state                              -0.008558              -0.018506  \n",
              "policy_csl                                -0.045064              -0.030063  \n",
              "policy_deductable                         -0.074582              -0.025468  \n",
              "policy_annual_premium                     -0.551214               0.001925  \n",
              "umbrella_limit                            -0.044298               0.073487  \n",
              "insured_sex                               -0.021104               0.002855  \n",
              "insured_education_level                   -0.015940              -0.023488  \n",
              "insured_hobbies                            0.031448              -0.096772  \n",
              "capital-gains                             -0.001066              -0.019439  \n",
              "capital-loss                               0.006965              -0.064453  \n",
              "incident_type                             -0.025966               0.033834  \n",
              "collision_type                            -0.064326               0.003833  \n",
              "incident_severity                         -0.002164               0.015498  \n",
              "authorities_contacted                      0.018180              -0.004070  \n",
              "incident_state                            -0.019990              -0.062331  \n",
              "incident_hour_of_the_day                  -0.043781               0.004805  \n",
              "number_of_vehicles_involved                0.039156              -0.047354  \n",
              "bodily_injuries                            0.007918              -0.001214  \n",
              "witnesses                                  0.000723               0.002362  \n",
              "total_claim_amount                         0.045000               0.002229  \n",
              "injury_claim                               0.060356               0.029014  \n",
              "property_claim                             0.024563               0.007332  \n",
              "vehicle_claim                              0.041034              -0.006256  \n",
              "auto_make                                 -0.044236              -0.027028  \n",
              "car_age                                   -0.014386               0.023345  \n",
              "fraud_reported                             0.052521               0.007049  \n",
              "age_range                                 -0.045066               0.074953  \n",
              "policy_ann_cost_ranges                     1.000000               0.036457  \n",
              "insured_relationship                       0.036457               1.000000  \n",
              "\n",
              "[32 rows x 32 columns]"
            ],
            "text/html": [
              "\n",
              "  <div id=\"df-a05d9354-36a6-453e-ba9c-6ee6935355b6\">\n",
              "    <div class=\"colab-df-container\">\n",
              "      <div>\n",
              "<style scoped>\n",
              "    .dataframe tbody tr th:only-of-type {\n",
              "        vertical-align: middle;\n",
              "    }\n",
              "\n",
              "    .dataframe tbody tr th {\n",
              "        vertical-align: top;\n",
              "    }\n",
              "\n",
              "    .dataframe thead th {\n",
              "        text-align: right;\n",
              "    }\n",
              "</style>\n",
              "<table border=\"1\" class=\"dataframe\">\n",
              "  <thead>\n",
              "    <tr style=\"text-align: right;\">\n",
              "      <th></th>\n",
              "      <th>months_as_customer</th>\n",
              "      <th>age</th>\n",
              "      <th>policy_age</th>\n",
              "      <th>policy_state</th>\n",
              "      <th>policy_csl</th>\n",
              "      <th>policy_deductable</th>\n",
              "      <th>policy_annual_premium</th>\n",
              "      <th>umbrella_limit</th>\n",
              "      <th>insured_sex</th>\n",
              "      <th>insured_education_level</th>\n",
              "      <th>...</th>\n",
              "      <th>total_claim_amount</th>\n",
              "      <th>injury_claim</th>\n",
              "      <th>property_claim</th>\n",
              "      <th>vehicle_claim</th>\n",
              "      <th>auto_make</th>\n",
              "      <th>car_age</th>\n",
              "      <th>fraud_reported</th>\n",
              "      <th>age_range</th>\n",
              "      <th>policy_ann_cost_ranges</th>\n",
              "      <th>insured_relationship</th>\n",
              "    </tr>\n",
              "  </thead>\n",
              "  <tbody>\n",
              "    <tr>\n",
              "      <th>months_as_customer</th>\n",
              "      <td>1.000000</td>\n",
              "      <td>0.922098</td>\n",
              "      <td>0.046619</td>\n",
              "      <td>-0.000328</td>\n",
              "      <td>-0.026819</td>\n",
              "      <td>0.018481</td>\n",
              "      <td>0.005018</td>\n",
              "      <td>0.017800</td>\n",
              "      <td>0.060925</td>\n",
              "      <td>-0.000833</td>\n",
              "      <td>...</td>\n",
              "      <td>0.062108</td>\n",
              "      <td>0.065329</td>\n",
              "      <td>0.034940</td>\n",
              "      <td>0.061013</td>\n",
              "      <td>0.047655</td>\n",
              "      <td>0.000292</td>\n",
              "      <td>0.003099</td>\n",
              "      <td>0.878786</td>\n",
              "      <td>-0.045173</td>\n",
              "      <td>0.069727</td>\n",
              "    </tr>\n",
              "    <tr>\n",
              "      <th>age</th>\n",
              "      <td>0.922098</td>\n",
              "      <td>1.000000</td>\n",
              "      <td>0.035698</td>\n",
              "      <td>-0.014533</td>\n",
              "      <td>-0.015185</td>\n",
              "      <td>0.020561</td>\n",
              "      <td>0.014404</td>\n",
              "      <td>0.021924</td>\n",
              "      <td>0.073337</td>\n",
              "      <td>0.000969</td>\n",
              "      <td>...</td>\n",
              "      <td>0.069863</td>\n",
              "      <td>0.075522</td>\n",
              "      <td>0.060898</td>\n",
              "      <td>0.062588</td>\n",
              "      <td>0.030410</td>\n",
              "      <td>-0.001354</td>\n",
              "      <td>-0.008350</td>\n",
              "      <td>0.952810</td>\n",
              "      <td>-0.058609</td>\n",
              "      <td>0.074832</td>\n",
              "    </tr>\n",
              "    <tr>\n",
              "      <th>policy_age</th>\n",
              "      <td>0.046619</td>\n",
              "      <td>0.035698</td>\n",
              "      <td>1.000000</td>\n",
              "      <td>0.006372</td>\n",
              "      <td>0.016424</td>\n",
              "      <td>0.051808</td>\n",
              "      <td>0.000283</td>\n",
              "      <td>-0.044798</td>\n",
              "      <td>0.033609</td>\n",
              "      <td>-0.017796</td>\n",
              "      <td>...</td>\n",
              "      <td>0.001525</td>\n",
              "      <td>-0.001440</td>\n",
              "      <td>0.001995</td>\n",
              "      <td>0.001994</td>\n",
              "      <td>0.004505</td>\n",
              "      <td>0.015409</td>\n",
              "      <td>0.001286</td>\n",
              "      <td>0.042162</td>\n",
              "      <td>-0.003898</td>\n",
              "      <td>0.007592</td>\n",
              "    </tr>\n",
              "    <tr>\n",
              "      <th>policy_state</th>\n",
              "      <td>-0.000328</td>\n",
              "      <td>-0.014533</td>\n",
              "      <td>0.006372</td>\n",
              "      <td>1.000000</td>\n",
              "      <td>0.001027</td>\n",
              "      <td>0.008213</td>\n",
              "      <td>0.012455</td>\n",
              "      <td>-0.031793</td>\n",
              "      <td>-0.020481</td>\n",
              "      <td>-0.034327</td>\n",
              "      <td>...</td>\n",
              "      <td>-0.006002</td>\n",
              "      <td>-0.046290</td>\n",
              "      <td>0.008406</td>\n",
              "      <td>0.001425</td>\n",
              "      <td>0.017124</td>\n",
              "      <td>-0.002114</td>\n",
              "      <td>0.022229</td>\n",
              "      <td>-0.018573</td>\n",
              "      <td>-0.008558</td>\n",
              "      <td>-0.018506</td>\n",
              "    </tr>\n",
              "    <tr>\n",
              "      <th>policy_csl</th>\n",
              "      <td>-0.026819</td>\n",
              "      <td>-0.015185</td>\n",
              "      <td>0.016424</td>\n",
              "      <td>0.001027</td>\n",
              "      <td>1.000000</td>\n",
              "      <td>0.001986</td>\n",
              "      <td>0.023978</td>\n",
              "      <td>0.022779</td>\n",
              "      <td>-0.010757</td>\n",
              "      <td>0.009153</td>\n",
              "      <td>...</td>\n",
              "      <td>-0.055758</td>\n",
              "      <td>-0.078818</td>\n",
              "      <td>-0.042216</td>\n",
              "      <td>-0.046791</td>\n",
              "      <td>-0.004701</td>\n",
              "      <td>0.033082</td>\n",
              "      <td>-0.021603</td>\n",
              "      <td>-0.014583</td>\n",
              "      <td>-0.045064</td>\n",
              "      <td>-0.030063</td>\n",
              "    </tr>\n",
              "    <tr>\n",
              "      <th>policy_deductable</th>\n",
              "      <td>0.018481</td>\n",
              "      <td>0.020561</td>\n",
              "      <td>0.051808</td>\n",
              "      <td>0.008213</td>\n",
              "      <td>0.001986</td>\n",
              "      <td>1.000000</td>\n",
              "      <td>0.001624</td>\n",
              "      <td>0.009402</td>\n",
              "      <td>-0.011948</td>\n",
              "      <td>0.012000</td>\n",
              "      <td>...</td>\n",
              "      <td>0.016792</td>\n",
              "      <td>0.034352</td>\n",
              "      <td>0.055172</td>\n",
              "      <td>0.000502</td>\n",
              "      <td>-0.030775</td>\n",
              "      <td>-0.024921</td>\n",
              "      <td>0.009742</td>\n",
              "      <td>0.019402</td>\n",
              "      <td>-0.074582</td>\n",
              "      <td>-0.025468</td>\n",
              "    </tr>\n",
              "    <tr>\n",
              "      <th>policy_annual_premium</th>\n",
              "      <td>0.005018</td>\n",
              "      <td>0.014404</td>\n",
              "      <td>0.000283</td>\n",
              "      <td>0.012455</td>\n",
              "      <td>0.023978</td>\n",
              "      <td>0.001624</td>\n",
              "      <td>1.000000</td>\n",
              "      <td>-0.007334</td>\n",
              "      <td>0.038853</td>\n",
              "      <td>-0.019715</td>\n",
              "      <td>...</td>\n",
              "      <td>0.009094</td>\n",
              "      <td>-0.017633</td>\n",
              "      <td>-0.011654</td>\n",
              "      <td>0.020246</td>\n",
              "      <td>0.000045</td>\n",
              "      <td>0.049226</td>\n",
              "      <td>-0.028017</td>\n",
              "      <td>-0.000656</td>\n",
              "      <td>-0.551214</td>\n",
              "      <td>0.001925</td>\n",
              "    </tr>\n",
              "    <tr>\n",
              "      <th>umbrella_limit</th>\n",
              "      <td>0.017800</td>\n",
              "      <td>0.021924</td>\n",
              "      <td>-0.044798</td>\n",
              "      <td>-0.031793</td>\n",
              "      <td>0.022779</td>\n",
              "      <td>0.009402</td>\n",
              "      <td>-0.007334</td>\n",
              "      <td>1.000000</td>\n",
              "      <td>0.009733</td>\n",
              "      <td>-0.019668</td>\n",
              "      <td>...</td>\n",
              "      <td>-0.040896</td>\n",
              "      <td>-0.045625</td>\n",
              "      <td>-0.024954</td>\n",
              "      <td>-0.039004</td>\n",
              "      <td>-0.007169</td>\n",
              "      <td>-0.010528</td>\n",
              "      <td>0.056474</td>\n",
              "      <td>0.024061</td>\n",
              "      <td>-0.044298</td>\n",
              "      <td>0.073487</td>\n",
              "    </tr>\n",
              "    <tr>\n",
              "      <th>insured_sex</th>\n",
              "      <td>0.060925</td>\n",
              "      <td>0.073337</td>\n",
              "      <td>0.033609</td>\n",
              "      <td>-0.020481</td>\n",
              "      <td>-0.010757</td>\n",
              "      <td>-0.011948</td>\n",
              "      <td>0.038853</td>\n",
              "      <td>0.009733</td>\n",
              "      <td>1.000000</td>\n",
              "      <td>0.009002</td>\n",
              "      <td>...</td>\n",
              "      <td>-0.023727</td>\n",
              "      <td>0.000924</td>\n",
              "      <td>-0.014868</td>\n",
              "      <td>-0.029609</td>\n",
              "      <td>0.026457</td>\n",
              "      <td>0.028247</td>\n",
              "      <td>0.029450</td>\n",
              "      <td>0.064127</td>\n",
              "      <td>-0.021104</td>\n",
              "      <td>0.002855</td>\n",
              "    </tr>\n",
              "    <tr>\n",
              "      <th>insured_education_level</th>\n",
              "      <td>-0.000833</td>\n",
              "      <td>0.000969</td>\n",
              "      <td>-0.017796</td>\n",
              "      <td>-0.034327</td>\n",
              "      <td>0.009153</td>\n",
              "      <td>0.012000</td>\n",
              "      <td>-0.019715</td>\n",
              "      <td>-0.019668</td>\n",
              "      <td>0.009002</td>\n",
              "      <td>1.000000</td>\n",
              "      <td>...</td>\n",
              "      <td>0.074226</td>\n",
              "      <td>0.081880</td>\n",
              "      <td>0.055794</td>\n",
              "      <td>0.068348</td>\n",
              "      <td>0.055202</td>\n",
              "      <td>-0.043509</td>\n",
              "      <td>-0.012460</td>\n",
              "      <td>-0.018946</td>\n",
              "      <td>-0.015940</td>\n",
              "      <td>-0.023488</td>\n",
              "    </tr>\n",
              "    <tr>\n",
              "      <th>insured_hobbies</th>\n",
              "      <td>-0.093661</td>\n",
              "      <td>-0.081315</td>\n",
              "      <td>0.013820</td>\n",
              "      <td>-0.038689</td>\n",
              "      <td>-0.005960</td>\n",
              "      <td>-0.006006</td>\n",
              "      <td>-0.018019</td>\n",
              "      <td>-0.037534</td>\n",
              "      <td>-0.020317</td>\n",
              "      <td>0.021807</td>\n",
              "      <td>...</td>\n",
              "      <td>-0.004488</td>\n",
              "      <td>0.028393</td>\n",
              "      <td>0.012535</td>\n",
              "      <td>-0.016814</td>\n",
              "      <td>0.001525</td>\n",
              "      <td>0.014495</td>\n",
              "      <td>-0.033364</td>\n",
              "      <td>-0.087184</td>\n",
              "      <td>0.031448</td>\n",
              "      <td>-0.096772</td>\n",
              "    </tr>\n",
              "    <tr>\n",
              "      <th>capital-gains</th>\n",
              "      <td>0.006399</td>\n",
              "      <td>-0.007075</td>\n",
              "      <td>-0.040573</td>\n",
              "      <td>0.074551</td>\n",
              "      <td>0.005249</td>\n",
              "      <td>0.029668</td>\n",
              "      <td>-0.013738</td>\n",
              "      <td>-0.047318</td>\n",
              "      <td>-0.020494</td>\n",
              "      <td>0.039912</td>\n",
              "      <td>...</td>\n",
              "      <td>0.015980</td>\n",
              "      <td>0.025934</td>\n",
              "      <td>-0.000779</td>\n",
              "      <td>0.015836</td>\n",
              "      <td>0.052014</td>\n",
              "      <td>-0.031398</td>\n",
              "      <td>-0.021932</td>\n",
              "      <td>-0.006883</td>\n",
              "      <td>-0.001066</td>\n",
              "      <td>-0.019439</td>\n",
              "    </tr>\n",
              "    <tr>\n",
              "      <th>capital-loss</th>\n",
              "      <td>0.020209</td>\n",
              "      <td>0.007368</td>\n",
              "      <td>0.025700</td>\n",
              "      <td>-0.030338</td>\n",
              "      <td>-0.034612</td>\n",
              "      <td>-0.023106</td>\n",
              "      <td>0.023547</td>\n",
              "      <td>-0.025566</td>\n",
              "      <td>-0.021705</td>\n",
              "      <td>0.041193</td>\n",
              "      <td>...</td>\n",
              "      <td>-0.036060</td>\n",
              "      <td>-0.046060</td>\n",
              "      <td>-0.022863</td>\n",
              "      <td>-0.032665</td>\n",
              "      <td>-0.041658</td>\n",
              "      <td>0.056615</td>\n",
              "      <td>-0.002283</td>\n",
              "      <td>0.014321</td>\n",
              "      <td>0.006965</td>\n",
              "      <td>-0.064453</td>\n",
              "    </tr>\n",
              "    <tr>\n",
              "      <th>incident_type</th>\n",
              "      <td>-0.017377</td>\n",
              "      <td>-0.025626</td>\n",
              "      <td>0.049542</td>\n",
              "      <td>0.031848</td>\n",
              "      <td>0.011997</td>\n",
              "      <td>-0.036759</td>\n",
              "      <td>0.053603</td>\n",
              "      <td>0.013614</td>\n",
              "      <td>0.009952</td>\n",
              "      <td>0.013704</td>\n",
              "      <td>...</td>\n",
              "      <td>-0.276686</td>\n",
              "      <td>-0.226704</td>\n",
              "      <td>-0.221409</td>\n",
              "      <td>-0.271635</td>\n",
              "      <td>-0.032784</td>\n",
              "      <td>0.053191</td>\n",
              "      <td>-0.063715</td>\n",
              "      <td>-0.014305</td>\n",
              "      <td>-0.025966</td>\n",
              "      <td>0.033834</td>\n",
              "    </tr>\n",
              "    <tr>\n",
              "      <th>collision_type</th>\n",
              "      <td>-0.082966</td>\n",
              "      <td>-0.086068</td>\n",
              "      <td>0.005734</td>\n",
              "      <td>0.037564</td>\n",
              "      <td>0.065861</td>\n",
              "      <td>-0.035281</td>\n",
              "      <td>0.013508</td>\n",
              "      <td>0.040220</td>\n",
              "      <td>0.003799</td>\n",
              "      <td>-0.053458</td>\n",
              "      <td>...</td>\n",
              "      <td>-0.617448</td>\n",
              "      <td>-0.482057</td>\n",
              "      <td>-0.470653</td>\n",
              "      <td>-0.618329</td>\n",
              "      <td>0.014572</td>\n",
              "      <td>-0.020316</td>\n",
              "      <td>-0.142576</td>\n",
              "      <td>-0.076888</td>\n",
              "      <td>-0.064326</td>\n",
              "      <td>0.003833</td>\n",
              "    </tr>\n",
              "    <tr>\n",
              "      <th>incident_severity</th>\n",
              "      <td>-0.059581</td>\n",
              "      <td>-0.058439</td>\n",
              "      <td>-0.004174</td>\n",
              "      <td>-0.026377</td>\n",
              "      <td>0.022530</td>\n",
              "      <td>-0.010001</td>\n",
              "      <td>-0.011155</td>\n",
              "      <td>0.011335</td>\n",
              "      <td>-0.028168</td>\n",
              "      <td>-0.006420</td>\n",
              "      <td>...</td>\n",
              "      <td>-0.365295</td>\n",
              "      <td>-0.276980</td>\n",
              "      <td>-0.301861</td>\n",
              "      <td>-0.361958</td>\n",
              "      <td>-0.008571</td>\n",
              "      <td>0.019646</td>\n",
              "      <td>-0.370964</td>\n",
              "      <td>-0.072110</td>\n",
              "      <td>-0.002164</td>\n",
              "      <td>0.015498</td>\n",
              "    </tr>\n",
              "    <tr>\n",
              "      <th>authorities_contacted</th>\n",
              "      <td>0.010021</td>\n",
              "      <td>0.015417</td>\n",
              "      <td>0.026778</td>\n",
              "      <td>-0.016777</td>\n",
              "      <td>0.056182</td>\n",
              "      <td>-0.009862</td>\n",
              "      <td>-0.055191</td>\n",
              "      <td>0.029204</td>\n",
              "      <td>0.017914</td>\n",
              "      <td>-0.010838</td>\n",
              "      <td>...</td>\n",
              "      <td>-0.169333</td>\n",
              "      <td>-0.141826</td>\n",
              "      <td>-0.118808</td>\n",
              "      <td>-0.169710</td>\n",
              "      <td>-0.030309</td>\n",
              "      <td>-0.072524</td>\n",
              "      <td>-0.050329</td>\n",
              "      <td>0.016951</td>\n",
              "      <td>0.018180</td>\n",
              "      <td>-0.004070</td>\n",
              "    </tr>\n",
              "    <tr>\n",
              "      <th>incident_state</th>\n",
              "      <td>0.005369</td>\n",
              "      <td>0.005770</td>\n",
              "      <td>0.024400</td>\n",
              "      <td>0.008723</td>\n",
              "      <td>0.032814</td>\n",
              "      <td>0.010650</td>\n",
              "      <td>0.046434</td>\n",
              "      <td>-0.078174</td>\n",
              "      <td>-0.022379</td>\n",
              "      <td>-0.005903</td>\n",
              "      <td>...</td>\n",
              "      <td>-0.043881</td>\n",
              "      <td>-0.015826</td>\n",
              "      <td>-0.026930</td>\n",
              "      <td>-0.050372</td>\n",
              "      <td>0.070178</td>\n",
              "      <td>0.014658</td>\n",
              "      <td>-0.072649</td>\n",
              "      <td>-0.003758</td>\n",
              "      <td>-0.019990</td>\n",
              "      <td>-0.062331</td>\n",
              "    </tr>\n",
              "    <tr>\n",
              "      <th>incident_hour_of_the_day</th>\n",
              "      <td>0.070639</td>\n",
              "      <td>0.087161</td>\n",
              "      <td>-0.034802</td>\n",
              "      <td>0.029457</td>\n",
              "      <td>-0.001869</td>\n",
              "      <td>0.066442</td>\n",
              "      <td>-0.001578</td>\n",
              "      <td>-0.024305</td>\n",
              "      <td>0.019290</td>\n",
              "      <td>-0.057061</td>\n",
              "      <td>...</td>\n",
              "      <td>0.217702</td>\n",
              "      <td>0.165768</td>\n",
              "      <td>0.179536</td>\n",
              "      <td>0.215626</td>\n",
              "      <td>-0.002556</td>\n",
              "      <td>-0.021368</td>\n",
              "      <td>0.008573</td>\n",
              "      <td>0.085389</td>\n",
              "      <td>-0.043781</td>\n",
              "      <td>0.004805</td>\n",
              "    </tr>\n",
              "    <tr>\n",
              "      <th>number_of_vehicles_involved</th>\n",
              "      <td>0.014736</td>\n",
              "      <td>0.022102</td>\n",
              "      <td>-0.025974</td>\n",
              "      <td>-0.042263</td>\n",
              "      <td>-0.019403</td>\n",
              "      <td>0.043148</td>\n",
              "      <td>-0.045991</td>\n",
              "      <td>-0.019524</td>\n",
              "      <td>0.018793</td>\n",
              "      <td>-0.003768</td>\n",
              "      <td>...</td>\n",
              "      <td>0.274278</td>\n",
              "      <td>0.224650</td>\n",
              "      <td>0.219084</td>\n",
              "      <td>0.269393</td>\n",
              "      <td>0.014343</td>\n",
              "      <td>-0.034554</td>\n",
              "      <td>0.067672</td>\n",
              "      <td>0.011331</td>\n",
              "      <td>0.039156</td>\n",
              "      <td>-0.047354</td>\n",
              "    </tr>\n",
              "    <tr>\n",
              "      <th>bodily_injuries</th>\n",
              "      <td>-0.010162</td>\n",
              "      <td>-0.015679</td>\n",
              "      <td>-0.029072</td>\n",
              "      <td>0.013384</td>\n",
              "      <td>-0.000595</td>\n",
              "      <td>-0.020129</td>\n",
              "      <td>0.026780</td>\n",
              "      <td>0.016680</td>\n",
              "      <td>-0.020297</td>\n",
              "      <td>-0.012072</td>\n",
              "      <td>...</td>\n",
              "      <td>0.047093</td>\n",
              "      <td>0.047319</td>\n",
              "      <td>0.039749</td>\n",
              "      <td>0.043449</td>\n",
              "      <td>0.026731</td>\n",
              "      <td>0.020527</td>\n",
              "      <td>0.027908</td>\n",
              "      <td>-0.009244</td>\n",
              "      <td>0.007918</td>\n",
              "      <td>-0.001214</td>\n",
              "    </tr>\n",
              "    <tr>\n",
              "      <th>witnesses</th>\n",
              "      <td>0.058383</td>\n",
              "      <td>0.052359</td>\n",
              "      <td>-0.056962</td>\n",
              "      <td>0.022960</td>\n",
              "      <td>0.071500</td>\n",
              "      <td>0.074994</td>\n",
              "      <td>0.002332</td>\n",
              "      <td>-0.005779</td>\n",
              "      <td>0.042463</td>\n",
              "      <td>0.019211</td>\n",
              "      <td>...</td>\n",
              "      <td>-0.011114</td>\n",
              "      <td>-0.024843</td>\n",
              "      <td>0.052640</td>\n",
              "      <td>-0.022564</td>\n",
              "      <td>0.005603</td>\n",
              "      <td>-0.045791</td>\n",
              "      <td>-0.010081</td>\n",
              "      <td>0.038921</td>\n",
              "      <td>0.000723</td>\n",
              "      <td>0.002362</td>\n",
              "    </tr>\n",
              "    <tr>\n",
              "      <th>total_claim_amount</th>\n",
              "      <td>0.062108</td>\n",
              "      <td>0.069863</td>\n",
              "      <td>0.001525</td>\n",
              "      <td>-0.006002</td>\n",
              "      <td>-0.055758</td>\n",
              "      <td>0.016792</td>\n",
              "      <td>0.009094</td>\n",
              "      <td>-0.040896</td>\n",
              "      <td>-0.023727</td>\n",
              "      <td>0.074226</td>\n",
              "      <td>...</td>\n",
              "      <td>1.000000</td>\n",
              "      <td>0.805025</td>\n",
              "      <td>0.810686</td>\n",
              "      <td>0.982773</td>\n",
              "      <td>-0.057508</td>\n",
              "      <td>0.035781</td>\n",
              "      <td>0.174020</td>\n",
              "      <td>0.083702</td>\n",
              "      <td>0.045000</td>\n",
              "      <td>0.002229</td>\n",
              "    </tr>\n",
              "    <tr>\n",
              "      <th>injury_claim</th>\n",
              "      <td>0.065329</td>\n",
              "      <td>0.075522</td>\n",
              "      <td>-0.001440</td>\n",
              "      <td>-0.046290</td>\n",
              "      <td>-0.078818</td>\n",
              "      <td>0.034352</td>\n",
              "      <td>-0.017633</td>\n",
              "      <td>-0.045625</td>\n",
              "      <td>0.000924</td>\n",
              "      <td>0.081880</td>\n",
              "      <td>...</td>\n",
              "      <td>0.805025</td>\n",
              "      <td>1.000000</td>\n",
              "      <td>0.563866</td>\n",
              "      <td>0.722878</td>\n",
              "      <td>-0.039575</td>\n",
              "      <td>0.013718</td>\n",
              "      <td>0.109590</td>\n",
              "      <td>0.085224</td>\n",
              "      <td>0.060356</td>\n",
              "      <td>0.029014</td>\n",
              "    </tr>\n",
              "    <tr>\n",
              "      <th>property_claim</th>\n",
              "      <td>0.034940</td>\n",
              "      <td>0.060898</td>\n",
              "      <td>0.001995</td>\n",
              "      <td>0.008406</td>\n",
              "      <td>-0.042216</td>\n",
              "      <td>0.055172</td>\n",
              "      <td>-0.011654</td>\n",
              "      <td>-0.024954</td>\n",
              "      <td>-0.014868</td>\n",
              "      <td>0.055794</td>\n",
              "      <td>...</td>\n",
              "      <td>0.810686</td>\n",
              "      <td>0.563866</td>\n",
              "      <td>1.000000</td>\n",
              "      <td>0.732090</td>\n",
              "      <td>-0.042030</td>\n",
              "      <td>0.014508</td>\n",
              "      <td>0.149592</td>\n",
              "      <td>0.077934</td>\n",
              "      <td>0.024563</td>\n",
              "      <td>0.007332</td>\n",
              "    </tr>\n",
              "    <tr>\n",
              "      <th>vehicle_claim</th>\n",
              "      <td>0.061013</td>\n",
              "      <td>0.062588</td>\n",
              "      <td>0.001994</td>\n",
              "      <td>0.001425</td>\n",
              "      <td>-0.046791</td>\n",
              "      <td>0.000502</td>\n",
              "      <td>0.020246</td>\n",
              "      <td>-0.039004</td>\n",
              "      <td>-0.029609</td>\n",
              "      <td>0.068348</td>\n",
              "      <td>...</td>\n",
              "      <td>0.982773</td>\n",
              "      <td>0.722878</td>\n",
              "      <td>0.732090</td>\n",
              "      <td>1.000000</td>\n",
              "      <td>-0.059427</td>\n",
              "      <td>0.042768</td>\n",
              "      <td>0.176729</td>\n",
              "      <td>0.075074</td>\n",
              "      <td>0.041034</td>\n",
              "      <td>-0.006256</td>\n",
              "    </tr>\n",
              "    <tr>\n",
              "      <th>auto_make</th>\n",
              "      <td>0.047655</td>\n",
              "      <td>0.030410</td>\n",
              "      <td>0.004505</td>\n",
              "      <td>0.017124</td>\n",
              "      <td>-0.004701</td>\n",
              "      <td>-0.030775</td>\n",
              "      <td>0.000045</td>\n",
              "      <td>-0.007169</td>\n",
              "      <td>0.026457</td>\n",
              "      <td>0.055202</td>\n",
              "      <td>...</td>\n",
              "      <td>-0.057508</td>\n",
              "      <td>-0.039575</td>\n",
              "      <td>-0.042030</td>\n",
              "      <td>-0.059427</td>\n",
              "      <td>1.000000</td>\n",
              "      <td>-0.004939</td>\n",
              "      <td>-0.028433</td>\n",
              "      <td>0.029039</td>\n",
              "      <td>-0.044236</td>\n",
              "      <td>-0.027028</td>\n",
              "    </tr>\n",
              "    <tr>\n",
              "      <th>car_age</th>\n",
              "      <td>0.000292</td>\n",
              "      <td>-0.001354</td>\n",
              "      <td>0.015409</td>\n",
              "      <td>-0.002114</td>\n",
              "      <td>0.033082</td>\n",
              "      <td>-0.024921</td>\n",
              "      <td>0.049226</td>\n",
              "      <td>-0.010528</td>\n",
              "      <td>0.028247</td>\n",
              "      <td>-0.043509</td>\n",
              "      <td>...</td>\n",
              "      <td>0.035781</td>\n",
              "      <td>0.013718</td>\n",
              "      <td>0.014508</td>\n",
              "      <td>0.042768</td>\n",
              "      <td>-0.004939</td>\n",
              "      <td>1.000000</td>\n",
              "      <td>0.020173</td>\n",
              "      <td>-0.011931</td>\n",
              "      <td>-0.014386</td>\n",
              "      <td>0.023345</td>\n",
              "    </tr>\n",
              "    <tr>\n",
              "      <th>fraud_reported</th>\n",
              "      <td>0.003099</td>\n",
              "      <td>-0.008350</td>\n",
              "      <td>0.001286</td>\n",
              "      <td>0.022229</td>\n",
              "      <td>-0.021603</td>\n",
              "      <td>0.009742</td>\n",
              "      <td>-0.028017</td>\n",
              "      <td>0.056474</td>\n",
              "      <td>0.029450</td>\n",
              "      <td>-0.012460</td>\n",
              "      <td>...</td>\n",
              "      <td>0.174020</td>\n",
              "      <td>0.109590</td>\n",
              "      <td>0.149592</td>\n",
              "      <td>0.176729</td>\n",
              "      <td>-0.028433</td>\n",
              "      <td>0.020173</td>\n",
              "      <td>1.000000</td>\n",
              "      <td>0.021868</td>\n",
              "      <td>0.052521</td>\n",
              "      <td>0.007049</td>\n",
              "    </tr>\n",
              "    <tr>\n",
              "      <th>age_range</th>\n",
              "      <td>0.878786</td>\n",
              "      <td>0.952810</td>\n",
              "      <td>0.042162</td>\n",
              "      <td>-0.018573</td>\n",
              "      <td>-0.014583</td>\n",
              "      <td>0.019402</td>\n",
              "      <td>-0.000656</td>\n",
              "      <td>0.024061</td>\n",
              "      <td>0.064127</td>\n",
              "      <td>-0.018946</td>\n",
              "      <td>...</td>\n",
              "      <td>0.083702</td>\n",
              "      <td>0.085224</td>\n",
              "      <td>0.077934</td>\n",
              "      <td>0.075074</td>\n",
              "      <td>0.029039</td>\n",
              "      <td>-0.011931</td>\n",
              "      <td>0.021868</td>\n",
              "      <td>1.000000</td>\n",
              "      <td>-0.045066</td>\n",
              "      <td>0.074953</td>\n",
              "    </tr>\n",
              "    <tr>\n",
              "      <th>policy_ann_cost_ranges</th>\n",
              "      <td>-0.045173</td>\n",
              "      <td>-0.058609</td>\n",
              "      <td>-0.003898</td>\n",
              "      <td>-0.008558</td>\n",
              "      <td>-0.045064</td>\n",
              "      <td>-0.074582</td>\n",
              "      <td>-0.551214</td>\n",
              "      <td>-0.044298</td>\n",
              "      <td>-0.021104</td>\n",
              "      <td>-0.015940</td>\n",
              "      <td>...</td>\n",
              "      <td>0.045000</td>\n",
              "      <td>0.060356</td>\n",
              "      <td>0.024563</td>\n",
              "      <td>0.041034</td>\n",
              "      <td>-0.044236</td>\n",
              "      <td>-0.014386</td>\n",
              "      <td>0.052521</td>\n",
              "      <td>-0.045066</td>\n",
              "      <td>1.000000</td>\n",
              "      <td>0.036457</td>\n",
              "    </tr>\n",
              "    <tr>\n",
              "      <th>insured_relationship</th>\n",
              "      <td>0.069727</td>\n",
              "      <td>0.074832</td>\n",
              "      <td>0.007592</td>\n",
              "      <td>-0.018506</td>\n",
              "      <td>-0.030063</td>\n",
              "      <td>-0.025468</td>\n",
              "      <td>0.001925</td>\n",
              "      <td>0.073487</td>\n",
              "      <td>0.002855</td>\n",
              "      <td>-0.023488</td>\n",
              "      <td>...</td>\n",
              "      <td>0.002229</td>\n",
              "      <td>0.029014</td>\n",
              "      <td>0.007332</td>\n",
              "      <td>-0.006256</td>\n",
              "      <td>-0.027028</td>\n",
              "      <td>0.023345</td>\n",
              "      <td>0.007049</td>\n",
              "      <td>0.074953</td>\n",
              "      <td>0.036457</td>\n",
              "      <td>1.000000</td>\n",
              "    </tr>\n",
              "  </tbody>\n",
              "</table>\n",
              "<p>32 rows × 32 columns</p>\n",
              "</div>\n",
              "      <button class=\"colab-df-convert\" onclick=\"convertToInteractive('df-a05d9354-36a6-453e-ba9c-6ee6935355b6')\"\n",
              "              title=\"Convert this dataframe to an interactive table.\"\n",
              "              style=\"display:none;\">\n",
              "        \n",
              "  <svg xmlns=\"http://www.w3.org/2000/svg\" height=\"24px\"viewBox=\"0 0 24 24\"\n",
              "       width=\"24px\">\n",
              "    <path d=\"M0 0h24v24H0V0z\" fill=\"none\"/>\n",
              "    <path d=\"M18.56 5.44l.94 2.06.94-2.06 2.06-.94-2.06-.94-.94-2.06-.94 2.06-2.06.94zm-11 1L8.5 8.5l.94-2.06 2.06-.94-2.06-.94L8.5 2.5l-.94 2.06-2.06.94zm10 10l.94 2.06.94-2.06 2.06-.94-2.06-.94-.94-2.06-.94 2.06-2.06.94z\"/><path d=\"M17.41 7.96l-1.37-1.37c-.4-.4-.92-.59-1.43-.59-.52 0-1.04.2-1.43.59L10.3 9.45l-7.72 7.72c-.78.78-.78 2.05 0 2.83L4 21.41c.39.39.9.59 1.41.59.51 0 1.02-.2 1.41-.59l7.78-7.78 2.81-2.81c.8-.78.8-2.07 0-2.86zM5.41 20L4 18.59l7.72-7.72 1.47 1.35L5.41 20z\"/>\n",
              "  </svg>\n",
              "      </button>\n",
              "      \n",
              "  <style>\n",
              "    .colab-df-container {\n",
              "      display:flex;\n",
              "      flex-wrap:wrap;\n",
              "      gap: 12px;\n",
              "    }\n",
              "\n",
              "    .colab-df-convert {\n",
              "      background-color: #E8F0FE;\n",
              "      border: none;\n",
              "      border-radius: 50%;\n",
              "      cursor: pointer;\n",
              "      display: none;\n",
              "      fill: #1967D2;\n",
              "      height: 32px;\n",
              "      padding: 0 0 0 0;\n",
              "      width: 32px;\n",
              "    }\n",
              "\n",
              "    .colab-df-convert:hover {\n",
              "      background-color: #E2EBFA;\n",
              "      box-shadow: 0px 1px 2px rgba(60, 64, 67, 0.3), 0px 1px 3px 1px rgba(60, 64, 67, 0.15);\n",
              "      fill: #174EA6;\n",
              "    }\n",
              "\n",
              "    [theme=dark] .colab-df-convert {\n",
              "      background-color: #3B4455;\n",
              "      fill: #D2E3FC;\n",
              "    }\n",
              "\n",
              "    [theme=dark] .colab-df-convert:hover {\n",
              "      background-color: #434B5C;\n",
              "      box-shadow: 0px 1px 3px 1px rgba(0, 0, 0, 0.15);\n",
              "      filter: drop-shadow(0px 1px 2px rgba(0, 0, 0, 0.3));\n",
              "      fill: #FFFFFF;\n",
              "    }\n",
              "  </style>\n",
              "\n",
              "      <script>\n",
              "        const buttonEl =\n",
              "          document.querySelector('#df-a05d9354-36a6-453e-ba9c-6ee6935355b6 button.colab-df-convert');\n",
              "        buttonEl.style.display =\n",
              "          google.colab.kernel.accessAllowed ? 'block' : 'none';\n",
              "\n",
              "        async function convertToInteractive(key) {\n",
              "          const element = document.querySelector('#df-a05d9354-36a6-453e-ba9c-6ee6935355b6');\n",
              "          const dataTable =\n",
              "            await google.colab.kernel.invokeFunction('convertToInteractive',\n",
              "                                                     [key], {});\n",
              "          if (!dataTable) return;\n",
              "\n",
              "          const docLinkHtml = 'Like what you see? Visit the ' +\n",
              "            '<a target=\"_blank\" href=https://colab.research.google.com/notebooks/data_table.ipynb>data table notebook</a>'\n",
              "            + ' to learn more about interactive tables.';\n",
              "          element.innerHTML = '';\n",
              "          dataTable['output_type'] = 'display_data';\n",
              "          await google.colab.output.renderOutput(dataTable, element);\n",
              "          const docLink = document.createElement('div');\n",
              "          docLink.innerHTML = docLinkHtml;\n",
              "          element.appendChild(docLink);\n",
              "        }\n",
              "      </script>\n",
              "    </div>\n",
              "  </div>\n",
              "  "
            ]
          },
          "metadata": {},
          "execution_count": 113
        }
      ]
    },
    {
      "cell_type": "code",
      "source": [
        "import seaborn as sns\n",
        "import matplotlib.pyplot as plt\n",
        "\n",
        "plt.figure(figsize=(25, 15))\n",
        "heatmap = sns.heatmap(df.corr(), vmin=-1, vmax=1, annot=True, cmap='BrBG')\n",
        "heatmap.set_title('Correlation Heatmap', fontdict={'fontsize':18}, pad=12);"
      ],
      "metadata": {
        "colab": {
          "base_uri": "https://localhost:8080/",
          "height": 596
        },
        "id": "aqO9Ri5gfmIj",
        "outputId": "25fcfbe1-2784-46a8-9913-f97696a3d880"
      },
      "execution_count": 85,
      "outputs": [
        {
          "output_type": "display_data",
          "data": {
            "text/plain": [
              "<Figure size 1800x1080 with 2 Axes>"
            ],
            "image/png": "[encoded data removed]"
          },
          "metadata": {
            "needs_background": "light"
          }
        }
      ]
    },
    {
      "cell_type": "code",
      "source": [
        "#split dataset in features and target variable\n",
        "feature_cols = ['umbrella_limit','number_of_vehicles_involved','witnesses','total_claim_amount','injury_claim','property_claim','vehicle_claim', 'policy_ann_cost_ranges','age_range','insured_sex']\n",
        "X = df[feature_cols] # Features\n",
        "y = df.fraud_reported # Target variable\n",
        "\n",
        "#print(df1[feature_cols])\n",
        "print(df.fraud_reported)"
      ],
      "metadata": {
        "colab": {
          "base_uri": "https://localhost:8080/"
        },
        "id": "s_m2qddIWMgS",
        "outputId": "84d29f94-ea20-4d4d-f14d-9d0f18468dec"
      },
      "execution_count": null,
      "outputs": [
        {
          "output_type": "stream",
          "name": "stdout",
          "text": [
            "0      1\n",
            "1      1\n",
            "2      0\n",
            "3      1\n",
            "4      0\n",
            "      ..\n",
            "995    0\n",
            "996    0\n",
            "997    0\n",
            "998    0\n",
            "999    0\n",
            "Name: fraud_reported, Length: 1000, dtype: int64\n"
          ]
        }
      ]
    },
    {
      "cell_type": "markdown",
      "source": [
        "##**K-NN MODELING**"
      ],
      "metadata": {
        "id": "pD-yWAwviBG2"
      }
    },
    {
      "cell_type": "code",
      "source": [
        "# split X and y into training and testing sets\n",
        "from sklearn.model_selection import train_test_split\n",
        "\n",
        "X_train, X_test, y_train, y_test = train_test_split(X, y, test_size=0.10, random_state=8)\n"
      ],
      "metadata": {
        "id": "_jN_HiFpmaH5"
      },
      "execution_count": null,
      "outputs": []
    },
    {
      "cell_type": "code",
      "source": [
        "# Feature Scaling\n",
        "import numpy as np\n",
        "from sklearn import linear_model, decomposition, datasets\n",
        "from sklearn.pipeline import Pipeline\n",
        "from sklearn.model_selection import GridSearchCV\n",
        "from sklearn.preprocessing import StandardScaler\n",
        "scaler = StandardScaler(with_mean=False)\n",
        "X_train = scaler.fit_transform(X_train)\n",
        "X_test = scaler.transform(X_test)"
      ],
      "metadata": {
        "id": "zvcPpdIbmfcQ"
      },
      "execution_count": null,
      "outputs": []
    },
    {
      "cell_type": "code",
      "source": [
        "#Obtain the pairs candiate value and metric value \n",
        "\n",
        "from sklearn.neighbors import KNeighborsRegressor\n",
        "from sklearn.metrics import mean_absolute_error\n",
        "\n",
        "X_train, X_val, y_train, y_val = train_test_split(X_train, y_train, test_size=0.15, random_state=13)\n",
        "\n",
        "candidates = np.arange(4,16)\n",
        "mae_metrics = []\n",
        "for k in candidates:\n",
        "    model = KNeighborsRegressor(n_neighbors=k, weights='distance', metric='minkowski', leaf_size=50, n_jobs=4)\n",
        "    model.fit(X_train, y_train)\n",
        "    y_pred = model.predict(X_val)\n",
        "    metric = mean_absolute_error(y_true=y_val, y_pred=y_pred)\n",
        "    mae_metrics.append(metric)"
      ],
      "metadata": {
        "id": "aamJhf4Hmi6J"
      },
      "execution_count": null,
      "outputs": []
    },
    {
      "cell_type": "code",
      "source": [
        "#Visualize MAE associated with each K value\n",
        "fig, ax = plt.subplots(figsize=(8,5))\n",
        "ax.plot(candidates, mae_metrics)\n",
        "ax.set_xlabel('Hyper-parameter K', fontsize=14)\n",
        "ax.set_ylabel('MAE', fontsize=14)\n",
        "ax.grid();"
      ],
      "metadata": {
        "colab": {
          "base_uri": "https://localhost:8080/",
          "height": 338
        },
        "id": "zwZKhI8TmtfO",
        "outputId": "734264f1-598d-445b-88bd-02c165763893"
      },
      "execution_count": null,
      "outputs": [
        {
          "output_type": "display_data",
          "data": {
            "text/plain": [
              "<Figure size 576x360 with 1 Axes>"
            ],
            "image/png": "[encoded data removed]"
          },
          "metadata": {
            "needs_background": "light"
          }
        }
      ]
    },
    {
      "cell_type": "code",
      "source": [
        "# Feature Scaling\n",
        "import numpy as np\n",
        "from sklearn import linear_model, decomposition, datasets\n",
        "from sklearn.pipeline import Pipeline\n",
        "from sklearn.model_selection import GridSearchCV\n",
        "from sklearn.preprocessing import StandardScaler\n",
        "X_train, X_test, y_train, y_test = train_test_split(X, y, test_size=0.1, random_state=7)\n",
        "scaler = StandardScaler(with_mean=False)\n",
        "X_train = scaler.fit_transform(X_train)\n",
        "X_test = scaler.transform(X_test)"
      ],
      "metadata": {
        "id": "vDVOeyPAn2-b"
      },
      "execution_count": null,
      "outputs": []
    },
    {
      "cell_type": "code",
      "source": [
        "#Use 10-fold cross-validation to get the metrics\n",
        "from sklearn.model_selection import cross_val_score\n",
        "candidates = np.arange(4,16)\n",
        "mean_mae = []\n",
        "std_mae = []\n",
        "for k in candidates:\n",
        "    model = KNeighborsRegressor(n_neighbors=k, weights='distance', metric='minkowski', leaf_size=50, n_jobs=4)\n",
        "    cv_results = cross_val_score(model, X_train, y_train, scoring='neg_mean_absolute_error', cv=10)\n",
        "    mean_score, std_score = -1*cv_results.mean(), cv_results.std()\n",
        "    mean_mae.append(mean_score)\n",
        "    std_mae.append(std_score)"
      ],
      "metadata": {
        "id": "oNU-E-0rniiU"
      },
      "execution_count": null,
      "outputs": []
    },
    {
      "cell_type": "code",
      "source": [
        "#Visualize cross-validated MAE\n",
        "fig, ax = plt.subplots(figsize=(8,5))\n",
        "ax.plot(candidates, mean_mae, \"o-\")\n",
        "ax.set_xlabel('Hyper-parameter K', fontsize=14)\n",
        "ax.set_ylabel('Mean MAE', fontsize=14)\n",
        "ax.set_xticks(candidates)\n",
        "ax.grid();"
      ],
      "metadata": {
        "colab": {
          "base_uri": "https://localhost:8080/",
          "height": 338
        },
        "id": "GRWASO0KnsUF",
        "outputId": "6771b487-44ed-4051-a02b-149bfaf39108"
      },
      "execution_count": null,
      "outputs": [
        {
          "output_type": "display_data",
          "data": {
            "text/plain": [
              "<Figure size 576x360 with 1 Axes>"
            ],
            "image/png": "[encoded data removed]"
          },
          "metadata": {
            "needs_background": "light"
          }
        }
      ]
    },
    {
      "cell_type": "code",
      "source": [
        "#the standard deviation of each of the 10 MAE estimations\n",
        "fig, ax = plt.subplots(figsize=(8,5))\n",
        "ax.plot(candidates, std_mae, \"o-\")\n",
        "ax.set_xlabel('Hyper-parameter K', fontsize=14)\n",
        "ax.set_ylabel('Standard deviation of MAE', fontsize=14)\n",
        "ax.set_xticks(candidates)\n",
        "ax.grid();"
      ],
      "metadata": {
        "colab": {
          "base_uri": "https://localhost:8080/",
          "height": 339
        },
        "id": "l9R1j4fln89P",
        "outputId": "042b9517-1eb0-43b2-dbe8-e0320218111b"
      },
      "execution_count": null,
      "outputs": [
        {
          "output_type": "display_data",
          "data": {
            "text/plain": [
              "<Figure size 576x360 with 1 Axes>"
            ],
            "image/png": "[encoded data removed]"
          },
          "metadata": {
            "needs_background": "light"
          }
        }
      ]
    },
    {
      "cell_type": "code",
      "source": [
        "from sklearn.neighbors import KNeighborsClassifier\n",
        "knn = KNeighborsClassifier()\n",
        "knn"
      ],
      "metadata": {
        "colab": {
          "base_uri": "https://localhost:8080/",
          "height": 74
        },
        "id": "mn1M9BavoB8m",
        "outputId": "5f59b624-0024-44c1-d23c-1112d86d54a3"
      },
      "execution_count": null,
      "outputs": [
        {
          "output_type": "execute_result",
          "data": {
            "text/plain": [
              "KNeighborsClassifier()"
            ],
            "text/html": [
              "<style>#sk-container-id-18 {color: black;background-color: white;}#sk-container-id-18 pre{padding: 0;}#sk-container-id-18 div.sk-toggleable {background-color: white;}#sk-container-id-18 label.sk-toggleable__label {cursor: pointer;display: block;width: 100%;margin-bottom: 0;padding: 0.3em;box-sizing: border-box;text-align: center;}#sk-container-id-18 label.sk-toggleable__label-arrow:before {content: \"▸\";float: left;margin-right: 0.25em;color: #696969;}#sk-container-id-18 label.sk-toggleable__label-arrow:hover:before {color: black;}#sk-container-id-18 div.sk-estimator:hover label.sk-toggleable__label-arrow:before {color: black;}#sk-container-id-18 div.sk-toggleable__content {max-height: 0;max-width: 0;overflow: hidden;text-align: left;background-color: #f0f8ff;}#sk-container-id-18 div.sk-toggleable__content pre {margin: 0.2em;color: black;border-radius: 0.25em;background-color: #f0f8ff;}#sk-container-id-18 input.sk-toggleable__control:checked~div.sk-toggleable__content {max-height: 200px;max-width: 100%;overflow: auto;}#sk-container-id-18 input.sk-toggleable__control:checked~label.sk-toggleable__label-arrow:before {content: \"▾\";}#sk-container-id-18 div.sk-estimator input.sk-toggleable__control:checked~label.sk-toggleable__label {background-color: #d4ebff;}#sk-container-id-18 div.sk-label input.sk-toggleable__control:checked~label.sk-toggleable__label {background-color: #d4ebff;}#sk-container-id-18 input.sk-hidden--visually {border: 0;clip: rect(1px 1px 1px 1px);clip: rect(1px, 1px, 1px, 1px);height: 1px;margin: -1px;overflow: hidden;padding: 0;position: absolute;width: 1px;}#sk-container-id-18 div.sk-estimator {font-family: monospace;background-color: #f0f8ff;border: 1px dotted black;border-radius: 0.25em;box-sizing: border-box;margin-bottom: 0.5em;}#sk-container-id-18 div.sk-estimator:hover {background-color: #d4ebff;}#sk-container-id-18 div.sk-parallel-item::after {content: \"\";width: 100%;border-bottom: 1px solid gray;flex-grow: 1;}#sk-container-id-18 div.sk-label:hover label.sk-toggleable__label {background-color: #d4ebff;}#sk-container-id-18 div.sk-serial::before {content: \"\";position: absolute;border-left: 1px solid gray;box-sizing: border-box;top: 0;bottom: 0;left: 50%;z-index: 0;}#sk-container-id-18 div.sk-serial {display: flex;flex-direction: column;align-items: center;background-color: white;padding-right: 0.2em;padding-left: 0.2em;position: relative;}#sk-container-id-18 div.sk-item {position: relative;z-index: 1;}#sk-container-id-18 div.sk-parallel {display: flex;align-items: stretch;justify-content: center;background-color: white;position: relative;}#sk-container-id-18 div.sk-item::before, #sk-container-id-18 div.sk-parallel-item::before {content: \"\";position: absolute;border-left: 1px solid gray;box-sizing: border-box;top: 0;bottom: 0;left: 50%;z-index: -1;}#sk-container-id-18 div.sk-parallel-item {display: flex;flex-direction: column;z-index: 1;position: relative;background-color: white;}#sk-container-id-18 div.sk-parallel-item:first-child::after {align-self: flex-end;width: 50%;}#sk-container-id-18 div.sk-parallel-item:last-child::after {align-self: flex-start;width: 50%;}#sk-container-id-18 div.sk-parallel-item:only-child::after {width: 0;}#sk-container-id-18 div.sk-dashed-wrapped {border: 1px dashed gray;margin: 0 0.4em 0.5em 0.4em;box-sizing: border-box;padding-bottom: 0.4em;background-color: white;}#sk-container-id-18 div.sk-label label {font-family: monospace;font-weight: bold;display: inline-block;line-height: 1.2em;}#sk-container-id-18 div.sk-label-container {text-align: center;}#sk-container-id-18 div.sk-container {/* jupyter's `normalize.less` sets `[hidden] { display: none; }` but bootstrap.min.css set `[hidden] { display: none !important; }` so we also need the `!important` here to be able to override the default hidden behavior on the sphinx rendered scikit-learn.org. See: https://github.com/scikit-learn/scikit-learn/issues/21755 */display: inline-block !important;position: relative;}#sk-container-id-18 div.sk-text-repr-fallback {display: none;}</style><div id=\"sk-container-id-18\" class=\"sk-top-container\"><div class=\"sk-text-repr-fallback\"><pre>KNeighborsClassifier()</pre><b>In a Jupyter environment, please rerun this cell to show the HTML representation or trust the notebook. <br />On GitHub, the HTML representation is unable to render, please try loading this page with nbviewer.org.</b></div><div class=\"sk-container\" hidden><div class=\"sk-item\"><div class=\"sk-estimator sk-toggleable\"><input class=\"sk-toggleable__control sk-hidden--visually\" id=\"sk-estimator-id-18\" type=\"checkbox\" checked><label for=\"sk-estimator-id-18\" class=\"sk-toggleable__label sk-toggleable__label-arrow\">KNeighborsClassifier</label><div class=\"sk-toggleable__content\"><pre>KNeighborsClassifier()</pre></div></div></div></div></div>"
            ]
          },
          "metadata": {},
          "execution_count": 350
        }
      ]
    },
    {
      "cell_type": "code",
      "source": [
        "from sklearn import metrics"
      ],
      "metadata": {
        "id": "SbbYY2kvoHMr"
      },
      "execution_count": null,
      "outputs": []
    },
    {
      "cell_type": "code",
      "source": [
        "# calculating the accuracy of models with different values of k\n",
        "mean_acc = np.zeros(20)\n",
        "for i in range(1,21):\n",
        "    #Train Model and Predict  \n",
        "    knn = KNeighborsClassifier(n_neighbors = i).fit(X_train,y_train)\n",
        "    yhat= knn.predict(X_test)\n",
        "    mean_acc[i-1] = metrics.accuracy_score(y_test, yhat)\n",
        "\n",
        "mean_acc"
      ],
      "metadata": {
        "colab": {
          "base_uri": "https://localhost:8080/"
        },
        "id": "S50gCPEOoKrm",
        "outputId": "a2aa8ffb-083e-44f3-ccc8-93843a94bd45"
      },
      "execution_count": null,
      "outputs": [
        {
          "output_type": "execute_result",
          "data": {
            "text/plain": [
              "array([0.67, 0.73, 0.73, 0.73, 0.73, 0.72, 0.73, 0.72, 0.73, 0.72, 0.73,\n",
              "       0.72, 0.72, 0.72, 0.73, 0.72, 0.73, 0.72, 0.72, 0.72])"
            ]
          },
          "metadata": {},
          "execution_count": 352
        }
      ]
    },
    {
      "cell_type": "code",
      "source": [
        "#Visualize ACCURACY AGAINST NUMBER OF NEIGHBORS \n",
        "loc = np.arange(1,21,step=1.0)\n",
        "plt.figure(figsize = (10, 6))\n",
        "plt.plot(range(1,21), mean_acc)\n",
        "plt.xticks(loc)\n",
        "plt.xlabel('Number of Neighbors ')\n",
        "plt.ylabel('Accuracy')\n",
        "plt.show()"
      ],
      "metadata": {
        "colab": {
          "base_uri": "https://localhost:8080/",
          "height": 388
        },
        "id": "wUoq69AMoSaZ",
        "outputId": "4078292f-2ef4-4646-e5f9-776af2db8cf3"
      },
      "execution_count": null,
      "outputs": [
        {
          "output_type": "display_data",
          "data": {
            "text/plain": [
              "<Figure size 720x432 with 1 Axes>"
            ],
            "image/png": "[encoded data removed]"
          },
          "metadata": {
            "needs_background": "light"
          }
        }
      ]
    },
    {
      "cell_type": "code",
      "source": [
        "from sklearn.model_selection import GridSearchCV"
      ],
      "metadata": {
        "id": "8hI4cYOFt6u_"
      },
      "execution_count": null,
      "outputs": []
    },
    {
      "cell_type": "code",
      "source": [
        "grid_params = { 'n_neighbors' : [4],\n",
        "               'weights' : ['uniform','distance'],\n",
        "               'metric' : ['minkowski','euclidean','manhattan']}"
      ],
      "metadata": {
        "id": "F6Ac9c1FuCps"
      },
      "execution_count": null,
      "outputs": []
    },
    {
      "cell_type": "code",
      "source": [
        "from sklearn.neighbors import KNeighborsClassifier\n",
        "gs = GridSearchCV(KNeighborsClassifier(), grid_params, verbose = 1, cv=3, n_jobs = -1)"
      ],
      "metadata": {
        "id": "uLQ18s4AuY3G"
      },
      "execution_count": null,
      "outputs": []
    },
    {
      "cell_type": "code",
      "source": [
        "g_res = gs.fit(X_train, y_train)"
      ],
      "metadata": {
        "colab": {
          "base_uri": "https://localhost:8080/"
        },
        "id": "PfHsGwfqucUv",
        "outputId": "70f185d0-c707-4693-f327-90ca70f4be32"
      },
      "execution_count": null,
      "outputs": [
        {
          "output_type": "stream",
          "name": "stdout",
          "text": [
            "Fitting 3 folds for each of 6 candidates, totalling 18 fits\n"
          ]
        }
      ]
    },
    {
      "cell_type": "code",
      "source": [
        "# find the best score\n",
        "g_res.best_score_"
      ],
      "metadata": {
        "colab": {
          "base_uri": "https://localhost:8080/"
        },
        "id": "Fzoz0jXrughM",
        "outputId": "1355185b-66ba-41da-da9b-5aea25ec6b7e"
      },
      "execution_count": null,
      "outputs": [
        {
          "output_type": "execute_result",
          "data": {
            "text/plain": [
              "0.7044444444444444"
            ]
          },
          "metadata": {},
          "execution_count": 358
        }
      ]
    },
    {
      "cell_type": "code",
      "source": [
        "# get the hyperparameters with the best score\n",
        "g_res.best_params_"
      ],
      "metadata": {
        "colab": {
          "base_uri": "https://localhost:8080/"
        },
        "id": "ye92ix6iwi8p",
        "outputId": "96bb16a5-2e13-41d3-9c20-9f8d6f5c75c4"
      },
      "execution_count": null,
      "outputs": [
        {
          "output_type": "execute_result",
          "data": {
            "text/plain": [
              "{'metric': 'manhattan', 'n_neighbors': 4, 'weights': 'uniform'}"
            ]
          },
          "metadata": {},
          "execution_count": 359
        }
      ]
    },
    {
      "cell_type": "code",
      "source": [
        "# use the best hyperparameters\n",
        "knn = KNeighborsClassifier(n_neighbors = 7, weights = 'uniform',algorithm = 'brute',metric = 'minkowski')\n",
        "knn.fit(X_train, y_train)\n"
      ],
      "metadata": {
        "colab": {
          "base_uri": "https://localhost:8080/",
          "height": 74
        },
        "id": "Z5o-vCI1wqDm",
        "outputId": "0f00b7b2-f773-4dc4-cb02-ac89c7c70c61"
      },
      "execution_count": null,
      "outputs": [
        {
          "output_type": "execute_result",
          "data": {
            "text/plain": [
              "KNeighborsClassifier(algorithm='brute', n_neighbors=7)"
            ],
            "text/html": [
              "<style>#sk-container-id-19 {color: black;background-color: white;}#sk-container-id-19 pre{padding: 0;}#sk-container-id-19 div.sk-toggleable {background-color: white;}#sk-container-id-19 label.sk-toggleable__label {cursor: pointer;display: block;width: 100%;margin-bottom: 0;padding: 0.3em;box-sizing: border-box;text-align: center;}#sk-container-id-19 label.sk-toggleable__label-arrow:before {content: \"▸\";float: left;margin-right: 0.25em;color: #696969;}#sk-container-id-19 label.sk-toggleable__label-arrow:hover:before {color: black;}#sk-container-id-19 div.sk-estimator:hover label.sk-toggleable__label-arrow:before {color: black;}#sk-container-id-19 div.sk-toggleable__content {max-height: 0;max-width: 0;overflow: hidden;text-align: left;background-color: #f0f8ff;}#sk-container-id-19 div.sk-toggleable__content pre {margin: 0.2em;color: black;border-radius: 0.25em;background-color: #f0f8ff;}#sk-container-id-19 input.sk-toggleable__control:checked~div.sk-toggleable__content {max-height: 200px;max-width: 100%;overflow: auto;}#sk-container-id-19 input.sk-toggleable__control:checked~label.sk-toggleable__label-arrow:before {content: \"▾\";}#sk-container-id-19 div.sk-estimator input.sk-toggleable__control:checked~label.sk-toggleable__label {background-color: #d4ebff;}#sk-container-id-19 div.sk-label input.sk-toggleable__control:checked~label.sk-toggleable__label {background-color: #d4ebff;}#sk-container-id-19 input.sk-hidden--visually {border: 0;clip: rect(1px 1px 1px 1px);clip: rect(1px, 1px, 1px, 1px);height: 1px;margin: -1px;overflow: hidden;padding: 0;position: absolute;width: 1px;}#sk-container-id-19 div.sk-estimator {font-family: monospace;background-color: #f0f8ff;border: 1px dotted black;border-radius: 0.25em;box-sizing: border-box;margin-bottom: 0.5em;}#sk-container-id-19 div.sk-estimator:hover {background-color: #d4ebff;}#sk-container-id-19 div.sk-parallel-item::after {content: \"\";width: 100%;border-bottom: 1px solid gray;flex-grow: 1;}#sk-container-id-19 div.sk-label:hover label.sk-toggleable__label {background-color: #d4ebff;}#sk-container-id-19 div.sk-serial::before {content: \"\";position: absolute;border-left: 1px solid gray;box-sizing: border-box;top: 0;bottom: 0;left: 50%;z-index: 0;}#sk-container-id-19 div.sk-serial {display: flex;flex-direction: column;align-items: center;background-color: white;padding-right: 0.2em;padding-left: 0.2em;position: relative;}#sk-container-id-19 div.sk-item {position: relative;z-index: 1;}#sk-container-id-19 div.sk-parallel {display: flex;align-items: stretch;justify-content: center;background-color: white;position: relative;}#sk-container-id-19 div.sk-item::before, #sk-container-id-19 div.sk-parallel-item::before {content: \"\";position: absolute;border-left: 1px solid gray;box-sizing: border-box;top: 0;bottom: 0;left: 50%;z-index: -1;}#sk-container-id-19 div.sk-parallel-item {display: flex;flex-direction: column;z-index: 1;position: relative;background-color: white;}#sk-container-id-19 div.sk-parallel-item:first-child::after {align-self: flex-end;width: 50%;}#sk-container-id-19 div.sk-parallel-item:last-child::after {align-self: flex-start;width: 50%;}#sk-container-id-19 div.sk-parallel-item:only-child::after {width: 0;}#sk-container-id-19 div.sk-dashed-wrapped {border: 1px dashed gray;margin: 0 0.4em 0.5em 0.4em;box-sizing: border-box;padding-bottom: 0.4em;background-color: white;}#sk-container-id-19 div.sk-label label {font-family: monospace;font-weight: bold;display: inline-block;line-height: 1.2em;}#sk-container-id-19 div.sk-label-container {text-align: center;}#sk-container-id-19 div.sk-container {/* jupyter's `normalize.less` sets `[hidden] { display: none; }` but bootstrap.min.css set `[hidden] { display: none !important; }` so we also need the `!important` here to be able to override the default hidden behavior on the sphinx rendered scikit-learn.org. See: https://github.com/scikit-learn/scikit-learn/issues/21755 */display: inline-block !important;position: relative;}#sk-container-id-19 div.sk-text-repr-fallback {display: none;}</style><div id=\"sk-container-id-19\" class=\"sk-top-container\"><div class=\"sk-text-repr-fallback\"><pre>KNeighborsClassifier(algorithm=&#x27;brute&#x27;, n_neighbors=7)</pre><b>In a Jupyter environment, please rerun this cell to show the HTML representation or trust the notebook. <br />On GitHub, the HTML representation is unable to render, please try loading this page with nbviewer.org.</b></div><div class=\"sk-container\" hidden><div class=\"sk-item\"><div class=\"sk-estimator sk-toggleable\"><input class=\"sk-toggleable__control sk-hidden--visually\" id=\"sk-estimator-id-19\" type=\"checkbox\" checked><label for=\"sk-estimator-id-19\" class=\"sk-toggleable__label sk-toggleable__label-arrow\">KNeighborsClassifier</label><div class=\"sk-toggleable__content\"><pre>KNeighborsClassifier(algorithm=&#x27;brute&#x27;, n_neighbors=7)</pre></div></div></div></div></div>"
            ]
          },
          "metadata": {},
          "execution_count": 360
        }
      ]
    },
    {
      "cell_type": "code",
      "source": [
        "# get a prediction\n",
        "y_hat = knn.predict(X_train)\n",
        "y_knn = knn.predict(X_test)"
      ],
      "metadata": {
        "id": "q5MEKFKgxGZq"
      },
      "execution_count": null,
      "outputs": []
    },
    {
      "cell_type": "code",
      "source": [
        "# Use score method to get accuracy of model\n",
        "from sklearn.metrics import accuracy_score\n",
        "print('Training set accuracy:', accuracy_score(y_train, y_hat))\n",
        "print('Test set accuracy: ',accuracy_score(y_test, y_knn))"
      ],
      "metadata": {
        "colab": {
          "base_uri": "https://localhost:8080/"
        },
        "id": "IVeaSFkKxLr9",
        "outputId": "2b57451a-d1c0-4471-8542-741c8cb787a1"
      },
      "execution_count": null,
      "outputs": [
        {
          "output_type": "stream",
          "name": "stdout",
          "text": [
            "Training set accuracy: 0.7366666666666667\n",
            "Test set accuracy:  0.73\n"
          ]
        }
      ]
    },
    {
      "cell_type": "code",
      "source": [
        "from sklearn.metrics import classification_report\n",
        "print(classification_report(y_test, y_knn))"
      ],
      "metadata": {
        "colab": {
          "base_uri": "https://localhost:8080/"
        },
        "id": "e29x03blxX_P",
        "outputId": "c9c8ba61-1fc0-483b-abf4-afcf7d38e51e"
      },
      "execution_count": null,
      "outputs": [
        {
          "output_type": "stream",
          "name": "stdout",
          "text": [
            "              precision    recall  f1-score   support\n",
            "\n",
            "           0       0.73      1.00      0.84        72\n",
            "           1       1.00      0.04      0.07        28\n",
            "\n",
            "    accuracy                           0.73       100\n",
            "   macro avg       0.86      0.52      0.46       100\n",
            "weighted avg       0.80      0.73      0.63       100\n",
            "\n"
          ]
        }
      ]
    },
    {
      "cell_type": "markdown",
      "source": [
        "# **Logistic Regression Model **"
      ],
      "metadata": {
        "id": "5zQ8eJH34_bB"
      }
    },
    {
      "cell_type": "code",
      "source": [
        "# split X and y into training and testing sets\n",
        "from sklearn.model_selection import train_test_split\n",
        "\n",
        "X_train, X_test, y_train, y_test = train_test_split(X, y, test_size=0.20, random_state=8)"
      ],
      "metadata": {
        "id": "uzbiajf75Arc"
      },
      "execution_count": null,
      "outputs": []
    },
    {
      "cell_type": "code",
      "source": [
        "import numpy as np\n",
        "from sklearn import linear_model, decomposition, datasets\n",
        "from sklearn.pipeline import Pipeline\n",
        "from sklearn.model_selection import GridSearchCV\n",
        "from sklearn.preprocessing import StandardScaler\n",
        "scaler = StandardScaler(with_mean=False)\n",
        "X_train = scaler.fit_transform(X_train)\n",
        "X_test = scaler.transform(X_test)"
      ],
      "metadata": {
        "id": "B5AfUDFC5O2a"
      },
      "execution_count": null,
      "outputs": []
    },
    {
      "cell_type": "code",
      "source": [
        "# import the class\n",
        "from sklearn.linear_model import LogisticRegression\n",
        "\n",
        "# instantiate the model (using the default parameters)\n",
        "logreg = LogisticRegression(random_state=16)\n",
        "\n",
        "# fit the model with data\n",
        "logreg.fit(X_train, y_train)\n",
        "\n",
        "y_pred = logreg.predict(X_test)"
      ],
      "metadata": {
        "id": "SuOxts0V5SmB"
      },
      "execution_count": null,
      "outputs": []
    },
    {
      "cell_type": "code",
      "source": [
        "print(y_pred)"
      ],
      "metadata": {
        "colab": {
          "base_uri": "https://localhost:8080/"
        },
        "id": "7uBYfaBh5UyH",
        "outputId": "1a7992a7-de15-409f-df36-10b1dd5754e6"
      },
      "execution_count": null,
      "outputs": [
        {
          "output_type": "stream",
          "name": "stdout",
          "text": [
            "[0 0 0 0 0 0 0 0 0 0 0 0 0 0 0 0 0 0 0 0 0 0 0 0 0 0 0 0 0 0 0 0 0 0 0 0 0\n",
            " 0 0 0 0 0 0 0 0 0 0 0 0 0 0 0 0 0 0 0 0 0 0 0 0 0 0 0 0 0 0 0 0 0 0 0 0 0\n",
            " 0 0 0 0 0 0 0 0 0 1 0 0 0 0 0 0 0 0 0 0 0 0 0 0 0 0 0 0 0 0 0 0 0 0 0 0 0\n",
            " 0 0 0 0 0 0 0 0 0 0 0 0 0 0 0 0 0 0 0 0 0 0 0 0 0 0 0 0 0 0 0 0 0 0 0 0 0\n",
            " 0 0 0 0 0 0 0 0 0 0 0 0 0 0 0 0 0 0 0 0 0 0 0 0 0 0 0 0 0 0 0 0 0 0 0 0 0\n",
            " 0 0 0 0 0 0 0 0 0 0 0 0 0 0 0]\n"
          ]
        }
      ]
    },
    {
      "cell_type": "code",
      "source": [
        "# find accuracy, precision, recall:\n",
        "\n",
        "from sklearn.metrics import confusion_matrix,classification_report\n",
        "new = np.asarray(y_test)\n",
        "confusion_matrix(y_pred,y_test)"
      ],
      "metadata": {
        "colab": {
          "base_uri": "https://localhost:8080/"
        },
        "id": "ohM8afvU5X2T",
        "outputId": "fa16d1d9-784a-4e9e-8393-3bf8a19bef8b"
      },
      "execution_count": null,
      "outputs": [
        {
          "output_type": "execute_result",
          "data": {
            "text/plain": [
              "array([[144,  55],\n",
              "       [  1,   0]])"
            ]
          },
          "metadata": {},
          "execution_count": 368
        }
      ]
    },
    {
      "cell_type": "code",
      "source": [
        "print(classification_report(y_pred,y_test))"
      ],
      "metadata": {
        "colab": {
          "base_uri": "https://localhost:8080/"
        },
        "id": "Wo8QXa8m5bD8",
        "outputId": "eb35c9e1-f55d-40b1-be0b-ffd65fdb970e"
      },
      "execution_count": null,
      "outputs": [
        {
          "output_type": "stream",
          "name": "stdout",
          "text": [
            "              precision    recall  f1-score   support\n",
            "\n",
            "           0       0.99      0.72      0.84       199\n",
            "           1       0.00      0.00      0.00         1\n",
            "\n",
            "    accuracy                           0.72       200\n",
            "   macro avg       0.50      0.36      0.42       200\n",
            "weighted avg       0.99      0.72      0.83       200\n",
            "\n"
          ]
        }
      ]
    },
    {
      "cell_type": "code",
      "source": [
        "# Use score method to get accuracy of model\n",
        "from sklearn.metrics import accuracy_score\n",
        "print('The accuracy of the Logistic Regression is', accuracy_score(y_pred,y_test))"
      ],
      "metadata": {
        "colab": {
          "base_uri": "https://localhost:8080/"
        },
        "id": "omfuYzaF5reN",
        "outputId": "617b54e9-21f0-41af-e545-d46cdcacf935"
      },
      "execution_count": null,
      "outputs": [
        {
          "output_type": "stream",
          "name": "stdout",
          "text": [
            "The accuracy of the Logistic Regression is 0.72\n"
          ]
        }
      ]
    },
    {
      "cell_type": "markdown",
      "source": [],
      "metadata": {
        "id": "ru9XpL-q5ufs"
      }
    },
    {
      "cell_type": "code",
      "source": [
        "from sklearn.tree import DecisionTreeClassifier\n",
        "\n",
        "dtc = DecisionTreeClassifier()\n",
        "dtc.fit(X_train, y_train)\n",
        "\n",
        "y_pred = dtc.predict(X_test)"
      ],
      "metadata": {
        "id": "QYjXHo_J55xj"
      },
      "execution_count": null,
      "outputs": []
    },
    {
      "cell_type": "code",
      "source": [
        "# accuracy_score, confusion_matrix and classification_report\n",
        "\n",
        "from sklearn.metrics import accuracy_score, confusion_matrix, classification_report\n",
        "\n",
        "dtc_train_acc = accuracy_score(y_train, dtc.predict(X_train))\n",
        "dtc_test_acc = accuracy_score(y_test, y_pred)\n",
        "\n",
        "print(f\"Training accuracy of Decision Tree is : {dtc_train_acc}\")\n",
        "print(f\"Test accuracy of Decision Tree is : {dtc_test_acc}\")\n",
        "\n",
        "print(confusion_matrix(y_test, y_pred))\n",
        "print(classification_report(y_test, y_pred))"
      ],
      "metadata": {
        "colab": {
          "base_uri": "https://localhost:8080/"
        },
        "id": "Zn676luI6SbO",
        "outputId": "6679806c-2e3b-4fbe-8b45-92f0d66e2cbe"
      },
      "execution_count": null,
      "outputs": [
        {
          "output_type": "stream",
          "name": "stdout",
          "text": [
            "Training accuracy of Decision Tree is : 1.0\n",
            "Test accuracy of Decision Tree is : 0.595\n",
            "[[101  44]\n",
            " [ 37  18]]\n",
            "              precision    recall  f1-score   support\n",
            "\n",
            "           0       0.73      0.70      0.71       145\n",
            "           1       0.29      0.33      0.31        55\n",
            "\n",
            "    accuracy                           0.59       200\n",
            "   macro avg       0.51      0.51      0.51       200\n",
            "weighted avg       0.61      0.59      0.60       200\n",
            "\n"
          ]
        }
      ]
    },
    {
      "cell_type": "code",
      "source": [],
      "metadata": {
        "id": "8Uc2-p8J6XDR"
      },
      "execution_count": null,
      "outputs": []
    },
    {
      "cell_type": "code",
      "source": [],
      "metadata": {
        "id": "L1AkiUFz6HEn"
      },
      "execution_count": null,
      "outputs": []
    }
  ]
}