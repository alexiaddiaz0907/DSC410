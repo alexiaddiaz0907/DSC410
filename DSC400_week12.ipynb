{
 "cells": [
  {
   "cell_type": "code",
   "execution_count": 1,
   "metadata": {
    "collapsed": true
   },
   "outputs": [],
   "source": [
    "from wsgiref.simple_server import make_server\n",
    "import falcon\n",
    "\n",
    "# Falcon follows the REST architectural style, meaning (among\n",
    "# other things) that you think in terms of resources and state\n",
    "# transitions, which map to HTTP verbs.\n",
    "class ClassifyResourceV1:\n",
    "    def on_get(self, req, resp):\n",
    "        # Gets the img query parameter\n",
    "        img_url = req.get_param('img')\n",
    "        # Creates a result dictionary with a single entry\n",
    "        result = dict(src_img=img_url)\n",
    "        # Sets the response content to the result dictionary\n",
    "        resp.media = result\n",
    "        \"\"\"Handles GET requests\"\"\"\n",
    "        resp.status = falcon.HTTP_200  # This is the default status\n",
    "\n",
    "\n",
    "# falcon.App instances are callable WSGI apps\n",
    "# in larger applications the app is created in a separate file\n",
    "app_v1 = falcon.App()\n",
    "\n",
    "# Resources are represented by long-lived class instances\n",
    "classify_v1 = ClassifyResourceV1()\n",
    "\n",
    "# things will handle all requests to the '/classify' URL path\n",
    "app_v1.add_route('/classify', classify_v1)"
   ]
  },
  {
   "cell_type": "code",
   "execution_count": 2,
   "outputs": [],
   "source": [
    "def run_server(app):\n",
    "    with make_server('', 9999, app) as httpd:\n",
    "        print('Serving on port 9999...')\n",
    "\n",
    "        # Serve until process is killed\n",
    "        try:\n",
    "            httpd.serve_forever()\n",
    "        except KeyboardInterrupt:\n",
    "            print('Stopping web server')\n"
   ],
   "metadata": {
    "collapsed": false
   }
  },
  {
   "cell_type": "code",
   "execution_count": 3,
   "outputs": [
    {
     "name": "stdout",
     "output_type": "stream",
     "text": [
      "Serving on port 9999...\n"
     ]
    },
    {
     "name": "stderr",
     "output_type": "stream",
     "text": [
      "127.0.0.1 - - [19/Nov/2022 19:25:58] \"GET /classify HTTP/1.1\" 200 17\n",
      "127.0.0.1 - - [19/Nov/2022 19:25:59] \"GET /favicon.ico HTTP/1.1\" 404 26\n",
      "127.0.0.1 - - [19/Nov/2022 19:26:27] \"GET /classify?img=hello HTTP/1.1\" 200 20\n"
     ]
    },
    {
     "name": "stdout",
     "output_type": "stream",
     "text": [
      "Stopping web server\n"
     ]
    },
    {
     "ename": "KeyboardInterrupt",
     "evalue": "",
     "output_type": "error",
     "traceback": [
      "\u001B[0;31m---------------------------------------------------------------------------\u001B[0m",
      "\u001B[0;31mKeyboardInterrupt\u001B[0m                         Traceback (most recent call last)",
      "\u001B[0;31mKeyboardInterrupt\u001B[0m: "
     ]
    }
   ],
   "source": [
    "run_server(app_v1)"
   ],
   "metadata": {
    "collapsed": false
   }
  },
  {
   "cell_type": "code",
   "execution_count": null,
   "outputs": [],
   "source": [
    "# Assignment 12.2 Implement a function that makes image classification predictions on an image URL.\n",
    "\n",
    "from pathlib import Path\n",
    "import tempfile\n",
    "from tensorflow.keras.applications.resnet50 import ResNet50\n",
    "from tensorflow.keras.preprocessing import image\n",
    "from tensorflow.keras.applications.resnet50 import preprocess_input, decode_predictions\n",
    "\n",
    "\n",
    "import numpy as np\n",
    "import requests\n",
    "\n",
    "import json\n",
    "\n",
    "# Downloads and loads the RestNetModel\n",
    "model = ResNet50(weights='imagenet')"
   ],
   "metadata": {
    "collapsed": false
   }
  },
  {
   "cell_type": "code",
   "execution_count": null,
   "outputs": [],
   "source": [
    "def load_img_url(img_url, target_size):\n",
    "    print('Loading image')\n",
    "    r = requests.get(img_url)\n",
    "    if r.status_code != 200:\n",
    "        print('Could not download image')\n",
    "        return None\n",
    "\n",
    "    img_suffix = '.{}'.format(img_url.split('.')[-1])\n",
    "\n",
    "    with tempfile.NamedTemporaryFile(suffix=img_suffix) as fp:\n",
    "        fp.write(r.content)\n",
    "        tf_path = Path(fp.name)\n",
    "        img = image.load_img(tf_path, target_size=target_size)\n",
    "\n",
    "    return img"
   ],
   "metadata": {
    "collapsed": false
   }
  },
  {
   "cell_type": "code",
   "execution_count": null,
   "outputs": [],
   "source": [
    "def make_prediction(model, img_url, target_size=(224, 224), top=5):\n",
    "    print('Making prediction')\n",
    "    result = dict(src_img=img_url)\n",
    "    img = load_img_url(img_url, target_size)\n",
    "    x = image.img_to_array(img)\n",
    "    x = np.expand_dims(x, axis=0)\n",
    "    x = preprocess_input(x)\n",
    "\n",
    "    preds = model.predict(x)\n",
    "\n",
    "    result['predictions'] = []\n",
    "\n",
    "    for class_name, class_description, score in decode_predictions(preds, top=top)[0]:\n",
    "        result['predictions'].append(dict(\n",
    "            class_name=str(class_name),\n",
    "            class_description=str(class_description),\n",
    "            score=float(score)\n",
    "        ))\n",
    "\n",
    "    return result"
   ],
   "metadata": {
    "collapsed": false
   }
  },
  {
   "cell_type": "code",
   "execution_count": null,
   "outputs": [],
   "source": [
    "# TODO: Test the `make_prediction` function using img_urls\n",
    "\n",
    "# TODO: Add img_urls for testing\n",
    "img_urls = ['https://stardewvalleywiki.com/mediawiki/images/9/93/Greenhouse.png']\n",
    "\n",
    "for img_url in img_urls:\n",
    "    print('Pulling images from urls')\n",
    "    result = make_prediction(model, img_url)\n",
    "    print('-----------------------------')\n",
    "    print('')\n",
    "    # Prints a pretty version of the result\n",
    "    print(json.dumps(result, indent=2))\n",
    "    print('-----------------------------')\n",
    "    print()"
   ],
   "metadata": {
    "collapsed": false
   }
  },
  {
   "cell_type": "code",
   "execution_count": null,
   "outputs": [],
   "source": [
    "class ClassifyResourceV2:\n",
    "    def on_get(self, req, resp):\n",
    "        # Gets the img query parameter\n",
    "        img_url = req.get_param('img')\n",
    "        # make prediction\n",
    "        result = make_prediction(model, img_url)\n",
    "        # Sets the response content to the result dictionary\n",
    "        resp.media = result\n",
    "\n",
    "        resp.status = falcon.HTTP_200  # This is the default status\n",
    "\n",
    "app_v2 = falcon.App()\n",
    "\n",
    "classify_v2 = ClassifyResourceV2()\n",
    "\n",
    "app_v2.add_route('/classify', classify_v2)"
   ],
   "metadata": {
    "collapsed": false
   }
  },
  {
   "cell_type": "code",
   "execution_count": null,
   "outputs": [],
   "source": [
    "run_server(app_v2)"
   ],
   "metadata": {
    "collapsed": false
   }
  }
 ],
 "metadata": {
  "kernelspec": {
   "display_name": "Python 3",
   "language": "python",
   "name": "python3"
  },
  "language_info": {
   "codemirror_mode": {
    "name": "ipython",
    "version": 2
   },
   "file_extension": ".py",
   "mimetype": "text/x-python",
   "name": "python",
   "nbconvert_exporter": "python",
   "pygments_lexer": "ipython2",
   "version": "2.7.6"
  }
 },
 "nbformat": 4,
 "nbformat_minor": 0
}
