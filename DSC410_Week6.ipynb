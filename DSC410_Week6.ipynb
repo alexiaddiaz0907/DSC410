{
  "nbformat": 4,
  "nbformat_minor": 0,
  "metadata": {
    "colab": {
      "provenance": [],
      "authorship_tag": "ABX9TyPOfO1IEZQVo+h6KQscyPSI",
      "include_colab_link": true
    },
    "kernelspec": {
      "name": "python3",
      "display_name": "Python 3"
    },
    "language_info": {
      "name": "python"
    }
  },
  "cells": [
    {
      "cell_type": "markdown",
      "metadata": {
        "id": "view-in-github",
        "colab_type": "text"
      },
      "source": [
        "<a href=\"https://colab.research.google.com/github/alexiaddiaz0907/DSC410/blob/master/DSC410_Week6.ipynb\" target=\"_parent\"><img src=\"https://colab.research.google.com/assets/colab-badge.svg\" alt=\"Open In Colab\"/></a>"
      ]
    },
    {
      "cell_type": "code",
      "execution_count": 45,
      "metadata": {
        "colab": {
          "base_uri": "https://localhost:8080/"
        },
        "id": "RVSXb_byYXh3",
        "outputId": "e15fb9ab-e37e-4042-b111-ad48e2bcf81a"
      },
      "outputs": [
        {
          "output_type": "stream",
          "name": "stdout",
          "text": [
            "    R&D Spend  Administration  Marketing Spend       State        Profit \n",
            "0   165349.20       136897.80        471784.10    New York   $192,261.83 \n",
            "1   162597.70       151377.59        443898.53  California   $191,792.06 \n",
            "2   153441.51       101145.55        407934.54          FL   $191,050.39 \n",
            "3   144372.41       118671.85        383199.62    New York   $182,901.99 \n",
            "4   142107.34        91391.77        366168.42          FL   $166,187.94 \n",
            "5   131876.90        99814.71        362861.36    New York   $156,991.12 \n",
            "6   134615.46       147198.87        127716.82  California   $156,122.51 \n",
            "7   130298.13       145530.06        323876.68          FL   $155,752.60 \n",
            "8   120542.52       148718.95        311613.29    New York   $152,211.77 \n",
            "9   123334.88       108679.17        304981.62  California   $149,759.96 \n",
            "10  101913.08       110594.11        229160.95          FL   $146,121.95 \n",
            "11  100671.96        91790.61        249744.55  California   $144,259.40 \n",
            "12   93863.75       127320.38        249839.44          FL   $141,585.52 \n",
            "13   91992.39       135495.07        252664.93  California   $134,307.35 \n",
            "14  119943.24       156547.42        256512.92          FL   $132,602.65 \n",
            "15  114523.61       122616.84        261776.23    New York   $129,917.04 \n",
            "16   78013.11       121597.55        264346.06  California   $126,992.93 \n",
            "17   94657.16       145077.58        282574.31    New York   $125,370.37 \n",
            "18   91749.16       114175.79        294919.57          FL   $124,266.90 \n",
            "19   86419.70       153514.11             0.00    New York   $122,776.86 \n",
            "20   76253.86       113867.30        298664.47  California   $118,474.03 \n",
            "21   78389.47       153773.43        299737.29    New York   $111,313.02 \n",
            "22   73994.56       122782.75        303319.26          FL   $110,352.25 \n",
            "23   67532.53       105751.03        304768.73          FL   $108,733.99 \n",
            "24   77044.01        99281.34        140574.81    New York   $108,552.04 \n",
            "25   64664.71       139553.16        137962.62  California   $107,404.34 \n",
            "26   75328.87       144135.98        134050.07          FL   $105,733.54 \n",
            "27   72107.60       127864.55        353183.81    New York   $105,008.31 \n",
            "28   66051.52       182645.56        118148.20          FL   $103,282.38 \n",
            "29   65605.48       153032.06        107138.38    New York   $101,004.64 \n",
            "30   61994.48       115641.28         91131.24          FL    $99,937.59 \n",
            "31   61136.38       152701.92         88218.23    New York    $97,483.56 \n",
            "32   63408.86       129219.61         46085.25  California    $97,427.84 \n",
            "33   55493.95       103057.49        214634.81          FL    $96,778.92 \n",
            "34   46426.07       157693.92        210797.67  California    $96,712.80 \n",
            "35   46014.02        85047.44        205517.64    New York    $96,479.51 \n",
            "36   28663.76       127056.21        201126.82          FL    $90,708.19 \n",
            "37   44069.95        51283.14        197029.42  California    $89,949.14 \n",
            "38   20229.59        65947.93        185265.10    New York    $81,229.06 \n",
            "39   38558.51        82982.09        174999.30  California    $81,005.76 \n",
            "40   28754.33       118546.05        172795.67  California    $78,239.91 \n",
            "41   27892.92        84710.77        164470.71          FL    $77,798.83 \n",
            "42   23640.93        96189.63        148001.11  California    $71,498.49 \n",
            "43   15505.73       127382.30         35534.17    New York    $69,758.98 \n",
            "44   22177.74       154806.14         28334.72  California    $65,200.33 \n",
            "45    1000.23       124153.04          1903.93    New York    $64,926.08 \n",
            "46    1315.46       115816.21        297114.46          FL    $49,490.75 \n",
            "47       0.00       135426.92             0.00  California    $42,559.73 \n",
            "48     542.05        51743.15             0.00    New York    $35,673.41 \n",
            "49       0.00       116983.80         45173.06  California    $14,681.40 \n"
          ]
        }
      ],
      "source": [
        "import pandas as pd\n",
        "import numpy as np\n",
        "import matplotlib.pyplot as plt\n",
        "\n",
        "url = 'https://raw.githubusercontent.com/bellevue-university/dsc410/main/12%20Week/week_6/data/startups_profit.csv'\n",
        "df1 = pd.read_csv(url)\n",
        "# Dataset is now stored in a Pandas Dataframe\n",
        "print(df1)"
      ]
    },
    {
      "cell_type": "markdown",
      "source": [
        "** EDA & Feature Engineering**"
      ],
      "metadata": {
        "id": "Dl7drZboeW7m"
      }
    },
    {
      "cell_type": "code",
      "source": [
        "df1.info()"
      ],
      "metadata": {
        "colab": {
          "base_uri": "https://localhost:8080/"
        },
        "id": "iWrTaG8zM5Je",
        "outputId": "5001fbe9-f3d2-43bf-82af-e8259223b136"
      },
      "execution_count": 46,
      "outputs": [
        {
          "output_type": "stream",
          "name": "stdout",
          "text": [
            "<class 'pandas.core.frame.DataFrame'>\n",
            "RangeIndex: 50 entries, 0 to 49\n",
            "Data columns (total 5 columns):\n",
            " #   Column           Non-Null Count  Dtype  \n",
            "---  ------           --------------  -----  \n",
            " 0   R&D Spend        50 non-null     float64\n",
            " 1   Administration   50 non-null     float64\n",
            " 2   Marketing Spend  50 non-null     float64\n",
            " 3   State            50 non-null     object \n",
            " 4    Profit          50 non-null     object \n",
            "dtypes: float64(3), object(2)\n",
            "memory usage: 2.1+ KB\n"
          ]
        }
      ]
    },
    {
      "cell_type": "code",
      "source": [
        "#Change state to category\n",
        "df1['State'] = pd.factorize(df1['State'])[0]\n",
        "print(df1)"
      ],
      "metadata": {
        "colab": {
          "base_uri": "https://localhost:8080/"
        },
        "id": "YbTvza6vP2oe",
        "outputId": "e6413040-42c3-409d-fdda-5b70b54f5b3f"
      },
      "execution_count": 47,
      "outputs": [
        {
          "output_type": "stream",
          "name": "stdout",
          "text": [
            "    R&D Spend  Administration  Marketing Spend  State        Profit \n",
            "0   165349.20       136897.80        471784.10      0   $192,261.83 \n",
            "1   162597.70       151377.59        443898.53      1   $191,792.06 \n",
            "2   153441.51       101145.55        407934.54      2   $191,050.39 \n",
            "3   144372.41       118671.85        383199.62      0   $182,901.99 \n",
            "4   142107.34        91391.77        366168.42      2   $166,187.94 \n",
            "5   131876.90        99814.71        362861.36      0   $156,991.12 \n",
            "6   134615.46       147198.87        127716.82      1   $156,122.51 \n",
            "7   130298.13       145530.06        323876.68      2   $155,752.60 \n",
            "8   120542.52       148718.95        311613.29      0   $152,211.77 \n",
            "9   123334.88       108679.17        304981.62      1   $149,759.96 \n",
            "10  101913.08       110594.11        229160.95      2   $146,121.95 \n",
            "11  100671.96        91790.61        249744.55      1   $144,259.40 \n",
            "12   93863.75       127320.38        249839.44      2   $141,585.52 \n",
            "13   91992.39       135495.07        252664.93      1   $134,307.35 \n",
            "14  119943.24       156547.42        256512.92      2   $132,602.65 \n",
            "15  114523.61       122616.84        261776.23      0   $129,917.04 \n",
            "16   78013.11       121597.55        264346.06      1   $126,992.93 \n",
            "17   94657.16       145077.58        282574.31      0   $125,370.37 \n",
            "18   91749.16       114175.79        294919.57      2   $124,266.90 \n",
            "19   86419.70       153514.11             0.00      0   $122,776.86 \n",
            "20   76253.86       113867.30        298664.47      1   $118,474.03 \n",
            "21   78389.47       153773.43        299737.29      0   $111,313.02 \n",
            "22   73994.56       122782.75        303319.26      2   $110,352.25 \n",
            "23   67532.53       105751.03        304768.73      2   $108,733.99 \n",
            "24   77044.01        99281.34        140574.81      0   $108,552.04 \n",
            "25   64664.71       139553.16        137962.62      1   $107,404.34 \n",
            "26   75328.87       144135.98        134050.07      2   $105,733.54 \n",
            "27   72107.60       127864.55        353183.81      0   $105,008.31 \n",
            "28   66051.52       182645.56        118148.20      2   $103,282.38 \n",
            "29   65605.48       153032.06        107138.38      0   $101,004.64 \n",
            "30   61994.48       115641.28         91131.24      2    $99,937.59 \n",
            "31   61136.38       152701.92         88218.23      0    $97,483.56 \n",
            "32   63408.86       129219.61         46085.25      1    $97,427.84 \n",
            "33   55493.95       103057.49        214634.81      2    $96,778.92 \n",
            "34   46426.07       157693.92        210797.67      1    $96,712.80 \n",
            "35   46014.02        85047.44        205517.64      0    $96,479.51 \n",
            "36   28663.76       127056.21        201126.82      2    $90,708.19 \n",
            "37   44069.95        51283.14        197029.42      1    $89,949.14 \n",
            "38   20229.59        65947.93        185265.10      0    $81,229.06 \n",
            "39   38558.51        82982.09        174999.30      1    $81,005.76 \n",
            "40   28754.33       118546.05        172795.67      1    $78,239.91 \n",
            "41   27892.92        84710.77        164470.71      2    $77,798.83 \n",
            "42   23640.93        96189.63        148001.11      1    $71,498.49 \n",
            "43   15505.73       127382.30         35534.17      0    $69,758.98 \n",
            "44   22177.74       154806.14         28334.72      1    $65,200.33 \n",
            "45    1000.23       124153.04          1903.93      0    $64,926.08 \n",
            "46    1315.46       115816.21        297114.46      2    $49,490.75 \n",
            "47       0.00       135426.92             0.00      1    $42,559.73 \n",
            "48     542.05        51743.15             0.00      0    $35,673.41 \n",
            "49       0.00       116983.80         45173.06      1    $14,681.40 \n"
          ]
        }
      ]
    },
    {
      "cell_type": "code",
      "source": [
        "df1[' Profit '] = df1[' Profit '].str.replace(',', '').str.replace('$', '').astype(float)\n",
        "print(df1.dtypes)"
      ],
      "metadata": {
        "colab": {
          "base_uri": "https://localhost:8080/"
        },
        "id": "95xGpTpAVs5Z",
        "outputId": "a91e0de8-f72d-474f-c16b-70450c714753"
      },
      "execution_count": 48,
      "outputs": [
        {
          "output_type": "stream",
          "name": "stdout",
          "text": [
            "R&D Spend          float64\n",
            "Administration     float64\n",
            "Marketing Spend    float64\n",
            "State                int64\n",
            " Profit            float64\n",
            "dtype: object\n"
          ]
        },
        {
          "output_type": "stream",
          "name": "stderr",
          "text": [
            "<ipython-input-48-d13b79f975fe>:1: FutureWarning: The default value of regex will change from True to False in a future version. In addition, single character regular expressions will *not* be treated as literal strings when regex=True.\n",
            "  df1[' Profit '] = df1[' Profit '].str.replace(',', '').str.replace('$', '').astype(float)\n"
          ]
        }
      ]
    },
    {
      "cell_type": "code",
      "source": [
        "# ID any null values\n",
        "df1.isnull().sum()"
      ],
      "metadata": {
        "colab": {
          "base_uri": "https://localhost:8080/"
        },
        "id": "WZf1oRKjNQyd",
        "outputId": "e3ab9f21-3403-4602-c8b3-7cd6b6967583"
      },
      "execution_count": 49,
      "outputs": [
        {
          "output_type": "execute_result",
          "data": {
            "text/plain": [
              "R&D Spend          0\n",
              "Administration     0\n",
              "Marketing Spend    0\n",
              "State              0\n",
              " Profit            0\n",
              "dtype: int64"
            ]
          },
          "metadata": {},
          "execution_count": 49
        }
      ]
    },
    {
      "cell_type": "code",
      "source": [
        "# ID duplicate values\n",
        "df1.duplicated().sum()"
      ],
      "metadata": {
        "colab": {
          "base_uri": "https://localhost:8080/"
        },
        "id": "9RKJL0UrOUID",
        "outputId": "93593fff-32bf-4dcf-c9b9-72ef48138103"
      },
      "execution_count": 50,
      "outputs": [
        {
          "output_type": "execute_result",
          "data": {
            "text/plain": [
              "0"
            ]
          },
          "metadata": {},
          "execution_count": 50
        }
      ]
    },
    {
      "cell_type": "code",
      "source": [
        "df1.describe()"
      ],
      "metadata": {
        "colab": {
          "base_uri": "https://localhost:8080/",
          "height": 300
        },
        "id": "LYDxcd5leZnO",
        "outputId": "7094cf1f-3c19-4b03-81f4-68e9fa7143e0"
      },
      "execution_count": 51,
      "outputs": [
        {
          "output_type": "execute_result",
          "data": {
            "text/plain": [
              "           R&D Spend  Administration  Marketing Spend      State  \\\n",
              "count      50.000000       50.000000        50.000000  50.000000   \n",
              "mean    73721.615600   121344.639600    211025.097800   0.980000   \n",
              "std     45902.256482    28017.802755    122290.310726   0.820403   \n",
              "min         0.000000    51283.140000         0.000000   0.000000   \n",
              "25%     39936.370000   103730.875000    129300.132500   0.000000   \n",
              "50%     73051.080000   122699.795000    212716.240000   1.000000   \n",
              "75%    101602.800000   144842.180000    299469.085000   2.000000   \n",
              "max    165349.200000   182645.560000    471784.100000   2.000000   \n",
              "\n",
              "             Profit   \n",
              "count      50.000000  \n",
              "mean   112012.639200  \n",
              "std     40306.180338  \n",
              "min     14681.400000  \n",
              "25%     90138.902500  \n",
              "50%    107978.190000  \n",
              "75%    139765.977500  \n",
              "max    192261.830000  "
            ],
            "text/html": [
              "\n",
              "  <div id=\"df-a9258517-0f79-4793-8e53-c316fbd808d6\">\n",
              "    <div class=\"colab-df-container\">\n",
              "      <div>\n",
              "<style scoped>\n",
              "    .dataframe tbody tr th:only-of-type {\n",
              "        vertical-align: middle;\n",
              "    }\n",
              "\n",
              "    .dataframe tbody tr th {\n",
              "        vertical-align: top;\n",
              "    }\n",
              "\n",
              "    .dataframe thead th {\n",
              "        text-align: right;\n",
              "    }\n",
              "</style>\n",
              "<table border=\"1\" class=\"dataframe\">\n",
              "  <thead>\n",
              "    <tr style=\"text-align: right;\">\n",
              "      <th></th>\n",
              "      <th>R&amp;D Spend</th>\n",
              "      <th>Administration</th>\n",
              "      <th>Marketing Spend</th>\n",
              "      <th>State</th>\n",
              "      <th>Profit</th>\n",
              "    </tr>\n",
              "  </thead>\n",
              "  <tbody>\n",
              "    <tr>\n",
              "      <th>count</th>\n",
              "      <td>50.000000</td>\n",
              "      <td>50.000000</td>\n",
              "      <td>50.000000</td>\n",
              "      <td>50.000000</td>\n",
              "      <td>50.000000</td>\n",
              "    </tr>\n",
              "    <tr>\n",
              "      <th>mean</th>\n",
              "      <td>73721.615600</td>\n",
              "      <td>121344.639600</td>\n",
              "      <td>211025.097800</td>\n",
              "      <td>0.980000</td>\n",
              "      <td>112012.639200</td>\n",
              "    </tr>\n",
              "    <tr>\n",
              "      <th>std</th>\n",
              "      <td>45902.256482</td>\n",
              "      <td>28017.802755</td>\n",
              "      <td>122290.310726</td>\n",
              "      <td>0.820403</td>\n",
              "      <td>40306.180338</td>\n",
              "    </tr>\n",
              "    <tr>\n",
              "      <th>min</th>\n",
              "      <td>0.000000</td>\n",
              "      <td>51283.140000</td>\n",
              "      <td>0.000000</td>\n",
              "      <td>0.000000</td>\n",
              "      <td>14681.400000</td>\n",
              "    </tr>\n",
              "    <tr>\n",
              "      <th>25%</th>\n",
              "      <td>39936.370000</td>\n",
              "      <td>103730.875000</td>\n",
              "      <td>129300.132500</td>\n",
              "      <td>0.000000</td>\n",
              "      <td>90138.902500</td>\n",
              "    </tr>\n",
              "    <tr>\n",
              "      <th>50%</th>\n",
              "      <td>73051.080000</td>\n",
              "      <td>122699.795000</td>\n",
              "      <td>212716.240000</td>\n",
              "      <td>1.000000</td>\n",
              "      <td>107978.190000</td>\n",
              "    </tr>\n",
              "    <tr>\n",
              "      <th>75%</th>\n",
              "      <td>101602.800000</td>\n",
              "      <td>144842.180000</td>\n",
              "      <td>299469.085000</td>\n",
              "      <td>2.000000</td>\n",
              "      <td>139765.977500</td>\n",
              "    </tr>\n",
              "    <tr>\n",
              "      <th>max</th>\n",
              "      <td>165349.200000</td>\n",
              "      <td>182645.560000</td>\n",
              "      <td>471784.100000</td>\n",
              "      <td>2.000000</td>\n",
              "      <td>192261.830000</td>\n",
              "    </tr>\n",
              "  </tbody>\n",
              "</table>\n",
              "</div>\n",
              "      <button class=\"colab-df-convert\" onclick=\"convertToInteractive('df-a9258517-0f79-4793-8e53-c316fbd808d6')\"\n",
              "              title=\"Convert this dataframe to an interactive table.\"\n",
              "              style=\"display:none;\">\n",
              "        \n",
              "  <svg xmlns=\"http://www.w3.org/2000/svg\" height=\"24px\"viewBox=\"0 0 24 24\"\n",
              "       width=\"24px\">\n",
              "    <path d=\"M0 0h24v24H0V0z\" fill=\"none\"/>\n",
              "    <path d=\"M18.56 5.44l.94 2.06.94-2.06 2.06-.94-2.06-.94-.94-2.06-.94 2.06-2.06.94zm-11 1L8.5 8.5l.94-2.06 2.06-.94-2.06-.94L8.5 2.5l-.94 2.06-2.06.94zm10 10l.94 2.06.94-2.06 2.06-.94-2.06-.94-.94-2.06-.94 2.06-2.06.94z\"/><path d=\"M17.41 7.96l-1.37-1.37c-.4-.4-.92-.59-1.43-.59-.52 0-1.04.2-1.43.59L10.3 9.45l-7.72 7.72c-.78.78-.78 2.05 0 2.83L4 21.41c.39.39.9.59 1.41.59.51 0 1.02-.2 1.41-.59l7.78-7.78 2.81-2.81c.8-.78.8-2.07 0-2.86zM5.41 20L4 18.59l7.72-7.72 1.47 1.35L5.41 20z\"/>\n",
              "  </svg>\n",
              "      </button>\n",
              "      \n",
              "  <style>\n",
              "    .colab-df-container {\n",
              "      display:flex;\n",
              "      flex-wrap:wrap;\n",
              "      gap: 12px;\n",
              "    }\n",
              "\n",
              "    .colab-df-convert {\n",
              "      background-color: #E8F0FE;\n",
              "      border: none;\n",
              "      border-radius: 50%;\n",
              "      cursor: pointer;\n",
              "      display: none;\n",
              "      fill: #1967D2;\n",
              "      height: 32px;\n",
              "      padding: 0 0 0 0;\n",
              "      width: 32px;\n",
              "    }\n",
              "\n",
              "    .colab-df-convert:hover {\n",
              "      background-color: #E2EBFA;\n",
              "      box-shadow: 0px 1px 2px rgba(60, 64, 67, 0.3), 0px 1px 3px 1px rgba(60, 64, 67, 0.15);\n",
              "      fill: #174EA6;\n",
              "    }\n",
              "\n",
              "    [theme=dark] .colab-df-convert {\n",
              "      background-color: #3B4455;\n",
              "      fill: #D2E3FC;\n",
              "    }\n",
              "\n",
              "    [theme=dark] .colab-df-convert:hover {\n",
              "      background-color: #434B5C;\n",
              "      box-shadow: 0px 1px 3px 1px rgba(0, 0, 0, 0.15);\n",
              "      filter: drop-shadow(0px 1px 2px rgba(0, 0, 0, 0.3));\n",
              "      fill: #FFFFFF;\n",
              "    }\n",
              "  </style>\n",
              "\n",
              "      <script>\n",
              "        const buttonEl =\n",
              "          document.querySelector('#df-a9258517-0f79-4793-8e53-c316fbd808d6 button.colab-df-convert');\n",
              "        buttonEl.style.display =\n",
              "          google.colab.kernel.accessAllowed ? 'block' : 'none';\n",
              "\n",
              "        async function convertToInteractive(key) {\n",
              "          const element = document.querySelector('#df-a9258517-0f79-4793-8e53-c316fbd808d6');\n",
              "          const dataTable =\n",
              "            await google.colab.kernel.invokeFunction('convertToInteractive',\n",
              "                                                     [key], {});\n",
              "          if (!dataTable) return;\n",
              "\n",
              "          const docLinkHtml = 'Like what you see? Visit the ' +\n",
              "            '<a target=\"_blank\" href=https://colab.research.google.com/notebooks/data_table.ipynb>data table notebook</a>'\n",
              "            + ' to learn more about interactive tables.';\n",
              "          element.innerHTML = '';\n",
              "          dataTable['output_type'] = 'display_data';\n",
              "          await google.colab.output.renderOutput(dataTable, element);\n",
              "          const docLink = document.createElement('div');\n",
              "          docLink.innerHTML = docLinkHtml;\n",
              "          element.appendChild(docLink);\n",
              "        }\n",
              "      </script>\n",
              "    </div>\n",
              "  </div>\n",
              "  "
            ]
          },
          "metadata": {},
          "execution_count": 51
        }
      ]
    },
    {
      "cell_type": "code",
      "source": [
        "#Corrleation between variables \n",
        "corr_matrix = df1.corr()\n",
        "print(corr_matrix)"
      ],
      "metadata": {
        "colab": {
          "base_uri": "https://localhost:8080/"
        },
        "id": "MHnry_v_Oq4j",
        "outputId": "65b3f778-e643-4586-f212-afa246ebcfd0"
      },
      "execution_count": 52,
      "outputs": [
        {
          "output_type": "stream",
          "name": "stdout",
          "text": [
            "                 R&D Spend  Administration  Marketing Spend     State  \\\n",
            "R&D Spend         1.000000        0.241955         0.724248  0.037930   \n",
            "Administration    0.241955        1.000000        -0.032154  0.003026   \n",
            "Marketing Spend   0.724248       -0.032154         1.000000  0.137777   \n",
            "State             0.037930        0.003026         0.137777  1.000000   \n",
            " Profit           0.972900        0.200717         0.747766  0.048471   \n",
            "\n",
            "                  Profit   \n",
            "R&D Spend        0.972900  \n",
            "Administration   0.200717  \n",
            "Marketing Spend  0.747766  \n",
            "State            0.048471  \n",
            " Profit          1.000000  \n"
          ]
        }
      ]
    },
    {
      "cell_type": "code",
      "source": [
        "# Visualize corrleation between variables\n",
        "# library\n",
        "import seaborn as sns\n",
        "import pandas as pd\n",
        "import numpy as np\n",
        "\n",
        "# Default heatmap\n",
        "plot = sns.heatmap(corr_matrix)"
      ],
      "metadata": {
        "colab": {
          "base_uri": "https://localhost:8080/",
          "height": 344
        },
        "id": "AwQmuTKbO63w",
        "outputId": "1a685b26-a750-450e-f767-08780c8c17fe"
      },
      "execution_count": 53,
      "outputs": [
        {
          "output_type": "display_data",
          "data": {
            "text/plain": [
              "<Figure size 432x288 with 2 Axes>"
            ],
            "image/png": "[encoded data removed]"
          },
          "metadata": {
            "needs_background": "light"
          }
        }
      ]
    },
    {
      "cell_type": "code",
      "source": [
        "# Dectect Outliners\n",
        "\n",
        "def boxplot(column):\n",
        "    sns.boxplot(data=df1,x=df1[f\"{column}\"])\n",
        "    plt.title(f\"Profit - {column}\")\n",
        "    plt.show()\n",
        "\n",
        "boxplot('R&D Spend')\n",
        "boxplot('Administration')\n",
        "boxplot('Marketing Spend')\n",
        "boxplot(' Profit ')\n"
      ],
      "metadata": {
        "colab": {
          "base_uri": "https://localhost:8080/",
          "height": 1000
        },
        "id": "6zC2GFvUdRAL",
        "outputId": "a1c986f3-d580-454c-f00b-333b2d86f107"
      },
      "execution_count": 56,
      "outputs": [
        {
          "output_type": "display_data",
          "data": {
            "text/plain": [
              "<Figure size 432x288 with 1 Axes>"
            ],
            "image/png": "[encoded data removed]"
          },
          "metadata": {
            "needs_background": "light"
          }
        },
        {
          "output_type": "display_data",
          "data": {
            "text/plain": [
              "<Figure size 432x288 with 1 Axes>"
            ],
            "image/png": "[encoded data removed]"
          },
          "metadata": {
            "needs_background": "light"
          }
        },
        {
          "output_type": "display_data",
          "data": {
            "text/plain": [
              "<Figure size 432x288 with 1 Axes>"
            ],
            "image/png": "[encoded data removed]"
          },
          "metadata": {
            "needs_background": "light"
          }
        },
        {
          "output_type": "display_data",
          "data": {
            "text/plain": [
              "<Figure size 432x288 with 1 Axes>"
            ],
            "image/png": "[encoded data removed]"
          },
          "metadata": {
            "needs_background": "light"
          }
        }
      ]
    },
    {
      "cell_type": "code",
      "source": [
        "sns.pairplot(df1)\n",
        "plt.show()"
      ],
      "metadata": {
        "colab": {
          "base_uri": "https://localhost:8080/",
          "height": 903
        },
        "id": "Wyhl1spMg9Il",
        "outputId": "e4dedf26-86f2-451e-fcab-b5d1b74f58de"
      },
      "execution_count": 58,
      "outputs": [
        {
          "output_type": "display_data",
          "data": {
            "text/plain": [
              "<Figure size 900x900 with 30 Axes>"
            ],
            "image/png": "[encoded data removed]"
          },
          "metadata": {
            "needs_background": "light"
          }
        }
      ]
    },
    {
      "cell_type": "markdown",
      "source": [
        "**Create Linear Eval**"
      ],
      "metadata": {
        "id": "zn433UAvj4L_"
      }
    },
    {
      "cell_type": "code",
      "source": [
        "x = df1[[\"R&D Spend\", \"Administration\", \"Marketing Spend\"]] # dependent variable\n",
        "y = df1[\" Profit \"]\n",
        "\n",
        "x = x.to_numpy()\n",
        "y = y.to_numpy()\n",
        "y = y.reshape(-1, 1)\n",
        "\n",
        "from sklearn.model_selection import train_test_split\n",
        "xtrain, xtest, ytrain, ytest = train_test_split(x, y, test_size=0.2, random_state=42)\n"
      ],
      "metadata": {
        "id": "ssuJH0tfj8Mu"
      },
      "execution_count": 60,
      "outputs": []
    },
    {
      "cell_type": "code",
      "source": [
        "from sklearn.linear_model import LinearRegression\n",
        "model = LinearRegression()\n",
        "model.fit(xtrain, ytrain)\n",
        "ypred = model.predict(xtest)\n",
        "data = pd.DataFrame(data={\"Predicted Profit\": ypred.flatten()})\n",
        "print(data.head())"
      ],
      "metadata": {
        "colab": {
          "base_uri": "https://localhost:8080/"
        },
        "id": "XHDmgL5Ck16a",
        "outputId": "3d689b07-a341-48aa-b252-0c63ba2e4f3c"
      },
      "execution_count": 61,
      "outputs": [
        {
          "output_type": "stream",
          "name": "stdout",
          "text": [
            "   Predicted Profit\n",
            "0     126703.027165\n",
            "1      84894.750816\n",
            "2      98893.418160\n",
            "3      46501.708150\n",
            "4     129128.397344\n"
          ]
        }
      ]
    },
    {
      "cell_type": "code",
      "source": [
        "# Model Eval\n",
        "from math import sqrt\n",
        "# Model performance\n",
        "print('Coefficients:', model.coef_)\n",
        "print('Intercept:', model.intercept_)\n"
      ],
      "metadata": {
        "colab": {
          "base_uri": "https://localhost:8080/"
        },
        "id": "OVsm7id3uyw4",
        "outputId": "e0bf6a19-8a8d-4797-b775-7fae063a5df6"
      },
      "execution_count": 67,
      "outputs": [
        {
          "output_type": "stream",
          "name": "stdout",
          "text": [
            "Coefficients: [[ 0.80377928 -0.06792917  0.03124155]]\n",
            "Intercept: [54071.87574599]\n"
          ]
        }
      ]
    }
  ]
}