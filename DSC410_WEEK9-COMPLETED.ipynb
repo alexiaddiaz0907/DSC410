{
  "nbformat": 4,
  "nbformat_minor": 0,
  "metadata": {
    "colab": {
      "provenance": [],
      "authorship_tag": "ABX9TyMDTO9Zg/WLfQJsYWKS+rCP",
      "include_colab_link": true
    },
    "kernelspec": {
      "name": "python3",
      "display_name": "Python 3"
    },
    "language_info": {
      "name": "python"
    }
  },
  "cells": [
    {
      "cell_type": "markdown",
      "metadata": {
        "id": "view-in-github",
        "colab_type": "text"
      },
      "source": [
        "<a href=\"https://colab.research.google.com/github/alexiaddiaz0907/DSC410/blob/master/DSC410_WEEK9-COMPLETED.ipynb\" target=\"_parent\"><img src=\"https://colab.research.google.com/assets/colab-badge.svg\" alt=\"Open In Colab\"/></a>"
      ]
    },
    {
      "cell_type": "code",
      "execution_count": 1,
      "metadata": {
        "colab": {
          "base_uri": "https://localhost:8080/",
          "height": 357
        },
        "id": "L0o_W1rO3ATw",
        "outputId": "ff1aa1a9-ef39-4657-b6fd-3d64d3ecb679"
      },
      "outputs": [
        {
          "output_type": "execute_result",
          "data": {
            "text/plain": [
              "       ID    AGE  GENDER      RACE DRIVING_EXPERIENCE    EDUCATION  \\\n",
              "0  569520    65+  female  majority               0-9y  high school   \n",
              "1  750365  16-25    male  majority               0-9y         none   \n",
              "2  199901  16-25  female  majority               0-9y  high school   \n",
              "3  478866  16-25    male  majority               0-9y   university   \n",
              "4  731664  26-39    male  majority             10-19y         none   \n",
              "\n",
              "          INCOME  CREDIT_SCORE  VEHICLE_OWNERSHIP VEHICLE_YEAR  MARRIED  \\\n",
              "0    upper class      0.629027                1.0   after 2015      0.0   \n",
              "1        poverty      0.357757                0.0  before 2015      0.0   \n",
              "2  working class      0.493146                1.0  before 2015      0.0   \n",
              "3  working class      0.206013                1.0  before 2015      0.0   \n",
              "4  working class      0.388366                1.0  before 2015      0.0   \n",
              "\n",
              "   CHILDREN  POSTAL_CODE  ANNUAL_MILEAGE VEHICLE_TYPE  SPEEDING_VIOLATIONS  \\\n",
              "0       1.0        10238         12000.0        sedan                    0   \n",
              "1       0.0        10238         16000.0        sedan                    0   \n",
              "2       0.0        10238         11000.0        sedan                    0   \n",
              "3       1.0        32765         11000.0        sedan                    0   \n",
              "4       0.0        32765         12000.0        sedan                    2   \n",
              "\n",
              "   DUIS  PAST_ACCIDENTS  OUTCOME  \n",
              "0     0               0      0.0  \n",
              "1     0               0      1.0  \n",
              "2     0               0      0.0  \n",
              "3     0               0      0.0  \n",
              "4     0               1      1.0  "
            ],
            "text/html": [
              "\n",
              "  <div id=\"df-69648d9e-1bb1-4ba8-acee-3a3ae4fb85e2\">\n",
              "    <div class=\"colab-df-container\">\n",
              "      <div>\n",
              "<style scoped>\n",
              "    .dataframe tbody tr th:only-of-type {\n",
              "        vertical-align: middle;\n",
              "    }\n",
              "\n",
              "    .dataframe tbody tr th {\n",
              "        vertical-align: top;\n",
              "    }\n",
              "\n",
              "    .dataframe thead th {\n",
              "        text-align: right;\n",
              "    }\n",
              "</style>\n",
              "<table border=\"1\" class=\"dataframe\">\n",
              "  <thead>\n",
              "    <tr style=\"text-align: right;\">\n",
              "      <th></th>\n",
              "      <th>ID</th>\n",
              "      <th>AGE</th>\n",
              "      <th>GENDER</th>\n",
              "      <th>RACE</th>\n",
              "      <th>DRIVING_EXPERIENCE</th>\n",
              "      <th>EDUCATION</th>\n",
              "      <th>INCOME</th>\n",
              "      <th>CREDIT_SCORE</th>\n",
              "      <th>VEHICLE_OWNERSHIP</th>\n",
              "      <th>VEHICLE_YEAR</th>\n",
              "      <th>MARRIED</th>\n",
              "      <th>CHILDREN</th>\n",
              "      <th>POSTAL_CODE</th>\n",
              "      <th>ANNUAL_MILEAGE</th>\n",
              "      <th>VEHICLE_TYPE</th>\n",
              "      <th>SPEEDING_VIOLATIONS</th>\n",
              "      <th>DUIS</th>\n",
              "      <th>PAST_ACCIDENTS</th>\n",
              "      <th>OUTCOME</th>\n",
              "    </tr>\n",
              "  </thead>\n",
              "  <tbody>\n",
              "    <tr>\n",
              "      <th>0</th>\n",
              "      <td>569520</td>\n",
              "      <td>65+</td>\n",
              "      <td>female</td>\n",
              "      <td>majority</td>\n",
              "      <td>0-9y</td>\n",
              "      <td>high school</td>\n",
              "      <td>upper class</td>\n",
              "      <td>0.629027</td>\n",
              "      <td>1.0</td>\n",
              "      <td>after 2015</td>\n",
              "      <td>0.0</td>\n",
              "      <td>1.0</td>\n",
              "      <td>10238</td>\n",
              "      <td>12000.0</td>\n",
              "      <td>sedan</td>\n",
              "      <td>0</td>\n",
              "      <td>0</td>\n",
              "      <td>0</td>\n",
              "      <td>0.0</td>\n",
              "    </tr>\n",
              "    <tr>\n",
              "      <th>1</th>\n",
              "      <td>750365</td>\n",
              "      <td>16-25</td>\n",
              "      <td>male</td>\n",
              "      <td>majority</td>\n",
              "      <td>0-9y</td>\n",
              "      <td>none</td>\n",
              "      <td>poverty</td>\n",
              "      <td>0.357757</td>\n",
              "      <td>0.0</td>\n",
              "      <td>before 2015</td>\n",
              "      <td>0.0</td>\n",
              "      <td>0.0</td>\n",
              "      <td>10238</td>\n",
              "      <td>16000.0</td>\n",
              "      <td>sedan</td>\n",
              "      <td>0</td>\n",
              "      <td>0</td>\n",
              "      <td>0</td>\n",
              "      <td>1.0</td>\n",
              "    </tr>\n",
              "    <tr>\n",
              "      <th>2</th>\n",
              "      <td>199901</td>\n",
              "      <td>16-25</td>\n",
              "      <td>female</td>\n",
              "      <td>majority</td>\n",
              "      <td>0-9y</td>\n",
              "      <td>high school</td>\n",
              "      <td>working class</td>\n",
              "      <td>0.493146</td>\n",
              "      <td>1.0</td>\n",
              "      <td>before 2015</td>\n",
              "      <td>0.0</td>\n",
              "      <td>0.0</td>\n",
              "      <td>10238</td>\n",
              "      <td>11000.0</td>\n",
              "      <td>sedan</td>\n",
              "      <td>0</td>\n",
              "      <td>0</td>\n",
              "      <td>0</td>\n",
              "      <td>0.0</td>\n",
              "    </tr>\n",
              "    <tr>\n",
              "      <th>3</th>\n",
              "      <td>478866</td>\n",
              "      <td>16-25</td>\n",
              "      <td>male</td>\n",
              "      <td>majority</td>\n",
              "      <td>0-9y</td>\n",
              "      <td>university</td>\n",
              "      <td>working class</td>\n",
              "      <td>0.206013</td>\n",
              "      <td>1.0</td>\n",
              "      <td>before 2015</td>\n",
              "      <td>0.0</td>\n",
              "      <td>1.0</td>\n",
              "      <td>32765</td>\n",
              "      <td>11000.0</td>\n",
              "      <td>sedan</td>\n",
              "      <td>0</td>\n",
              "      <td>0</td>\n",
              "      <td>0</td>\n",
              "      <td>0.0</td>\n",
              "    </tr>\n",
              "    <tr>\n",
              "      <th>4</th>\n",
              "      <td>731664</td>\n",
              "      <td>26-39</td>\n",
              "      <td>male</td>\n",
              "      <td>majority</td>\n",
              "      <td>10-19y</td>\n",
              "      <td>none</td>\n",
              "      <td>working class</td>\n",
              "      <td>0.388366</td>\n",
              "      <td>1.0</td>\n",
              "      <td>before 2015</td>\n",
              "      <td>0.0</td>\n",
              "      <td>0.0</td>\n",
              "      <td>32765</td>\n",
              "      <td>12000.0</td>\n",
              "      <td>sedan</td>\n",
              "      <td>2</td>\n",
              "      <td>0</td>\n",
              "      <td>1</td>\n",
              "      <td>1.0</td>\n",
              "    </tr>\n",
              "  </tbody>\n",
              "</table>\n",
              "</div>\n",
              "      <button class=\"colab-df-convert\" onclick=\"convertToInteractive('df-69648d9e-1bb1-4ba8-acee-3a3ae4fb85e2')\"\n",
              "              title=\"Convert this dataframe to an interactive table.\"\n",
              "              style=\"display:none;\">\n",
              "        \n",
              "  <svg xmlns=\"http://www.w3.org/2000/svg\" height=\"24px\"viewBox=\"0 0 24 24\"\n",
              "       width=\"24px\">\n",
              "    <path d=\"M0 0h24v24H0V0z\" fill=\"none\"/>\n",
              "    <path d=\"M18.56 5.44l.94 2.06.94-2.06 2.06-.94-2.06-.94-.94-2.06-.94 2.06-2.06.94zm-11 1L8.5 8.5l.94-2.06 2.06-.94-2.06-.94L8.5 2.5l-.94 2.06-2.06.94zm10 10l.94 2.06.94-2.06 2.06-.94-2.06-.94-.94-2.06-.94 2.06-2.06.94z\"/><path d=\"M17.41 7.96l-1.37-1.37c-.4-.4-.92-.59-1.43-.59-.52 0-1.04.2-1.43.59L10.3 9.45l-7.72 7.72c-.78.78-.78 2.05 0 2.83L4 21.41c.39.39.9.59 1.41.59.51 0 1.02-.2 1.41-.59l7.78-7.78 2.81-2.81c.8-.78.8-2.07 0-2.86zM5.41 20L4 18.59l7.72-7.72 1.47 1.35L5.41 20z\"/>\n",
              "  </svg>\n",
              "      </button>\n",
              "      \n",
              "  <style>\n",
              "    .colab-df-container {\n",
              "      display:flex;\n",
              "      flex-wrap:wrap;\n",
              "      gap: 12px;\n",
              "    }\n",
              "\n",
              "    .colab-df-convert {\n",
              "      background-color: #E8F0FE;\n",
              "      border: none;\n",
              "      border-radius: 50%;\n",
              "      cursor: pointer;\n",
              "      display: none;\n",
              "      fill: #1967D2;\n",
              "      height: 32px;\n",
              "      padding: 0 0 0 0;\n",
              "      width: 32px;\n",
              "    }\n",
              "\n",
              "    .colab-df-convert:hover {\n",
              "      background-color: #E2EBFA;\n",
              "      box-shadow: 0px 1px 2px rgba(60, 64, 67, 0.3), 0px 1px 3px 1px rgba(60, 64, 67, 0.15);\n",
              "      fill: #174EA6;\n",
              "    }\n",
              "\n",
              "    [theme=dark] .colab-df-convert {\n",
              "      background-color: #3B4455;\n",
              "      fill: #D2E3FC;\n",
              "    }\n",
              "\n",
              "    [theme=dark] .colab-df-convert:hover {\n",
              "      background-color: #434B5C;\n",
              "      box-shadow: 0px 1px 3px 1px rgba(0, 0, 0, 0.15);\n",
              "      filter: drop-shadow(0px 1px 2px rgba(0, 0, 0, 0.3));\n",
              "      fill: #FFFFFF;\n",
              "    }\n",
              "  </style>\n",
              "\n",
              "      <script>\n",
              "        const buttonEl =\n",
              "          document.querySelector('#df-69648d9e-1bb1-4ba8-acee-3a3ae4fb85e2 button.colab-df-convert');\n",
              "        buttonEl.style.display =\n",
              "          google.colab.kernel.accessAllowed ? 'block' : 'none';\n",
              "\n",
              "        async function convertToInteractive(key) {\n",
              "          const element = document.querySelector('#df-69648d9e-1bb1-4ba8-acee-3a3ae4fb85e2');\n",
              "          const dataTable =\n",
              "            await google.colab.kernel.invokeFunction('convertToInteractive',\n",
              "                                                     [key], {});\n",
              "          if (!dataTable) return;\n",
              "\n",
              "          const docLinkHtml = 'Like what you see? Visit the ' +\n",
              "            '<a target=\"_blank\" href=https://colab.research.google.com/notebooks/data_table.ipynb>data table notebook</a>'\n",
              "            + ' to learn more about interactive tables.';\n",
              "          element.innerHTML = '';\n",
              "          dataTable['output_type'] = 'display_data';\n",
              "          await google.colab.output.renderOutput(dataTable, element);\n",
              "          const docLink = document.createElement('div');\n",
              "          docLink.innerHTML = docLinkHtml;\n",
              "          element.appendChild(docLink);\n",
              "        }\n",
              "      </script>\n",
              "    </div>\n",
              "  </div>\n",
              "  "
            ]
          },
          "metadata": {},
          "execution_count": 1
        }
      ],
      "source": [
        "import pandas as pd\n",
        "import numpy as np\n",
        "\n",
        "url = 'https://raw.githubusercontent.com/alexiaddiaz0907/Data-/main/Car_Insurance_Claim.csv'\n",
        "df = pd.read_csv(url)\n",
        "# Dataset is now stored in a Pandas Dataframe\n",
        "\n",
        "df.head()"
      ]
    },
    {
      "cell_type": "markdown",
      "source": [
        "**EDA ANALYSIS **"
      ],
      "metadata": {
        "id": "1E4ffiW1ok4k"
      }
    },
    {
      "cell_type": "code",
      "source": [
        "df.info()"
      ],
      "metadata": {
        "colab": {
          "base_uri": "https://localhost:8080/"
        },
        "id": "qjmN9DXwFyld",
        "outputId": "55a3a945-a15c-4bcd-a158-db6d2636f02c"
      },
      "execution_count": 2,
      "outputs": [
        {
          "output_type": "stream",
          "name": "stdout",
          "text": [
            "<class 'pandas.core.frame.DataFrame'>\n",
            "RangeIndex: 10000 entries, 0 to 9999\n",
            "Data columns (total 19 columns):\n",
            " #   Column               Non-Null Count  Dtype  \n",
            "---  ------               --------------  -----  \n",
            " 0   ID                   10000 non-null  int64  \n",
            " 1   AGE                  10000 non-null  object \n",
            " 2   GENDER               10000 non-null  object \n",
            " 3   RACE                 10000 non-null  object \n",
            " 4   DRIVING_EXPERIENCE   10000 non-null  object \n",
            " 5   EDUCATION            10000 non-null  object \n",
            " 6   INCOME               10000 non-null  object \n",
            " 7   CREDIT_SCORE         9018 non-null   float64\n",
            " 8   VEHICLE_OWNERSHIP    10000 non-null  float64\n",
            " 9   VEHICLE_YEAR         10000 non-null  object \n",
            " 10  MARRIED              10000 non-null  float64\n",
            " 11  CHILDREN             10000 non-null  float64\n",
            " 12  POSTAL_CODE          10000 non-null  int64  \n",
            " 13  ANNUAL_MILEAGE       9043 non-null   float64\n",
            " 14  VEHICLE_TYPE         10000 non-null  object \n",
            " 15  SPEEDING_VIOLATIONS  10000 non-null  int64  \n",
            " 16  DUIS                 10000 non-null  int64  \n",
            " 17  PAST_ACCIDENTS       10000 non-null  int64  \n",
            " 18  OUTCOME              10000 non-null  float64\n",
            "dtypes: float64(6), int64(5), object(8)\n",
            "memory usage: 1.4+ MB\n"
          ]
        }
      ]
    },
    {
      "cell_type": "code",
      "source": [
        "#Find the duplicates\n",
        "\n",
        "df.duplicated().sum()"
      ],
      "metadata": {
        "colab": {
          "base_uri": "https://localhost:8080/"
        },
        "id": "87LpJA--GcTc",
        "outputId": "9bb0f830-0221-47f8-a7d3-a3341bc7b60f"
      },
      "execution_count": 3,
      "outputs": [
        {
          "output_type": "execute_result",
          "data": {
            "text/plain": [
              "0"
            ]
          },
          "metadata": {},
          "execution_count": 3
        }
      ]
    },
    {
      "cell_type": "code",
      "source": [
        "#Find null values\n",
        "df.isnull().sum()\n"
      ],
      "metadata": {
        "colab": {
          "base_uri": "https://localhost:8080/"
        },
        "id": "L2AMcP11HGFX",
        "outputId": "84e1e640-254e-4a5b-db7c-5b91e2a5d4b8"
      },
      "execution_count": 4,
      "outputs": [
        {
          "output_type": "execute_result",
          "data": {
            "text/plain": [
              "ID                       0\n",
              "AGE                      0\n",
              "GENDER                   0\n",
              "RACE                     0\n",
              "DRIVING_EXPERIENCE       0\n",
              "EDUCATION                0\n",
              "INCOME                   0\n",
              "CREDIT_SCORE           982\n",
              "VEHICLE_OWNERSHIP        0\n",
              "VEHICLE_YEAR             0\n",
              "MARRIED                  0\n",
              "CHILDREN                 0\n",
              "POSTAL_CODE              0\n",
              "ANNUAL_MILEAGE         957\n",
              "VEHICLE_TYPE             0\n",
              "SPEEDING_VIOLATIONS      0\n",
              "DUIS                     0\n",
              "PAST_ACCIDENTS           0\n",
              "OUTCOME                  0\n",
              "dtype: int64"
            ]
          },
          "metadata": {},
          "execution_count": 4
        }
      ]
    },
    {
      "cell_type": "code",
      "source": [
        "df.groupby(['AGE']).sum().plot(kind='pie', y='PAST_ACCIDENTS')"
      ],
      "metadata": {
        "colab": {
          "base_uri": "https://localhost:8080/",
          "height": 266
        },
        "id": "ZzpetaL9eTrn",
        "outputId": "f252ff29-ba0b-4539-b35c-cace72563393"
      },
      "execution_count": 5,
      "outputs": [
        {
          "output_type": "execute_result",
          "data": {
            "text/plain": [
              "<AxesSubplot:ylabel='PAST_ACCIDENTS'>"
            ]
          },
          "metadata": {},
          "execution_count": 5
        },
        {
          "output_type": "display_data",
          "data": {
            "text/plain": [
              "<Figure size 432x288 with 1 Axes>"
            ],
            "image/png": "[encoded data removed]"
          },
          "metadata": {}
        }
      ]
    },
    {
      "cell_type": "code",
      "source": [
        "df.groupby(['GENDER']).sum().plot(kind='pie', y='PAST_ACCIDENTS')"
      ],
      "metadata": {
        "colab": {
          "base_uri": "https://localhost:8080/",
          "height": 266
        },
        "id": "C2-Uq5q6fCp0",
        "outputId": "9f5a6c6f-7b8f-48d3-c644-9cc390ee3276"
      },
      "execution_count": 6,
      "outputs": [
        {
          "output_type": "execute_result",
          "data": {
            "text/plain": [
              "<AxesSubplot:ylabel='PAST_ACCIDENTS'>"
            ]
          },
          "metadata": {},
          "execution_count": 6
        },
        {
          "output_type": "display_data",
          "data": {
            "text/plain": [
              "<Figure size 432x288 with 1 Axes>"
            ],
            "image/png": "[encoded data removed]"
          },
          "metadata": {}
        }
      ]
    },
    {
      "cell_type": "code",
      "source": [
        "df.groupby(['RACE']).sum().plot(kind='pie', y='PAST_ACCIDENTS')"
      ],
      "metadata": {
        "colab": {
          "base_uri": "https://localhost:8080/",
          "height": 266
        },
        "id": "_t8pl1GSfJve",
        "outputId": "3550be8a-82f8-40b0-ba57-ac2af7fd2006"
      },
      "execution_count": 7,
      "outputs": [
        {
          "output_type": "execute_result",
          "data": {
            "text/plain": [
              "<AxesSubplot:ylabel='PAST_ACCIDENTS'>"
            ]
          },
          "metadata": {},
          "execution_count": 7
        },
        {
          "output_type": "display_data",
          "data": {
            "text/plain": [
              "<Figure size 432x288 with 1 Axes>"
            ],
            "image/png": "[encoded data removed]"
          },
          "metadata": {}
        }
      ]
    },
    {
      "cell_type": "code",
      "source": [
        "df.groupby(['DRIVING_EXPERIENCE']).sum().plot(kind='pie', y='PAST_ACCIDENTS')"
      ],
      "metadata": {
        "colab": {
          "base_uri": "https://localhost:8080/",
          "height": 266
        },
        "id": "2KwKTdsyfRBW",
        "outputId": "ded38f4b-6ca2-434b-d119-4cada19b0eae"
      },
      "execution_count": 8,
      "outputs": [
        {
          "output_type": "execute_result",
          "data": {
            "text/plain": [
              "<AxesSubplot:ylabel='PAST_ACCIDENTS'>"
            ]
          },
          "metadata": {},
          "execution_count": 8
        },
        {
          "output_type": "display_data",
          "data": {
            "text/plain": [
              "<Figure size 432x288 with 1 Axes>"
            ],
            "image/png": "[encoded data removed]"
          },
          "metadata": {}
        }
      ]
    },
    {
      "cell_type": "code",
      "source": [
        "df.groupby(['INCOME']).sum().plot(kind='pie', y='PAST_ACCIDENTS')"
      ],
      "metadata": {
        "colab": {
          "base_uri": "https://localhost:8080/",
          "height": 266
        },
        "id": "HigKXoyMeWzR",
        "outputId": "e11a352d-d357-4e56-a2a5-d0ac5b7587fa"
      },
      "execution_count": 9,
      "outputs": [
        {
          "output_type": "execute_result",
          "data": {
            "text/plain": [
              "<AxesSubplot:ylabel='PAST_ACCIDENTS'>"
            ]
          },
          "metadata": {},
          "execution_count": 9
        },
        {
          "output_type": "display_data",
          "data": {
            "text/plain": [
              "<Figure size 432x288 with 1 Axes>"
            ],
            "image/png": "[encoded data removed]"
          },
          "metadata": {}
        }
      ]
    },
    {
      "cell_type": "code",
      "source": [
        "df.groupby(['EDUCATION']).sum().plot(kind='pie', y='PAST_ACCIDENTS')"
      ],
      "metadata": {
        "colab": {
          "base_uri": "https://localhost:8080/",
          "height": 266
        },
        "id": "NWnz_ymQfpK9",
        "outputId": "fdecaf46-961a-451e-de13-914c990c7171"
      },
      "execution_count": 10,
      "outputs": [
        {
          "output_type": "execute_result",
          "data": {
            "text/plain": [
              "<AxesSubplot:ylabel='PAST_ACCIDENTS'>"
            ]
          },
          "metadata": {},
          "execution_count": 10
        },
        {
          "output_type": "display_data",
          "data": {
            "text/plain": [
              "<Figure size 432x288 with 1 Axes>"
            ],
            "image/png": "[encoded data removed]"
          },
          "metadata": {}
        }
      ]
    },
    {
      "cell_type": "code",
      "source": [
        "#unique values\n",
        "\n",
        "df['DRIVING_EXPERIENCE'].unique()\n"
      ],
      "metadata": {
        "colab": {
          "base_uri": "https://localhost:8080/"
        },
        "id": "WoQNdoAqGhwc",
        "outputId": "9a4a50a4-d7b2-4741-8429-fd55c322519b"
      },
      "execution_count": 11,
      "outputs": [
        {
          "output_type": "execute_result",
          "data": {
            "text/plain": [
              "array(['0-9y', '10-19y', '20-29y', '30y+'], dtype=object)"
            ]
          },
          "metadata": {},
          "execution_count": 11
        }
      ]
    },
    {
      "cell_type": "code",
      "source": [
        "df['CREDIT_SCORE'].unique()"
      ],
      "metadata": {
        "colab": {
          "base_uri": "https://localhost:8080/"
        },
        "id": "e4Qir1x3G-y-",
        "outputId": "c99a6765-9be7-43c2-e525-6f7631e77be4"
      },
      "execution_count": 12,
      "outputs": [
        {
          "output_type": "execute_result",
          "data": {
            "text/plain": [
              "array([0.62902731, 0.35775712, 0.49314579, ..., 0.47094023, 0.36418478,\n",
              "       0.43522478])"
            ]
          },
          "metadata": {},
          "execution_count": 12
        }
      ]
    },
    {
      "cell_type": "code",
      "source": [
        "df['AGE'].unique()"
      ],
      "metadata": {
        "colab": {
          "base_uri": "https://localhost:8080/"
        },
        "id": "YBAfL1yXJHOI",
        "outputId": "20bc24a9-cbc3-4bda-e077-bf3a35ca16e0"
      },
      "execution_count": 13,
      "outputs": [
        {
          "output_type": "execute_result",
          "data": {
            "text/plain": [
              "array(['65+', '16-25', '26-39', '40-64'], dtype=object)"
            ]
          },
          "metadata": {},
          "execution_count": 13
        }
      ]
    },
    {
      "cell_type": "code",
      "source": [
        "df['EDUCATION'].unique()"
      ],
      "metadata": {
        "colab": {
          "base_uri": "https://localhost:8080/"
        },
        "id": "DUlQm_ktJdYm",
        "outputId": "68709f19-5092-4191-90bf-98e5e73c142b"
      },
      "execution_count": 14,
      "outputs": [
        {
          "output_type": "execute_result",
          "data": {
            "text/plain": [
              "array(['high school', 'none', 'university'], dtype=object)"
            ]
          },
          "metadata": {},
          "execution_count": 14
        }
      ]
    },
    {
      "cell_type": "code",
      "source": [
        "df['INCOME'].unique()"
      ],
      "metadata": {
        "colab": {
          "base_uri": "https://localhost:8080/"
        },
        "id": "onFmfqAjJlg7",
        "outputId": "42ff77b5-3a58-4d36-a698-b6e05d3eeab3"
      },
      "execution_count": 15,
      "outputs": [
        {
          "output_type": "execute_result",
          "data": {
            "text/plain": [
              "array(['upper class', 'poverty', 'working class', 'middle class'],\n",
              "      dtype=object)"
            ]
          },
          "metadata": {},
          "execution_count": 15
        }
      ]
    },
    {
      "cell_type": "code",
      "source": [
        "df['VEHICLE_YEAR'].unique()"
      ],
      "metadata": {
        "colab": {
          "base_uri": "https://localhost:8080/"
        },
        "id": "mc2iScgkJsWc",
        "outputId": "a7c6d1f8-845c-4378-b701-410f8e457b6c"
      },
      "execution_count": 16,
      "outputs": [
        {
          "output_type": "execute_result",
          "data": {
            "text/plain": [
              "array(['after 2015', 'before 2015'], dtype=object)"
            ]
          },
          "metadata": {},
          "execution_count": 16
        }
      ]
    },
    {
      "cell_type": "code",
      "source": [
        "df['VEHICLE_TYPE'].unique()"
      ],
      "metadata": {
        "colab": {
          "base_uri": "https://localhost:8080/"
        },
        "id": "EcOhL888KI-b",
        "outputId": "eca3b9e2-4cc4-49c0-c56c-e0986a2fa3d9"
      },
      "execution_count": 17,
      "outputs": [
        {
          "output_type": "execute_result",
          "data": {
            "text/plain": [
              "array(['sedan', 'sports car'], dtype=object)"
            ]
          },
          "metadata": {},
          "execution_count": 17
        }
      ]
    },
    {
      "cell_type": "code",
      "source": [
        "df['RACE'].unique()"
      ],
      "metadata": {
        "colab": {
          "base_uri": "https://localhost:8080/"
        },
        "id": "8hW-aixqLGnt",
        "outputId": "ef59c714-df00-4320-a458-91a9ebcf65a8"
      },
      "execution_count": 18,
      "outputs": [
        {
          "output_type": "execute_result",
          "data": {
            "text/plain": [
              "array(['majority', 'minority'], dtype=object)"
            ]
          },
          "metadata": {},
          "execution_count": 18
        }
      ]
    },
    {
      "cell_type": "code",
      "source": [
        "df['POSTAL_CODE'].unique()"
      ],
      "metadata": {
        "colab": {
          "base_uri": "https://localhost:8080/"
        },
        "id": "mMamcFTZLk6N",
        "outputId": "f485785b-0c15-4fbf-f8ae-f3b3188a28b7"
      },
      "execution_count": 19,
      "outputs": [
        {
          "output_type": "execute_result",
          "data": {
            "text/plain": [
              "array([10238, 32765, 92101, 21217])"
            ]
          },
          "metadata": {},
          "execution_count": 19
        }
      ]
    },
    {
      "cell_type": "code",
      "source": [
        "df['PAST_ACCIDENTS'].unique()"
      ],
      "metadata": {
        "colab": {
          "base_uri": "https://localhost:8080/"
        },
        "id": "4my2QtWE0_XV",
        "outputId": "631ad362-13bd-4bb5-f07e-d0511f7b6674"
      },
      "execution_count": 20,
      "outputs": [
        {
          "output_type": "execute_result",
          "data": {
            "text/plain": [
              "array([ 0,  1,  3,  7,  2,  5,  4,  6,  8, 10, 11,  9, 12, 14, 15])"
            ]
          },
          "metadata": {},
          "execution_count": 20
        }
      ]
    },
    {
      "cell_type": "code",
      "source": [
        "import matplotlib.pyplot as plt\n",
        "fig, ax = plt.subplots()\n",
        "df['PAST_ACCIDENTS'].value_counts().plot(ax=ax, kind='bar')"
      ],
      "metadata": {
        "colab": {
          "base_uri": "https://localhost:8080/",
          "height": 286
        },
        "id": "9nIDJyVN1acH",
        "outputId": "7d35b515-011f-4147-a30d-e2d1fb6cfe6f"
      },
      "execution_count": 21,
      "outputs": [
        {
          "output_type": "execute_result",
          "data": {
            "text/plain": [
              "<AxesSubplot:>"
            ]
          },
          "metadata": {},
          "execution_count": 21
        },
        {
          "output_type": "display_data",
          "data": {
            "text/plain": [
              "<Figure size 432x288 with 1 Axes>"
            ],
            "image/png": "[encoded data removed]"
          },
          "metadata": {
            "needs_background": "light"
          }
        }
      ]
    },
    {
      "cell_type": "code",
      "source": [
        "#created risk score\n",
        "\n",
        "def risk_score(score):\n",
        "  if score == 0:    #low risk\n",
        "    return '0'\n",
        "  elif score >= 1 and score <= 2:   #Moderate Risk\n",
        "    return '1'\n",
        "  else:\n",
        "    return '2' #High Risk\n",
        "\n",
        "df['RISK_SCORE'] = df['PAST_ACCIDENTS'].apply(risk_score)\n",
        "df.head()\n",
        "\n"
      ],
      "metadata": {
        "colab": {
          "base_uri": "https://localhost:8080/",
          "height": 357
        },
        "id": "qQx9I9oM1vND",
        "outputId": "e05b846f-45fd-4e7d-c85d-8472cc31962e"
      },
      "execution_count": 22,
      "outputs": [
        {
          "output_type": "execute_result",
          "data": {
            "text/plain": [
              "       ID    AGE  GENDER      RACE DRIVING_EXPERIENCE    EDUCATION  \\\n",
              "0  569520    65+  female  majority               0-9y  high school   \n",
              "1  750365  16-25    male  majority               0-9y         none   \n",
              "2  199901  16-25  female  majority               0-9y  high school   \n",
              "3  478866  16-25    male  majority               0-9y   university   \n",
              "4  731664  26-39    male  majority             10-19y         none   \n",
              "\n",
              "          INCOME  CREDIT_SCORE  VEHICLE_OWNERSHIP VEHICLE_YEAR  MARRIED  \\\n",
              "0    upper class      0.629027                1.0   after 2015      0.0   \n",
              "1        poverty      0.357757                0.0  before 2015      0.0   \n",
              "2  working class      0.493146                1.0  before 2015      0.0   \n",
              "3  working class      0.206013                1.0  before 2015      0.0   \n",
              "4  working class      0.388366                1.0  before 2015      0.0   \n",
              "\n",
              "   CHILDREN  POSTAL_CODE  ANNUAL_MILEAGE VEHICLE_TYPE  SPEEDING_VIOLATIONS  \\\n",
              "0       1.0        10238         12000.0        sedan                    0   \n",
              "1       0.0        10238         16000.0        sedan                    0   \n",
              "2       0.0        10238         11000.0        sedan                    0   \n",
              "3       1.0        32765         11000.0        sedan                    0   \n",
              "4       0.0        32765         12000.0        sedan                    2   \n",
              "\n",
              "   DUIS  PAST_ACCIDENTS  OUTCOME RISK_SCORE  \n",
              "0     0               0      0.0          0  \n",
              "1     0               0      1.0          0  \n",
              "2     0               0      0.0          0  \n",
              "3     0               0      0.0          0  \n",
              "4     0               1      1.0          1  "
            ],
            "text/html": [
              "\n",
              "  <div id=\"df-46194dfe-9dd3-43e4-a47b-01772944b0b8\">\n",
              "    <div class=\"colab-df-container\">\n",
              "      <div>\n",
              "<style scoped>\n",
              "    .dataframe tbody tr th:only-of-type {\n",
              "        vertical-align: middle;\n",
              "    }\n",
              "\n",
              "    .dataframe tbody tr th {\n",
              "        vertical-align: top;\n",
              "    }\n",
              "\n",
              "    .dataframe thead th {\n",
              "        text-align: right;\n",
              "    }\n",
              "</style>\n",
              "<table border=\"1\" class=\"dataframe\">\n",
              "  <thead>\n",
              "    <tr style=\"text-align: right;\">\n",
              "      <th></th>\n",
              "      <th>ID</th>\n",
              "      <th>AGE</th>\n",
              "      <th>GENDER</th>\n",
              "      <th>RACE</th>\n",
              "      <th>DRIVING_EXPERIENCE</th>\n",
              "      <th>EDUCATION</th>\n",
              "      <th>INCOME</th>\n",
              "      <th>CREDIT_SCORE</th>\n",
              "      <th>VEHICLE_OWNERSHIP</th>\n",
              "      <th>VEHICLE_YEAR</th>\n",
              "      <th>MARRIED</th>\n",
              "      <th>CHILDREN</th>\n",
              "      <th>POSTAL_CODE</th>\n",
              "      <th>ANNUAL_MILEAGE</th>\n",
              "      <th>VEHICLE_TYPE</th>\n",
              "      <th>SPEEDING_VIOLATIONS</th>\n",
              "      <th>DUIS</th>\n",
              "      <th>PAST_ACCIDENTS</th>\n",
              "      <th>OUTCOME</th>\n",
              "      <th>RISK_SCORE</th>\n",
              "    </tr>\n",
              "  </thead>\n",
              "  <tbody>\n",
              "    <tr>\n",
              "      <th>0</th>\n",
              "      <td>569520</td>\n",
              "      <td>65+</td>\n",
              "      <td>female</td>\n",
              "      <td>majority</td>\n",
              "      <td>0-9y</td>\n",
              "      <td>high school</td>\n",
              "      <td>upper class</td>\n",
              "      <td>0.629027</td>\n",
              "      <td>1.0</td>\n",
              "      <td>after 2015</td>\n",
              "      <td>0.0</td>\n",
              "      <td>1.0</td>\n",
              "      <td>10238</td>\n",
              "      <td>12000.0</td>\n",
              "      <td>sedan</td>\n",
              "      <td>0</td>\n",
              "      <td>0</td>\n",
              "      <td>0</td>\n",
              "      <td>0.0</td>\n",
              "      <td>0</td>\n",
              "    </tr>\n",
              "    <tr>\n",
              "      <th>1</th>\n",
              "      <td>750365</td>\n",
              "      <td>16-25</td>\n",
              "      <td>male</td>\n",
              "      <td>majority</td>\n",
              "      <td>0-9y</td>\n",
              "      <td>none</td>\n",
              "      <td>poverty</td>\n",
              "      <td>0.357757</td>\n",
              "      <td>0.0</td>\n",
              "      <td>before 2015</td>\n",
              "      <td>0.0</td>\n",
              "      <td>0.0</td>\n",
              "      <td>10238</td>\n",
              "      <td>16000.0</td>\n",
              "      <td>sedan</td>\n",
              "      <td>0</td>\n",
              "      <td>0</td>\n",
              "      <td>0</td>\n",
              "      <td>1.0</td>\n",
              "      <td>0</td>\n",
              "    </tr>\n",
              "    <tr>\n",
              "      <th>2</th>\n",
              "      <td>199901</td>\n",
              "      <td>16-25</td>\n",
              "      <td>female</td>\n",
              "      <td>majority</td>\n",
              "      <td>0-9y</td>\n",
              "      <td>high school</td>\n",
              "      <td>working class</td>\n",
              "      <td>0.493146</td>\n",
              "      <td>1.0</td>\n",
              "      <td>before 2015</td>\n",
              "      <td>0.0</td>\n",
              "      <td>0.0</td>\n",
              "      <td>10238</td>\n",
              "      <td>11000.0</td>\n",
              "      <td>sedan</td>\n",
              "      <td>0</td>\n",
              "      <td>0</td>\n",
              "      <td>0</td>\n",
              "      <td>0.0</td>\n",
              "      <td>0</td>\n",
              "    </tr>\n",
              "    <tr>\n",
              "      <th>3</th>\n",
              "      <td>478866</td>\n",
              "      <td>16-25</td>\n",
              "      <td>male</td>\n",
              "      <td>majority</td>\n",
              "      <td>0-9y</td>\n",
              "      <td>university</td>\n",
              "      <td>working class</td>\n",
              "      <td>0.206013</td>\n",
              "      <td>1.0</td>\n",
              "      <td>before 2015</td>\n",
              "      <td>0.0</td>\n",
              "      <td>1.0</td>\n",
              "      <td>32765</td>\n",
              "      <td>11000.0</td>\n",
              "      <td>sedan</td>\n",
              "      <td>0</td>\n",
              "      <td>0</td>\n",
              "      <td>0</td>\n",
              "      <td>0.0</td>\n",
              "      <td>0</td>\n",
              "    </tr>\n",
              "    <tr>\n",
              "      <th>4</th>\n",
              "      <td>731664</td>\n",
              "      <td>26-39</td>\n",
              "      <td>male</td>\n",
              "      <td>majority</td>\n",
              "      <td>10-19y</td>\n",
              "      <td>none</td>\n",
              "      <td>working class</td>\n",
              "      <td>0.388366</td>\n",
              "      <td>1.0</td>\n",
              "      <td>before 2015</td>\n",
              "      <td>0.0</td>\n",
              "      <td>0.0</td>\n",
              "      <td>32765</td>\n",
              "      <td>12000.0</td>\n",
              "      <td>sedan</td>\n",
              "      <td>2</td>\n",
              "      <td>0</td>\n",
              "      <td>1</td>\n",
              "      <td>1.0</td>\n",
              "      <td>1</td>\n",
              "    </tr>\n",
              "  </tbody>\n",
              "</table>\n",
              "</div>\n",
              "      <button class=\"colab-df-convert\" onclick=\"convertToInteractive('df-46194dfe-9dd3-43e4-a47b-01772944b0b8')\"\n",
              "              title=\"Convert this dataframe to an interactive table.\"\n",
              "              style=\"display:none;\">\n",
              "        \n",
              "  <svg xmlns=\"http://www.w3.org/2000/svg\" height=\"24px\"viewBox=\"0 0 24 24\"\n",
              "       width=\"24px\">\n",
              "    <path d=\"M0 0h24v24H0V0z\" fill=\"none\"/>\n",
              "    <path d=\"M18.56 5.44l.94 2.06.94-2.06 2.06-.94-2.06-.94-.94-2.06-.94 2.06-2.06.94zm-11 1L8.5 8.5l.94-2.06 2.06-.94-2.06-.94L8.5 2.5l-.94 2.06-2.06.94zm10 10l.94 2.06.94-2.06 2.06-.94-2.06-.94-.94-2.06-.94 2.06-2.06.94z\"/><path d=\"M17.41 7.96l-1.37-1.37c-.4-.4-.92-.59-1.43-.59-.52 0-1.04.2-1.43.59L10.3 9.45l-7.72 7.72c-.78.78-.78 2.05 0 2.83L4 21.41c.39.39.9.59 1.41.59.51 0 1.02-.2 1.41-.59l7.78-7.78 2.81-2.81c.8-.78.8-2.07 0-2.86zM5.41 20L4 18.59l7.72-7.72 1.47 1.35L5.41 20z\"/>\n",
              "  </svg>\n",
              "      </button>\n",
              "      \n",
              "  <style>\n",
              "    .colab-df-container {\n",
              "      display:flex;\n",
              "      flex-wrap:wrap;\n",
              "      gap: 12px;\n",
              "    }\n",
              "\n",
              "    .colab-df-convert {\n",
              "      background-color: #E8F0FE;\n",
              "      border: none;\n",
              "      border-radius: 50%;\n",
              "      cursor: pointer;\n",
              "      display: none;\n",
              "      fill: #1967D2;\n",
              "      height: 32px;\n",
              "      padding: 0 0 0 0;\n",
              "      width: 32px;\n",
              "    }\n",
              "\n",
              "    .colab-df-convert:hover {\n",
              "      background-color: #E2EBFA;\n",
              "      box-shadow: 0px 1px 2px rgba(60, 64, 67, 0.3), 0px 1px 3px 1px rgba(60, 64, 67, 0.15);\n",
              "      fill: #174EA6;\n",
              "    }\n",
              "\n",
              "    [theme=dark] .colab-df-convert {\n",
              "      background-color: #3B4455;\n",
              "      fill: #D2E3FC;\n",
              "    }\n",
              "\n",
              "    [theme=dark] .colab-df-convert:hover {\n",
              "      background-color: #434B5C;\n",
              "      box-shadow: 0px 1px 3px 1px rgba(0, 0, 0, 0.15);\n",
              "      filter: drop-shadow(0px 1px 2px rgba(0, 0, 0, 0.3));\n",
              "      fill: #FFFFFF;\n",
              "    }\n",
              "  </style>\n",
              "\n",
              "      <script>\n",
              "        const buttonEl =\n",
              "          document.querySelector('#df-46194dfe-9dd3-43e4-a47b-01772944b0b8 button.colab-df-convert');\n",
              "        buttonEl.style.display =\n",
              "          google.colab.kernel.accessAllowed ? 'block' : 'none';\n",
              "\n",
              "        async function convertToInteractive(key) {\n",
              "          const element = document.querySelector('#df-46194dfe-9dd3-43e4-a47b-01772944b0b8');\n",
              "          const dataTable =\n",
              "            await google.colab.kernel.invokeFunction('convertToInteractive',\n",
              "                                                     [key], {});\n",
              "          if (!dataTable) return;\n",
              "\n",
              "          const docLinkHtml = 'Like what you see? Visit the ' +\n",
              "            '<a target=\"_blank\" href=https://colab.research.google.com/notebooks/data_table.ipynb>data table notebook</a>'\n",
              "            + ' to learn more about interactive tables.';\n",
              "          element.innerHTML = '';\n",
              "          dataTable['output_type'] = 'display_data';\n",
              "          await google.colab.output.renderOutput(dataTable, element);\n",
              "          const docLink = document.createElement('div');\n",
              "          docLink.innerHTML = docLinkHtml;\n",
              "          element.appendChild(docLink);\n",
              "        }\n",
              "      </script>\n",
              "    </div>\n",
              "  </div>\n",
              "  "
            ]
          },
          "metadata": {},
          "execution_count": 22
        }
      ]
    },
    {
      "cell_type": "code",
      "source": [
        "# Import label encoder\n",
        "from sklearn import preprocessing\n",
        "  \n",
        "# label_encoder object knows how to understand word labels.\n",
        "label_encoder = preprocessing.LabelEncoder()\n",
        "  \n",
        "# Encode labels in column 'species'.\n",
        "df['DRIVING_EXPERIENCE']= label_encoder.fit_transform(df['DRIVING_EXPERIENCE'])\n",
        "df['AGE']= label_encoder.fit_transform(df['AGE'])\n",
        "df['EDUCATION']= label_encoder.fit_transform(df['EDUCATION'])\n",
        "df['INCOME']= label_encoder.fit_transform(df['INCOME'])\n",
        "df['VEHICLE_YEAR']= label_encoder.fit_transform(df['VEHICLE_YEAR'])\n",
        "df['VEHICLE_TYPE']= label_encoder.fit_transform(df['VEHICLE_TYPE'])\n",
        "df['RACE']= label_encoder.fit_transform(df['RACE'])\n",
        "df['POSTAL_CODE']= label_encoder.fit_transform(df['POSTAL_CODE'])\n",
        "df['GENDER']= label_encoder.fit_transform(df['GENDER'])\n",
        "\n",
        "\n",
        "  \n"
      ],
      "metadata": {
        "id": "s1GjsutpHgXt"
      },
      "execution_count": 23,
      "outputs": []
    },
    {
      "cell_type": "code",
      "source": [
        "df.head()"
      ],
      "metadata": {
        "colab": {
          "base_uri": "https://localhost:8080/",
          "height": 270
        },
        "id": "FBheZaIeJDfm",
        "outputId": "141bc033-b9c2-4ea1-cec5-6e42b486a9fe"
      },
      "execution_count": 24,
      "outputs": [
        {
          "output_type": "execute_result",
          "data": {
            "text/plain": [
              "       ID  AGE  GENDER  RACE  DRIVING_EXPERIENCE  EDUCATION  INCOME  \\\n",
              "0  569520    3       0     0                   0          0       2   \n",
              "1  750365    0       1     0                   0          1       1   \n",
              "2  199901    0       0     0                   0          0       3   \n",
              "3  478866    0       1     0                   0          2       3   \n",
              "4  731664    1       1     0                   1          1       3   \n",
              "\n",
              "   CREDIT_SCORE  VEHICLE_OWNERSHIP  VEHICLE_YEAR  MARRIED  CHILDREN  \\\n",
              "0      0.629027                1.0             0      0.0       1.0   \n",
              "1      0.357757                0.0             1      0.0       0.0   \n",
              "2      0.493146                1.0             1      0.0       0.0   \n",
              "3      0.206013                1.0             1      0.0       1.0   \n",
              "4      0.388366                1.0             1      0.0       0.0   \n",
              "\n",
              "   POSTAL_CODE  ANNUAL_MILEAGE  VEHICLE_TYPE  SPEEDING_VIOLATIONS  DUIS  \\\n",
              "0            0         12000.0             0                    0     0   \n",
              "1            0         16000.0             0                    0     0   \n",
              "2            0         11000.0             0                    0     0   \n",
              "3            2         11000.0             0                    0     0   \n",
              "4            2         12000.0             0                    2     0   \n",
              "\n",
              "   PAST_ACCIDENTS  OUTCOME RISK_SCORE  \n",
              "0               0      0.0          0  \n",
              "1               0      1.0          0  \n",
              "2               0      0.0          0  \n",
              "3               0      0.0          0  \n",
              "4               1      1.0          1  "
            ],
            "text/html": [
              "\n",
              "  <div id=\"df-8e1de527-6993-40bf-8bff-16e05d2e977f\">\n",
              "    <div class=\"colab-df-container\">\n",
              "      <div>\n",
              "<style scoped>\n",
              "    .dataframe tbody tr th:only-of-type {\n",
              "        vertical-align: middle;\n",
              "    }\n",
              "\n",
              "    .dataframe tbody tr th {\n",
              "        vertical-align: top;\n",
              "    }\n",
              "\n",
              "    .dataframe thead th {\n",
              "        text-align: right;\n",
              "    }\n",
              "</style>\n",
              "<table border=\"1\" class=\"dataframe\">\n",
              "  <thead>\n",
              "    <tr style=\"text-align: right;\">\n",
              "      <th></th>\n",
              "      <th>ID</th>\n",
              "      <th>AGE</th>\n",
              "      <th>GENDER</th>\n",
              "      <th>RACE</th>\n",
              "      <th>DRIVING_EXPERIENCE</th>\n",
              "      <th>EDUCATION</th>\n",
              "      <th>INCOME</th>\n",
              "      <th>CREDIT_SCORE</th>\n",
              "      <th>VEHICLE_OWNERSHIP</th>\n",
              "      <th>VEHICLE_YEAR</th>\n",
              "      <th>MARRIED</th>\n",
              "      <th>CHILDREN</th>\n",
              "      <th>POSTAL_CODE</th>\n",
              "      <th>ANNUAL_MILEAGE</th>\n",
              "      <th>VEHICLE_TYPE</th>\n",
              "      <th>SPEEDING_VIOLATIONS</th>\n",
              "      <th>DUIS</th>\n",
              "      <th>PAST_ACCIDENTS</th>\n",
              "      <th>OUTCOME</th>\n",
              "      <th>RISK_SCORE</th>\n",
              "    </tr>\n",
              "  </thead>\n",
              "  <tbody>\n",
              "    <tr>\n",
              "      <th>0</th>\n",
              "      <td>569520</td>\n",
              "      <td>3</td>\n",
              "      <td>0</td>\n",
              "      <td>0</td>\n",
              "      <td>0</td>\n",
              "      <td>0</td>\n",
              "      <td>2</td>\n",
              "      <td>0.629027</td>\n",
              "      <td>1.0</td>\n",
              "      <td>0</td>\n",
              "      <td>0.0</td>\n",
              "      <td>1.0</td>\n",
              "      <td>0</td>\n",
              "      <td>12000.0</td>\n",
              "      <td>0</td>\n",
              "      <td>0</td>\n",
              "      <td>0</td>\n",
              "      <td>0</td>\n",
              "      <td>0.0</td>\n",
              "      <td>0</td>\n",
              "    </tr>\n",
              "    <tr>\n",
              "      <th>1</th>\n",
              "      <td>750365</td>\n",
              "      <td>0</td>\n",
              "      <td>1</td>\n",
              "      <td>0</td>\n",
              "      <td>0</td>\n",
              "      <td>1</td>\n",
              "      <td>1</td>\n",
              "      <td>0.357757</td>\n",
              "      <td>0.0</td>\n",
              "      <td>1</td>\n",
              "      <td>0.0</td>\n",
              "      <td>0.0</td>\n",
              "      <td>0</td>\n",
              "      <td>16000.0</td>\n",
              "      <td>0</td>\n",
              "      <td>0</td>\n",
              "      <td>0</td>\n",
              "      <td>0</td>\n",
              "      <td>1.0</td>\n",
              "      <td>0</td>\n",
              "    </tr>\n",
              "    <tr>\n",
              "      <th>2</th>\n",
              "      <td>199901</td>\n",
              "      <td>0</td>\n",
              "      <td>0</td>\n",
              "      <td>0</td>\n",
              "      <td>0</td>\n",
              "      <td>0</td>\n",
              "      <td>3</td>\n",
              "      <td>0.493146</td>\n",
              "      <td>1.0</td>\n",
              "      <td>1</td>\n",
              "      <td>0.0</td>\n",
              "      <td>0.0</td>\n",
              "      <td>0</td>\n",
              "      <td>11000.0</td>\n",
              "      <td>0</td>\n",
              "      <td>0</td>\n",
              "      <td>0</td>\n",
              "      <td>0</td>\n",
              "      <td>0.0</td>\n",
              "      <td>0</td>\n",
              "    </tr>\n",
              "    <tr>\n",
              "      <th>3</th>\n",
              "      <td>478866</td>\n",
              "      <td>0</td>\n",
              "      <td>1</td>\n",
              "      <td>0</td>\n",
              "      <td>0</td>\n",
              "      <td>2</td>\n",
              "      <td>3</td>\n",
              "      <td>0.206013</td>\n",
              "      <td>1.0</td>\n",
              "      <td>1</td>\n",
              "      <td>0.0</td>\n",
              "      <td>1.0</td>\n",
              "      <td>2</td>\n",
              "      <td>11000.0</td>\n",
              "      <td>0</td>\n",
              "      <td>0</td>\n",
              "      <td>0</td>\n",
              "      <td>0</td>\n",
              "      <td>0.0</td>\n",
              "      <td>0</td>\n",
              "    </tr>\n",
              "    <tr>\n",
              "      <th>4</th>\n",
              "      <td>731664</td>\n",
              "      <td>1</td>\n",
              "      <td>1</td>\n",
              "      <td>0</td>\n",
              "      <td>1</td>\n",
              "      <td>1</td>\n",
              "      <td>3</td>\n",
              "      <td>0.388366</td>\n",
              "      <td>1.0</td>\n",
              "      <td>1</td>\n",
              "      <td>0.0</td>\n",
              "      <td>0.0</td>\n",
              "      <td>2</td>\n",
              "      <td>12000.0</td>\n",
              "      <td>0</td>\n",
              "      <td>2</td>\n",
              "      <td>0</td>\n",
              "      <td>1</td>\n",
              "      <td>1.0</td>\n",
              "      <td>1</td>\n",
              "    </tr>\n",
              "  </tbody>\n",
              "</table>\n",
              "</div>\n",
              "      <button class=\"colab-df-convert\" onclick=\"convertToInteractive('df-8e1de527-6993-40bf-8bff-16e05d2e977f')\"\n",
              "              title=\"Convert this dataframe to an interactive table.\"\n",
              "              style=\"display:none;\">\n",
              "        \n",
              "  <svg xmlns=\"http://www.w3.org/2000/svg\" height=\"24px\"viewBox=\"0 0 24 24\"\n",
              "       width=\"24px\">\n",
              "    <path d=\"M0 0h24v24H0V0z\" fill=\"none\"/>\n",
              "    <path d=\"M18.56 5.44l.94 2.06.94-2.06 2.06-.94-2.06-.94-.94-2.06-.94 2.06-2.06.94zm-11 1L8.5 8.5l.94-2.06 2.06-.94-2.06-.94L8.5 2.5l-.94 2.06-2.06.94zm10 10l.94 2.06.94-2.06 2.06-.94-2.06-.94-.94-2.06-.94 2.06-2.06.94z\"/><path d=\"M17.41 7.96l-1.37-1.37c-.4-.4-.92-.59-1.43-.59-.52 0-1.04.2-1.43.59L10.3 9.45l-7.72 7.72c-.78.78-.78 2.05 0 2.83L4 21.41c.39.39.9.59 1.41.59.51 0 1.02-.2 1.41-.59l7.78-7.78 2.81-2.81c.8-.78.8-2.07 0-2.86zM5.41 20L4 18.59l7.72-7.72 1.47 1.35L5.41 20z\"/>\n",
              "  </svg>\n",
              "      </button>\n",
              "      \n",
              "  <style>\n",
              "    .colab-df-container {\n",
              "      display:flex;\n",
              "      flex-wrap:wrap;\n",
              "      gap: 12px;\n",
              "    }\n",
              "\n",
              "    .colab-df-convert {\n",
              "      background-color: #E8F0FE;\n",
              "      border: none;\n",
              "      border-radius: 50%;\n",
              "      cursor: pointer;\n",
              "      display: none;\n",
              "      fill: #1967D2;\n",
              "      height: 32px;\n",
              "      padding: 0 0 0 0;\n",
              "      width: 32px;\n",
              "    }\n",
              "\n",
              "    .colab-df-convert:hover {\n",
              "      background-color: #E2EBFA;\n",
              "      box-shadow: 0px 1px 2px rgba(60, 64, 67, 0.3), 0px 1px 3px 1px rgba(60, 64, 67, 0.15);\n",
              "      fill: #174EA6;\n",
              "    }\n",
              "\n",
              "    [theme=dark] .colab-df-convert {\n",
              "      background-color: #3B4455;\n",
              "      fill: #D2E3FC;\n",
              "    }\n",
              "\n",
              "    [theme=dark] .colab-df-convert:hover {\n",
              "      background-color: #434B5C;\n",
              "      box-shadow: 0px 1px 3px 1px rgba(0, 0, 0, 0.15);\n",
              "      filter: drop-shadow(0px 1px 2px rgba(0, 0, 0, 0.3));\n",
              "      fill: #FFFFFF;\n",
              "    }\n",
              "  </style>\n",
              "\n",
              "      <script>\n",
              "        const buttonEl =\n",
              "          document.querySelector('#df-8e1de527-6993-40bf-8bff-16e05d2e977f button.colab-df-convert');\n",
              "        buttonEl.style.display =\n",
              "          google.colab.kernel.accessAllowed ? 'block' : 'none';\n",
              "\n",
              "        async function convertToInteractive(key) {\n",
              "          const element = document.querySelector('#df-8e1de527-6993-40bf-8bff-16e05d2e977f');\n",
              "          const dataTable =\n",
              "            await google.colab.kernel.invokeFunction('convertToInteractive',\n",
              "                                                     [key], {});\n",
              "          if (!dataTable) return;\n",
              "\n",
              "          const docLinkHtml = 'Like what you see? Visit the ' +\n",
              "            '<a target=\"_blank\" href=https://colab.research.google.com/notebooks/data_table.ipynb>data table notebook</a>'\n",
              "            + ' to learn more about interactive tables.';\n",
              "          element.innerHTML = '';\n",
              "          dataTable['output_type'] = 'display_data';\n",
              "          await google.colab.output.renderOutput(dataTable, element);\n",
              "          const docLink = document.createElement('div');\n",
              "          docLink.innerHTML = docLinkHtml;\n",
              "          element.appendChild(docLink);\n",
              "        }\n",
              "      </script>\n",
              "    </div>\n",
              "  </div>\n",
              "  "
            ]
          },
          "metadata": {},
          "execution_count": 24
        }
      ]
    },
    {
      "cell_type": "code",
      "source": [
        "df.describe()"
      ],
      "metadata": {
        "colab": {
          "base_uri": "https://localhost:8080/",
          "height": 364
        },
        "id": "Xlx8XhWzHYhT",
        "outputId": "bf66f5bb-6505-415d-be6c-6992488b365d"
      },
      "execution_count": 25,
      "outputs": [
        {
          "output_type": "execute_result",
          "data": {
            "text/plain": [
              "                  ID           AGE        GENDER          RACE  \\\n",
              "count   10000.000000  10000.000000  10000.000000  10000.000000   \n",
              "mean   500521.906800      1.489500      0.499000      0.098800   \n",
              "std    290030.768758      1.025278      0.500024      0.298408   \n",
              "min       101.000000      0.000000      0.000000      0.000000   \n",
              "25%    249638.500000      1.000000      0.000000      0.000000   \n",
              "50%    501777.000000      1.000000      0.000000      0.000000   \n",
              "75%    753974.500000      2.000000      1.000000      0.000000   \n",
              "max    999976.000000      3.000000      1.000000      1.000000   \n",
              "\n",
              "       DRIVING_EXPERIENCE    EDUCATION        INCOME  CREDIT_SCORE  \\\n",
              "count        10000.000000  10000.00000  10000.000000   9018.000000   \n",
              "mean             1.069300      0.97710      1.562200      0.515813   \n",
              "std              0.990452      0.89892      1.008084      0.137688   \n",
              "min              0.000000      0.00000      0.000000      0.053358   \n",
              "25%              0.000000      0.00000      1.000000      0.417191   \n",
              "50%              1.000000      1.00000      2.000000      0.525033   \n",
              "75%              2.000000      2.00000      2.000000      0.618312   \n",
              "max              3.000000      2.00000      3.000000      0.960819   \n",
              "\n",
              "       VEHICLE_OWNERSHIP  VEHICLE_YEAR       MARRIED      CHILDREN  \\\n",
              "count       10000.000000  10000.000000  10000.000000  10000.000000   \n",
              "mean            0.697000      0.696700      0.498200      0.688800   \n",
              "std             0.459578      0.459707      0.500022      0.463008   \n",
              "min             0.000000      0.000000      0.000000      0.000000   \n",
              "25%             0.000000      0.000000      0.000000      0.000000   \n",
              "50%             1.000000      1.000000      0.000000      1.000000   \n",
              "75%             1.000000      1.000000      1.000000      1.000000   \n",
              "max             1.000000      1.000000      1.000000      1.000000   \n",
              "\n",
              "        POSTAL_CODE  ANNUAL_MILEAGE  VEHICLE_TYPE  SPEEDING_VIOLATIONS  \\\n",
              "count  10000.000000     9043.000000  10000.000000         10000.000000   \n",
              "mean       0.648400    11697.003207      0.047700             1.482900   \n",
              "std        1.004828     2818.434528      0.213141             2.241966   \n",
              "min        0.000000     2000.000000      0.000000             0.000000   \n",
              "25%        0.000000    10000.000000      0.000000             0.000000   \n",
              "50%        0.000000    12000.000000      0.000000             0.000000   \n",
              "75%        2.000000    14000.000000      0.000000             2.000000   \n",
              "max        3.000000    22000.000000      1.000000            22.000000   \n",
              "\n",
              "              DUIS  PAST_ACCIDENTS       OUTCOME  \n",
              "count  10000.00000    10000.000000  10000.000000  \n",
              "mean       0.23920        1.056300      0.313300  \n",
              "std        0.55499        1.652454      0.463858  \n",
              "min        0.00000        0.000000      0.000000  \n",
              "25%        0.00000        0.000000      0.000000  \n",
              "50%        0.00000        0.000000      0.000000  \n",
              "75%        0.00000        2.000000      1.000000  \n",
              "max        6.00000       15.000000      1.000000  "
            ],
            "text/html": [
              "\n",
              "  <div id=\"df-92d7b538-aea4-4672-b8b2-f25bd3e8b08c\">\n",
              "    <div class=\"colab-df-container\">\n",
              "      <div>\n",
              "<style scoped>\n",
              "    .dataframe tbody tr th:only-of-type {\n",
              "        vertical-align: middle;\n",
              "    }\n",
              "\n",
              "    .dataframe tbody tr th {\n",
              "        vertical-align: top;\n",
              "    }\n",
              "\n",
              "    .dataframe thead th {\n",
              "        text-align: right;\n",
              "    }\n",
              "</style>\n",
              "<table border=\"1\" class=\"dataframe\">\n",
              "  <thead>\n",
              "    <tr style=\"text-align: right;\">\n",
              "      <th></th>\n",
              "      <th>ID</th>\n",
              "      <th>AGE</th>\n",
              "      <th>GENDER</th>\n",
              "      <th>RACE</th>\n",
              "      <th>DRIVING_EXPERIENCE</th>\n",
              "      <th>EDUCATION</th>\n",
              "      <th>INCOME</th>\n",
              "      <th>CREDIT_SCORE</th>\n",
              "      <th>VEHICLE_OWNERSHIP</th>\n",
              "      <th>VEHICLE_YEAR</th>\n",
              "      <th>MARRIED</th>\n",
              "      <th>CHILDREN</th>\n",
              "      <th>POSTAL_CODE</th>\n",
              "      <th>ANNUAL_MILEAGE</th>\n",
              "      <th>VEHICLE_TYPE</th>\n",
              "      <th>SPEEDING_VIOLATIONS</th>\n",
              "      <th>DUIS</th>\n",
              "      <th>PAST_ACCIDENTS</th>\n",
              "      <th>OUTCOME</th>\n",
              "    </tr>\n",
              "  </thead>\n",
              "  <tbody>\n",
              "    <tr>\n",
              "      <th>count</th>\n",
              "      <td>10000.000000</td>\n",
              "      <td>10000.000000</td>\n",
              "      <td>10000.000000</td>\n",
              "      <td>10000.000000</td>\n",
              "      <td>10000.000000</td>\n",
              "      <td>10000.00000</td>\n",
              "      <td>10000.000000</td>\n",
              "      <td>9018.000000</td>\n",
              "      <td>10000.000000</td>\n",
              "      <td>10000.000000</td>\n",
              "      <td>10000.000000</td>\n",
              "      <td>10000.000000</td>\n",
              "      <td>10000.000000</td>\n",
              "      <td>9043.000000</td>\n",
              "      <td>10000.000000</td>\n",
              "      <td>10000.000000</td>\n",
              "      <td>10000.00000</td>\n",
              "      <td>10000.000000</td>\n",
              "      <td>10000.000000</td>\n",
              "    </tr>\n",
              "    <tr>\n",
              "      <th>mean</th>\n",
              "      <td>500521.906800</td>\n",
              "      <td>1.489500</td>\n",
              "      <td>0.499000</td>\n",
              "      <td>0.098800</td>\n",
              "      <td>1.069300</td>\n",
              "      <td>0.97710</td>\n",
              "      <td>1.562200</td>\n",
              "      <td>0.515813</td>\n",
              "      <td>0.697000</td>\n",
              "      <td>0.696700</td>\n",
              "      <td>0.498200</td>\n",
              "      <td>0.688800</td>\n",
              "      <td>0.648400</td>\n",
              "      <td>11697.003207</td>\n",
              "      <td>0.047700</td>\n",
              "      <td>1.482900</td>\n",
              "      <td>0.23920</td>\n",
              "      <td>1.056300</td>\n",
              "      <td>0.313300</td>\n",
              "    </tr>\n",
              "    <tr>\n",
              "      <th>std</th>\n",
              "      <td>290030.768758</td>\n",
              "      <td>1.025278</td>\n",
              "      <td>0.500024</td>\n",
              "      <td>0.298408</td>\n",
              "      <td>0.990452</td>\n",
              "      <td>0.89892</td>\n",
              "      <td>1.008084</td>\n",
              "      <td>0.137688</td>\n",
              "      <td>0.459578</td>\n",
              "      <td>0.459707</td>\n",
              "      <td>0.500022</td>\n",
              "      <td>0.463008</td>\n",
              "      <td>1.004828</td>\n",
              "      <td>2818.434528</td>\n",
              "      <td>0.213141</td>\n",
              "      <td>2.241966</td>\n",
              "      <td>0.55499</td>\n",
              "      <td>1.652454</td>\n",
              "      <td>0.463858</td>\n",
              "    </tr>\n",
              "    <tr>\n",
              "      <th>min</th>\n",
              "      <td>101.000000</td>\n",
              "      <td>0.000000</td>\n",
              "      <td>0.000000</td>\n",
              "      <td>0.000000</td>\n",
              "      <td>0.000000</td>\n",
              "      <td>0.00000</td>\n",
              "      <td>0.000000</td>\n",
              "      <td>0.053358</td>\n",
              "      <td>0.000000</td>\n",
              "      <td>0.000000</td>\n",
              "      <td>0.000000</td>\n",
              "      <td>0.000000</td>\n",
              "      <td>0.000000</td>\n",
              "      <td>2000.000000</td>\n",
              "      <td>0.000000</td>\n",
              "      <td>0.000000</td>\n",
              "      <td>0.00000</td>\n",
              "      <td>0.000000</td>\n",
              "      <td>0.000000</td>\n",
              "    </tr>\n",
              "    <tr>\n",
              "      <th>25%</th>\n",
              "      <td>249638.500000</td>\n",
              "      <td>1.000000</td>\n",
              "      <td>0.000000</td>\n",
              "      <td>0.000000</td>\n",
              "      <td>0.000000</td>\n",
              "      <td>0.00000</td>\n",
              "      <td>1.000000</td>\n",
              "      <td>0.417191</td>\n",
              "      <td>0.000000</td>\n",
              "      <td>0.000000</td>\n",
              "      <td>0.000000</td>\n",
              "      <td>0.000000</td>\n",
              "      <td>0.000000</td>\n",
              "      <td>10000.000000</td>\n",
              "      <td>0.000000</td>\n",
              "      <td>0.000000</td>\n",
              "      <td>0.00000</td>\n",
              "      <td>0.000000</td>\n",
              "      <td>0.000000</td>\n",
              "    </tr>\n",
              "    <tr>\n",
              "      <th>50%</th>\n",
              "      <td>501777.000000</td>\n",
              "      <td>1.000000</td>\n",
              "      <td>0.000000</td>\n",
              "      <td>0.000000</td>\n",
              "      <td>1.000000</td>\n",
              "      <td>1.00000</td>\n",
              "      <td>2.000000</td>\n",
              "      <td>0.525033</td>\n",
              "      <td>1.000000</td>\n",
              "      <td>1.000000</td>\n",
              "      <td>0.000000</td>\n",
              "      <td>1.000000</td>\n",
              "      <td>0.000000</td>\n",
              "      <td>12000.000000</td>\n",
              "      <td>0.000000</td>\n",
              "      <td>0.000000</td>\n",
              "      <td>0.00000</td>\n",
              "      <td>0.000000</td>\n",
              "      <td>0.000000</td>\n",
              "    </tr>\n",
              "    <tr>\n",
              "      <th>75%</th>\n",
              "      <td>753974.500000</td>\n",
              "      <td>2.000000</td>\n",
              "      <td>1.000000</td>\n",
              "      <td>0.000000</td>\n",
              "      <td>2.000000</td>\n",
              "      <td>2.00000</td>\n",
              "      <td>2.000000</td>\n",
              "      <td>0.618312</td>\n",
              "      <td>1.000000</td>\n",
              "      <td>1.000000</td>\n",
              "      <td>1.000000</td>\n",
              "      <td>1.000000</td>\n",
              "      <td>2.000000</td>\n",
              "      <td>14000.000000</td>\n",
              "      <td>0.000000</td>\n",
              "      <td>2.000000</td>\n",
              "      <td>0.00000</td>\n",
              "      <td>2.000000</td>\n",
              "      <td>1.000000</td>\n",
              "    </tr>\n",
              "    <tr>\n",
              "      <th>max</th>\n",
              "      <td>999976.000000</td>\n",
              "      <td>3.000000</td>\n",
              "      <td>1.000000</td>\n",
              "      <td>1.000000</td>\n",
              "      <td>3.000000</td>\n",
              "      <td>2.00000</td>\n",
              "      <td>3.000000</td>\n",
              "      <td>0.960819</td>\n",
              "      <td>1.000000</td>\n",
              "      <td>1.000000</td>\n",
              "      <td>1.000000</td>\n",
              "      <td>1.000000</td>\n",
              "      <td>3.000000</td>\n",
              "      <td>22000.000000</td>\n",
              "      <td>1.000000</td>\n",
              "      <td>22.000000</td>\n",
              "      <td>6.00000</td>\n",
              "      <td>15.000000</td>\n",
              "      <td>1.000000</td>\n",
              "    </tr>\n",
              "  </tbody>\n",
              "</table>\n",
              "</div>\n",
              "      <button class=\"colab-df-convert\" onclick=\"convertToInteractive('df-92d7b538-aea4-4672-b8b2-f25bd3e8b08c')\"\n",
              "              title=\"Convert this dataframe to an interactive table.\"\n",
              "              style=\"display:none;\">\n",
              "        \n",
              "  <svg xmlns=\"http://www.w3.org/2000/svg\" height=\"24px\"viewBox=\"0 0 24 24\"\n",
              "       width=\"24px\">\n",
              "    <path d=\"M0 0h24v24H0V0z\" fill=\"none\"/>\n",
              "    <path d=\"M18.56 5.44l.94 2.06.94-2.06 2.06-.94-2.06-.94-.94-2.06-.94 2.06-2.06.94zm-11 1L8.5 8.5l.94-2.06 2.06-.94-2.06-.94L8.5 2.5l-.94 2.06-2.06.94zm10 10l.94 2.06.94-2.06 2.06-.94-2.06-.94-.94-2.06-.94 2.06-2.06.94z\"/><path d=\"M17.41 7.96l-1.37-1.37c-.4-.4-.92-.59-1.43-.59-.52 0-1.04.2-1.43.59L10.3 9.45l-7.72 7.72c-.78.78-.78 2.05 0 2.83L4 21.41c.39.39.9.59 1.41.59.51 0 1.02-.2 1.41-.59l7.78-7.78 2.81-2.81c.8-.78.8-2.07 0-2.86zM5.41 20L4 18.59l7.72-7.72 1.47 1.35L5.41 20z\"/>\n",
              "  </svg>\n",
              "      </button>\n",
              "      \n",
              "  <style>\n",
              "    .colab-df-container {\n",
              "      display:flex;\n",
              "      flex-wrap:wrap;\n",
              "      gap: 12px;\n",
              "    }\n",
              "\n",
              "    .colab-df-convert {\n",
              "      background-color: #E8F0FE;\n",
              "      border: none;\n",
              "      border-radius: 50%;\n",
              "      cursor: pointer;\n",
              "      display: none;\n",
              "      fill: #1967D2;\n",
              "      height: 32px;\n",
              "      padding: 0 0 0 0;\n",
              "      width: 32px;\n",
              "    }\n",
              "\n",
              "    .colab-df-convert:hover {\n",
              "      background-color: #E2EBFA;\n",
              "      box-shadow: 0px 1px 2px rgba(60, 64, 67, 0.3), 0px 1px 3px 1px rgba(60, 64, 67, 0.15);\n",
              "      fill: #174EA6;\n",
              "    }\n",
              "\n",
              "    [theme=dark] .colab-df-convert {\n",
              "      background-color: #3B4455;\n",
              "      fill: #D2E3FC;\n",
              "    }\n",
              "\n",
              "    [theme=dark] .colab-df-convert:hover {\n",
              "      background-color: #434B5C;\n",
              "      box-shadow: 0px 1px 3px 1px rgba(0, 0, 0, 0.15);\n",
              "      filter: drop-shadow(0px 1px 2px rgba(0, 0, 0, 0.3));\n",
              "      fill: #FFFFFF;\n",
              "    }\n",
              "  </style>\n",
              "\n",
              "      <script>\n",
              "        const buttonEl =\n",
              "          document.querySelector('#df-92d7b538-aea4-4672-b8b2-f25bd3e8b08c button.colab-df-convert');\n",
              "        buttonEl.style.display =\n",
              "          google.colab.kernel.accessAllowed ? 'block' : 'none';\n",
              "\n",
              "        async function convertToInteractive(key) {\n",
              "          const element = document.querySelector('#df-92d7b538-aea4-4672-b8b2-f25bd3e8b08c');\n",
              "          const dataTable =\n",
              "            await google.colab.kernel.invokeFunction('convertToInteractive',\n",
              "                                                     [key], {});\n",
              "          if (!dataTable) return;\n",
              "\n",
              "          const docLinkHtml = 'Like what you see? Visit the ' +\n",
              "            '<a target=\"_blank\" href=https://colab.research.google.com/notebooks/data_table.ipynb>data table notebook</a>'\n",
              "            + ' to learn more about interactive tables.';\n",
              "          element.innerHTML = '';\n",
              "          dataTable['output_type'] = 'display_data';\n",
              "          await google.colab.output.renderOutput(dataTable, element);\n",
              "          const docLink = document.createElement('div');\n",
              "          docLink.innerHTML = docLinkHtml;\n",
              "          element.appendChild(docLink);\n",
              "        }\n",
              "      </script>\n",
              "    </div>\n",
              "  </div>\n",
              "  "
            ]
          },
          "metadata": {},
          "execution_count": 25
        }
      ]
    },
    {
      "cell_type": "code",
      "source": [
        "#Finding the mean of the column having NaN\n",
        "mean_value=df['CREDIT_SCORE'].mean()\n",
        "  \n",
        "# Replace NaNs in column S2 with the\n",
        "# mean of values in the same column\n",
        "df['CREDIT_SCORE'].fillna(value=mean_value, inplace=True)\n",
        "print('Updated Dataframe:')\n",
        "print(df)"
      ],
      "metadata": {
        "colab": {
          "base_uri": "https://localhost:8080/"
        },
        "id": "F93a9diXREwT",
        "outputId": "e53ca39f-405c-4ab5-d1e3-5d655becbb27"
      },
      "execution_count": 26,
      "outputs": [
        {
          "output_type": "stream",
          "name": "stdout",
          "text": [
            "Updated Dataframe:\n",
            "          ID  AGE  GENDER  RACE  DRIVING_EXPERIENCE  EDUCATION  INCOME  \\\n",
            "0     569520    3       0     0                   0          0       2   \n",
            "1     750365    0       1     0                   0          1       1   \n",
            "2     199901    0       0     0                   0          0       3   \n",
            "3     478866    0       1     0                   0          2       3   \n",
            "4     731664    1       1     0                   1          1       3   \n",
            "...      ...  ...     ...   ...                 ...        ...     ...   \n",
            "9995  323164    1       0     0                   1          2       2   \n",
            "9996  910346    1       0     0                   1          1       0   \n",
            "9997  468409    1       1     0                   0          0       0   \n",
            "9998  903459    1       0     0                   1          0       1   \n",
            "9999  442696    1       0     0                   0          1       3   \n",
            "\n",
            "      CREDIT_SCORE  VEHICLE_OWNERSHIP  VEHICLE_YEAR  MARRIED  CHILDREN  \\\n",
            "0         0.629027                1.0             0      0.0       1.0   \n",
            "1         0.357757                0.0             1      0.0       0.0   \n",
            "2         0.493146                1.0             1      0.0       0.0   \n",
            "3         0.206013                1.0             1      0.0       1.0   \n",
            "4         0.388366                1.0             1      0.0       0.0   \n",
            "...            ...                ...           ...      ...       ...   \n",
            "9995      0.582787                1.0             1      0.0       0.0   \n",
            "9996      0.522231                1.0             0      0.0       1.0   \n",
            "9997      0.470940                1.0             1      0.0       1.0   \n",
            "9998      0.364185                0.0             1      0.0       1.0   \n",
            "9999      0.435225                1.0             1      1.0       1.0   \n",
            "\n",
            "      POSTAL_CODE  ANNUAL_MILEAGE  VEHICLE_TYPE  SPEEDING_VIOLATIONS  DUIS  \\\n",
            "0               0         12000.0             0                    0     0   \n",
            "1               0         16000.0             0                    0     0   \n",
            "2               0         11000.0             0                    0     0   \n",
            "3               2         11000.0             0                    0     0   \n",
            "4               2         12000.0             0                    2     0   \n",
            "...           ...             ...           ...                  ...   ...   \n",
            "9995            0         16000.0             0                    0     0   \n",
            "9996            2             NaN             0                    1     0   \n",
            "9997            0         14000.0             0                    0     0   \n",
            "9998            0         13000.0             0                    2     0   \n",
            "9999            0         13000.0             0                    0     0   \n",
            "\n",
            "      PAST_ACCIDENTS  OUTCOME RISK_SCORE  \n",
            "0                  0      0.0          0  \n",
            "1                  0      1.0          0  \n",
            "2                  0      0.0          0  \n",
            "3                  0      0.0          0  \n",
            "4                  1      1.0          1  \n",
            "...              ...      ...        ...  \n",
            "9995               1      0.0          1  \n",
            "9996               0      0.0          0  \n",
            "9997               0      0.0          0  \n",
            "9998               1      1.0          1  \n",
            "9999               0      0.0          0  \n",
            "\n",
            "[10000 rows x 20 columns]\n"
          ]
        }
      ]
    },
    {
      "cell_type": "code",
      "source": [
        "#Finding the mean of the column having NaN\n",
        "mean_value=df['ANNUAL_MILEAGE'].mean()\n",
        "  \n",
        "# Replace NaNs in column S2 with the\n",
        "# mean of values in the same column\n",
        "df['ANNUAL_MILEAGE'].fillna(value=mean_value, inplace=True)\n",
        "print('Updated Dataframe:')\n",
        "print(df)"
      ],
      "metadata": {
        "colab": {
          "base_uri": "https://localhost:8080/"
        },
        "id": "0vNrIhCuRl5d",
        "outputId": "6eb771ec-5a9b-45cd-9048-c344a24f10f2"
      },
      "execution_count": 27,
      "outputs": [
        {
          "output_type": "stream",
          "name": "stdout",
          "text": [
            "Updated Dataframe:\n",
            "          ID  AGE  GENDER  RACE  DRIVING_EXPERIENCE  EDUCATION  INCOME  \\\n",
            "0     569520    3       0     0                   0          0       2   \n",
            "1     750365    0       1     0                   0          1       1   \n",
            "2     199901    0       0     0                   0          0       3   \n",
            "3     478866    0       1     0                   0          2       3   \n",
            "4     731664    1       1     0                   1          1       3   \n",
            "...      ...  ...     ...   ...                 ...        ...     ...   \n",
            "9995  323164    1       0     0                   1          2       2   \n",
            "9996  910346    1       0     0                   1          1       0   \n",
            "9997  468409    1       1     0                   0          0       0   \n",
            "9998  903459    1       0     0                   1          0       1   \n",
            "9999  442696    1       0     0                   0          1       3   \n",
            "\n",
            "      CREDIT_SCORE  VEHICLE_OWNERSHIP  VEHICLE_YEAR  MARRIED  CHILDREN  \\\n",
            "0         0.629027                1.0             0      0.0       1.0   \n",
            "1         0.357757                0.0             1      0.0       0.0   \n",
            "2         0.493146                1.0             1      0.0       0.0   \n",
            "3         0.206013                1.0             1      0.0       1.0   \n",
            "4         0.388366                1.0             1      0.0       0.0   \n",
            "...            ...                ...           ...      ...       ...   \n",
            "9995      0.582787                1.0             1      0.0       0.0   \n",
            "9996      0.522231                1.0             0      0.0       1.0   \n",
            "9997      0.470940                1.0             1      0.0       1.0   \n",
            "9998      0.364185                0.0             1      0.0       1.0   \n",
            "9999      0.435225                1.0             1      1.0       1.0   \n",
            "\n",
            "      POSTAL_CODE  ANNUAL_MILEAGE  VEHICLE_TYPE  SPEEDING_VIOLATIONS  DUIS  \\\n",
            "0               0    12000.000000             0                    0     0   \n",
            "1               0    16000.000000             0                    0     0   \n",
            "2               0    11000.000000             0                    0     0   \n",
            "3               2    11000.000000             0                    0     0   \n",
            "4               2    12000.000000             0                    2     0   \n",
            "...           ...             ...           ...                  ...   ...   \n",
            "9995            0    16000.000000             0                    0     0   \n",
            "9996            2    11697.003207             0                    1     0   \n",
            "9997            0    14000.000000             0                    0     0   \n",
            "9998            0    13000.000000             0                    2     0   \n",
            "9999            0    13000.000000             0                    0     0   \n",
            "\n",
            "      PAST_ACCIDENTS  OUTCOME RISK_SCORE  \n",
            "0                  0      0.0          0  \n",
            "1                  0      1.0          0  \n",
            "2                  0      0.0          0  \n",
            "3                  0      0.0          0  \n",
            "4                  1      1.0          1  \n",
            "...              ...      ...        ...  \n",
            "9995               1      0.0          1  \n",
            "9996               0      0.0          0  \n",
            "9997               0      0.0          0  \n",
            "9998               1      1.0          1  \n",
            "9999               0      0.0          0  \n",
            "\n",
            "[10000 rows x 20 columns]\n"
          ]
        }
      ]
    },
    {
      "cell_type": "code",
      "source": [
        "#check for missing values again\n",
        "\n",
        "#Find null values\n",
        "df.isnull().sum()"
      ],
      "metadata": {
        "colab": {
          "base_uri": "https://localhost:8080/"
        },
        "id": "aZMigja8Rv-N",
        "outputId": "788b7afc-8de0-40be-e90b-78f2e2d6d0c4"
      },
      "execution_count": 28,
      "outputs": [
        {
          "output_type": "execute_result",
          "data": {
            "text/plain": [
              "ID                     0\n",
              "AGE                    0\n",
              "GENDER                 0\n",
              "RACE                   0\n",
              "DRIVING_EXPERIENCE     0\n",
              "EDUCATION              0\n",
              "INCOME                 0\n",
              "CREDIT_SCORE           0\n",
              "VEHICLE_OWNERSHIP      0\n",
              "VEHICLE_YEAR           0\n",
              "MARRIED                0\n",
              "CHILDREN               0\n",
              "POSTAL_CODE            0\n",
              "ANNUAL_MILEAGE         0\n",
              "VEHICLE_TYPE           0\n",
              "SPEEDING_VIOLATIONS    0\n",
              "DUIS                   0\n",
              "PAST_ACCIDENTS         0\n",
              "OUTCOME                0\n",
              "RISK_SCORE             0\n",
              "dtype: int64"
            ]
          },
          "metadata": {},
          "execution_count": 28
        }
      ]
    },
    {
      "cell_type": "code",
      "source": [
        "#Correlation \n",
        "df.corr()"
      ],
      "metadata": {
        "colab": {
          "base_uri": "https://localhost:8080/",
          "height": 709
        },
        "id": "tdEbht__R-uA",
        "outputId": "be675206-a2fe-4b21-f97c-569f45c03788"
      },
      "execution_count": 29,
      "outputs": [
        {
          "output_type": "execute_result",
          "data": {
            "text/plain": [
              "                           ID       AGE    GENDER      RACE  \\\n",
              "ID                   1.000000  0.013512 -0.007343 -0.005973   \n",
              "AGE                  0.013512  1.000000  0.005929 -0.011645   \n",
              "GENDER              -0.007343  0.005929  1.000000 -0.006711   \n",
              "RACE                -0.005973 -0.011645 -0.006711  1.000000   \n",
              "DRIVING_EXPERIENCE   0.004298  0.707393  0.007511 -0.020461   \n",
              "EDUCATION           -0.008880  0.153339  0.082831 -0.041897   \n",
              "INCOME              -0.006655  0.145340  0.012226 -0.000151   \n",
              "CREDIT_SCORE         0.001621  0.471419 -0.077478 -0.037637   \n",
              "VEHICLE_OWNERSHIP    0.009197  0.272140  0.007385 -0.034738   \n",
              "VEHICLE_YEAR         0.003281 -0.235390 -0.010674  0.020895   \n",
              "MARRIED              0.014826  0.384759  0.008393 -0.021597   \n",
              "CHILDREN             0.001233  0.383708 -0.002640  0.007575   \n",
              "POSTAL_CODE          0.007275  0.008454 -0.002093  0.007465   \n",
              "ANNUAL_MILEAGE      -0.002111 -0.263838 -0.015068 -0.001898   \n",
              "VEHICLE_TYPE         0.006243 -0.008463 -0.000022  0.006089   \n",
              "SPEEDING_VIOLATIONS  0.008156  0.458413  0.202095 -0.014068   \n",
              "DUIS                 0.009268  0.281937  0.094202 -0.015296   \n",
              "PAST_ACCIDENTS       0.001831  0.431061  0.223202 -0.008848   \n",
              "OUTCOME             -0.010506 -0.448463  0.107208  0.008280   \n",
              "\n",
              "                     DRIVING_EXPERIENCE  EDUCATION    INCOME  CREDIT_SCORE  \\\n",
              "ID                             0.004298  -0.008880 -0.006655      0.001621   \n",
              "AGE                            0.707393   0.153339  0.145340      0.471419   \n",
              "GENDER                         0.007511   0.082831  0.012226     -0.077478   \n",
              "RACE                          -0.020461  -0.041897 -0.000151     -0.037637   \n",
              "DRIVING_EXPERIENCE             1.000000   0.094116  0.086181      0.327672   \n",
              "EDUCATION                      0.094116   1.000000  0.079765      0.202505   \n",
              "INCOME                         0.086181   0.079765  1.000000      0.087576   \n",
              "CREDIT_SCORE                   0.327672   0.202505  0.087576      1.000000   \n",
              "VEHICLE_OWNERSHIP              0.202788   0.121432  0.046080      0.295689   \n",
              "VEHICLE_YEAR                  -0.164915  -0.113857 -0.071399     -0.254574   \n",
              "MARRIED                        0.269942   0.105263  0.060935      0.267074   \n",
              "CHILDREN                       0.277546   0.074666  0.047046      0.209515   \n",
              "POSTAL_CODE                    0.006297   0.013008  0.019519      0.004112   \n",
              "ANNUAL_MILEAGE                -0.178353  -0.076280 -0.050977     -0.157641   \n",
              "VEHICLE_TYPE                  -0.008554   0.000482 -0.012181     -0.013141   \n",
              "SPEEDING_VIOLATIONS            0.637306   0.081562  0.061603      0.194645   \n",
              "DUIS                           0.399398   0.056286  0.051878      0.120953   \n",
              "PAST_ACCIDENTS                 0.604699   0.067320  0.050460      0.172077   \n",
              "OUTCOME                       -0.497431  -0.092643 -0.047560     -0.309010   \n",
              "\n",
              "                     VEHICLE_OWNERSHIP  VEHICLE_YEAR   MARRIED  CHILDREN  \\\n",
              "ID                            0.009197      0.003281  0.014826  0.001233   \n",
              "AGE                           0.272140     -0.235390  0.384759  0.383708   \n",
              "GENDER                        0.007385     -0.010674  0.008393 -0.002640   \n",
              "RACE                         -0.034738      0.020895 -0.021597  0.007575   \n",
              "DRIVING_EXPERIENCE            0.202788     -0.164915  0.269942  0.277546   \n",
              "EDUCATION                     0.121432     -0.113857  0.105263  0.074666   \n",
              "INCOME                        0.046080     -0.071399  0.060935  0.047046   \n",
              "CREDIT_SCORE                  0.295689     -0.254574  0.267074  0.209515   \n",
              "VEHICLE_OWNERSHIP             1.000000     -0.158579  0.175626  0.125990   \n",
              "VEHICLE_YEAR                 -0.158579      1.000000 -0.129638 -0.105189   \n",
              "MARRIED                       0.175626     -0.129638  1.000000  0.287009   \n",
              "CHILDREN                      0.125990     -0.105189  0.287009  1.000000   \n",
              "POSTAL_CODE                  -0.002241      0.000562  0.007498  0.023392   \n",
              "ANNUAL_MILEAGE               -0.092701      0.073713 -0.439520 -0.425813   \n",
              "VEHICLE_TYPE                  0.005647      0.025185  0.006905 -0.008672   \n",
              "SPEEDING_VIOLATIONS           0.133868     -0.102700  0.218855  0.220415   \n",
              "DUIS                          0.086567     -0.049981  0.120840  0.115354   \n",
              "PAST_ACCIDENTS                0.119521     -0.097587  0.215269  0.206295   \n",
              "OUTCOME                      -0.378921      0.294178 -0.262104 -0.232835   \n",
              "\n",
              "                     POSTAL_CODE  ANNUAL_MILEAGE  VEHICLE_TYPE  \\\n",
              "ID                      0.007275       -0.002111      0.006243   \n",
              "AGE                     0.008454       -0.263838     -0.008463   \n",
              "GENDER                 -0.002093       -0.015068     -0.000022   \n",
              "RACE                    0.007465       -0.001898      0.006089   \n",
              "DRIVING_EXPERIENCE      0.006297       -0.178353     -0.008554   \n",
              "EDUCATION               0.013008       -0.076280      0.000482   \n",
              "INCOME                  0.019519       -0.050977     -0.012181   \n",
              "CREDIT_SCORE            0.004112       -0.157641     -0.013141   \n",
              "VEHICLE_OWNERSHIP      -0.002241       -0.092701      0.005647   \n",
              "VEHICLE_YEAR            0.000562        0.073713      0.025185   \n",
              "MARRIED                 0.007498       -0.439520      0.006905   \n",
              "CHILDREN                0.023392       -0.425813     -0.008672   \n",
              "POSTAL_CODE             1.000000       -0.242870     -0.000134   \n",
              "ANNUAL_MILEAGE         -0.242870        1.000000     -0.010013   \n",
              "VEHICLE_TYPE           -0.000134       -0.010013      1.000000   \n",
              "SPEEDING_VIOLATIONS     0.221165       -0.308125      0.001812   \n",
              "DUIS                    0.091645       -0.111232     -0.005156   \n",
              "PAST_ACCIDENTS         -0.141547       -0.187180     -0.013305   \n",
              "OUTCOME                 0.116417        0.177575      0.005620   \n",
              "\n",
              "                     SPEEDING_VIOLATIONS      DUIS  PAST_ACCIDENTS   OUTCOME  \n",
              "ID                              0.008156  0.009268        0.001831 -0.010506  \n",
              "AGE                             0.458413  0.281937        0.431061 -0.448463  \n",
              "GENDER                          0.202095  0.094202        0.223202  0.107208  \n",
              "RACE                           -0.014068 -0.015296       -0.008848  0.008280  \n",
              "DRIVING_EXPERIENCE              0.637306  0.399398        0.604699 -0.497431  \n",
              "EDUCATION                       0.081562  0.056286        0.067320 -0.092643  \n",
              "INCOME                          0.061603  0.051878        0.050460 -0.047560  \n",
              "CREDIT_SCORE                    0.194645  0.120953        0.172077 -0.309010  \n",
              "VEHICLE_OWNERSHIP               0.133868  0.086567        0.119521 -0.378921  \n",
              "VEHICLE_YEAR                   -0.102700 -0.049981       -0.097587  0.294178  \n",
              "MARRIED                         0.218855  0.120840        0.215269 -0.262104  \n",
              "CHILDREN                        0.220415  0.115354        0.206295 -0.232835  \n",
              "POSTAL_CODE                     0.221165  0.091645       -0.141547  0.116417  \n",
              "ANNUAL_MILEAGE                 -0.308125 -0.111232       -0.187180  0.177575  \n",
              "VEHICLE_TYPE                    0.001812 -0.005156       -0.013305  0.005620  \n",
              "SPEEDING_VIOLATIONS             1.000000  0.359838        0.443074 -0.291862  \n",
              "DUIS                            0.359838  1.000000        0.259359 -0.189352  \n",
              "PAST_ACCIDENTS                  0.443074  0.259359        1.000000 -0.311495  \n",
              "OUTCOME                        -0.291862 -0.189352       -0.311495  1.000000  "
            ],
            "text/html": [
              "\n",
              "  <div id=\"df-fdcd2612-718b-4b3f-bc0b-613ee4ca726b\">\n",
              "    <div class=\"colab-df-container\">\n",
              "      <div>\n",
              "<style scoped>\n",
              "    .dataframe tbody tr th:only-of-type {\n",
              "        vertical-align: middle;\n",
              "    }\n",
              "\n",
              "    .dataframe tbody tr th {\n",
              "        vertical-align: top;\n",
              "    }\n",
              "\n",
              "    .dataframe thead th {\n",
              "        text-align: right;\n",
              "    }\n",
              "</style>\n",
              "<table border=\"1\" class=\"dataframe\">\n",
              "  <thead>\n",
              "    <tr style=\"text-align: right;\">\n",
              "      <th></th>\n",
              "      <th>ID</th>\n",
              "      <th>AGE</th>\n",
              "      <th>GENDER</th>\n",
              "      <th>RACE</th>\n",
              "      <th>DRIVING_EXPERIENCE</th>\n",
              "      <th>EDUCATION</th>\n",
              "      <th>INCOME</th>\n",
              "      <th>CREDIT_SCORE</th>\n",
              "      <th>VEHICLE_OWNERSHIP</th>\n",
              "      <th>VEHICLE_YEAR</th>\n",
              "      <th>MARRIED</th>\n",
              "      <th>CHILDREN</th>\n",
              "      <th>POSTAL_CODE</th>\n",
              "      <th>ANNUAL_MILEAGE</th>\n",
              "      <th>VEHICLE_TYPE</th>\n",
              "      <th>SPEEDING_VIOLATIONS</th>\n",
              "      <th>DUIS</th>\n",
              "      <th>PAST_ACCIDENTS</th>\n",
              "      <th>OUTCOME</th>\n",
              "    </tr>\n",
              "  </thead>\n",
              "  <tbody>\n",
              "    <tr>\n",
              "      <th>ID</th>\n",
              "      <td>1.000000</td>\n",
              "      <td>0.013512</td>\n",
              "      <td>-0.007343</td>\n",
              "      <td>-0.005973</td>\n",
              "      <td>0.004298</td>\n",
              "      <td>-0.008880</td>\n",
              "      <td>-0.006655</td>\n",
              "      <td>0.001621</td>\n",
              "      <td>0.009197</td>\n",
              "      <td>0.003281</td>\n",
              "      <td>0.014826</td>\n",
              "      <td>0.001233</td>\n",
              "      <td>0.007275</td>\n",
              "      <td>-0.002111</td>\n",
              "      <td>0.006243</td>\n",
              "      <td>0.008156</td>\n",
              "      <td>0.009268</td>\n",
              "      <td>0.001831</td>\n",
              "      <td>-0.010506</td>\n",
              "    </tr>\n",
              "    <tr>\n",
              "      <th>AGE</th>\n",
              "      <td>0.013512</td>\n",
              "      <td>1.000000</td>\n",
              "      <td>0.005929</td>\n",
              "      <td>-0.011645</td>\n",
              "      <td>0.707393</td>\n",
              "      <td>0.153339</td>\n",
              "      <td>0.145340</td>\n",
              "      <td>0.471419</td>\n",
              "      <td>0.272140</td>\n",
              "      <td>-0.235390</td>\n",
              "      <td>0.384759</td>\n",
              "      <td>0.383708</td>\n",
              "      <td>0.008454</td>\n",
              "      <td>-0.263838</td>\n",
              "      <td>-0.008463</td>\n",
              "      <td>0.458413</td>\n",
              "      <td>0.281937</td>\n",
              "      <td>0.431061</td>\n",
              "      <td>-0.448463</td>\n",
              "    </tr>\n",
              "    <tr>\n",
              "      <th>GENDER</th>\n",
              "      <td>-0.007343</td>\n",
              "      <td>0.005929</td>\n",
              "      <td>1.000000</td>\n",
              "      <td>-0.006711</td>\n",
              "      <td>0.007511</td>\n",
              "      <td>0.082831</td>\n",
              "      <td>0.012226</td>\n",
              "      <td>-0.077478</td>\n",
              "      <td>0.007385</td>\n",
              "      <td>-0.010674</td>\n",
              "      <td>0.008393</td>\n",
              "      <td>-0.002640</td>\n",
              "      <td>-0.002093</td>\n",
              "      <td>-0.015068</td>\n",
              "      <td>-0.000022</td>\n",
              "      <td>0.202095</td>\n",
              "      <td>0.094202</td>\n",
              "      <td>0.223202</td>\n",
              "      <td>0.107208</td>\n",
              "    </tr>\n",
              "    <tr>\n",
              "      <th>RACE</th>\n",
              "      <td>-0.005973</td>\n",
              "      <td>-0.011645</td>\n",
              "      <td>-0.006711</td>\n",
              "      <td>1.000000</td>\n",
              "      <td>-0.020461</td>\n",
              "      <td>-0.041897</td>\n",
              "      <td>-0.000151</td>\n",
              "      <td>-0.037637</td>\n",
              "      <td>-0.034738</td>\n",
              "      <td>0.020895</td>\n",
              "      <td>-0.021597</td>\n",
              "      <td>0.007575</td>\n",
              "      <td>0.007465</td>\n",
              "      <td>-0.001898</td>\n",
              "      <td>0.006089</td>\n",
              "      <td>-0.014068</td>\n",
              "      <td>-0.015296</td>\n",
              "      <td>-0.008848</td>\n",
              "      <td>0.008280</td>\n",
              "    </tr>\n",
              "    <tr>\n",
              "      <th>DRIVING_EXPERIENCE</th>\n",
              "      <td>0.004298</td>\n",
              "      <td>0.707393</td>\n",
              "      <td>0.007511</td>\n",
              "      <td>-0.020461</td>\n",
              "      <td>1.000000</td>\n",
              "      <td>0.094116</td>\n",
              "      <td>0.086181</td>\n",
              "      <td>0.327672</td>\n",
              "      <td>0.202788</td>\n",
              "      <td>-0.164915</td>\n",
              "      <td>0.269942</td>\n",
              "      <td>0.277546</td>\n",
              "      <td>0.006297</td>\n",
              "      <td>-0.178353</td>\n",
              "      <td>-0.008554</td>\n",
              "      <td>0.637306</td>\n",
              "      <td>0.399398</td>\n",
              "      <td>0.604699</td>\n",
              "      <td>-0.497431</td>\n",
              "    </tr>\n",
              "    <tr>\n",
              "      <th>EDUCATION</th>\n",
              "      <td>-0.008880</td>\n",
              "      <td>0.153339</td>\n",
              "      <td>0.082831</td>\n",
              "      <td>-0.041897</td>\n",
              "      <td>0.094116</td>\n",
              "      <td>1.000000</td>\n",
              "      <td>0.079765</td>\n",
              "      <td>0.202505</td>\n",
              "      <td>0.121432</td>\n",
              "      <td>-0.113857</td>\n",
              "      <td>0.105263</td>\n",
              "      <td>0.074666</td>\n",
              "      <td>0.013008</td>\n",
              "      <td>-0.076280</td>\n",
              "      <td>0.000482</td>\n",
              "      <td>0.081562</td>\n",
              "      <td>0.056286</td>\n",
              "      <td>0.067320</td>\n",
              "      <td>-0.092643</td>\n",
              "    </tr>\n",
              "    <tr>\n",
              "      <th>INCOME</th>\n",
              "      <td>-0.006655</td>\n",
              "      <td>0.145340</td>\n",
              "      <td>0.012226</td>\n",
              "      <td>-0.000151</td>\n",
              "      <td>0.086181</td>\n",
              "      <td>0.079765</td>\n",
              "      <td>1.000000</td>\n",
              "      <td>0.087576</td>\n",
              "      <td>0.046080</td>\n",
              "      <td>-0.071399</td>\n",
              "      <td>0.060935</td>\n",
              "      <td>0.047046</td>\n",
              "      <td>0.019519</td>\n",
              "      <td>-0.050977</td>\n",
              "      <td>-0.012181</td>\n",
              "      <td>0.061603</td>\n",
              "      <td>0.051878</td>\n",
              "      <td>0.050460</td>\n",
              "      <td>-0.047560</td>\n",
              "    </tr>\n",
              "    <tr>\n",
              "      <th>CREDIT_SCORE</th>\n",
              "      <td>0.001621</td>\n",
              "      <td>0.471419</td>\n",
              "      <td>-0.077478</td>\n",
              "      <td>-0.037637</td>\n",
              "      <td>0.327672</td>\n",
              "      <td>0.202505</td>\n",
              "      <td>0.087576</td>\n",
              "      <td>1.000000</td>\n",
              "      <td>0.295689</td>\n",
              "      <td>-0.254574</td>\n",
              "      <td>0.267074</td>\n",
              "      <td>0.209515</td>\n",
              "      <td>0.004112</td>\n",
              "      <td>-0.157641</td>\n",
              "      <td>-0.013141</td>\n",
              "      <td>0.194645</td>\n",
              "      <td>0.120953</td>\n",
              "      <td>0.172077</td>\n",
              "      <td>-0.309010</td>\n",
              "    </tr>\n",
              "    <tr>\n",
              "      <th>VEHICLE_OWNERSHIP</th>\n",
              "      <td>0.009197</td>\n",
              "      <td>0.272140</td>\n",
              "      <td>0.007385</td>\n",
              "      <td>-0.034738</td>\n",
              "      <td>0.202788</td>\n",
              "      <td>0.121432</td>\n",
              "      <td>0.046080</td>\n",
              "      <td>0.295689</td>\n",
              "      <td>1.000000</td>\n",
              "      <td>-0.158579</td>\n",
              "      <td>0.175626</td>\n",
              "      <td>0.125990</td>\n",
              "      <td>-0.002241</td>\n",
              "      <td>-0.092701</td>\n",
              "      <td>0.005647</td>\n",
              "      <td>0.133868</td>\n",
              "      <td>0.086567</td>\n",
              "      <td>0.119521</td>\n",
              "      <td>-0.378921</td>\n",
              "    </tr>\n",
              "    <tr>\n",
              "      <th>VEHICLE_YEAR</th>\n",
              "      <td>0.003281</td>\n",
              "      <td>-0.235390</td>\n",
              "      <td>-0.010674</td>\n",
              "      <td>0.020895</td>\n",
              "      <td>-0.164915</td>\n",
              "      <td>-0.113857</td>\n",
              "      <td>-0.071399</td>\n",
              "      <td>-0.254574</td>\n",
              "      <td>-0.158579</td>\n",
              "      <td>1.000000</td>\n",
              "      <td>-0.129638</td>\n",
              "      <td>-0.105189</td>\n",
              "      <td>0.000562</td>\n",
              "      <td>0.073713</td>\n",
              "      <td>0.025185</td>\n",
              "      <td>-0.102700</td>\n",
              "      <td>-0.049981</td>\n",
              "      <td>-0.097587</td>\n",
              "      <td>0.294178</td>\n",
              "    </tr>\n",
              "    <tr>\n",
              "      <th>MARRIED</th>\n",
              "      <td>0.014826</td>\n",
              "      <td>0.384759</td>\n",
              "      <td>0.008393</td>\n",
              "      <td>-0.021597</td>\n",
              "      <td>0.269942</td>\n",
              "      <td>0.105263</td>\n",
              "      <td>0.060935</td>\n",
              "      <td>0.267074</td>\n",
              "      <td>0.175626</td>\n",
              "      <td>-0.129638</td>\n",
              "      <td>1.000000</td>\n",
              "      <td>0.287009</td>\n",
              "      <td>0.007498</td>\n",
              "      <td>-0.439520</td>\n",
              "      <td>0.006905</td>\n",
              "      <td>0.218855</td>\n",
              "      <td>0.120840</td>\n",
              "      <td>0.215269</td>\n",
              "      <td>-0.262104</td>\n",
              "    </tr>\n",
              "    <tr>\n",
              "      <th>CHILDREN</th>\n",
              "      <td>0.001233</td>\n",
              "      <td>0.383708</td>\n",
              "      <td>-0.002640</td>\n",
              "      <td>0.007575</td>\n",
              "      <td>0.277546</td>\n",
              "      <td>0.074666</td>\n",
              "      <td>0.047046</td>\n",
              "      <td>0.209515</td>\n",
              "      <td>0.125990</td>\n",
              "      <td>-0.105189</td>\n",
              "      <td>0.287009</td>\n",
              "      <td>1.000000</td>\n",
              "      <td>0.023392</td>\n",
              "      <td>-0.425813</td>\n",
              "      <td>-0.008672</td>\n",
              "      <td>0.220415</td>\n",
              "      <td>0.115354</td>\n",
              "      <td>0.206295</td>\n",
              "      <td>-0.232835</td>\n",
              "    </tr>\n",
              "    <tr>\n",
              "      <th>POSTAL_CODE</th>\n",
              "      <td>0.007275</td>\n",
              "      <td>0.008454</td>\n",
              "      <td>-0.002093</td>\n",
              "      <td>0.007465</td>\n",
              "      <td>0.006297</td>\n",
              "      <td>0.013008</td>\n",
              "      <td>0.019519</td>\n",
              "      <td>0.004112</td>\n",
              "      <td>-0.002241</td>\n",
              "      <td>0.000562</td>\n",
              "      <td>0.007498</td>\n",
              "      <td>0.023392</td>\n",
              "      <td>1.000000</td>\n",
              "      <td>-0.242870</td>\n",
              "      <td>-0.000134</td>\n",
              "      <td>0.221165</td>\n",
              "      <td>0.091645</td>\n",
              "      <td>-0.141547</td>\n",
              "      <td>0.116417</td>\n",
              "    </tr>\n",
              "    <tr>\n",
              "      <th>ANNUAL_MILEAGE</th>\n",
              "      <td>-0.002111</td>\n",
              "      <td>-0.263838</td>\n",
              "      <td>-0.015068</td>\n",
              "      <td>-0.001898</td>\n",
              "      <td>-0.178353</td>\n",
              "      <td>-0.076280</td>\n",
              "      <td>-0.050977</td>\n",
              "      <td>-0.157641</td>\n",
              "      <td>-0.092701</td>\n",
              "      <td>0.073713</td>\n",
              "      <td>-0.439520</td>\n",
              "      <td>-0.425813</td>\n",
              "      <td>-0.242870</td>\n",
              "      <td>1.000000</td>\n",
              "      <td>-0.010013</td>\n",
              "      <td>-0.308125</td>\n",
              "      <td>-0.111232</td>\n",
              "      <td>-0.187180</td>\n",
              "      <td>0.177575</td>\n",
              "    </tr>\n",
              "    <tr>\n",
              "      <th>VEHICLE_TYPE</th>\n",
              "      <td>0.006243</td>\n",
              "      <td>-0.008463</td>\n",
              "      <td>-0.000022</td>\n",
              "      <td>0.006089</td>\n",
              "      <td>-0.008554</td>\n",
              "      <td>0.000482</td>\n",
              "      <td>-0.012181</td>\n",
              "      <td>-0.013141</td>\n",
              "      <td>0.005647</td>\n",
              "      <td>0.025185</td>\n",
              "      <td>0.006905</td>\n",
              "      <td>-0.008672</td>\n",
              "      <td>-0.000134</td>\n",
              "      <td>-0.010013</td>\n",
              "      <td>1.000000</td>\n",
              "      <td>0.001812</td>\n",
              "      <td>-0.005156</td>\n",
              "      <td>-0.013305</td>\n",
              "      <td>0.005620</td>\n",
              "    </tr>\n",
              "    <tr>\n",
              "      <th>SPEEDING_VIOLATIONS</th>\n",
              "      <td>0.008156</td>\n",
              "      <td>0.458413</td>\n",
              "      <td>0.202095</td>\n",
              "      <td>-0.014068</td>\n",
              "      <td>0.637306</td>\n",
              "      <td>0.081562</td>\n",
              "      <td>0.061603</td>\n",
              "      <td>0.194645</td>\n",
              "      <td>0.133868</td>\n",
              "      <td>-0.102700</td>\n",
              "      <td>0.218855</td>\n",
              "      <td>0.220415</td>\n",
              "      <td>0.221165</td>\n",
              "      <td>-0.308125</td>\n",
              "      <td>0.001812</td>\n",
              "      <td>1.000000</td>\n",
              "      <td>0.359838</td>\n",
              "      <td>0.443074</td>\n",
              "      <td>-0.291862</td>\n",
              "    </tr>\n",
              "    <tr>\n",
              "      <th>DUIS</th>\n",
              "      <td>0.009268</td>\n",
              "      <td>0.281937</td>\n",
              "      <td>0.094202</td>\n",
              "      <td>-0.015296</td>\n",
              "      <td>0.399398</td>\n",
              "      <td>0.056286</td>\n",
              "      <td>0.051878</td>\n",
              "      <td>0.120953</td>\n",
              "      <td>0.086567</td>\n",
              "      <td>-0.049981</td>\n",
              "      <td>0.120840</td>\n",
              "      <td>0.115354</td>\n",
              "      <td>0.091645</td>\n",
              "      <td>-0.111232</td>\n",
              "      <td>-0.005156</td>\n",
              "      <td>0.359838</td>\n",
              "      <td>1.000000</td>\n",
              "      <td>0.259359</td>\n",
              "      <td>-0.189352</td>\n",
              "    </tr>\n",
              "    <tr>\n",
              "      <th>PAST_ACCIDENTS</th>\n",
              "      <td>0.001831</td>\n",
              "      <td>0.431061</td>\n",
              "      <td>0.223202</td>\n",
              "      <td>-0.008848</td>\n",
              "      <td>0.604699</td>\n",
              "      <td>0.067320</td>\n",
              "      <td>0.050460</td>\n",
              "      <td>0.172077</td>\n",
              "      <td>0.119521</td>\n",
              "      <td>-0.097587</td>\n",
              "      <td>0.215269</td>\n",
              "      <td>0.206295</td>\n",
              "      <td>-0.141547</td>\n",
              "      <td>-0.187180</td>\n",
              "      <td>-0.013305</td>\n",
              "      <td>0.443074</td>\n",
              "      <td>0.259359</td>\n",
              "      <td>1.000000</td>\n",
              "      <td>-0.311495</td>\n",
              "    </tr>\n",
              "    <tr>\n",
              "      <th>OUTCOME</th>\n",
              "      <td>-0.010506</td>\n",
              "      <td>-0.448463</td>\n",
              "      <td>0.107208</td>\n",
              "      <td>0.008280</td>\n",
              "      <td>-0.497431</td>\n",
              "      <td>-0.092643</td>\n",
              "      <td>-0.047560</td>\n",
              "      <td>-0.309010</td>\n",
              "      <td>-0.378921</td>\n",
              "      <td>0.294178</td>\n",
              "      <td>-0.262104</td>\n",
              "      <td>-0.232835</td>\n",
              "      <td>0.116417</td>\n",
              "      <td>0.177575</td>\n",
              "      <td>0.005620</td>\n",
              "      <td>-0.291862</td>\n",
              "      <td>-0.189352</td>\n",
              "      <td>-0.311495</td>\n",
              "      <td>1.000000</td>\n",
              "    </tr>\n",
              "  </tbody>\n",
              "</table>\n",
              "</div>\n",
              "      <button class=\"colab-df-convert\" onclick=\"convertToInteractive('df-fdcd2612-718b-4b3f-bc0b-613ee4ca726b')\"\n",
              "              title=\"Convert this dataframe to an interactive table.\"\n",
              "              style=\"display:none;\">\n",
              "        \n",
              "  <svg xmlns=\"http://www.w3.org/2000/svg\" height=\"24px\"viewBox=\"0 0 24 24\"\n",
              "       width=\"24px\">\n",
              "    <path d=\"M0 0h24v24H0V0z\" fill=\"none\"/>\n",
              "    <path d=\"M18.56 5.44l.94 2.06.94-2.06 2.06-.94-2.06-.94-.94-2.06-.94 2.06-2.06.94zm-11 1L8.5 8.5l.94-2.06 2.06-.94-2.06-.94L8.5 2.5l-.94 2.06-2.06.94zm10 10l.94 2.06.94-2.06 2.06-.94-2.06-.94-.94-2.06-.94 2.06-2.06.94z\"/><path d=\"M17.41 7.96l-1.37-1.37c-.4-.4-.92-.59-1.43-.59-.52 0-1.04.2-1.43.59L10.3 9.45l-7.72 7.72c-.78.78-.78 2.05 0 2.83L4 21.41c.39.39.9.59 1.41.59.51 0 1.02-.2 1.41-.59l7.78-7.78 2.81-2.81c.8-.78.8-2.07 0-2.86zM5.41 20L4 18.59l7.72-7.72 1.47 1.35L5.41 20z\"/>\n",
              "  </svg>\n",
              "      </button>\n",
              "      \n",
              "  <style>\n",
              "    .colab-df-container {\n",
              "      display:flex;\n",
              "      flex-wrap:wrap;\n",
              "      gap: 12px;\n",
              "    }\n",
              "\n",
              "    .colab-df-convert {\n",
              "      background-color: #E8F0FE;\n",
              "      border: none;\n",
              "      border-radius: 50%;\n",
              "      cursor: pointer;\n",
              "      display: none;\n",
              "      fill: #1967D2;\n",
              "      height: 32px;\n",
              "      padding: 0 0 0 0;\n",
              "      width: 32px;\n",
              "    }\n",
              "\n",
              "    .colab-df-convert:hover {\n",
              "      background-color: #E2EBFA;\n",
              "      box-shadow: 0px 1px 2px rgba(60, 64, 67, 0.3), 0px 1px 3px 1px rgba(60, 64, 67, 0.15);\n",
              "      fill: #174EA6;\n",
              "    }\n",
              "\n",
              "    [theme=dark] .colab-df-convert {\n",
              "      background-color: #3B4455;\n",
              "      fill: #D2E3FC;\n",
              "    }\n",
              "\n",
              "    [theme=dark] .colab-df-convert:hover {\n",
              "      background-color: #434B5C;\n",
              "      box-shadow: 0px 1px 3px 1px rgba(0, 0, 0, 0.15);\n",
              "      filter: drop-shadow(0px 1px 2px rgba(0, 0, 0, 0.3));\n",
              "      fill: #FFFFFF;\n",
              "    }\n",
              "  </style>\n",
              "\n",
              "      <script>\n",
              "        const buttonEl =\n",
              "          document.querySelector('#df-fdcd2612-718b-4b3f-bc0b-613ee4ca726b button.colab-df-convert');\n",
              "        buttonEl.style.display =\n",
              "          google.colab.kernel.accessAllowed ? 'block' : 'none';\n",
              "\n",
              "        async function convertToInteractive(key) {\n",
              "          const element = document.querySelector('#df-fdcd2612-718b-4b3f-bc0b-613ee4ca726b');\n",
              "          const dataTable =\n",
              "            await google.colab.kernel.invokeFunction('convertToInteractive',\n",
              "                                                     [key], {});\n",
              "          if (!dataTable) return;\n",
              "\n",
              "          const docLinkHtml = 'Like what you see? Visit the ' +\n",
              "            '<a target=\"_blank\" href=https://colab.research.google.com/notebooks/data_table.ipynb>data table notebook</a>'\n",
              "            + ' to learn more about interactive tables.';\n",
              "          element.innerHTML = '';\n",
              "          dataTable['output_type'] = 'display_data';\n",
              "          await google.colab.output.renderOutput(dataTable, element);\n",
              "          const docLink = document.createElement('div');\n",
              "          docLink.innerHTML = docLinkHtml;\n",
              "          element.appendChild(docLink);\n",
              "        }\n",
              "      </script>\n",
              "    </div>\n",
              "  </div>\n",
              "  "
            ]
          },
          "metadata": {},
          "execution_count": 29
        }
      ]
    },
    {
      "cell_type": "code",
      "source": [
        "import seaborn as sns\n",
        "import matplotlib.pyplot as plt\n",
        "\n",
        "plt.figure(figsize=(16, 6))\n",
        "heatmap = sns.heatmap(df.corr(), vmin=-1, vmax=1, annot=True, cmap='BrBG')\n",
        "heatmap.set_title('Correlation Heatmap', fontdict={'fontsize':18}, pad=12);"
      ],
      "metadata": {
        "colab": {
          "base_uri": "https://localhost:8080/",
          "height": 505
        },
        "id": "KC9NNtYTSY8p",
        "outputId": "2d7c6481-c720-457f-fa31-ff0a147ee6f7"
      },
      "execution_count": 30,
      "outputs": [
        {
          "output_type": "display_data",
          "data": {
            "text/plain": [
              "<Figure size 1152x432 with 2 Axes>"
            ],
            "image/png": "[encoded data removed]"
          },
          "metadata": {
            "needs_background": "light"
          }
        }
      ]
    },
    {
      "cell_type": "code",
      "source": [
        "df.drop(['OUTCOME', 'ID' ], axis = 1)"
      ],
      "metadata": {
        "colab": {
          "base_uri": "https://localhost:8080/",
          "height": 488
        },
        "id": "E-9i6U3eqkOc",
        "outputId": "117b34ff-736c-4711-f663-89db9a225594"
      },
      "execution_count": 31,
      "outputs": [
        {
          "output_type": "execute_result",
          "data": {
            "text/plain": [
              "      AGE  GENDER  RACE  DRIVING_EXPERIENCE  EDUCATION  INCOME  CREDIT_SCORE  \\\n",
              "0       3       0     0                   0          0       2      0.629027   \n",
              "1       0       1     0                   0          1       1      0.357757   \n",
              "2       0       0     0                   0          0       3      0.493146   \n",
              "3       0       1     0                   0          2       3      0.206013   \n",
              "4       1       1     0                   1          1       3      0.388366   \n",
              "...   ...     ...   ...                 ...        ...     ...           ...   \n",
              "9995    1       0     0                   1          2       2      0.582787   \n",
              "9996    1       0     0                   1          1       0      0.522231   \n",
              "9997    1       1     0                   0          0       0      0.470940   \n",
              "9998    1       0     0                   1          0       1      0.364185   \n",
              "9999    1       0     0                   0          1       3      0.435225   \n",
              "\n",
              "      VEHICLE_OWNERSHIP  VEHICLE_YEAR  MARRIED  CHILDREN  POSTAL_CODE  \\\n",
              "0                   1.0             0      0.0       1.0            0   \n",
              "1                   0.0             1      0.0       0.0            0   \n",
              "2                   1.0             1      0.0       0.0            0   \n",
              "3                   1.0             1      0.0       1.0            2   \n",
              "4                   1.0             1      0.0       0.0            2   \n",
              "...                 ...           ...      ...       ...          ...   \n",
              "9995                1.0             1      0.0       0.0            0   \n",
              "9996                1.0             0      0.0       1.0            2   \n",
              "9997                1.0             1      0.0       1.0            0   \n",
              "9998                0.0             1      0.0       1.0            0   \n",
              "9999                1.0             1      1.0       1.0            0   \n",
              "\n",
              "      ANNUAL_MILEAGE  VEHICLE_TYPE  SPEEDING_VIOLATIONS  DUIS  PAST_ACCIDENTS  \\\n",
              "0       12000.000000             0                    0     0               0   \n",
              "1       16000.000000             0                    0     0               0   \n",
              "2       11000.000000             0                    0     0               0   \n",
              "3       11000.000000             0                    0     0               0   \n",
              "4       12000.000000             0                    2     0               1   \n",
              "...              ...           ...                  ...   ...             ...   \n",
              "9995    16000.000000             0                    0     0               1   \n",
              "9996    11697.003207             0                    1     0               0   \n",
              "9997    14000.000000             0                    0     0               0   \n",
              "9998    13000.000000             0                    2     0               1   \n",
              "9999    13000.000000             0                    0     0               0   \n",
              "\n",
              "     RISK_SCORE  \n",
              "0             0  \n",
              "1             0  \n",
              "2             0  \n",
              "3             0  \n",
              "4             1  \n",
              "...         ...  \n",
              "9995          1  \n",
              "9996          0  \n",
              "9997          0  \n",
              "9998          1  \n",
              "9999          0  \n",
              "\n",
              "[10000 rows x 18 columns]"
            ],
            "text/html": [
              "\n",
              "  <div id=\"df-144ae721-d11b-4d54-97c1-14eb32ad3095\">\n",
              "    <div class=\"colab-df-container\">\n",
              "      <div>\n",
              "<style scoped>\n",
              "    .dataframe tbody tr th:only-of-type {\n",
              "        vertical-align: middle;\n",
              "    }\n",
              "\n",
              "    .dataframe tbody tr th {\n",
              "        vertical-align: top;\n",
              "    }\n",
              "\n",
              "    .dataframe thead th {\n",
              "        text-align: right;\n",
              "    }\n",
              "</style>\n",
              "<table border=\"1\" class=\"dataframe\">\n",
              "  <thead>\n",
              "    <tr style=\"text-align: right;\">\n",
              "      <th></th>\n",
              "      <th>AGE</th>\n",
              "      <th>GENDER</th>\n",
              "      <th>RACE</th>\n",
              "      <th>DRIVING_EXPERIENCE</th>\n",
              "      <th>EDUCATION</th>\n",
              "      <th>INCOME</th>\n",
              "      <th>CREDIT_SCORE</th>\n",
              "      <th>VEHICLE_OWNERSHIP</th>\n",
              "      <th>VEHICLE_YEAR</th>\n",
              "      <th>MARRIED</th>\n",
              "      <th>CHILDREN</th>\n",
              "      <th>POSTAL_CODE</th>\n",
              "      <th>ANNUAL_MILEAGE</th>\n",
              "      <th>VEHICLE_TYPE</th>\n",
              "      <th>SPEEDING_VIOLATIONS</th>\n",
              "      <th>DUIS</th>\n",
              "      <th>PAST_ACCIDENTS</th>\n",
              "      <th>RISK_SCORE</th>\n",
              "    </tr>\n",
              "  </thead>\n",
              "  <tbody>\n",
              "    <tr>\n",
              "      <th>0</th>\n",
              "      <td>3</td>\n",
              "      <td>0</td>\n",
              "      <td>0</td>\n",
              "      <td>0</td>\n",
              "      <td>0</td>\n",
              "      <td>2</td>\n",
              "      <td>0.629027</td>\n",
              "      <td>1.0</td>\n",
              "      <td>0</td>\n",
              "      <td>0.0</td>\n",
              "      <td>1.0</td>\n",
              "      <td>0</td>\n",
              "      <td>12000.000000</td>\n",
              "      <td>0</td>\n",
              "      <td>0</td>\n",
              "      <td>0</td>\n",
              "      <td>0</td>\n",
              "      <td>0</td>\n",
              "    </tr>\n",
              "    <tr>\n",
              "      <th>1</th>\n",
              "      <td>0</td>\n",
              "      <td>1</td>\n",
              "      <td>0</td>\n",
              "      <td>0</td>\n",
              "      <td>1</td>\n",
              "      <td>1</td>\n",
              "      <td>0.357757</td>\n",
              "      <td>0.0</td>\n",
              "      <td>1</td>\n",
              "      <td>0.0</td>\n",
              "      <td>0.0</td>\n",
              "      <td>0</td>\n",
              "      <td>16000.000000</td>\n",
              "      <td>0</td>\n",
              "      <td>0</td>\n",
              "      <td>0</td>\n",
              "      <td>0</td>\n",
              "      <td>0</td>\n",
              "    </tr>\n",
              "    <tr>\n",
              "      <th>2</th>\n",
              "      <td>0</td>\n",
              "      <td>0</td>\n",
              "      <td>0</td>\n",
              "      <td>0</td>\n",
              "      <td>0</td>\n",
              "      <td>3</td>\n",
              "      <td>0.493146</td>\n",
              "      <td>1.0</td>\n",
              "      <td>1</td>\n",
              "      <td>0.0</td>\n",
              "      <td>0.0</td>\n",
              "      <td>0</td>\n",
              "      <td>11000.000000</td>\n",
              "      <td>0</td>\n",
              "      <td>0</td>\n",
              "      <td>0</td>\n",
              "      <td>0</td>\n",
              "      <td>0</td>\n",
              "    </tr>\n",
              "    <tr>\n",
              "      <th>3</th>\n",
              "      <td>0</td>\n",
              "      <td>1</td>\n",
              "      <td>0</td>\n",
              "      <td>0</td>\n",
              "      <td>2</td>\n",
              "      <td>3</td>\n",
              "      <td>0.206013</td>\n",
              "      <td>1.0</td>\n",
              "      <td>1</td>\n",
              "      <td>0.0</td>\n",
              "      <td>1.0</td>\n",
              "      <td>2</td>\n",
              "      <td>11000.000000</td>\n",
              "      <td>0</td>\n",
              "      <td>0</td>\n",
              "      <td>0</td>\n",
              "      <td>0</td>\n",
              "      <td>0</td>\n",
              "    </tr>\n",
              "    <tr>\n",
              "      <th>4</th>\n",
              "      <td>1</td>\n",
              "      <td>1</td>\n",
              "      <td>0</td>\n",
              "      <td>1</td>\n",
              "      <td>1</td>\n",
              "      <td>3</td>\n",
              "      <td>0.388366</td>\n",
              "      <td>1.0</td>\n",
              "      <td>1</td>\n",
              "      <td>0.0</td>\n",
              "      <td>0.0</td>\n",
              "      <td>2</td>\n",
              "      <td>12000.000000</td>\n",
              "      <td>0</td>\n",
              "      <td>2</td>\n",
              "      <td>0</td>\n",
              "      <td>1</td>\n",
              "      <td>1</td>\n",
              "    </tr>\n",
              "    <tr>\n",
              "      <th>...</th>\n",
              "      <td>...</td>\n",
              "      <td>...</td>\n",
              "      <td>...</td>\n",
              "      <td>...</td>\n",
              "      <td>...</td>\n",
              "      <td>...</td>\n",
              "      <td>...</td>\n",
              "      <td>...</td>\n",
              "      <td>...</td>\n",
              "      <td>...</td>\n",
              "      <td>...</td>\n",
              "      <td>...</td>\n",
              "      <td>...</td>\n",
              "      <td>...</td>\n",
              "      <td>...</td>\n",
              "      <td>...</td>\n",
              "      <td>...</td>\n",
              "      <td>...</td>\n",
              "    </tr>\n",
              "    <tr>\n",
              "      <th>9995</th>\n",
              "      <td>1</td>\n",
              "      <td>0</td>\n",
              "      <td>0</td>\n",
              "      <td>1</td>\n",
              "      <td>2</td>\n",
              "      <td>2</td>\n",
              "      <td>0.582787</td>\n",
              "      <td>1.0</td>\n",
              "      <td>1</td>\n",
              "      <td>0.0</td>\n",
              "      <td>0.0</td>\n",
              "      <td>0</td>\n",
              "      <td>16000.000000</td>\n",
              "      <td>0</td>\n",
              "      <td>0</td>\n",
              "      <td>0</td>\n",
              "      <td>1</td>\n",
              "      <td>1</td>\n",
              "    </tr>\n",
              "    <tr>\n",
              "      <th>9996</th>\n",
              "      <td>1</td>\n",
              "      <td>0</td>\n",
              "      <td>0</td>\n",
              "      <td>1</td>\n",
              "      <td>1</td>\n",
              "      <td>0</td>\n",
              "      <td>0.522231</td>\n",
              "      <td>1.0</td>\n",
              "      <td>0</td>\n",
              "      <td>0.0</td>\n",
              "      <td>1.0</td>\n",
              "      <td>2</td>\n",
              "      <td>11697.003207</td>\n",
              "      <td>0</td>\n",
              "      <td>1</td>\n",
              "      <td>0</td>\n",
              "      <td>0</td>\n",
              "      <td>0</td>\n",
              "    </tr>\n",
              "    <tr>\n",
              "      <th>9997</th>\n",
              "      <td>1</td>\n",
              "      <td>1</td>\n",
              "      <td>0</td>\n",
              "      <td>0</td>\n",
              "      <td>0</td>\n",
              "      <td>0</td>\n",
              "      <td>0.470940</td>\n",
              "      <td>1.0</td>\n",
              "      <td>1</td>\n",
              "      <td>0.0</td>\n",
              "      <td>1.0</td>\n",
              "      <td>0</td>\n",
              "      <td>14000.000000</td>\n",
              "      <td>0</td>\n",
              "      <td>0</td>\n",
              "      <td>0</td>\n",
              "      <td>0</td>\n",
              "      <td>0</td>\n",
              "    </tr>\n",
              "    <tr>\n",
              "      <th>9998</th>\n",
              "      <td>1</td>\n",
              "      <td>0</td>\n",
              "      <td>0</td>\n",
              "      <td>1</td>\n",
              "      <td>0</td>\n",
              "      <td>1</td>\n",
              "      <td>0.364185</td>\n",
              "      <td>0.0</td>\n",
              "      <td>1</td>\n",
              "      <td>0.0</td>\n",
              "      <td>1.0</td>\n",
              "      <td>0</td>\n",
              "      <td>13000.000000</td>\n",
              "      <td>0</td>\n",
              "      <td>2</td>\n",
              "      <td>0</td>\n",
              "      <td>1</td>\n",
              "      <td>1</td>\n",
              "    </tr>\n",
              "    <tr>\n",
              "      <th>9999</th>\n",
              "      <td>1</td>\n",
              "      <td>0</td>\n",
              "      <td>0</td>\n",
              "      <td>0</td>\n",
              "      <td>1</td>\n",
              "      <td>3</td>\n",
              "      <td>0.435225</td>\n",
              "      <td>1.0</td>\n",
              "      <td>1</td>\n",
              "      <td>1.0</td>\n",
              "      <td>1.0</td>\n",
              "      <td>0</td>\n",
              "      <td>13000.000000</td>\n",
              "      <td>0</td>\n",
              "      <td>0</td>\n",
              "      <td>0</td>\n",
              "      <td>0</td>\n",
              "      <td>0</td>\n",
              "    </tr>\n",
              "  </tbody>\n",
              "</table>\n",
              "<p>10000 rows × 18 columns</p>\n",
              "</div>\n",
              "      <button class=\"colab-df-convert\" onclick=\"convertToInteractive('df-144ae721-d11b-4d54-97c1-14eb32ad3095')\"\n",
              "              title=\"Convert this dataframe to an interactive table.\"\n",
              "              style=\"display:none;\">\n",
              "        \n",
              "  <svg xmlns=\"http://www.w3.org/2000/svg\" height=\"24px\"viewBox=\"0 0 24 24\"\n",
              "       width=\"24px\">\n",
              "    <path d=\"M0 0h24v24H0V0z\" fill=\"none\"/>\n",
              "    <path d=\"M18.56 5.44l.94 2.06.94-2.06 2.06-.94-2.06-.94-.94-2.06-.94 2.06-2.06.94zm-11 1L8.5 8.5l.94-2.06 2.06-.94-2.06-.94L8.5 2.5l-.94 2.06-2.06.94zm10 10l.94 2.06.94-2.06 2.06-.94-2.06-.94-.94-2.06-.94 2.06-2.06.94z\"/><path d=\"M17.41 7.96l-1.37-1.37c-.4-.4-.92-.59-1.43-.59-.52 0-1.04.2-1.43.59L10.3 9.45l-7.72 7.72c-.78.78-.78 2.05 0 2.83L4 21.41c.39.39.9.59 1.41.59.51 0 1.02-.2 1.41-.59l7.78-7.78 2.81-2.81c.8-.78.8-2.07 0-2.86zM5.41 20L4 18.59l7.72-7.72 1.47 1.35L5.41 20z\"/>\n",
              "  </svg>\n",
              "      </button>\n",
              "      \n",
              "  <style>\n",
              "    .colab-df-container {\n",
              "      display:flex;\n",
              "      flex-wrap:wrap;\n",
              "      gap: 12px;\n",
              "    }\n",
              "\n",
              "    .colab-df-convert {\n",
              "      background-color: #E8F0FE;\n",
              "      border: none;\n",
              "      border-radius: 50%;\n",
              "      cursor: pointer;\n",
              "      display: none;\n",
              "      fill: #1967D2;\n",
              "      height: 32px;\n",
              "      padding: 0 0 0 0;\n",
              "      width: 32px;\n",
              "    }\n",
              "\n",
              "    .colab-df-convert:hover {\n",
              "      background-color: #E2EBFA;\n",
              "      box-shadow: 0px 1px 2px rgba(60, 64, 67, 0.3), 0px 1px 3px 1px rgba(60, 64, 67, 0.15);\n",
              "      fill: #174EA6;\n",
              "    }\n",
              "\n",
              "    [theme=dark] .colab-df-convert {\n",
              "      background-color: #3B4455;\n",
              "      fill: #D2E3FC;\n",
              "    }\n",
              "\n",
              "    [theme=dark] .colab-df-convert:hover {\n",
              "      background-color: #434B5C;\n",
              "      box-shadow: 0px 1px 3px 1px rgba(0, 0, 0, 0.15);\n",
              "      filter: drop-shadow(0px 1px 2px rgba(0, 0, 0, 0.3));\n",
              "      fill: #FFFFFF;\n",
              "    }\n",
              "  </style>\n",
              "\n",
              "      <script>\n",
              "        const buttonEl =\n",
              "          document.querySelector('#df-144ae721-d11b-4d54-97c1-14eb32ad3095 button.colab-df-convert');\n",
              "        buttonEl.style.display =\n",
              "          google.colab.kernel.accessAllowed ? 'block' : 'none';\n",
              "\n",
              "        async function convertToInteractive(key) {\n",
              "          const element = document.querySelector('#df-144ae721-d11b-4d54-97c1-14eb32ad3095');\n",
              "          const dataTable =\n",
              "            await google.colab.kernel.invokeFunction('convertToInteractive',\n",
              "                                                     [key], {});\n",
              "          if (!dataTable) return;\n",
              "\n",
              "          const docLinkHtml = 'Like what you see? Visit the ' +\n",
              "            '<a target=\"_blank\" href=https://colab.research.google.com/notebooks/data_table.ipynb>data table notebook</a>'\n",
              "            + ' to learn more about interactive tables.';\n",
              "          element.innerHTML = '';\n",
              "          dataTable['output_type'] = 'display_data';\n",
              "          await google.colab.output.renderOutput(dataTable, element);\n",
              "          const docLink = document.createElement('div');\n",
              "          docLink.innerHTML = docLinkHtml;\n",
              "          element.appendChild(docLink);\n",
              "        }\n",
              "      </script>\n",
              "    </div>\n",
              "  </div>\n",
              "  "
            ]
          },
          "metadata": {},
          "execution_count": 31
        }
      ]
    },
    {
      "cell_type": "code",
      "source": [
        "#df.info()\n",
        "\n",
        "df['RISK_SCORE'] = df['RISK_SCORE'].astype(str).astype(int)"
      ],
      "metadata": {
        "id": "T0cUZFTZrV3b"
      },
      "execution_count": 32,
      "outputs": []
    },
    {
      "cell_type": "code",
      "source": [
        "df.info()"
      ],
      "metadata": {
        "colab": {
          "base_uri": "https://localhost:8080/"
        },
        "id": "sRCBhB0wsBCg",
        "outputId": "9eeb4615-cebe-4abe-d96d-1a817fdcf985"
      },
      "execution_count": 33,
      "outputs": [
        {
          "output_type": "stream",
          "name": "stdout",
          "text": [
            "<class 'pandas.core.frame.DataFrame'>\n",
            "RangeIndex: 10000 entries, 0 to 9999\n",
            "Data columns (total 20 columns):\n",
            " #   Column               Non-Null Count  Dtype  \n",
            "---  ------               --------------  -----  \n",
            " 0   ID                   10000 non-null  int64  \n",
            " 1   AGE                  10000 non-null  int64  \n",
            " 2   GENDER               10000 non-null  int64  \n",
            " 3   RACE                 10000 non-null  int64  \n",
            " 4   DRIVING_EXPERIENCE   10000 non-null  int64  \n",
            " 5   EDUCATION            10000 non-null  int64  \n",
            " 6   INCOME               10000 non-null  int64  \n",
            " 7   CREDIT_SCORE         10000 non-null  float64\n",
            " 8   VEHICLE_OWNERSHIP    10000 non-null  float64\n",
            " 9   VEHICLE_YEAR         10000 non-null  int64  \n",
            " 10  MARRIED              10000 non-null  float64\n",
            " 11  CHILDREN             10000 non-null  float64\n",
            " 12  POSTAL_CODE          10000 non-null  int64  \n",
            " 13  ANNUAL_MILEAGE       10000 non-null  float64\n",
            " 14  VEHICLE_TYPE         10000 non-null  int64  \n",
            " 15  SPEEDING_VIOLATIONS  10000 non-null  int64  \n",
            " 16  DUIS                 10000 non-null  int64  \n",
            " 17  PAST_ACCIDENTS       10000 non-null  int64  \n",
            " 18  OUTCOME              10000 non-null  float64\n",
            " 19  RISK_SCORE           10000 non-null  int64  \n",
            "dtypes: float64(6), int64(14)\n",
            "memory usage: 1.5 MB\n"
          ]
        }
      ]
    },
    {
      "cell_type": "markdown",
      "source": [
        "# **K-NN Hyperparameter tuning**\n"
      ],
      "metadata": {
        "id": "ljZOrWbRqdsQ"
      }
    },
    {
      "cell_type": "code",
      "source": [
        "#split dataset in features and target variable\n",
        "feature_cols = ['AGE', 'GENDER', 'DRIVING_EXPERIENCE','MARRIED','CHILDREN','SPEEDING_VIOLATIONS', 'POSTAL_CODE','DUIS','CREDIT_SCORE', 'VEHICLE_OWNERSHIP', 'PAST_ACCIDENTS']\n",
        "X = df[feature_cols] # Features\n",
        "y = df.RISK_SCORE # Target variable\n",
        "\n",
        "#print(df[feature_cols])\n",
        "print(df.RISK_SCORE)"
      ],
      "metadata": {
        "colab": {
          "base_uri": "https://localhost:8080/"
        },
        "id": "Q1qCKS0UaXFD",
        "outputId": "cd7274c0-1eb9-4e6a-8749-311473ba1279"
      },
      "execution_count": 34,
      "outputs": [
        {
          "output_type": "stream",
          "name": "stdout",
          "text": [
            "0       0\n",
            "1       0\n",
            "2       0\n",
            "3       0\n",
            "4       1\n",
            "       ..\n",
            "9995    1\n",
            "9996    0\n",
            "9997    0\n",
            "9998    1\n",
            "9999    0\n",
            "Name: RISK_SCORE, Length: 10000, dtype: int64\n"
          ]
        }
      ]
    },
    {
      "cell_type": "code",
      "source": [
        "# split X and y into training and testing sets\n",
        "from sklearn.model_selection import train_test_split\n",
        "\n",
        "X_train, X_test, y_train, y_test = train_test_split(X, y, test_size=0.20, random_state=8)\n",
        "\n"
      ],
      "metadata": {
        "id": "Rv1xXzG_sbaB"
      },
      "execution_count": 35,
      "outputs": []
    },
    {
      "cell_type": "code",
      "source": [
        "# Feature Scaling\n",
        "import numpy as np\n",
        "from sklearn import linear_model, decomposition, datasets\n",
        "from sklearn.pipeline import Pipeline\n",
        "from sklearn.model_selection import GridSearchCV\n",
        "from sklearn.preprocessing import StandardScaler\n",
        "scaler = StandardScaler(with_mean=False)\n",
        "X_train = scaler.fit_transform(X_train)\n",
        "X_test = scaler.transform(X_test)"
      ],
      "metadata": {
        "id": "WS8wVHJOzsmK"
      },
      "execution_count": 36,
      "outputs": []
    },
    {
      "cell_type": "code",
      "source": [
        "#Obtain the pairs candiate value and metric value \n",
        "\n",
        "from sklearn.neighbors import KNeighborsRegressor\n",
        "from sklearn.metrics import mean_absolute_error\n",
        "\n",
        "X_train, X_val, y_train, y_val = train_test_split(X_train, y_train, test_size=0.1, random_state=13)\n",
        "\n",
        "candidates = np.arange(4,16)\n",
        "mae_metrics = []\n",
        "for k in candidates:\n",
        "    model = KNeighborsRegressor(n_neighbors=k, weights='distance', metric='minkowski', leaf_size=50, n_jobs=4)\n",
        "    model.fit(X_train, y_train)\n",
        "    y_pred = model.predict(X_val)\n",
        "    metric = mean_absolute_error(y_true=y_val, y_pred=y_pred)\n",
        "    mae_metrics.append(metric)"
      ],
      "metadata": {
        "id": "YjkRQ_4uwYf9"
      },
      "execution_count": 37,
      "outputs": []
    },
    {
      "cell_type": "code",
      "source": [
        "#Visualize MAE associated with each K value\n",
        "fig, ax = plt.subplots(figsize=(8,5))\n",
        "ax.plot(candidates, mae_metrics)\n",
        "ax.set_xlabel('Hyper-parameter K', fontsize=14)\n",
        "ax.set_ylabel('MAE', fontsize=14)\n",
        "ax.grid();"
      ],
      "metadata": {
        "colab": {
          "base_uri": "https://localhost:8080/",
          "height": 338
        },
        "id": "pRK5k0BAGIrz",
        "outputId": "58c8f04b-007e-480f-d031-e9c47a167dd1"
      },
      "execution_count": 38,
      "outputs": [
        {
          "output_type": "display_data",
          "data": {
            "text/plain": [
              "<Figure size 576x360 with 1 Axes>"
            ],
            "image/png": "[encoded data removed]"
          },
          "metadata": {
            "needs_background": "light"
          }
        }
      ]
    },
    {
      "cell_type": "code",
      "source": [
        "# Feature Scaling\n",
        "import numpy as np\n",
        "from sklearn import linear_model, decomposition, datasets\n",
        "from sklearn.pipeline import Pipeline\n",
        "from sklearn.model_selection import GridSearchCV\n",
        "from sklearn.preprocessing import StandardScaler\n",
        "X_train, X_test, y_train, y_test = train_test_split(X, y, test_size=0.1, random_state=7)\n",
        "scaler = StandardScaler(with_mean=False)\n",
        "X_train = scaler.fit_transform(X_train)\n",
        "X_test = scaler.transform(X_test)"
      ],
      "metadata": {
        "id": "TDMcO_deGojD"
      },
      "execution_count": 39,
      "outputs": []
    },
    {
      "cell_type": "code",
      "source": [
        "#Use 10-fold cross-validation to get the metrics\n",
        "from sklearn.model_selection import cross_val_score\n",
        "candidates = np.arange(4,16)\n",
        "mean_mae = []\n",
        "std_mae = []\n",
        "for k in candidates:\n",
        "    model = KNeighborsRegressor(n_neighbors=k, weights='distance', metric='minkowski', leaf_size=50, n_jobs=4)\n",
        "    cv_results = cross_val_score(model, X_train, y_train, scoring='neg_mean_absolute_error', cv=10)\n",
        "    mean_score, std_score = -1*cv_results.mean(), cv_results.std()\n",
        "    mean_mae.append(mean_score)\n",
        "    std_mae.append(std_score)"
      ],
      "metadata": {
        "id": "bRIU2tauHfEm"
      },
      "execution_count": 40,
      "outputs": []
    },
    {
      "cell_type": "code",
      "source": [
        "#Visualize cross-validated MAE\n",
        "fig, ax = plt.subplots(figsize=(8,5))\n",
        "ax.plot(candidates, mean_mae, \"o-\")\n",
        "ax.set_xlabel('Hyper-parameter K', fontsize=14)\n",
        "ax.set_ylabel('Mean MAE', fontsize=14)\n",
        "ax.set_xticks(candidates)\n",
        "ax.grid();"
      ],
      "metadata": {
        "colab": {
          "base_uri": "https://localhost:8080/",
          "height": 338
        },
        "id": "hXLgyw4lHn8T",
        "outputId": "279304bc-209e-4e39-fa5d-11aae721d0d2"
      },
      "execution_count": 41,
      "outputs": [
        {
          "output_type": "display_data",
          "data": {
            "text/plain": [
              "<Figure size 576x360 with 1 Axes>"
            ],
            "image/png": "[encoded data removed]"
          },
          "metadata": {
            "needs_background": "light"
          }
        }
      ]
    },
    {
      "cell_type": "code",
      "source": [
        "#the standard deviation of each of the 10 MAE estimations\n",
        "fig, ax = plt.subplots(figsize=(8,5))\n",
        "ax.plot(candidates, std_mae, \"o-\")\n",
        "ax.set_xlabel('Hyper-parameter K', fontsize=14)\n",
        "ax.set_ylabel('Standard deviation of MAE', fontsize=14)\n",
        "ax.set_xticks(candidates)\n",
        "ax.grid();"
      ],
      "metadata": {
        "colab": {
          "base_uri": "https://localhost:8080/",
          "height": 342
        },
        "id": "1ofhyQRvIRxj",
        "outputId": "14413287-1b8a-4e5e-afea-5895de8947b7"
      },
      "execution_count": 42,
      "outputs": [
        {
          "output_type": "display_data",
          "data": {
            "text/plain": [
              "<Figure size 576x360 with 1 Axes>"
            ],
            "image/png": "[encoded data removed]"
          },
          "metadata": {
            "needs_background": "light"
          }
        }
      ]
    },
    {
      "cell_type": "code",
      "source": [
        "from sklearn.neighbors import KNeighborsClassifier\n",
        "knn = KNeighborsClassifier()\n",
        "knn"
      ],
      "metadata": {
        "colab": {
          "base_uri": "https://localhost:8080/"
        },
        "id": "NM3Q6UUKbwn4",
        "outputId": "fa08f73f-24a3-4098-d3eb-5bb316df2b59"
      },
      "execution_count": 43,
      "outputs": [
        {
          "output_type": "execute_result",
          "data": {
            "text/plain": [
              "KNeighborsClassifier()"
            ]
          },
          "metadata": {},
          "execution_count": 43
        }
      ]
    },
    {
      "cell_type": "code",
      "source": [
        "from sklearn import metrics"
      ],
      "metadata": {
        "id": "MBz13ffCb01c"
      },
      "execution_count": 44,
      "outputs": []
    },
    {
      "cell_type": "code",
      "source": [
        "# calculating the accuracy of models with different values of k\n",
        "mean_acc = np.zeros(20)\n",
        "for i in range(1,21):\n",
        "    #Train Model and Predict  \n",
        "    knn = KNeighborsClassifier(n_neighbors = i).fit(X_train,y_train)\n",
        "    yhat= knn.predict(X_test)\n",
        "    mean_acc[i-1] = metrics.accuracy_score(y_test, yhat)\n",
        "\n",
        "mean_acc"
      ],
      "metadata": {
        "colab": {
          "base_uri": "https://localhost:8080/"
        },
        "id": "PDe8cqpIb6Jw",
        "outputId": "612d4755-5ba6-4ad3-8358-b8667c164aba"
      },
      "execution_count": 45,
      "outputs": [
        {
          "output_type": "execute_result",
          "data": {
            "text/plain": [
              "array([0.91 , 0.898, 0.905, 0.887, 0.901, 0.891, 0.893, 0.893, 0.884,\n",
              "       0.883, 0.88 , 0.883, 0.882, 0.883, 0.874, 0.876, 0.874, 0.878,\n",
              "       0.875, 0.873])"
            ]
          },
          "metadata": {},
          "execution_count": 45
        }
      ]
    },
    {
      "cell_type": "code",
      "source": [
        "#Visualize ACCURACY AGAINST NUMBER OF NEIGHBORS \n",
        "loc = np.arange(1,21,step=1.0)\n",
        "plt.figure(figsize = (10, 6))\n",
        "plt.plot(range(1,21), mean_acc)\n",
        "plt.xticks(loc)\n",
        "plt.xlabel('Number of Neighbors ')\n",
        "plt.ylabel('Accuracy')\n",
        "plt.show()"
      ],
      "metadata": {
        "colab": {
          "base_uri": "https://localhost:8080/",
          "height": 388
        },
        "id": "Fev46qiyb95F",
        "outputId": "a994488e-5ef3-413c-d5d9-8d96ca3e138c"
      },
      "execution_count": 46,
      "outputs": [
        {
          "output_type": "display_data",
          "data": {
            "text/plain": [
              "<Figure size 720x432 with 1 Axes>"
            ],
            "image/png": "[encoded data removed]"
          },
          "metadata": {
            "needs_background": "light"
          }
        }
      ]
    },
    {
      "cell_type": "code",
      "source": [
        "from sklearn.model_selection import GridSearchCV"
      ],
      "metadata": {
        "id": "C2MyG9c_Q7LG"
      },
      "execution_count": 47,
      "outputs": []
    },
    {
      "cell_type": "code",
      "source": [
        "grid_params = { 'n_neighbors' : [4],\n",
        "               'weights' : ['uniform','distance'],\n",
        "               'metric' : ['minkowski','euclidean','manhattan']}"
      ],
      "metadata": {
        "id": "Mh1_xgy3Q-l2"
      },
      "execution_count": 48,
      "outputs": []
    },
    {
      "cell_type": "code",
      "source": [
        "from sklearn.neighbors import KNeighborsClassifier\n",
        "gs = GridSearchCV(KNeighborsClassifier(), grid_params, verbose = 1, cv=3, n_jobs = -1)"
      ],
      "metadata": {
        "id": "OZ5_SSk4R2K9"
      },
      "execution_count": 49,
      "outputs": []
    },
    {
      "cell_type": "code",
      "source": [
        "g_res = gs.fit(X_train, y_train)"
      ],
      "metadata": {
        "colab": {
          "base_uri": "https://localhost:8080/"
        },
        "id": "sRGaPBx8TmNl",
        "outputId": "b4272884-127c-4e07-86c8-5712b8931202"
      },
      "execution_count": 50,
      "outputs": [
        {
          "output_type": "stream",
          "name": "stdout",
          "text": [
            "Fitting 3 folds for each of 6 candidates, totalling 18 fits\n"
          ]
        }
      ]
    },
    {
      "cell_type": "code",
      "source": [
        "# find the best score\n",
        "g_res.best_score_"
      ],
      "metadata": {
        "colab": {
          "base_uri": "https://localhost:8080/"
        },
        "id": "13ddgqxFTxhA",
        "outputId": "c31e1e4c-37e9-4284-a43e-2cf13539ca7f"
      },
      "execution_count": 51,
      "outputs": [
        {
          "output_type": "execute_result",
          "data": {
            "text/plain": [
              "0.9328888888888889"
            ]
          },
          "metadata": {},
          "execution_count": 51
        }
      ]
    },
    {
      "cell_type": "code",
      "source": [
        "# get the hyperparameters with the best score\n",
        "g_res.best_params_"
      ],
      "metadata": {
        "colab": {
          "base_uri": "https://localhost:8080/"
        },
        "id": "2C3vMQkrT5kY",
        "outputId": "9c810af1-adf1-4e05-bc25-11061c060b3d"
      },
      "execution_count": 52,
      "outputs": [
        {
          "output_type": "execute_result",
          "data": {
            "text/plain": [
              "{'metric': 'manhattan', 'n_neighbors': 4, 'weights': 'distance'}"
            ]
          },
          "metadata": {},
          "execution_count": 52
        }
      ]
    },
    {
      "cell_type": "code",
      "source": [
        "# use the best hyperparameters\n",
        "knn = KNeighborsClassifier(n_neighbors = 13, weights = 'uniform',algorithm = 'brute',metric = 'minkowski')\n",
        "knn.fit(X_train, y_train)\n"
      ],
      "metadata": {
        "colab": {
          "base_uri": "https://localhost:8080/"
        },
        "id": "6SV3GCV_T9-q",
        "outputId": "3e3961b0-188b-410a-afda-ba5ad45091d7"
      },
      "execution_count": 53,
      "outputs": [
        {
          "output_type": "execute_result",
          "data": {
            "text/plain": [
              "KNeighborsClassifier(algorithm='brute', n_neighbors=13)"
            ]
          },
          "metadata": {},
          "execution_count": 53
        }
      ]
    },
    {
      "cell_type": "code",
      "source": [
        "# get a prediction\n",
        "y_hat = knn.predict(X_train)\n",
        "y_knn = knn.predict(X_test)"
      ],
      "metadata": {
        "id": "LHtJAK1fUCwb"
      },
      "execution_count": 54,
      "outputs": []
    },
    {
      "cell_type": "markdown",
      "source": [
        "# **K-NN Model Eval**"
      ],
      "metadata": {
        "id": "6b1uU3xCJtLy"
      }
    },
    {
      "cell_type": "code",
      "source": [
        "# Use score method to get accuracy of model\n",
        "from sklearn.metrics import accuracy_score\n",
        "print('Training set accuracy:', accuracy_score(y_train, y_hat))\n",
        "print('Test set accuracy: ',accuracy_score(y_test, y_knn))\n",
        "\n"
      ],
      "metadata": {
        "colab": {
          "base_uri": "https://localhost:8080/"
        },
        "id": "xN_NhWigULkv",
        "outputId": "3d358b48-821b-4b75-fefc-ee9e4366cff9"
      },
      "execution_count": 55,
      "outputs": [
        {
          "output_type": "stream",
          "name": "stdout",
          "text": [
            "Training set accuracy: 0.9076666666666666\n",
            "Test set accuracy:  0.882\n"
          ]
        }
      ]
    },
    {
      "cell_type": "code",
      "source": [
        "from sklearn.metrics import classification_report\n",
        "print(classification_report(y_test, y_knn))"
      ],
      "metadata": {
        "colab": {
          "base_uri": "https://localhost:8080/"
        },
        "id": "wsygmy4nVhFZ",
        "outputId": "3c1153e3-2494-450a-c4d4-483fac804b4c"
      },
      "execution_count": 56,
      "outputs": [
        {
          "output_type": "stream",
          "name": "stdout",
          "text": [
            "              precision    recall  f1-score   support\n",
            "\n",
            "           0       0.94      0.92      0.93       568\n",
            "           1       0.76      0.86      0.81       290\n",
            "           2       0.96      0.75      0.84       142\n",
            "\n",
            "    accuracy                           0.88      1000\n",
            "   macro avg       0.89      0.85      0.86      1000\n",
            "weighted avg       0.89      0.88      0.88      1000\n",
            "\n"
          ]
        }
      ]
    },
    {
      "cell_type": "code",
      "source": [
        "from sklearn.model_selection import cross_val_score\n",
        "scores = cross_val_score(knn, X, y, cv =13)"
      ],
      "metadata": {
        "id": "ZDCrEWrVVvrq"
      },
      "execution_count": 57,
      "outputs": []
    },
    {
      "cell_type": "code",
      "source": [
        "print('Model accuracy: ',np.mean(scores))"
      ],
      "metadata": {
        "colab": {
          "base_uri": "https://localhost:8080/"
        },
        "id": "q4q5KG0qWdwf",
        "outputId": "9d8adc34-120f-4fc9-a375-856891d67059"
      },
      "execution_count": 58,
      "outputs": [
        {
          "output_type": "stream",
          "name": "stdout",
          "text": [
            "Model accuracy:  0.9891012758372967\n"
          ]
        }
      ]
    },
    {
      "cell_type": "code",
      "source": [
        "from sklearn.metrics import confusion_matrix\n",
        "print(confusion_matrix(y_test, y_knn))"
      ],
      "metadata": {
        "colab": {
          "base_uri": "https://localhost:8080/"
        },
        "id": "VmIzIop6xLmE",
        "outputId": "cfaa8922-56f7-41fe-f759-f468b26a45e3"
      },
      "execution_count": 59,
      "outputs": [
        {
          "output_type": "stream",
          "name": "stdout",
          "text": [
            "[[525  42   1]\n",
            " [ 36 250   4]\n",
            " [  0  35 107]]\n"
          ]
        }
      ]
    },
    {
      "cell_type": "markdown",
      "source": [
        "# **Logstic Regression Model **"
      ],
      "metadata": {
        "id": "ONTsFQL9yLEg"
      }
    },
    {
      "cell_type": "code",
      "source": [
        "# split X and y into training and testing sets\n",
        "from sklearn.model_selection import train_test_split\n",
        "\n",
        "X_train, X_test, y_train, y_test = train_test_split(X, y, test_size=0.20, random_state=8)"
      ],
      "metadata": {
        "id": "icUoufJOJsgf"
      },
      "execution_count": 60,
      "outputs": []
    },
    {
      "cell_type": "code",
      "source": [
        "# Feature Scaling\n",
        "import numpy as np\n",
        "from sklearn import linear_model, decomposition, datasets\n",
        "from sklearn.pipeline import Pipeline\n",
        "from sklearn.model_selection import GridSearchCV\n",
        "from sklearn.preprocessing import StandardScaler\n",
        "scaler = StandardScaler(with_mean=False)\n",
        "X_train = scaler.fit_transform(X_train)\n",
        "X_test = scaler.transform(X_test)"
      ],
      "metadata": {
        "id": "F7XDKD15KIBr"
      },
      "execution_count": 61,
      "outputs": []
    },
    {
      "cell_type": "code",
      "source": [
        "# import the class\n",
        "from sklearn.linear_model import LogisticRegression\n",
        "\n",
        "# instantiate the model (using the default parameters)\n",
        "logreg = LogisticRegression(random_state=16)\n",
        "\n",
        "# fit the model with data\n",
        "logreg.fit(X_train, y_train)\n",
        "\n",
        "y_pred = logreg.predict(X_test)"
      ],
      "metadata": {
        "id": "8_PFazrRsuoP",
        "colab": {
          "base_uri": "https://localhost:8080/"
        },
        "outputId": "08adb41f-4cb3-413b-a021-1986ace5db4f"
      },
      "execution_count": 62,
      "outputs": [
        {
          "output_type": "stream",
          "name": "stderr",
          "text": [
            "/usr/local/lib/python3.8/dist-packages/sklearn/linear_model/_logistic.py:814: ConvergenceWarning: lbfgs failed to converge (status=1):\n",
            "STOP: TOTAL NO. of ITERATIONS REACHED LIMIT.\n",
            "\n",
            "Increase the number of iterations (max_iter) or scale the data as shown in:\n",
            "    https://scikit-learn.org/stable/modules/preprocessing.html\n",
            "Please also refer to the documentation for alternative solver options:\n",
            "    https://scikit-learn.org/stable/modules/linear_model.html#logistic-regression\n",
            "  n_iter_i = _check_optimize_result(\n"
          ]
        }
      ]
    },
    {
      "cell_type": "code",
      "source": [
        "print(y_pred)"
      ],
      "metadata": {
        "colab": {
          "base_uri": "https://localhost:8080/"
        },
        "id": "a9gb2Z71zhkL",
        "outputId": "6ab5cdfb-f822-4909-94eb-f2ed71625bdb"
      },
      "execution_count": 63,
      "outputs": [
        {
          "output_type": "stream",
          "name": "stdout",
          "text": [
            "[2 1 1 ... 0 0 1]\n"
          ]
        }
      ]
    },
    {
      "cell_type": "code",
      "source": [
        "# find accuracy, precision, recall:\n",
        "\n",
        "from sklearn.metrics import confusion_matrix,classification_report\n",
        "new = np.asarray(y_test)\n",
        "confusion_matrix(y_pred,y_test)"
      ],
      "metadata": {
        "colab": {
          "base_uri": "https://localhost:8080/"
        },
        "id": "vwWLbEA3sw12",
        "outputId": "cdee75c5-5e31-4956-e682-715bc6d9b2af"
      },
      "execution_count": 64,
      "outputs": [
        {
          "output_type": "execute_result",
          "data": {
            "text/plain": [
              "array([[1127,    0,    0],\n",
              "       [   0,  571,    0],\n",
              "       [   0,    0,  302]])"
            ]
          },
          "metadata": {},
          "execution_count": 64
        }
      ]
    },
    {
      "cell_type": "code",
      "source": [
        "print(classification_report(y_pred,y_test))"
      ],
      "metadata": {
        "colab": {
          "base_uri": "https://localhost:8080/"
        },
        "id": "yIScEPvhzUY7",
        "outputId": "858826fe-20bd-4884-a515-32334ece9a83"
      },
      "execution_count": 65,
      "outputs": [
        {
          "output_type": "stream",
          "name": "stdout",
          "text": [
            "              precision    recall  f1-score   support\n",
            "\n",
            "           0       1.00      1.00      1.00      1127\n",
            "           1       1.00      1.00      1.00       571\n",
            "           2       1.00      1.00      1.00       302\n",
            "\n",
            "    accuracy                           1.00      2000\n",
            "   macro avg       1.00      1.00      1.00      2000\n",
            "weighted avg       1.00      1.00      1.00      2000\n",
            "\n"
          ]
        }
      ]
    },
    {
      "cell_type": "code",
      "source": [
        "# Use score method to get accuracy of model\n",
        "from sklearn.metrics import accuracy_score\n",
        "print('The accuracy of the Logistic Regression is', accuracy_score(y_pred,y_test))"
      ],
      "metadata": {
        "colab": {
          "base_uri": "https://localhost:8080/"
        },
        "id": "6TgkrwkF0OgU",
        "outputId": "12fba24a-2194-4046-9d5b-f77078cf06cd"
      },
      "execution_count": 66,
      "outputs": [
        {
          "output_type": "stream",
          "name": "stdout",
          "text": [
            "The accuracy of the Logistic Regression is 1.0\n"
          ]
        }
      ]
    },
    {
      "cell_type": "markdown",
      "source": [
        "# **MultinomialNB MODEL\n",
        "**"
      ],
      "metadata": {
        "id": "zYLmUswOvHsV"
      }
    },
    {
      "cell_type": "code",
      "source": [
        "from sklearn.naive_bayes import MultinomialNB\n",
        "\n",
        "nb = MultinomialNB()\n",
        "nb.fit(X_train,y_train)"
      ],
      "metadata": {
        "colab": {
          "base_uri": "https://localhost:8080/"
        },
        "id": "kFtNXm_R99jF",
        "outputId": "431ad8e4-4e6b-4747-ce49-71da69f43c5d"
      },
      "execution_count": 336,
      "outputs": [
        {
          "output_type": "execute_result",
          "data": {
            "text/plain": [
              "MultinomialNB()"
            ]
          },
          "metadata": {},
          "execution_count": 336
        }
      ]
    },
    {
      "cell_type": "code",
      "source": [
        "nb_predict=nb.predict(X_test)"
      ],
      "metadata": {
        "id": "rMPlzjye-Bdz"
      },
      "execution_count": 337,
      "outputs": []
    },
    {
      "cell_type": "code",
      "source": [
        "nb_report = accuracy_score(y_test,nb_predict)\n",
        "print('Accuracy:',nb_report)"
      ],
      "metadata": {
        "colab": {
          "base_uri": "https://localhost:8080/"
        },
        "id": "rTyRd0Tw-D86",
        "outputId": "b2775a7b-9aa0-4a3b-e17c-dc67874eebaa"
      },
      "execution_count": 338,
      "outputs": [
        {
          "output_type": "stream",
          "name": "stdout",
          "text": [
            "Accuracy: 0.8985\n"
          ]
        }
      ]
    },
    {
      "cell_type": "code",
      "source": [
        "print(classification_report(y_test,nb_predict))"
      ],
      "metadata": {
        "colab": {
          "base_uri": "https://localhost:8080/"
        },
        "id": "ddxRAtN3-G0z",
        "outputId": "d729fae2-6d4a-4fb5-889a-3422feb1073b"
      },
      "execution_count": 339,
      "outputs": [
        {
          "output_type": "stream",
          "name": "stdout",
          "text": [
            "              precision    recall  f1-score   support\n",
            "\n",
            "           0       1.00      0.91      0.95      1127\n",
            "           1       0.75      0.98      0.85       571\n",
            "           2       0.95      0.71      0.81       302\n",
            "\n",
            "    accuracy                           0.90      2000\n",
            "   macro avg       0.90      0.86      0.87      2000\n",
            "weighted avg       0.92      0.90      0.90      2000\n",
            "\n"
          ]
        }
      ]
    }
  ]
}